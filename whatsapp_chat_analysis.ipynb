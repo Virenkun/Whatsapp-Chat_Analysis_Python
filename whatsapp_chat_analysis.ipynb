{
 "cells": [
  {
   "cell_type": "code",
   "execution_count": 2,
   "metadata": {
    "collapsed": true
   },
   "outputs": [],
   "source": [
    "import re\n",
    "import pandas as pd"
   ]
  },
  {
   "cell_type": "code",
   "execution_count": 3,
   "outputs": [],
   "source": [
    "f = open('_chat.txt', 'r', encoding='utf-8')"
   ],
   "metadata": {
    "collapsed": false,
    "pycharm": {
     "name": "#%%\n"
    }
   }
  },
  {
   "cell_type": "code",
   "execution_count": 4,
   "outputs": [],
   "source": [
    "data = f.read()"
   ],
   "metadata": {
    "collapsed": false,
    "pycharm": {
     "name": "#%%\n"
    }
   }
  },
  {
   "cell_type": "code",
   "execution_count": 5,
   "outputs": [
    {
     "name": "stdout",
     "output_type": "stream",
     "text": [
      "[01/04/22, 9:10:07 PM] Adamya: ‎Messages and calls are end-to-end encrypted. No one outside of this chat, not even WhatsApp, can read or listen to them.\n",
      "[01/04/22, 9:10:07 PM] Viren: Hiii\n",
      "I’m Viren \n",
      "Contesting for the Cultural Sec \n",
      "Aapse baat karni thi \n",
      "If you are free\n",
      "[01/04/22, 9:28:24 PM] Adamya: Hey, sure\n",
      "[01/04/22, 9:29:13 PM] Viren: If possible we can meet?\n",
      "[01/04/22, 9:33:48 PM] Adamya: Today or tomorrow?\n",
      "[01/04/22, 9:34:57 PM] Viren: Anytime if you are free\n",
      "[01/04/22, 9:35:46 PM] Adamya: okay let's connect tom. at acad or after dinner.....whatever works out\n",
      "[01/04/22, 9:36:14 PM] Viren: Okkk\n",
      "[01/04/22, 9:36:19 PM] Viren: Thanks\n",
      "[01/04/22, 9:37:59 PM] Adamya: 😇\n",
      "[02/04/22, 9:43:26 PM] Viren: Can we meet at 10:15 - 10:30Pm?\n",
      "[02/04/22, 9:45:04 PM] Adamya: Sure\n",
      "[02/04/22, 9:45:09 PM] Adamya: Let's meet at acad na\n",
      "[02/04/22, 10:14:02 PM] Viren: Okkk\n",
      "[02/04/22, 10:18:56 PM] Adamya: Wohi acad me rhugi m 10.30 k baad jb b jana text kr dena\n",
      "[02/04/22, 10:19:44 PM] Viren: Acad mai kaha?\n",
      "[03/04/22, 12:25:56 AM] Adamya: Welfare k liye sunshine ka member ya ex member hona jruri to nhi h n?\n",
      "[03/04/22, 12:56:55 AM] Viren: Haa jaruri haiii\n",
      "[03/04/22, 5:51:38 PM] Viren: Harsha Bhaiyaa se aaj mil sakte haii\n",
      "[03/04/22, 7:54:51 PM] Adamya: 8.45 tk jaugi m milne, tm chl rhe ho to h block k bahar aa jana n\n",
      "[03/04/22, 8:33:10 PM] Viren: Okk\n",
      "[05/04/22, 12:02:42 AM] Viren: Suno Swetem di se baat karte haii\n",
      "[05/04/22, 12:02:44 AM] Viren: Kal\n",
      "[05/04/22, 12:14:53 AM] Viren: Kal Rahul Ghosh se milna hai mujhe\n",
      "Tumhara senior h na shyd\n",
      "Ek baar refer kr dena\n",
      "[05/04/22, 12:17:26 AM] Viren: Aur Cy-21 me koi ladka hai kya jo jyada active ho ya jyada jaan pahchan wala\n",
      "[05/04/22, 12:19:23 AM] Adamya: Yrr m just abhi unse baat krk aayi\n",
      "[05/04/22, 12:19:37 AM] Adamya: Chem ka h?\n",
      "[05/04/22, 12:19:40 AM] Adamya: Pta krk btati\n",
      "[05/04/22, 12:19:45 AM] Viren: Ha\n",
      "[05/04/22, 12:20:07 AM] Viren: Mtlb maine msg kiya h usko\n",
      "[05/04/22, 12:20:17 AM] Viren: Bola ki kal sham ko milte hn\n",
      "[05/04/22, 12:20:43 AM] Adamya: Yrr batch k andar jaan pehchan chahta h tu ya koi aisa jiski baaki courses me baat hoti ho\n",
      "[05/04/22, 12:21:17 AM] Adamya: Great....btana fir I'll also accompany....kuch agenda related points mil jaye shayad\n",
      "[05/04/22, 12:21:23 AM] Viren: Baaki courses mai bhi baat hoti hoo\n",
      "[05/04/22, 12:22:27 AM] Adamya: Yrr....kb tk chahiye naam tmhe?\n",
      "[05/04/22, 12:22:41 AM] Viren: ASAP\n",
      "[05/04/22, 12:23:46 AM] Adamya: Akash ko u can contact\n",
      "[05/04/22, 12:24:14 AM] Viren: Number bhej do pliz\n",
      "[05/04/22, 12:24:29 AM] Adamya: Yrr m tereko baaki course walo k number de deti hu seedhe n\n",
      "[05/04/22, 12:24:44 AM] Adamya: Cy21 ka I'll let u know baad me\n",
      "[05/04/22, 12:24:48 AM] Viren: Ha wohi thik hai\n",
      "[05/04/22, 12:24:51 AM] Viren: Ok\n",
      "[05/04/22, 12:25:02 AM] Adamya: Cool, kis course ka chahiye?\n",
      "[05/04/22, 12:25:26 AM] Viren: Jo jyada logo ke sath ghumta hai\n",
      "[05/04/22, 12:25:30 AM] Viren: Neta type\n",
      "‎[05/04/22, 12:31:29 AM] Adamya: ‎Contact card omitted\n",
      "[05/04/22, 12:31:42 AM] Adamya: He's contesting for pg rep 1 contact him if u haven't yet\n",
      "[05/04/22, 12:32:15 AM] Viren: Thike\n",
      "[05/04/22, 12:54:01 AM] Viren: Ibtesham Tarannum ko janti ho ?\n",
      "[05/04/22, 12:54:16 AM] Adamya: Hnn our snr\n",
      "‎[05/04/22, 12:54:34 AM] Adamya: ‎Contact card omitted\n",
      "[05/04/22, 12:54:38 AM] Viren: Mujhe milna hai\n",
      "[05/04/22, 12:55:23 AM] Viren: Saath mai chal sakti ho gya mai jaanta nahi hoon\n",
      "[05/04/22, 12:55:55 AM] Adamya: Hn now that u said i remember mje b milna tha unse🥲\n",
      "[05/04/22, 12:56:02 AM] Adamya: Let's meet her Tom.\n",
      "[05/04/22, 12:56:57 AM] Viren: Yeah finee 😇\n",
      "[05/04/22, 8:18:49 PM] Viren: Milna hai kya aaaj\n",
      "[05/04/22, 8:20:43 PM] Adamya: Hn after dinner\n",
      "[05/04/22, 8:20:51 PM] Viren: Okk\n",
      "‎[08/04/22, 1:29:14 PM] Viren: ‎image omitted\n",
      "[08/04/22, 1:29:47 PM] Viren: Share kar denaa 😇\n",
      "[08/04/22, 1:50:15 PM] Viren: Woh insta se story hta do yrr 🙂 it’s against code of conduct 🥲 cause you’re also a candidate\n",
      "[08/04/22, 2:12:45 PM] Adamya: Okk\n",
      "[10/04/22, 11:15:05 PM] Adamya: Yrr posters kidhr se bna rha tu.....bhut interactive hai\n",
      "[10/04/22, 11:41:47 PM] Viren: Thanks \n",
      "Photoshop bas Aur thoda creativity 😁\n",
      "[10/04/22, 11:49:50 PM] Adamya: Ohh nice job\n",
      "[10/04/22, 11:50:37 PM] Viren: nd haa yrr please apne friends ko share karne ko bol denaa\n",
      "[10/04/22, 11:50:52 PM] Adamya: Shared it already\n",
      "‎[11/04/22, 12:05:28 AM] Viren: ‎sticker omitted\n",
      "[17/04/22, 11:40:20 AM] Viren: Adamya sabko bol denaa yrr Vote karne jitne bhi friends hai Tumhare ya friends ke friend ke haii yaa podmate haiii 😇\n",
      "\n",
      "Viren Soni for Cultural Secretary\n",
      "[17/04/22, 11:43:29 AM] Adamya: Mne bol diya h\n",
      "[17/04/22, 11:44:07 AM] Adamya: But u know about the list being circulated n\n",
      "[17/04/22, 11:45:00 AM] Viren: There two three list\n",
      "[17/04/22, 11:45:47 AM] Adamya: Send me all of those n\n",
      "[17/04/22, 11:46:39 AM] Viren: Please vote for thses guys \n",
      "\n",
      "Gen sec -1 - Anish Ambavat \n",
      "President-Sreejith\n",
      "Gen sec 2- Akanksha Pansare\n",
      "Cultural - Viren Soni\n",
      "Sports - Divyanshu Raj\n",
      "Mess sec- Ritik Amrute\n",
      "Sci tech - Samyak\n",
      "Acad- Nota\n",
      "Welfare - Niharika\n",
      "\n",
      "\n",
      "For my opinion this is the perfect panel for upcoming election. I was there in debate and I really felt this.\n",
      "‎[17/04/22, 11:47:21 AM] Viren: ‎image omitted\n",
      "[17/04/22, 11:47:36 AM] Viren: This is from Telugu grp\n",
      "[17/04/22, 11:48:02 AM] Viren: Ye curculate kar denaaa\n",
      "[17/04/22, 11:48:39 AM] Adamya: Sreejith😂\n",
      "[17/04/22, 11:48:43 AM] Adamya: Cool will do that\n",
      "[17/04/22, 11:49:08 AM] Viren: Wait President Sidhant\n",
      "[17/04/22, 11:49:35 AM] Viren: Please vote for thses guys \n",
      "\n",
      "Gen sec -1 - Anish Ambavat \n",
      "President-Sidhant Ranka\n",
      "Gen sec 2- Akanksha Pansare\n",
      "Cultural - Viren Soni\n",
      "Sports - Divyanshu Raj\n",
      "Mess sec- Ritik Amrute\n",
      "Sci tech - Samyak\n",
      "Acad- Nota\n",
      "Welfare - Niharika\n",
      "\n",
      "\n",
      "For my opinion this is the perfect panel for upcoming election. I was there in debate and I really felt this.\n",
      "[17/04/22, 11:50:33 AM] Adamya: Cool done\n",
      "‎[17/04/22, 11:52:45 AM] Adamya: ‎image omitted\n",
      "[17/04/22, 11:52:52 AM] Adamya: This list is being circulated\n",
      "[17/04/22, 11:53:29 AM] Adamya: By idk whom💁🏻‍♀️\n",
      "[17/04/22, 11:53:44 AM] Viren: 🙂\n",
      "[17/04/22, 11:54:08 AM] Viren: Ye kar dena send sabkoo please 🙏\n",
      "[17/04/22, 11:54:22 AM] Adamya: Kr diya h\n",
      "‎[17/04/22, 11:54:31 AM] Viren: ‎sticker omitted\n",
      "[17/04/22, 2:11:54 PM] Viren: Please do vote in today's gymkhana elections -\n",
      "President - *Siddhant Ranka*\n",
      "Sports Secy - *Divyanshu Raj*\n",
      "Cultural Secy - *Viren Soni*\n",
      "\n",
      "\n",
      "Link - https://vote.heliosvoting.org/helios/e/iith_gymkhana_general_elec_2022/vote\n",
      "\n",
      "Voter ID and password is sent via mail\n",
      "[17/04/22, 2:11:54 PM] Viren: Please ask all of your friends to vote for them. forward this in your friends, batch and community please\n",
      "[17/04/22, 2:12:31 PM] Viren: Adamya Rahul ghosh waigra se circulate karwa doo\n",
      "[17/04/22, 5:08:34 PM] Adamya: Cool\n",
      "[27/04/22, 8:17:50 PM] Adamya: Click🔥\n",
      "[27/04/22, 8:20:45 PM] Viren: 😇. :))\n",
      "[27/04/22, 8:21:31 PM] Viren: Kaafi acchaa mausam thaa \n",
      "but bc examm😶‍🌫️\n",
      "[27/04/22, 8:56:03 PM] Adamya: Ugh same🥲\n",
      "‎[04/05/22, 12:52:39 PM] Viren: ‎Contact card omitted\n",
      "[04/05/22, 12:53:17 PM] Viren: Abhi bol dena \n",
      "Coz camera kisi aur ke pass hoga charge karna hogaa\n",
      "[04/05/22, 1:09:34 PM] Adamya: Thk h\n",
      "[04/05/22, 1:20:52 PM] Adamya: I contacted her?\n",
      "[04/05/22, 1:20:59 PM] Adamya: Can you make it?\n",
      "[04/05/22, 1:31:07 PM] Viren: Okk\n",
      "[04/05/22, 1:31:13 PM] Viren: Kidhar haii??\n",
      "[04/05/22, 1:31:24 PM] Viren: Call kar denaa jab start hoo\n",
      "[04/05/22, 1:50:15 PM] Adamya: C LH2\n",
      "[04/05/22, 1:50:18 PM] Adamya: Okkki\n",
      "[04/05/22, 3:10:52 PM] Viren: Heyy Kabhi aanaa hai?\n",
      "[04/05/22, 3:17:01 PM] Adamya: Aaja yrr\n",
      "[04/05/22, 3:17:09 PM] Adamya: ‎Missed voice call\n",
      "[04/05/22, 3:17:20 PM] Viren: Okk in 5 min\n",
      "[04/05/22, 3:17:25 PM] Adamya: Okkki\n",
      "[04/05/22, 7:36:45 PM] Adamya: Event ended just now\n",
      "Thnx for coming\n",
      "[04/05/22, 7:37:19 PM] Adamya: Pics bhej dena n\n",
      "[04/05/22, 7:50:29 PM] Viren: Ohkk mail id de denaa \n",
      "MSC chemistry (whole community)\n",
      "[04/05/22, 7:54:16 PM] Adamya: Cym20\n",
      "Aur cym21\n",
      "[04/05/22, 7:54:28 PM] Adamya: Staff@chy krk ek hogi\n",
      "[04/05/22, 7:54:37 PM] Adamya: Aur faculty@chy krk b ek hogi id\n",
      "[04/05/22, 7:54:53 PM] Viren: Ohkkk :))\n",
      "[21/06/22, 4:59:08 PM] Adamya: Heyy\n",
      "\n",
      "InFocus club members ka koi grp h kya?\n",
      "[21/06/22, 5:00:29 PM] Viren: Haa\n",
      "[21/06/22, 5:01:28 PM] Viren: Kuu?\n",
      "[21/06/22, 5:06:18 PM] Adamya: Mere batchmate ko club join Krna tha\n",
      "[21/06/22, 5:06:23 PM] Adamya: Kya procedure h?\n",
      "[21/06/22, 5:06:43 PM] Viren: Form bhar denaa\n",
      "[21/06/22, 5:06:54 PM] Viren: Interview hogaa\n",
      "[21/06/22, 5:07:13 PM] Viren: By previous coords and heads\n",
      "[21/06/22, 5:07:36 PM] Adamya: Acha acha okk\n",
      "[21/06/22, 5:07:58 PM] Viren: ;)\n",
      "[13/07/22, 9:59:50 PM] Viren: 🤌🏻\n",
      "[12/08/22, 8:19:22 PM] Viren: Heyy Adamya\n",
      "15 Aug ko ek stage play RDM ka\n",
      "Usmai ek role , karna haii kyaa\n",
      "[12/08/22, 8:44:44 PM] Adamya: Heyy,\n",
      "Yrr so sry i don't think i can perform in a stage play(once did, it was a disaster).\n",
      "Sry again\n",
      "[12/08/22, 8:45:19 PM] Viren: Koi nii Tejas phuch rahe thaa isliye bola\n",
      "[12/08/22, 8:47:45 PM] Adamya: Ohh alright, u tell him\n",
      "[12/08/22, 8:48:08 PM] Viren: Hao\n",
      "[16/08/22, 11:07:38 AM] Adamya: Tm log k saath wali pics bhej dena n\n",
      "‎[16/08/22, 11:31:53 AM] Viren: IMG_5186.JPG ‎document omitted\n",
      "‎[16/08/22, 11:31:53 AM] Viren: IMG_5187.JPG ‎document omitted\n",
      "‎[16/08/22, 11:32:27 AM] Viren: ‎image omitted\n",
      "[16/08/22, 11:33:45 AM] Viren: https://drive.google.com/drive/folders/15A7D6dhSxOuUB8GbqeJBH9LwEQtbyy1B?usp=sharing\n",
      "[16/08/22, 11:47:14 AM] Adamya: Also the one with u\n",
      "And other guys wo b bhej 🙄\n",
      "[16/08/22, 1:03:54 PM] Viren: Elk minn\n",
      "‎[16/08/22, 1:10:22 PM] Viren: ‎image omitted\n",
      "[16/08/22, 1:11:15 PM] Viren: Dusri nii mil Rahi bhejta hoon agr mili🍓\n",
      "[16/08/22, 1:14:53 PM] Adamya: Okkki\n",
      "‎[31/08/22, 9:11:08 PM] Viren: ‎image omitted\n",
      "‎[31/08/22, 9:11:09 PM] Viren: ‎image omitted\n",
      "‎[31/08/22, 9:11:09 PM] Viren: ‎image omitted\n",
      "‎[31/08/22, 9:11:10 PM] Viren: ‎image omitted\n",
      "‎[31/08/22, 9:11:10 PM] Viren: ‎image omitted\n",
      "[31/08/22, 9:11:24 PM] Viren: Photo Chaiye thaa naa\n",
      "[31/08/22, 11:19:34 PM] Adamya: Yess, dhanyawad\n",
      "[31/08/22, 11:20:55 PM] Viren: Kaise thi decoration ??\n",
      "[31/08/22, 11:25:39 PM] Adamya: Bhuut achi thi yrr\n",
      "[31/08/22, 11:25:56 PM] Adamya: Kbse plan kr rhe the?\n",
      "[31/08/22, 11:26:21 PM] Viren: Bas 2 din Pahle 😅\n",
      "[31/08/22, 11:32:04 PM] Adamya: Bdhiya tha✨\n",
      "[01/09/22, 12:22:58 PM] Adamya: Are kb tk rhega decoration/mandap/mandir...?\n",
      "[01/09/22, 12:43:22 PM] Viren: 9 sept takk\n",
      "[01/09/22, 1:18:38 PM] Adamya: 9 ko kya h?\n",
      "[01/09/22, 1:18:52 PM] Viren: Murti Visarjan\n",
      "[01/09/22, 1:19:06 PM] Adamya: Kidhr visarjit kroge?\n",
      "[01/09/22, 1:19:14 PM] Adamya: Also fir murti chli jayegi?\n",
      "[01/09/22, 1:19:25 PM] Viren: Pass Mai lake haii waha\n",
      "[01/09/22, 1:19:34 PM] Viren: Haa\n",
      "[01/09/22, 1:20:10 PM] Adamya: Oooo noicc.....jane k phle btana n\n",
      "We'll accompany if possible\n",
      "[01/09/22, 1:21:02 PM] Viren: Haa jurur \n",
      "Abhi toh kabhi bhi AA skate jab. Tak yaha haii\n",
      "[01/09/22, 1:24:33 PM] Adamya: Okkki\n",
      "‎[08/09/22, 11:44:14 PM] Viren: ‎image omitted\n",
      "‎[08/09/22, 11:44:15 PM] Viren: ‎image omitted\n",
      "‎[08/09/22, 11:44:15 PM] Viren: ‎image omitted\n",
      "‎[08/09/22, 11:44:16 PM] Viren: ‎image omitted\n",
      "‎[08/09/22, 11:44:16 PM] Viren: ‎image omitted\n",
      "‎[08/09/22, 11:44:17 PM] Viren: ‎image omitted\n",
      "‎[08/09/22, 11:44:17 PM] Viren: ‎image omitted\n",
      "‎[08/09/22, 11:44:18 PM] Viren: ‎image omitted\n",
      "‎[08/09/22, 11:44:18 PM] Viren: ‎image omitted\n",
      "‎[08/09/22, 11:44:19 PM] Viren: ‎image omitted\n",
      "‎[08/09/22, 11:44:19 PM] Viren: ‎image omitted\n",
      "‎[08/09/22, 11:44:20 PM] Viren: ‎image omitted\n",
      "‎[08/09/22, 11:44:20 PM] Viren: ‎image omitted\n",
      "‎[08/09/22, 11:44:21 PM] Viren: ‎image omitted\n",
      "‎[08/09/22, 11:44:21 PM] Viren: ‎image omitted\n",
      "‎[08/09/22, 11:44:22 PM] Viren: ‎image omitted\n",
      "‎[08/09/22, 11:44:23 PM] Viren: ‎video omitted\n",
      "‎[08/09/22, 11:44:23 PM] Viren: ‎image omitted\n",
      "‎[08/09/22, 11:44:24 PM] Viren: ‎image omitted\n",
      "‎[08/09/22, 11:44:24 PM] Viren: ‎image omitted\n",
      "‎[08/09/22, 11:44:25 PM] Viren: ‎image omitted\n",
      "‎[08/09/22, 11:44:25 PM] Viren: ‎video omitted\n",
      "‎[08/09/22, 11:44:26 PM] Viren: ‎image omitted\n",
      "‎[08/09/22, 11:44:26 PM] Viren: ‎image omitted\n",
      "‎[08/09/22, 11:44:27 PM] Viren: ‎image omitted\n",
      "‎[08/09/22, 11:44:27 PM] Viren: ‎image omitted\n",
      "[09/09/22, 1:19:02 AM] Adamya: Dhanyawad ✨\n",
      "[09/09/22, 1:36:18 AM] Viren: Appreciated how you guys talked to authority\n",
      "[09/09/22, 1:40:38 AM] Adamya: Again dhanyawad ✨\n",
      "\n",
      "Looking forward to more (successful) protests .🌚\n",
      "[09/09/22, 1:43:46 AM] Viren: Yessssss\n",
      "Next time something similar to JNU😅\n",
      "[09/09/22, 1:50:05 AM] Adamya: OMG yes, JNU is dream 🥲\n",
      "[09/09/22, 1:53:19 AM] Viren: hum baanaayenge IITH Ko JNU🚩🚩🚩🚩\n",
      "[09/09/22, 1:53:42 AM] Viren: Megh Kapoor ne suicide note choda thaa kyaa??\n",
      "[09/09/22, 1:54:18 AM] Viren: Woh humlogo ke saath ek class karta thaa uska aaj exam thaa🥲🥲\n",
      "[09/09/22, 1:55:40 AM] Adamya: Usk baare me koi update nhi h yrr\n",
      "[09/09/22, 1:56:14 AM] Adamya: Director wasn't even acknowledging his suicide till someone mentions\n",
      "[09/09/22, 1:57:11 AM] Adamya: Mentioned*\n",
      "\n",
      "Bt do u guys know why he had these backlogs?\n",
      "[09/09/22, 1:58:24 AM] Viren: no idea but prof bhut jhaatu haii🥲 PTA nahi kya pdhataa haii uski class bhut Kam.hi log zaate\n",
      "[09/09/22, 1:59:54 AM] Viren: Usne previous sem Mai ek aur courses Kia thaa humaare saath\n",
      "Usmia ek din absent ho gya thaa toh sir ne usko 1 ghante sunaaya thaaa\n",
      "[09/09/22, 2:00:01 AM] Viren: Tab online thaaa\n",
      "[09/09/22, 2:00:24 AM] Viren: Woh sir bhi jhaatu they\n",
      "[09/09/22, 2:00:26 AM] Viren: 🥲🥲\n",
      "[09/09/22, 2:00:51 AM] Viren: Basically saare prof haii aise kuch Ko chod ke\n",
      "[09/09/22, 2:03:15 AM] Adamya: 😂😂😂\n",
      "[09/09/22, 2:04:05 AM] Adamya: Dude😂\n",
      "Conclusion of the conversation - tmre prof jhaatu h!\n",
      "Got it😌\n",
      "[09/09/22, 2:10:33 AM] Viren: Hao🥲🥲😅\n",
      "[09/09/22, 9:32:45 AM] Adamya: Suno\n",
      "[09/09/22, 9:33:02 AM] Adamya: Can i use ur clicks to make poster for silent day plz\n",
      "[09/09/22, 10:02:55 AM] Viren: Haa no problem\n",
      "[12/09/22, 4:43:16 PM] Viren: Put this on a mail😅😅😅\n",
      "[12/09/22, 4:44:46 PM] Adamya: Fir sabko pta chl jayega mere paas chaaku h🥲\n",
      "[12/09/22, 4:45:49 PM] Viren: 🥲🥲\n",
      "Allowed hai naa in hostel😊😊😊\n",
      "[12/09/22, 4:47:27 PM] Adamya: Sabji kaatne wala nhi h (wo alag baat h use sabji kaatne k liye hi hua h uska abhi tk)🥲\n",
      "[12/09/22, 4:49:23 PM] Viren: Try something new then😎😎\n",
      "[12/09/22, 4:50:06 PM] Adamya: Mil jaye chaaku, fir something new ka inauguration tmse kr dugi 🥲\n",
      "[12/09/22, 4:51:06 PM] Viren: 😊😊Yess please\n",
      "[12/09/22, 4:52:00 PM] Adamya: Damn!!! Depressed af😂\n",
      "‎[12/09/22, 4:53:40 PM] Viren: ‎sticker omitted\n",
      "[14/09/22, 1:25:43 AM] Viren: Sed\n",
      "[15/09/22, 4:49:45 PM] Viren: Hey Adamya , are you  going on prom with someone 👉👈??\n",
      "[15/09/22, 6:05:32 PM] Adamya: No, m not\n",
      "[15/09/22, 7:18:46 PM] Viren: Me \n",
      "You\n",
      "Prom? 👉👈\n",
      "\n",
      "\n",
      "\n",
      "\n",
      "\n",
      "\n",
      "\n",
      "\n",
      "\n",
      "\n",
      "\n",
      "\n",
      "\n",
      "will you be my prom partner?\n",
      "[15/09/22, 8:14:30 PM] Adamya: Yess sure!\n",
      "\n",
      "\n",
      "\n",
      "\n",
      "\n",
      "\n",
      "\n",
      "(Tejas calls CY21 girls pedophile anyway💁🏻‍♀️)\n",
      "[15/09/22, 8:56:29 PM] Viren: Sometimes it's fun to be pedo 😅\n",
      "[15/09/22, 9:01:32 PM] Viren: 🍎🍓🍓\n",
      "[15/09/22, 11:09:52 PM] Adamya: I guess 😂\n",
      "[16/09/22, 12:05:19 AM] Viren: Accha I have one question , who told u what Tejas said 😁\n",
      "[16/09/22, 12:12:53 AM] Adamya: Yrr ye nhi yaad ab, grp me hi baat chl rhi hogi tbhi pta chla....bht purana convo hogya h ye to\n",
      "[16/09/22, 12:16:00 AM] Viren: Acchaa pichli baar TM gye they prom???\n",
      "[16/09/22, 12:30:51 AM] Adamya: Hnn kyu?\n",
      "[16/09/22, 12:48:05 AM] Viren: Jus asking 😁,\n",
      "[16/09/22, 12:57:09 PM] Viren: Adamya , u know naa how to dance ?? \n",
      "Practice karte hai😁\n",
      "[16/09/22, 2:01:05 PM] Adamya: Yes plz, what time is that shuffle dance session?\n",
      "[16/09/22, 2:12:24 PM] Viren: Pooche ke bataataa\n",
      "[16/09/22, 2:21:59 PM] Adamya: 😂okk\n",
      "[16/09/22, 2:27:55 PM] Viren: Woh log group performance ka kuch kar rahe maybe stage\n",
      "Deadline 13th thaa\n",
      "\n",
      "Phuche Mai late kar diyaa mai😅\n",
      "[16/09/22, 2:28:20 PM] Viren: APN khud se kar lenge\n",
      "[16/09/22, 2:29:58 PM] Adamya: Even better\n",
      "[16/09/22, 2:30:32 PM] Adamya: M jana nhi chahti thi udhr\n",
      "[16/09/22, 2:30:50 PM] Adamya: So what time?\n",
      "[16/09/22, 2:31:05 PM] Viren: Evening maii\n",
      "[16/09/22, 2:31:27 PM] Viren: Us😅\n",
      "[16/09/22, 2:31:39 PM] Adamya: Kidhr?\n",
      "[16/09/22, 2:31:58 PM] Viren: My room maybe\n",
      "[16/09/22, 2:32:11 PM] Adamya: Itna space h tere room me?\n",
      "[16/09/22, 2:32:28 PM] Viren: Same tumhare jitna hi hai😅😅\n",
      "[16/09/22, 2:32:53 PM] Viren: U know any spot??\n",
      "[16/09/22, 2:33:10 PM] Adamya: Idk, acads?\n",
      "[16/09/22, 2:33:41 PM] Viren: Haaa 😎\n",
      "[16/09/22, 2:33:52 PM] Viren: C Mai haiii space\n",
      "[16/09/22, 2:34:18 PM] Adamya: Ohkk great!\n",
      "Sunset baad chlte h\n",
      "[16/09/22, 2:34:25 PM] Adamya: Thk h n?\n",
      "[16/09/22, 2:34:52 PM] Viren: Haaa fine\n",
      "[16/09/22, 2:37:42 PM] Adamya: Okk\n",
      "[16/09/22, 6:25:18 PM] Adamya: 7 bje tk milte h acad C me\n",
      "[16/09/22, 6:34:25 PM] Viren: Saath Mai chalte haii naa :)\n",
      "[16/09/22, 6:41:09 PM] Adamya: Acha ok, to hostel circle aakr call krti m?\n",
      "[16/09/22, 6:44:53 PM] Viren: Yupppp\n",
      "[16/09/22, 7:24:38 PM] Viren: Adamya , are you coming naa???\n",
      "[16/09/22, 7:27:01 PM] Adamya: Yess, bt m gonna be a bit late\n",
      "[16/09/22, 7:27:34 PM] Adamya: M sry\n",
      "\n",
      "If u eat ur dinner early then have ur dinner, we can go after 🥲\n",
      "[16/09/22, 7:28:10 PM] Viren: Ohkk call or denaa jab free ho 🌚\n",
      "[16/09/22, 7:28:53 PM] Adamya: Hn okkk\n",
      "[17/09/22, 6:37:59 PM] Viren: Adamya tumhare fashion show kab haiii???\n",
      "[17/09/22, 6:40:27 PM] Adamya: Yrr delay hogya h fashion show to\n",
      "[17/09/22, 6:40:40 PM] Adamya: FASHION SHOW SCHEDULE:\n",
      "\n",
      "Maitreyi (I)            6.30 to 6.40 pm\n",
      "Charaka (C)             6.40 to 6.50 pm\n",
      "Vyasa (F)                6.50 to 7.00 pm\n",
      "Bhaskara (B)           7.00 to 7.10 pm\n",
      "Gargi (J)                 7.10 to 7.20 pm\n",
      "Varahamihira (H)       7.20 to 7.30 pm\n",
      "Kautilya (E)             7.30 to 7.40 pm\n",
      "Bhahmagupta (G)    7.40 to 7.50 pm\n",
      "Kapila (P)                7.50 to 8.00 pm\n",
      "Ramanuja-n (R)      8.00 to 8.10 pm\n",
      "Aryabhatta (A)        8.10 to 8.20 pm\n",
      "Susruta (D)             8.20 to 8.30 pm\n",
      "[17/09/22, 6:40:44 PM] Adamya: Warna ye seq tha\n",
      "[17/09/22, 6:41:22 PM] Viren: Acchaa theek\n",
      "[17/09/22, 6:41:33 PM] Viren: U are ready for fashion show????\n",
      "[17/09/22, 6:46:26 PM] Adamya: Nhiiiii yrrrr🥲🥲🥲🥲🥲\n",
      "[17/09/22, 6:46:39 PM] Adamya: Bht chaotic hogya h poora pod is smy\n",
      "[17/09/22, 6:46:46 PM] Adamya: To m B block bhaag kr aagyi thi🥲\n",
      "[17/09/22, 6:47:10 PM] Viren: 🙂\n",
      "[17/09/22, 6:47:25 PM] Viren: Face pe painting ho gya????\n",
      "[17/09/22, 6:57:42 PM] Adamya: Nhi, ab time bhi nhi h\n",
      "‎[17/09/22, 9:58:54 PM] Viren: ‎video omitted\n",
      "[17/09/22, 10:11:28 PM] Viren: Kidhar ho abhi????\n",
      "[17/09/22, 10:12:02 PM] Adamya: Thnxxx\n",
      "[17/09/22, 10:12:17 PM] Adamya: Also, eye makeup remove krk aati bss 15 min me\n",
      "[17/09/22, 10:12:55 PM] Viren: Mai room pe hoon bahar aataa toh call karta hoon\n",
      "[17/09/22, 10:14:37 PM] Adamya: Okkki\n",
      "‎[18/09/22, 6:32:41 PM] Viren: ‎image omitted\n",
      "‎[18/09/22, 6:32:41 PM] Viren: ‎image omitted\n",
      "‎[18/09/22, 6:32:42 PM] Viren: ‎image omitted\n",
      "‎[18/09/22, 6:32:42 PM] Viren: ‎image omitted\n",
      "‎[18/09/22, 6:32:43 PM] Viren: ‎image omitted\n",
      "‎[18/09/22, 6:32:43 PM] Viren: ‎image omitted\n",
      "[18/09/22, 6:40:02 PM] Adamya: Thnxx, send grp pics too n\n",
      "[18/09/22, 6:40:26 PM] Viren: Haa taka ke phone Mai haii usse leke bhjetaaa\n",
      "[18/09/22, 6:54:34 PM] Adamya: Hn cool\n",
      "‎[19/09/22, 1:38:30 AM] Viren: ‎image omitted\n",
      "‎[19/09/22, 1:38:31 AM] Viren: ‎image omitted\n",
      "‎[19/09/22, 1:38:31 AM] Viren: ‎image omitted\n",
      "[19/09/22, 2:23:46 AM] Adamya: Dhanyawad ✨\n",
      "[19/09/22, 2:28:26 AM] Viren: No worries\n",
      "\n",
      "DJ night or gye they???\n",
      "[19/09/22, 2:30:26 AM] Viren: *pe\n",
      "[19/09/22, 3:11:08 AM] Adamya: Hn thodi der k liye gyi thi\n",
      "[19/09/22, 3:11:23 AM] Adamya: 30 min apprx\n",
      "[19/09/22, 3:11:28 AM] Adamya: Tm log?\n",
      "[19/09/22, 3:30:33 AM] Viren: Haaa gye they\n",
      "\n",
      "DJ wala jhnnaatu thaa🥲🥲😁\n",
      "[19/09/22, 3:32:49 AM] Adamya: 😂Tere according poori duniya jhaatu h\n",
      "[19/09/22, 3:33:34 AM] Adamya: Sober the tm log ya kuch prasad liya tha?\n",
      "[19/09/22, 9:32:01 AM] Viren: Sober😁😁\n",
      "Zyada der tak dance ke liye\n",
      "[19/09/22, 9:32:19 AM] Viren: Gaane aache nii they 🥲🥲\n",
      "[19/09/22, 10:29:27 AM] Adamya: 12.30 pe to wo chle gye the😂\n",
      "[19/09/22, 10:30:05 AM] Adamya: Hnn bt thodi der baad nobody cared\n",
      "[19/09/22, 11:02:32 AM] Viren: Uske baad gaane ki jarurat nahii padiii😅😅😅\n",
      "[19/09/22, 11:58:27 AM] Adamya: Tm log k trip ka kya hua?\n",
      "[19/09/22, 12:00:32 PM] Viren: Jaa rahe 2 or 3 oct ko\n",
      "[19/09/22, 12:33:44 PM] Adamya: Noicc, so itinerary kya h?\n",
      "[19/09/22, 1:43:19 PM] Viren: By train mysore and whaan 2 day stay hai ig nd then bike se ooty(rent pe lenge PTA niii kaise but lenge) then ooty Mai 1 or 2 day then back \n",
      "Ye rough saa kuch abhi haii😅\n",
      "[19/09/22, 2:15:48 PM] Adamya: 😂😂\n",
      "[19/09/22, 2:16:34 PM] Adamya: Acha plan hai and it hurts me to say but have fun u guys !!🥲\n",
      "[19/09/22, 2:18:48 PM] Viren: U wanna join ?🌚\n",
      "[19/09/22, 2:29:19 PM] Adamya: I want to, I can't\n",
      "\n",
      "I'll join u guys for anantagiri trek.\n",
      "Let me know when u plan🙄\n",
      "[19/09/22, 3:49:26 PM] Viren: Yesss sureeeeeeee😊\n",
      "[22/09/22, 11:56:06 AM] Viren: 😅\n",
      "[22/09/22, 11:56:40 AM] Viren: LMao ded\n",
      "[22/09/22, 12:05:21 PM] Adamya: 😂ikr\n",
      "[22/09/22, 7:50:57 PM] Adamya: Are did u go to ground today, i thought I saw u there but then u disappeared 🙄\n",
      "[22/09/22, 8:50:13 PM] Viren: Yeah I saw you\n",
      "Mujhe lga tum busy ho in running(dedicated 😎)isliye nii disturb kia\n",
      "[22/09/22, 8:50:28 PM] Viren: Tum kab aati ground???\n",
      "[22/09/22, 10:17:49 PM] Adamya: Yrr dedicated nhi thi, chashme me paseena aa jata bc fir koi dikhayi nhi deta isliye notice nhi kr payi😂\n",
      "[22/09/22, 10:18:02 PM] Adamya: Also, tu sch me 3 din se ground ja rha??????\n",
      "[22/09/22, 10:18:14 PM] Viren: Haa😎\n",
      "[22/09/22, 10:18:26 PM] Viren: Lens phna krr\n",
      "[22/09/22, 10:18:39 PM] Adamya: Shaam ko hi????\n",
      "[22/09/22, 10:18:46 PM] Viren: Haaa\n",
      "[22/09/22, 10:19:41 PM] Adamya: Bawaal hai\n",
      "[22/09/22, 10:19:48 PM] Adamya: Kamaal h💁🏻‍♀️\n",
      "[22/09/22, 10:20:13 PM] Viren: Mai pehntaa hoon mere power -2.5 haii🥲🥲\n",
      "[22/09/22, 10:20:34 PM] Adamya: 😳😳😳😳😳😳\n",
      "[22/09/22, 10:20:38 PM] Adamya: Itna to mera nhi h\n",
      "[22/09/22, 10:20:52 PM] Viren: *1.5\n",
      "[22/09/22, 10:20:56 PM] Viren: 😅\n",
      "[22/09/22, 10:21:16 PM] Adamya: Ohh😂😂\n",
      "Still bhut jyada h yrr\n",
      "[22/09/22, 10:21:26 PM] Viren: Tumhare kitna haii??\n",
      "[22/09/22, 10:21:37 PM] Viren: 🥲\n",
      "[22/09/22, 10:22:35 PM] Adamya: Yrr yaad nhi \n",
      "Ek eye ka - 1.5 ya -1.75 h\n",
      "Dusre ka -1.75 ya -2.0 h\n",
      "[22/09/22, 10:22:46 PM] Viren: Us😅😅\n",
      "[22/09/22, 10:23:09 PM] Viren: Tm kitne din se aa rahe ground???\n",
      "[22/09/22, 10:24:08 PM] Adamya: Mne Monday se resume kiya h\n",
      "[22/09/22, 10:24:21 PM] Adamya: Beech me Milan aur townhall etc ki wjh se break hogya tha\n",
      "[22/09/22, 10:24:40 PM] Adamya: I still can't believe ki tu teen din se aa rha h aur mne aaj notice kiya\n",
      "[22/09/22, 10:24:45 PM] Adamya: Kb tk wapas chla jata tha tu?\n",
      "[22/09/22, 10:24:58 PM] Viren: After 7\n",
      "[22/09/22, 10:26:44 PM] Viren: Sach bol raha maii😅😅\n",
      "[22/09/22, 10:27:14 PM] Adamya: 😂 alright\n",
      "[22/09/22, 10:27:20 PM] Adamya: Acha acha\n",
      "[22/09/22, 10:27:38 PM] Adamya: Coach se baat kiya ya khud hi workout krta?\n",
      "[22/09/22, 10:28:07 PM] Viren: Khud se \n",
      "Running and ek app usse workout\n",
      "[22/09/22, 10:28:14 PM] Adamya: Kaunsa app?\n",
      "[22/09/22, 10:28:30 PM] Adamya: kuch specific workout h ya full body workout?\n",
      "[22/09/22, 10:28:39 PM] Viren: Some home fitness karke haii😅\n",
      "[22/09/22, 10:28:51 PM] Viren: Full body\n",
      "[22/09/22, 10:29:08 PM] Viren: Option rehta konsa karnaa\n",
      "[22/09/22, 10:30:08 PM] Adamya: Bdhiya h yrr\n",
      "[22/09/22, 10:30:16 PM] Adamya: Gym etc jane ka b socha h kya?\n",
      "[22/09/22, 10:31:03 PM] Viren: Abhi nii maybe later ye poora karna hi abhi muskil haiii cause 1 months se zayda skip kar diyaa aanaa\n",
      "[22/09/22, 10:31:25 PM] Viren: Yaha ki zym 🥲🥲\n",
      "[22/09/22, 10:32:36 PM] Adamya: To kuch goal set kiya h kya?\n",
      "[22/09/22, 10:32:48 PM] Adamya: 😂😂bekar hai but still jo b h yhi hai\n",
      "[22/09/22, 10:33:21 PM] Viren: 10 rounds and ye app kuch 1 months ka haii jo 2 months lagega😅\n",
      "[22/09/22, 10:33:23 PM] Adamya: Yrr ek tredmill b nhi h🥲\n",
      "Tredmill to mtlb basic h yrr\n",
      "[22/09/22, 10:33:40 PM] Adamya: Kitni speed se?\n",
      "[22/09/22, 10:33:51 PM] Viren: Haaa utna equipment toh mere 6th floor pe haii\n",
      "[22/09/22, 10:33:58 PM] Adamya: Abhi kitne rounds lga rha?\n",
      "[22/09/22, 10:34:06 PM] Viren: Normal not running\n",
      "[22/09/22, 10:34:06 PM] Adamya: 😳😳😳😳 really!!!!!!!!!!\n",
      "[22/09/22, 10:34:28 PM] Viren: 4🥲🥲🥲🥲 badi muskil se\n",
      "Phale 6 thaa\n",
      "[22/09/22, 10:34:39 PM] Viren: Haa\n",
      "[22/09/22, 10:35:43 PM] Adamya: Bc ldke jldi progress kr lete h lekin 😒\n",
      "[22/09/22, 10:36:02 PM] Adamya: Kya kya equipment h?\n",
      "Tredmill h kya?🤣\n",
      "[22/09/22, 10:36:53 PM] Viren: Tredmil nii haii😅😅\n",
      "[22/09/22, 10:37:18 PM] Viren: Baaki haii jo bhi hotaa\n",
      "[22/09/22, 10:37:36 PM] Viren: Dumbbell waigra and all\n",
      "[22/09/22, 10:37:45 PM] Viren: 4th yr waalo kaa haii\n",
      "[22/09/22, 10:38:30 PM] Viren: Tum kitna round krti???\n",
      "[22/09/22, 10:43:01 PM] Adamya: Ohhh noiccc\n",
      "[22/09/22, 10:43:18 PM] Adamya: Yrr warmup 4-6 fir jo b coach bol deta workout!\n",
      "[22/09/22, 10:43:26 PM] Adamya: Bt meri speed nhi h🥲\n",
      "[22/09/22, 10:48:38 PM] Viren: Demnn nicee\n",
      "[22/09/22, 10:49:19 PM] Viren: Aaa zayaaga 😎 slowly\n",
      "[22/09/22, 10:55:55 PM] Adamya: Wo to aayegi hi😎\n",
      "[25/09/22, 9:38:40 PM] Adamya: Yrr apne department ki hoodie/ t-shirt liya h tune?\n",
      "[25/09/22, 10:37:05 PM] Viren: Maine hi design ki thi ek minute bhejta hoon\n",
      "‎[25/09/22, 11:10:55 PM] Viren: ‎image omitted\n",
      "‎[25/09/22, 11:14:34 PM] Viren: ‎image omitted\n",
      "‎[25/09/22, 11:14:35 PM] Viren: ‎image omitted\n",
      "[25/09/22, 11:17:24 PM] Viren: Tm log apne dept ki design kr rahe kyaa???????\n",
      "[25/09/22, 11:28:31 PM] Adamya: Hnn bt kaafi confusion hogya h\n",
      "[25/09/22, 11:28:55 PM] Viren: Design bna diyaa??\n",
      "[26/09/22, 12:10:55 AM] Adamya: Yrr hnn\n",
      "[26/09/22, 12:11:15 AM] Adamya: Bt we got to know ki chem engineering se clash kr rha h🥲\n",
      "[26/09/22, 12:11:34 AM] Adamya: Aur sch me clash kr rha h\n",
      "[26/09/22, 12:11:45 AM] Adamya: Also, t-shirt h kya tere paas?\n",
      "[26/09/22, 12:17:11 AM] Viren: Send oncee\n",
      "[26/09/22, 12:17:24 AM] Viren: Haaa\n",
      "[26/09/22, 12:17:28 AM] Viren: Design\n",
      "‎[26/09/22, 12:18:49 AM] Adamya: ‎image omitted\n",
      "‎[26/09/22, 12:18:49 AM] Adamya: ‎image omitted\n",
      "‎[26/09/22, 12:18:50 AM] Adamya: ‎image omitted\n",
      "‎[26/09/22, 12:18:50 AM] Adamya: ‎image omitted\n",
      "‎[26/09/22, 12:18:51 AM] Adamya: ‎image omitted\n",
      "‎[26/09/22, 12:18:51 AM] Adamya: ‎image omitted\n",
      "[26/09/22, 12:19:19 AM] Viren: Ye toh cheating haii😅😅😅\n",
      "[26/09/22, 12:19:26 AM] Viren: Kon design kia??\n",
      "[26/09/22, 12:19:50 AM] Adamya: Hai ek batch ka\n",
      "[26/09/22, 12:20:04 AM] Adamya: Ritik if u know\n",
      "[26/09/22, 12:20:11 AM] Adamya: 🥲change kr dege\n",
      "[26/09/22, 12:20:22 AM] Viren: Design waalaa??\n",
      "[26/09/22, 12:21:02 AM] Viren: Modify kar skate thodaa saa humaare dept se bhut kam logo nee buy kiaa thaa toh\n",
      "[26/09/22, 12:21:05 AM] Adamya: Nhi MSc walaa 😂\n",
      "[26/09/22, 12:21:13 AM] Viren: Acchha\n",
      "[26/09/22, 12:21:37 AM] Adamya: Na bhi modify kre to kya hi fark pdega tm logo ko🥲\n",
      "[26/09/22, 12:21:44 AM] Adamya: Do i guys care?\n",
      "[26/09/22, 12:22:11 AM] Viren: Matlab mai design ke liye bol raha accha nii lg rahaa\n",
      "[26/09/22, 12:22:41 AM] Adamya: Yes then kya modify krna h???\n",
      "[26/09/22, 12:22:44 AM] Viren: Chemical Science door door haii😅\n",
      "[26/09/22, 12:22:52 AM] Adamya: U*\n",
      "[26/09/22, 12:23:11 AM] Adamya: 1. \n",
      "And?\n",
      "[26/09/22, 12:23:12 AM] Viren: No we don’t 😅😅😅\n",
      "[26/09/22, 12:23:48 AM] Viren: Color scheme bhi thodi odd lag rahii blue waale maii\n",
      "[26/09/22, 12:24:24 AM] Adamya: 😂 bdhiya fir\n",
      "\n",
      "Anyhow we were thinking of editing out that text part coz it looked kind of chaotic!\n",
      "But maybe it looks good on person so ek baar t-shirt dikha dena yrr\n",
      "[26/09/22, 12:24:31 AM] Adamya: Baakiyo me?\n",
      "[26/09/22, 12:25:14 AM] Viren: Red ka sahii \n",
      "Green ka ptaa niii 😅 \n",
      "Waise green mat lenaa😅😅\n",
      "[26/09/22, 12:25:24 AM] Viren: Haa le lenaaa\n",
      "[26/09/22, 12:25:27 AM] Adamya: 😂😂okk\n",
      "[26/09/22, 12:25:30 AM] Adamya: And?\n",
      "[26/09/22, 12:26:15 AM] Viren: Maybe font family change kar skate more readable and less cluster lage\n",
      "[26/09/22, 12:29:14 AM] Adamya: Thk hai\n",
      "‎[08/10/22, 8:03:22 PM] Viren: IMG_5964.HEIC ‎document omitted\n",
      "‎[08/10/22, 8:03:22 PM] Viren: IMG_5999.HEIC ‎document omitted\n",
      "‎[08/10/22, 8:03:22 PM] Viren: IMG_6004.HEIC ‎document omitted\n",
      "‎[08/10/22, 8:03:22 PM] Viren: IMG_6002.HEIC ‎document omitted\n",
      "‎[08/10/22, 8:03:22 PM] Viren: IMG_6013.HEIC ‎document omitted\n",
      "‎[08/10/22, 8:03:22 PM] Viren: IMG_6289.HEIC ‎document omitted\n",
      "‎[08/10/22, 8:03:22 PM] Viren: IMG_6014.HEIC ‎document omitted\n",
      "‎[08/10/22, 8:03:22 PM] Viren: IMG_6295.JPG ‎document omitted\n",
      "‎[08/10/22, 8:03:22 PM] Viren: recorded-2505996010765.MP4 ‎document omitted\n",
      "‎[08/10/22, 8:03:22 PM] Viren: IMG_6013.JPG ‎document omitted\n",
      "[08/10/22, 9:55:37 PM] Adamya: Yrrrr❤️\n",
      "[08/10/22, 9:55:57 PM] Adamya: Kitni distance pr h jagh?\n",
      "[08/10/22, 9:56:04 PM] Adamya: Aur kaise gye the\n",
      "[08/10/22, 9:59:37 PM] Viren: 7 -8 km from praneeth’s home\n",
      "And Praneeth’s home is 150km from here\n",
      "[08/10/22, 9:59:49 PM] Viren: Bike 😅\n",
      "[08/10/22, 10:00:13 PM] Viren: 🌚😁\n",
      "[08/10/22, 10:09:31 PM] Adamya: Bdhiya!!!!\n",
      "[08/10/22, 10:09:48 PM] Adamya: Dur h fir to mtlb bhr ka\n",
      "[08/10/22, 10:11:51 PM] Viren: Hein???🙂\n",
      "[08/10/22, 10:12:33 PM] Adamya: 😂😂😂\n",
      "[08/10/22, 10:12:45 PM] Adamya: It's far enough then😂\n",
      "[08/10/22, 10:12:53 PM] Adamya: Bc angrej 😂😂\n",
      "[08/10/22, 10:13:07 PM] Viren: Accha haaa😅🌚\n",
      "[08/10/22, 10:13:28 PM] Viren: Nahii sentence smjh nii aaya😅😅\n",
      "[08/10/22, 10:13:41 PM] Adamya: 😂😂thkk\n",
      "[18/10/22, 8:38:49 PM] Viren: ‎You deleted this message.\n",
      "[18/10/22, 8:43:37 PM] Adamya: Song tha to resend kr de🥲\n",
      "[18/10/22, 8:47:57 PM] Viren: https://open.spotify.com/playlist/6Mz3UZ34ijQb5eW4O8GSXk?si=gJLi9QAgR-Sc6q6ab-rK7w&pt=8bdc65cd24304c6796797772f2e5a2d2\n",
      "[18/10/22, 8:48:17 PM] Viren: Galt playlist bhej di thi😅😅\n",
      "[18/10/22, 8:50:21 PM] Adamya: 😂thk ba\n",
      "‎[18/10/22, 8:51:52 PM] Viren: ‎sticker omitted\n",
      "[18/10/22, 11:47:20 PM] Adamya: Kaagaz ki naav🥺❤️‍🔥\n",
      "[18/10/22, 11:56:36 PM] Viren: 🤌🏻❤️❤️❤️❤️ yupppppp\n",
      "\n",
      "\n",
      "Listen Co2 indie English haii but lyrics osmmm haii🌚\n",
      "[18/10/22, 11:57:54 PM] Adamya: Hn suna Maine, prateek Kuhad n\n",
      "Achaa h wo bhi!!!\n",
      "[19/10/22, 12:02:34 AM] Viren: Yesssss\n",
      "‎[22/10/22, 11:29:16 PM] Viren: ‎Contact card omitted\n",
      "[22/10/22, 11:29:28 PM] Viren: Kya kaam thaa??\n",
      "[22/10/22, 11:29:42 PM] Adamya: Thnxxxx\n",
      "[22/10/22, 11:29:52 PM] Adamya: Ek post doc fellow ka pta Krna tha\n",
      "[22/10/22, 11:30:01 PM] Adamya: Mohd hafez something naam h\n",
      "[22/10/22, 11:30:05 PM] Adamya: Do u know?\n",
      "[22/10/22, 11:30:15 PM] Viren: Suïcide se related haii kya??\n",
      "[22/10/22, 11:30:20 PM] Viren: No\n",
      "[22/10/22, 11:30:21 PM] Adamya: Yess\n",
      "[22/10/22, 11:30:32 PM] Viren: Ohkkk\n",
      "[11/11/22, 11:35:41 PM] Adamya: Oye busy h kya?\n",
      "[11/11/22, 11:39:34 PM] Viren: Nahi\n",
      "[11/11/22, 11:39:41 PM] Viren: Kya hua??\n",
      "[11/11/22, 11:40:41 PM] Adamya: Yrr decoration k liye ideas chahiye\n",
      "[11/11/22, 11:40:58 PM] Adamya: Anime props specifically\n",
      "[11/11/22, 11:41:02 PM] Adamya: U watch anime ryt?\n",
      "[11/11/22, 11:41:12 PM] Viren: Yess\n",
      "[11/11/22, 11:41:27 PM] Viren: Kya decorate krna hai???\n",
      "[11/11/22, 11:47:16 PM] Adamya: Freshers props basically\n",
      "[11/11/22, 11:48:19 PM] Adamya: Wait I'll call in sometime\n",
      "‎[12/11/22, 1:26:02 AM] Viren: ‎Contact card omitted\n",
      "‎[12/11/22, 2:25:20 AM] Adamya: ‎image omitted\n",
      "‎[12/11/22, 10:37:39 PM] Viren: ‎image omitted\n",
      "‎[12/11/22, 10:37:40 PM] Viren: ‎image omitted\n",
      "‎[12/11/22, 10:37:41 PM] Viren: ‎image omitted\n",
      "‎[12/11/22, 10:37:41 PM] Viren: ‎image omitted\n",
      "‎[12/11/22, 10:37:42 PM] Viren: ‎image omitted\n",
      "‎[12/11/22, 10:37:42 PM] Viren: ‎image omitted\n",
      "‎[14/11/22, 8:20:20 PM] Viren: ‎image omitted\n",
      "[14/11/22, 9:40:12 PM] Adamya: Ayeeee, achi aayi h n....!!!!\n",
      "[14/11/22, 9:40:28 PM] Adamya: What's that shadow thing?\n",
      "[14/11/22, 10:12:35 PM] Viren: Laptop screen se capture kia naa isliye\n",
      "[14/11/22, 10:12:55 PM] Viren: Fresher lag rahii😅😅😅\n",
      "[14/11/22, 10:13:08 PM] Viren: Chotti bachhi #kiddo\n",
      "[14/11/22, 10:13:38 PM] Viren: btw Happy Children’s day😅😅\n",
      "[14/11/22, 10:14:24 PM] Adamya: Oh ok\n",
      "[14/11/22, 10:14:45 PM] Adamya: Sounded like tejas just typed this msg 🥲\n",
      "[14/11/22, 10:14:57 PM] Adamya: Same to u bache #jnr🌚\n",
      "[14/11/22, 10:15:27 PM] Viren: 😅😅😅\n",
      "[14/11/22, 11:12:25 PM] Adamya: Dhanyawad..!!\n",
      "[02/12/22, 1:35:25 AM] Adamya: Heyy, what happened???\n",
      "[02/12/22, 1:35:36 AM] Adamya: How're u?\n",
      "Praneeth told me u got sick?\n",
      "[02/12/22, 6:29:17 AM] Viren: Haa \n",
      "Appendicitis \n",
      "So surgery karaani haii isliye Mumbai aayaa 🙃\n",
      "[02/12/22, 8:36:05 AM] Adamya: Akele gya h kya ya dost log h?\n",
      "[02/12/22, 8:37:28 AM] Adamya: Also, kb phuchega?\n",
      "[02/12/22, 10:06:18 AM] Viren: Akele\n",
      "[02/12/22, 10:06:28 AM] Viren: Today 4am\n",
      "[02/12/22, 11:08:39 AM] Viren: Idhar  bhaiyaa haii naaa\n",
      "[02/12/22, 12:21:43 PM] Adamya: Haoo, phuch gya bhaiya k yha?\n",
      "[02/12/22, 12:21:59 PM] Viren: Haooo 😎\n",
      "[02/12/22, 12:22:39 PM] Viren: Delhi kab jaa rahe tum???\n",
      "[02/12/22, 12:29:39 PM] Adamya: Kb h surgery?\n",
      "[02/12/22, 12:29:46 PM] Adamya: Wapas hyd aayega\n",
      "[02/12/22, 12:29:51 PM] Adamya: ?\n",
      "[02/12/22, 12:30:25 PM] Viren: Kal doctor se appointment toh woh baataayenge\n",
      "[02/12/22, 12:30:30 PM] Viren: Haaaa\n",
      "[02/12/22, 12:30:50 PM] Viren: 2-3 mai hi hoga most probably\n",
      "[02/12/22, 12:35:01 PM] Adamya: Acha ok\n",
      "[02/12/22, 12:36:36 PM] Adamya: Kb wapas aayega?\n",
      "[02/12/22, 12:36:42 PM] Adamya: Vns phle\n",
      "[02/12/22, 12:36:46 PM] Adamya: 8th night\n",
      "[02/12/22, 12:36:56 PM] Adamya: Then 13th ko Delhi\n",
      "[02/12/22, 12:37:25 PM] Viren: After 10 days \n",
      "If all goes well 😅\n",
      "[02/12/22, 12:43:00 PM] Adamya: Are all goes well ka kya mtlb h\n",
      "[02/12/22, 12:47:08 PM] Viren: Appendicitis normal hua toh sometimes severe case Hota stomach ke around ka area infected ho jaataa toh phir zayda problem bur rare case hotaa\n",
      "[02/12/22, 12:51:05 PM] Adamya: Abhi itna b diagnosis nhi hua h kya?\n",
      "[02/12/22, 12:51:05 PM] Adamya: Kb pta chlega fir ki kya scene h tere appendix ka\n",
      "[02/12/22, 1:03:52 PM] Viren: Tomorrow\n",
      "[02/12/22, 1:04:11 PM] Viren: Normal test hua tha bas Hyderabad\n",
      "[02/12/22, 1:04:54 PM] Viren: Main\n",
      "[02/12/22, 1:43:28 PM] Adamya: Ohh acha\n",
      "[02/12/22, 1:44:52 PM] Adamya: Thk h yrr khyal rkh!\n",
      "\n",
      "Aur btana kl doc jo bole\n",
      "[02/12/22, 1:48:13 PM] Viren: Haooo :))))))\n",
      "Thanks 😊\n",
      "[02/12/22, 1:53:53 PM] Adamya: Khush rho🌚\n",
      "[02/12/22, 2:03:44 PM] Viren: Haoo😊\n",
      "[03/12/22, 8:32:28 PM] Adamya: So..... Updates?\n",
      "[05/12/22, 3:08:21 PM] Viren: Ho gya surgery 🙃🙃\n",
      "[05/12/22, 3:08:40 PM] Viren: 8 mm ka appendix tha\n",
      "[05/12/22, 3:08:44 PM] Viren: Acute\n",
      "[05/12/22, 3:10:46 PM] Viren: 2 days no food no water\n",
      "[05/12/22, 3:19:38 PM] Adamya: Discharge kr diya?\n",
      "[05/12/22, 3:20:00 PM] Viren: Kal karenge\n",
      "[05/12/22, 3:20:11 PM] Adamya: 😳😳😳\n",
      "[05/12/22, 3:20:16 PM] Adamya: Net to tha🌚\n",
      "[05/12/22, 3:20:31 PM] Viren: Abhii phone mila😅😅\n",
      "[05/12/22, 3:21:05 PM] Adamya: Thk h aaram kr....wapas bhaiya k yha jayega kl?\n",
      "[05/12/22, 3:21:45 PM] Viren: Haa 🙃 doctor boli 11-12 di rest no travel and all\n",
      "[05/12/22, 3:22:30 PM] Adamya: 11-12 din rest...!!!\n",
      "Kya hi kroge itne din\n",
      "[05/12/22, 3:22:46 PM] Viren: Rest😅😅\n",
      "[05/12/22, 3:22:53 PM] Viren: In peace\n",
      "[05/12/22, 3:23:01 PM] Adamya: Taaliyan🙂\n",
      "[05/12/22, 3:23:28 PM] Adamya: Sahi h yrr...Maje h tmre hi😂\n",
      "[05/12/22, 3:23:32 PM] Viren: Mumbai ghum lenge 🌚🌚\n",
      "[05/12/22, 3:23:43 PM] Adamya: No travel b to bole h\n",
      "[05/12/22, 3:23:59 PM] Viren: Long travel\n",
      "[05/12/22, 3:24:38 PM] Viren: 3 din kaafi dukh dard bhare they\n",
      "[05/12/22, 3:24:54 PM] Adamya: Thk h do chaar photographs showoff k liye le lena captioning with #mumbai trip.... nobody will know anyway 🌚\n",
      "[05/12/22, 3:25:16 PM] Viren: Haooo😎😎\n",
      "[05/12/22, 3:25:17 PM] Adamya: Sch me ghumne ka plan h kya🙄\n",
      "[05/12/22, 3:25:39 PM] Viren: Haa 11-12 din bed pe nii reh sakta🥲\n",
      "[05/12/22, 3:25:52 PM] Adamya: Jinda ho, net chl rha h bhut h😌😂\n",
      "[05/12/22, 3:26:42 PM] Adamya: Noicc enjoy..!\n",
      "[05/12/22, 3:27:20 PM] Viren: Haooo\n",
      "Enjoy u tooo\n",
      "In Banaras\n",
      "[05/12/22, 3:29:20 PM] Adamya: I will 🥺\n",
      "‎[19/12/22, 6:45:08 PM] Adamya: ‎video omitted\n",
      "‎[19/12/22, 6:45:39 PM] Adamya: ‎video omitted\n",
      "[19/12/22, 6:54:42 PM] Viren: Idhar le aanaaa\n",
      "[19/12/22, 6:55:05 PM] Viren: 😾😾\n",
      "[19/12/22, 6:55:26 PM] Adamya: Bhaag gyi/ gya whatever it was\n",
      "[19/12/22, 6:55:56 PM] Viren: 😒😒 mai itne mai dosti kar leta\n",
      "[19/12/22, 6:56:05 PM] Adamya: Tf dude\n",
      "[19/12/22, 6:56:17 PM] Adamya: I offered him/her dark chocolate to eat\n",
      "[19/12/22, 6:56:25 PM] Adamya: He/she bloddy rejected and took off\n",
      "[19/12/22, 6:56:28 PM] Adamya: What can I do\n",
      "[19/12/22, 6:56:48 PM] Adamya: Tried my best🥲\n",
      "[19/12/22, 6:56:57 PM] Viren: They like chocolates??\n",
      "[19/12/22, 6:57:14 PM] Adamya: Idk🥲\n",
      "But that was all i had\n",
      "[19/12/22, 6:57:31 PM] Adamya: Also, itna jyada overconfidence 🤢\n",
      "[19/12/22, 6:57:59 PM] Viren: You can win everything with love : (quote by some great dude - name starts with V)\n",
      "[19/12/22, 6:58:12 PM] Viren: 😅😎😎\n",
      "[19/12/22, 6:59:12 PM] Adamya: Tu koi billi paas bula kr dikha fir baat karna\n",
      "‎[19/12/22, 6:59:36 PM] Viren: ‎image omitted\n",
      "[19/12/22, 6:59:43 PM] Viren: Ye dekho\n",
      "[19/12/22, 7:00:22 PM] Adamya: Paas h ye?\n",
      "[19/12/22, 7:00:29 PM] Adamya: Dur se koi b photo le skta h\n",
      "[19/12/22, 7:00:31 PM] Viren: Haa kafii\n",
      "[19/12/22, 7:00:39 PM] Adamya: Also looks like she/ he hates u already 😂\n",
      "[19/12/22, 7:00:40 PM] Viren: Pass tha really 😒😒\n",
      "[19/12/22, 7:00:51 PM] Adamya: Ghanta😂😂😂\n",
      "[19/12/22, 7:01:12 PM] Viren: She is chilling\n",
      "‎[19/12/22, 7:01:20 PM] Adamya: ‎video omitted\n",
      "[19/12/22, 7:01:57 PM] Adamya: More like judging u.....she's like aagya ek aur bacha photo kheechne😂\n",
      "[19/12/22, 7:01:59 PM] Viren: Next time video bhejta hoon 🗿\n",
      "[19/12/22, 7:02:31 PM] Adamya: Gd luck ✨\n",
      "[19/12/22, 7:02:59 PM] Viren: 🗿\n",
      "[19/12/22, 7:04:01 PM] Viren: When u are coming back??\n",
      "[19/12/22, 7:15:49 PM] Adamya: 23 ko phuch jayege\n",
      "[30/12/22, 12:42:56 AM] Viren: Happy Birthday Doobey 🎂🎂🎂🎂🎂\n",
      "[30/12/22, 12:44:30 AM] Adamya: Thank you 🥺\n",
      "[30/12/22, 12:45:40 AM] Viren: Sunana\n",
      "\n",
      "Praneeth Ordered Cake for you\n",
      "[30/12/22, 12:47:21 AM] Adamya: Ik\n",
      "[30/12/22, 12:47:24 AM] Adamya: Where are you\n",
      "[30/12/22, 12:49:44 AM] Viren: Free hona toh call karna okk\n",
      "[30/12/22, 12:49:48 AM] Viren: Kautiy\n",
      "[30/12/22, 12:49:54 AM] Viren: Kautilya\n",
      "[30/12/22, 12:50:37 AM] Adamya: M aa ja rhi\n",
      "[30/12/22, 12:51:07 AM] Viren: Matlab 😅\n",
      "[30/12/22, 5:07:18 PM] Adamya: Bhej de photos aur vdos\n",
      "‎[30/12/22, 5:12:32 PM] Viren: ‎video omitted\n",
      "‎[30/12/22, 5:12:32 PM] Viren: ‎image omitted\n",
      "‎[30/12/22, 5:12:33 PM] Viren: ‎image omitted\n",
      "‎[30/12/22, 5:12:33 PM] Viren: ‎video omitted\n",
      "‎[30/12/22, 5:12:34 PM] Viren: ‎video omitted\n",
      "‎[30/12/22, 5:12:34 PM] Viren: ‎video omitted\n",
      "‎[30/12/22, 5:12:35 PM] Viren: ‎image omitted\n",
      "‎[30/12/22, 5:12:35 PM] Viren: ‎image omitted\n",
      "‎[30/12/22, 5:12:36 PM] Viren: ‎image omitted\n",
      "‎[30/12/22, 5:12:36 PM] Viren: ‎video omitted\n",
      "‎[30/12/22, 5:12:37 PM] Viren: ‎image omitted\n",
      "‎[30/12/22, 5:12:37 PM] Viren: ‎video omitted\n",
      "‎[30/12/22, 5:12:38 PM] Viren: ‎image omitted\n",
      "‎[30/12/22, 5:12:39 PM] Viren: ‎image omitted\n",
      "‎[30/12/22, 5:12:39 PM] Viren: ‎image omitted\n",
      "[30/12/22, 5:13:01 PM] Viren: Ye lo\n",
      "[30/12/22, 5:13:04 PM] Viren: 🎂\n",
      "[30/12/22, 5:15:02 PM] Adamya: Dhanyawad 😌\n",
      "[01/01/23, 12:32:54 AM] Viren: Kidhar haii ??\n",
      "[01/01/23, 12:48:54 AM] Adamya: Canteen ja rhi\n",
      "[01/01/23, 12:48:59 AM] Adamya: Tu kidhr\n",
      "[01/01/23, 1:00:34 AM] Viren: Amphitheater mujhe lga idhar haii\n",
      "[01/01/23, 1:08:41 AM] Adamya: Nhi dj bnd hogya n????\n",
      "[01/01/23, 1:09:12 AM] Adamya: Are happy new year!!!!!!✨\n",
      "[01/01/23, 1:17:07 AM] Viren: Haa\n",
      "[01/01/23, 1:17:20 AM] Viren: Happy eww year\n",
      "[01/01/23, 1:17:26 AM] Viren: *new\n",
      "[01/01/23, 1:17:44 AM] Viren: Canteen mai hai kya!??\n",
      "[01/01/23, 1:20:29 AM] Adamya: 😂\n",
      "[01/01/23, 1:20:31 AM] Adamya: Yepp\n",
      "[01/01/23, 1:21:12 AM] Adamya: Mtlb ab ja rhi😅\n",
      "[01/01/23, 1:24:21 AM] Viren: Acchha \n",
      "Wanna hangout??\n",
      "[01/01/23, 1:27:28 AM] Adamya: Chlo, kidhr h tu?\n",
      "[01/01/23, 1:31:35 AM] Viren: Canteen\n",
      "[01/01/23, 1:31:52 AM] Viren: Tum??\n",
      "[01/01/23, 1:36:37 AM] Adamya: Are\n",
      "[01/01/23, 1:36:55 AM] Adamya: Aarhi udhr hi\n",
      "[01/01/23, 1:37:24 AM] Viren: Hostel circle ke pass aajja\n",
      "[01/01/23, 1:37:32 AM] Adamya: Haoo\n",
      "[01/01/23, 1:43:03 AM] Viren: Call kar dena jab aaa jaaye\n",
      "[01/01/23, 1:46:54 AM] Adamya: Aagyi\n",
      "[01/01/23, 1:47:11 AM] Viren: Aa raha ek min\n",
      "[01/01/23, 5:49:56 PM] Adamya: 💁🏻‍♀️\n",
      "‎[01/01/23, 6:18:25 PM] Viren: ‎video omitted\n",
      "‎[01/01/23, 6:18:25 PM] Viren: ‎video omitted\n",
      "‎[01/01/23, 6:18:26 PM] Viren: ‎image omitted\n",
      "‎[01/01/23, 6:18:26 PM] Viren: ‎video omitted\n",
      "‎[01/01/23, 6:18:27 PM] Viren: ‎image omitted\n",
      "‎[01/01/23, 6:18:27 PM] Viren: ‎video omitted\n",
      "[01/01/23, 6:18:38 PM] Viren: !:)\n",
      "[03/01/23, 6:59:37 PM] Adamya: Batana nhi kisi ko🥲\n",
      "[03/01/23, 7:01:39 PM] Viren: Theek haii \n",
      "But kyo😅\n",
      "[03/01/23, 7:04:45 PM] Adamya: Kyuki pta nhi h kisi ko ki madam idhr aa rhi h🥲\n",
      "[03/01/23, 7:05:04 PM] Adamya: Aur ye b mt batana kisi ko😅\n",
      "[03/01/23, 7:05:48 PM] Viren: Acchha theek\n",
      "Tu jaa rahi phir???\n",
      "[03/01/23, 7:07:00 PM] Adamya: Nhi.... Patancheru jaugi wha tk dekhte h bus cab jo b hoga krwa dugi\n",
      "[03/01/23, 7:07:37 PM] Adamya: Rdm me hi hu tb tk🥲\n",
      "[03/01/23, 7:07:51 PM] Adamya: Hogyi teri street photography?\n",
      "[03/01/23, 7:08:38 PM] Viren: Secundrabad se bolna metro le le pass mai hi hota\n",
      "[03/01/23, 7:08:59 PM] Viren: Chod de🗿\n",
      "[03/01/23, 7:12:48 PM] Adamya: Yrr\n",
      "[03/01/23, 7:13:12 PM] Adamya: Bus kr le phle wo 🥲\n",
      "[03/01/23, 7:13:18 PM] Adamya: Fir metro ka dekhege\n",
      "[03/01/23, 7:29:20 PM] Viren: Theek jaane se pahle call kar diyo\n",
      "Agar mai idhar hoonga then pick up kar loonga\n",
      "[03/01/23, 7:33:11 PM] Adamya: Nhi Train delay h, jyada raat ho jayegi, aa jao tm log wapas\n",
      "[03/01/23, 8:16:13 PM] Viren: Acchha\n",
      "[04/01/23, 11:59:24 AM] Adamya: Yrr aaj shaam tk me free ho to batana n\n",
      "[04/01/23, 12:23:01 PM] Viren: Haa free hoon\n",
      "[04/01/23, 12:23:08 PM] Viren: Kya hua??\n",
      "[04/01/23, 12:59:45 PM] Adamya: Yrr praneeth ka bday h to mereko usi se related puchna tha\n",
      "[04/01/23, 12:59:59 PM] Adamya: Chai piyega shaam me?\n",
      "Milkr hi btati n m\n",
      "[04/01/23, 1:03:14 PM] Viren: Accchh\n",
      "[04/01/23, 1:03:26 PM] Viren: Theek haii call kar denaa jab aanaa\n",
      "[04/01/23, 1:04:39 PM] Adamya: Okkkki\n",
      "[04/01/23, 8:48:45 PM] Viren: Helo\n",
      "Aa rahi kyaa??\n",
      "[04/01/23, 8:58:00 PM] Adamya: Hnn aa rhi bss\n",
      "‎[04/01/23, 11:42:17 PM] Viren: IMG_1430.jpg ‎document omitted\n",
      "[05/01/23, 4:35:11 AM] Adamya: Sun n\n",
      "[05/01/23, 4:35:22 AM] Adamya: Pls console kr lena use if needed\n",
      "[05/01/23, 4:35:35 AM] Adamya: And don't tell him ki tje pta tha phle se\n",
      "[05/01/23, 4:35:58 AM] Adamya: 🥲\n",
      "[05/01/23, 4:45:21 AM] Viren: U told??\n",
      "[05/01/23, 4:45:27 AM] Adamya: Yep\n",
      "[05/01/23, 4:45:33 AM] Adamya: Ye nhi btaya\n",
      "[05/01/23, 4:45:46 AM] Viren: Where are u ??\n",
      "[05/01/23, 4:46:14 AM] Adamya: A block\n",
      "[05/01/23, 4:46:21 AM] Adamya: Medicine le aakr\n",
      "[05/01/23, 4:47:15 AM] Viren: Haa\n",
      "[05/01/23, 5:09:50 AM] Viren: Thanks for medicine & woh sone chala gya\n",
      "[05/01/23, 6:11:52 AM] Adamya: Thk ba\n",
      "[06/01/23, 8:28:04 PM] Viren: Aa rahi kyaa??\n",
      "[06/01/23, 8:30:37 PM] Adamya: Kidhr tu?\n",
      "[06/01/23, 8:30:41 PM] Adamya: Hostel circle aa n\n",
      "[06/01/23, 8:30:53 PM] Viren: Udhr hi hoon\n",
      "‎[09/01/23, 7:32:54 PM] Viren: ‎image omitted\n",
      "[09/01/23, 7:33:07 PM] Viren: Ye baar baar phone kar raha🗿\n",
      "[09/01/23, 7:42:29 PM] Adamya: Wet kro police ka😂😂😂😂😂\n",
      "[09/01/23, 7:42:40 PM] Adamya: Wtf😂😂😂😂\n",
      "[09/01/23, 7:42:50 PM] Adamya: Yrrr m krti hu call\n",
      "[09/01/23, 7:43:07 PM] Viren: Theek 🗿\n",
      "[09/01/23, 7:43:07 PM] Adamya: Sry..... I'll handle🥲\n",
      "[09/01/23, 7:43:21 PM] Viren: Raza saheb naam aa raha\n",
      "[09/01/23, 7:43:25 PM] Viren: Whatsapp pe\n",
      "[09/01/23, 7:43:33 PM] Viren: No worries 😎😎\n",
      "[09/01/23, 7:44:07 PM] Adamya: Wo daroga hi h\n",
      "[09/01/23, 7:44:08 PM] Adamya: Bsdwala\n",
      "[09/01/23, 7:44:20 PM] Adamya: Kl tk try krte h written application bhej de\n",
      "[09/01/23, 7:44:24 PM] Viren: 😅😅\n",
      "Muslim hai??\n",
      "[09/01/23, 7:44:32 PM] Adamya: Hindu\n",
      "[09/01/23, 7:44:38 PM] Adamya: Pandit ig\n",
      "[09/01/23, 7:44:46 PM] Viren: Raza saheb naam kyo rakha chutiyaa\n",
      "[09/01/23, 7:45:04 PM] Adamya: Yrr Raja hindu hote h n😂\n",
      "Nawab Muslim hote h\n",
      "[09/01/23, 7:45:16 PM] Viren: Acchha 😅😅\n",
      "[09/01/23, 7:45:43 PM] Adamya: Sun n\n",
      "[09/01/23, 7:45:51 PM] Adamya: Tu block kr de apni trf se\n",
      "[09/01/23, 7:45:57 PM] Adamya: Aur koi contact mt rkh\n",
      "[09/01/23, 7:46:09 PM] Viren: Kar diyaa 3-4 number se kiaa tabhi se\n",
      "[09/01/23, 7:46:24 PM] Adamya: Are 🤦🏻‍♀️\n",
      "[09/01/23, 7:46:34 PM] Adamya: Conference kr skta jb call aaye tb???\n",
      "[09/01/23, 7:46:43 PM] Viren: Theek haiii\n",
      "[09/01/23, 7:46:47 PM] Adamya: M baat kr lugi arshi bn kr🥲\n",
      "[09/01/23, 7:47:02 PM] Viren: 🗿🗿james bond\n",
      "[09/01/23, 7:49:47 PM] Adamya: Tfri mt kr, ldkiya bhagane wale insaan🥲\n",
      "[09/01/23, 7:56:23 PM] Viren: 🌚 🤌🏻\n",
      "‎[11/01/23, 1:39:09 PM] Adamya: IMG_20230110_140213169_2.pdf • ‎1 page ‎document omitted\n",
      "[13/01/23, 11:27:26 AM] Adamya: Phn chahiye 🥲\n",
      "Free hona tb btana\n",
      "[13/01/23, 12:26:06 PM] Viren: 2 pm se lab haiii uske pahle free hai toh le lenaa otherwise 4:30 ke baad\n",
      "[14/01/23, 1:11:10 PM] Viren: Call aaya tha uskaaa\n",
      "[14/01/23, 1:14:52 PM] Adamya: Puch rha ya bta rha?\n",
      "[14/01/23, 1:15:02 PM] Viren: Bta raha\n",
      "[14/01/23, 1:15:31 PM] Adamya: Kya bola?\n",
      "[14/01/23, 1:15:43 PM] Viren: Kuch nahiii\n",
      "[14/01/23, 1:16:05 PM] Viren: Mai phone nahi uthaaya\n",
      "[14/01/23, 1:16:28 PM] Adamya: Thk h , block kr dena\n",
      "[14/01/23, 1:16:39 PM] Viren: Hao\n",
      "[14/01/23, 1:17:01 PM] Adamya: Apne number se call krugi, they know that she's with me!\n",
      "[14/01/23, 1:17:32 PM] Viren: Ye nahi batana thaa naa ig unko\n",
      "[14/01/23, 1:18:41 PM] Adamya: Apni mrji se nhi btaya h🥲\n",
      "[14/01/23, 1:19:02 PM] Viren: Ohh UP Police 😎\n",
      "[14/01/23, 1:19:59 PM] Adamya: Nhiii😂\n",
      "[14/01/23, 1:20:19 PM] Adamya: Ghrwalo ne guess kiya\n",
      "[14/01/23, 1:20:40 PM] Viren: Ohkkkk\n",
      "Application vhej diyaa??\n",
      "[14/01/23, 1:23:33 PM] Adamya: Monday ko jaugi\n",
      "[14/01/23, 1:23:45 PM] Adamya: Aaj office bnd rhege\n",
      "[14/01/23, 1:24:00 PM] Adamya: Hopefully after application ye sb sort ho jayega\n",
      "[16/01/23, 3:13:31 PM] Adamya: Call aaye kya daroga k?\n",
      "[16/01/23, 4:40:28 PM] Viren: Naaaa\n",
      "[21/01/23, 10:06:41 PM] Viren: ‎You deleted this message.\n",
      "[21/01/23, 10:06:41 PM] Viren: ‎You deleted this message.\n",
      "[21/01/23, 10:06:41 PM] Viren: ‎You deleted this message.\n",
      "[21/01/23, 10:06:41 PM] Viren: ‎You deleted this message.\n",
      "[21/01/23, 10:06:41 PM] Viren: ‎You deleted this message.\n",
      "[21/01/23, 10:06:41 PM] Viren: ‎You deleted this message.\n",
      "[21/01/23, 10:06:41 PM] Viren: ‎You deleted this message.\n",
      "[21/01/23, 10:06:41 PM] Viren: ‎You deleted this message.\n",
      "[21/01/23, 10:07:02 PM] Viren: Ganga Sent\n",
      "[21/01/23, 10:07:17 PM] Viren: She is your Secret Admirer\n",
      "[21/01/23, 10:09:29 PM] Adamya: Bhej chuki h mje b\n",
      "[21/01/23, 10:09:56 PM] Adamya: Why secret🥲\n",
      "[21/01/23, 10:10:08 PM] Viren: Acchha\n",
      "[21/01/23, 10:10:11 PM] Adamya: Bc🤣\n",
      "[21/01/23, 10:10:16 PM] Adamya: Del kr diya😂\n",
      "[21/01/23, 10:10:46 PM] Viren: 🗿 bhej chuki hai naa\n",
      "Why waste ahh space naaa\n",
      "[21/01/23, 10:11:36 PM] Viren: Kyoki secretly admire karti haii\n",
      "[21/01/23, 10:11:41 PM] Adamya: 😂😂how considerate\n",
      "[21/01/23, 10:11:53 PM] Adamya: To tje kaise pta chla😂\n",
      "[21/01/23, 10:12:15 PM] Adamya: Thk h , tfri kr rhi bss, ignore!\n",
      "[21/01/23, 10:12:19 PM] Viren: Photos se\n",
      "[21/01/23, 10:12:35 PM] Viren: Koi naaa\n",
      "[21/01/23, 10:13:01 PM] Viren: Nice DP 🐈\n",
      "[21/01/23, 10:13:25 PM] Adamya: Usme to tu b hai🌚\n",
      "[21/01/23, 10:15:30 PM] Adamya: Dhanyawad 😌\n",
      "[21/01/23, 10:15:50 PM] Viren: But to focused subject haii\n",
      "[21/01/23, 10:17:33 PM] Adamya: 🙄thk\n",
      "[21/01/23, 10:17:42 PM] Adamya: Hogya tera e-summit khtm?\n",
      "[21/01/23, 10:18:46 PM] Viren: Kal last dayy haii\n",
      "[21/01/23, 10:18:54 PM] Viren: Kal bhi azaanaa\n",
      "[21/01/23, 10:19:26 PM] Viren: With your friends\n",
      "[21/01/23, 10:21:21 PM] Adamya: Kisi ko nhi aana......e-cell ka naam sunkr mna kr diye log🌚\n",
      "[21/01/23, 10:21:42 PM] Viren: Msc ☕️\n",
      "[21/01/23, 10:23:02 PM] Adamya: BTech walo se pucha tha mne🙄\n",
      "[21/01/23, 10:23:26 PM] Viren: Acchaa 😅 koi naa\n",
      "[21/01/23, 10:23:54 PM] Viren: Lab mai haii??\n",
      "[21/01/23, 10:24:47 PM] Adamya: Yep🥲\n",
      "[21/01/23, 10:25:07 PM] Viren: Kabhi end hoga??\n",
      "[21/01/23, 10:25:46 PM] Adamya: Kabhi ka kya mtlb h🥲\n",
      "[21/01/23, 10:25:56 PM] Viren: Kab??😅\n",
      "[21/01/23, 10:26:36 PM] Adamya: 12-1 bje tk , hopefully 💁🏻‍♀️\n",
      "[21/01/23, 10:26:49 PM] Adamya: Tu kidhr?\n",
      "[21/01/23, 10:28:18 PM] Viren: Audi\n",
      "[21/01/23, 10:28:39 PM] Viren: Jaana toh batana mai idhar hi haii\n",
      "[21/01/23, 10:30:42 PM] Adamya: Kb tk rhega?\n",
      "[21/01/23, 10:30:45 PM] Adamya: Thk h\n",
      "[21/01/23, 10:30:52 PM] Adamya: Kyu h udhr?\n",
      "[21/01/23, 10:30:57 PM] Viren: Jab tak hai jaan\n",
      "[21/01/23, 10:31:06 PM] Viren: Aise hi bakchodi\n",
      "‎[21/01/23, 10:31:29 PM] Viren: ‎video omitted\n",
      "[21/01/23, 10:40:08 PM] Adamya: Ohh sb heads 🌚\n",
      "[21/01/23, 10:44:59 PM] Viren: Haaa🌚🌚\n",
      "[22/01/23, 1:19:34 AM] Adamya: Hai kya abhi tk?\n",
      "[22/01/23, 9:43:39 AM] Viren: Haaa\n",
      "‎[26/01/23, 3:21:27 PM] Viren: DSC09699.ARW ‎document omitted\n",
      "[26/01/23, 6:24:41 PM] Adamya: 😂😂\n",
      "[26/01/23, 6:24:45 PM] Adamya: Besssst❤️😂\n",
      "‎[26/01/23, 6:25:05 PM] Viren: ‎video omitted\n",
      "[26/01/23, 6:28:43 PM] Adamya: How insensitive yrr, that's me crying 🥲\n",
      "[26/01/23, 6:29:25 PM] Viren: Haaa dikh rahaa\n",
      "Ab toh aadat si aise jeene mai\n",
      "[26/01/23, 6:29:35 PM] Viren: 😅\n",
      "[26/01/23, 6:33:24 PM] Adamya: 😂😂\n",
      "Hnn\n",
      "RDM ne rape itna normalise kr diya h , everybody's making fun of it🥲\n",
      "[26/01/23, 6:34:21 PM] Adamya: Also, poora vdo record kiya h ky?\n",
      "[26/01/23, 6:35:29 PM] Viren: Haa kuch log rape ke time hass rahe they 🗿😅😅\n",
      "[26/01/23, 6:35:39 PM] Viren: Haaa BTL bhej degaa\n",
      "[26/01/23, 6:40:24 PM] Adamya: Sch me???????😳\n",
      "[26/01/23, 6:40:52 PM] Adamya: Haoo\n",
      "[26/01/23, 6:43:15 PM] Viren: Hao 😅😅 nvm \n",
      "Great performance\n",
      "[26/01/23, 6:47:32 PM] Adamya: Ofdamncourse it should be🌚\n",
      "[26/01/23, 6:47:38 PM] Adamya: Dhanyawad 😅\n",
      "[26/01/23, 6:48:05 PM] Viren: Toh party when 🗿\n",
      "[26/01/23, 6:49:15 PM] Adamya: Jb tu plan kr le yrr, from InFocus for winning medals🏅\n",
      "[26/01/23, 6:50:23 PM] Viren: De diyaa tu nahi thi 🌚\n",
      "Now for your oscar performance 😎\n",
      "[26/01/23, 6:51:30 PM] Adamya: 😒ho jayegi meri trf se b party, tu nhi rhega\n",
      "[26/01/23, 6:52:14 PM] Viren: 😒😒😒\n",
      "Rdm wale they u disappeared\n",
      "[26/01/23, 7:00:12 PM] Adamya: Kb disappeared?😂\n",
      "[26/01/23, 7:02:42 PM] Viren: After nukkad 🗿\n",
      "[26/01/23, 7:04:58 PM] Adamya: Mereko sb mile b block trf, tu hi disappear hua tha🌚\n",
      "[26/01/23, 7:05:11 PM] Adamya: Aur kidhr h abhi?\n",
      "[26/01/23, 7:05:21 PM] Viren: Room\n",
      "[26/01/23, 7:05:42 PM] Viren: Maybe tu dusre group mai hogi 😅\n",
      "[26/01/23, 7:06:44 PM] Adamya: Dusra grp kaunsa h?\n",
      "[26/01/23, 7:06:47 PM] Adamya: Ok , rh\n",
      "[26/01/23, 7:06:59 PM] Viren: Rh Matlab\n",
      "[26/01/23, 7:07:36 PM] Viren: Tujhe pta hogaa naaa tu thii\n",
      "Phook ke aayi thi kyaaa😒😅\n",
      "[26/01/23, 7:08:23 PM] Adamya: Kaisi baatein kr rha h🥲\n",
      "Phook rha h kya room me?\n",
      "[26/01/23, 7:08:56 PM] Viren: Nahiii🗿🗿\n",
      "[26/01/23, 7:09:27 PM] Adamya: Thk h mereko jacket chahiye isliye pucha!\n",
      "[26/01/23, 7:09:52 PM] Adamya: Hand over my damn jacket🙂\n",
      "[26/01/23, 7:10:01 PM] Viren: Room aa jaaa\n",
      "[26/01/23, 7:10:18 PM] Adamya: Neeche tk aajaa yrr\n",
      "[26/01/23, 7:10:32 PM] Adamya: Aur RDM ka black kurta h wo b rkh le apne paas\n",
      "[26/01/23, 7:10:36 PM] Adamya: Tejas ko de diyo\n",
      "[26/01/23, 7:10:47 PM] Viren: Lab haii??\n",
      "[26/01/23, 7:10:59 PM] Adamya: Lab jana h\n",
      "[26/01/23, 7:11:08 PM] Adamya: Abhi🥲\n",
      "[26/01/23, 7:11:34 PM] Viren: Phir lab ke baad lenaa\n",
      "Abhi I’m tired mai utha neech nahi aa pungaaaa\n",
      "[26/01/23, 7:12:43 PM] Adamya: 🙄😒thk h\n",
      "[26/01/23, 7:13:08 PM] Viren: Happy Republic Day \n",
      "In Lab 🥼 🐈🌚\n",
      "[26/01/23, 7:15:37 PM] Adamya: I'm ~dead~ happy celebrating in lab 🙂\n",
      "\n",
      "\n",
      "Same to you though 🌚\n",
      "[26/01/23, 7:16:39 PM] Viren: Kab khatm hoga lab?\n",
      "[26/01/23, 7:21:50 PM] Adamya: Late ho jayega\n",
      "[26/01/23, 7:22:07 PM] Adamya: 1-2 bje tk\n",
      "[26/01/23, 7:22:23 PM] Adamya: Jyada late hua to kl le lugi\n",
      "[26/01/23, 7:24:34 PM] Viren: Haoo\n",
      "[27/01/23, 12:00:50 AM] Adamya: Kbhi call receive b kiya kr....!\n",
      "[27/01/23, 12:00:54 AM] Adamya: Kidhr h?\n",
      "[27/01/23, 12:01:24 AM] Viren: Kab kiyaaa\n",
      "[27/01/23, 12:01:25 AM] Viren: ??\n",
      "[27/01/23, 12:02:25 AM] Adamya: Abhiiii\n",
      "[27/01/23, 12:03:33 AM] Viren: Vyasa\n",
      "[27/01/23, 12:03:40 AM] Viren: Nii ayaa ji\n",
      "[27/01/23, 12:04:25 AM] Viren: Tu kidhar??\n",
      "[27/01/23, 12:04:25 AM] Adamya: Thk jb room jana tb btana\n",
      "[27/01/23, 12:04:46 AM] Adamya: Aise hi walk kr rhe bahar\n",
      "[27/01/23, 12:04:54 AM] Viren: Akele?\n",
      "‎[27/01/23, 12:05:06 AM] Adamya: ‎image omitted\n",
      "[27/01/23, 12:05:26 AM] Viren: 🫁🫀\n",
      "[27/01/23, 2:44:39 AM] Viren: Good night 👍😅😅\n",
      "[27/01/23, 3:03:33 AM] Adamya: Gd nyt🥱\n",
      "[31/01/23, 12:15:54 PM] Viren: Police ne phone kiaa thaaaa\n",
      "[31/01/23, 3:43:24 PM] Adamya: bola kch?\n",
      "[31/01/23, 3:49:39 PM] Viren: Lab tha uthaaya nahii\n",
      "[31/01/23, 3:57:09 PM] Adamya: acha ok then\n",
      "[31/01/23, 3:57:40 PM] Adamya: ignore, anyway in a few days she's leaving\n",
      "[31/01/23, 3:58:01 PM] Viren: All sorted??\n",
      "[31/01/23, 3:59:01 PM] Adamya: hnnn\n",
      "[31/01/23, 3:59:58 PM] Viren: Cool :))) \n",
      "Lemme know if u need any help\n",
      "[31/01/23, 4:02:18 PM] Adamya: hn obviously i'll😅\n",
      "‎[08/02/23, 12:22:38 AM] Viren: ‎image omitted\n",
      "[08/02/23, 12:53:29 AM] Adamya: nhi\n",
      "[08/02/23, 12:54:02 AM] Adamya: aur option dikhao😂\n",
      "[08/02/23, 1:11:07 AM] Viren: Madam bas itna hi haii😅😅😅\n",
      "[08/02/23, 1:11:14 AM] Viren: Photo bhejo uski\n",
      "[08/02/23, 1:54:44 AM] Adamya: dhundkr bhejti\n",
      "[08/02/23, 1:54:51 AM] Adamya: kl tk\n",
      "[09/02/23, 11:43:17 PM] Adamya: Room me rhega n?\n",
      "[09/02/23, 11:43:28 PM] Viren: Haa\n",
      "[09/02/23, 11:43:31 PM] Viren: Hoon\n",
      "[09/02/23, 11:43:36 PM] Viren: Kya huaa??\n",
      "[09/02/23, 11:45:09 PM] Viren: Lab mai haii??\n",
      "[09/02/23, 11:48:11 PM] Adamya: Kuch nhi, bss puch rhi\n",
      "[09/02/23, 11:48:18 PM] Adamya: Hn\n",
      "[09/02/23, 11:48:54 PM] Viren: Okay \n",
      "Lab ke baad aayegi??\n",
      "[09/02/23, 11:49:41 PM] Adamya: Hn aaungi, considering the fact ki guard n dekh le!\n",
      "[09/02/23, 11:50:25 PM] Viren: Haa theek\n",
      "[09/02/23, 11:51:51 PM] Viren: Ek baar call kR denaaa\n",
      "[09/02/23, 11:52:12 PM] Adamya: Ok\n",
      "[11/02/23, 12:03:39 AM] Adamya: Gya kya tu?\n",
      "[11/02/23, 12:06:59 AM] Viren: Nahiiii \n",
      "Nahii jaa raha maii\n",
      "[11/02/23, 12:08:38 AM] Adamya: Noicc\n",
      "[11/02/23, 2:03:17 AM] Adamya: Late ho jayega mje\n",
      "[11/02/23, 2:24:45 AM] Viren: Ohkkk\n",
      "[11/02/23, 3:25:07 PM] Viren: Raat ko kya scene huaa thaaa??????\n",
      "[11/02/23, 3:54:22 PM] Adamya: Kuch nhi\n",
      "[11/02/23, 3:57:04 PM] Viren: Kidhar haii abhi???\n",
      "[11/02/23, 4:00:17 PM] Adamya: E block aa rhi\n",
      "[11/02/23, 4:00:24 PM] Adamya: Room me h tu?\n",
      "[11/02/23, 4:02:35 PM] Viren: Nahii aa raha 5 min maiii\n",
      "[11/02/23, 4:02:56 PM] Viren: *10 min mai\n",
      "[11/02/23, 4:03:24 PM] Adamya: Okk\n",
      "[11/02/23, 4:03:56 PM] Adamya: Canteen aana fir\n",
      "[11/02/23, 4:06:04 PM] Adamya: Room hi aao🥲\n",
      "[11/02/23, 4:14:54 PM] Viren: Haoo\n",
      "[11/02/23, 10:04:47 PM] Viren: Kidhar haiii??\n",
      "[11/02/23, 10:37:22 PM] Adamya: Lab ja rhi yrr\n",
      "[11/02/23, 10:37:23 PM] Adamya: Tu kidhr h?\n",
      "[11/02/23, 10:37:23 PM] Adamya: Aur kya hua?\n",
      "[11/02/23, 11:08:43 PM] Viren: Room\n",
      "[11/02/23, 11:08:56 PM] Viren: Nii kuchh nii aisee hii phuchaa\n",
      "[11/02/23, 11:09:02 PM] Viren: Lab baad aayegii\n",
      "[11/02/23, 11:09:04 PM] Viren: ??\n",
      "[11/02/23, 11:13:53 PM] Adamya: Hnnn\n",
      "[11/02/23, 11:22:17 PM] Viren: Cool\n",
      "[11/02/23, 11:22:33 PM] Viren: Call kar dio\n",
      "[11/02/23, 11:40:52 PM] Adamya: Hao\n",
      "[12/02/23, 6:43:06 PM] Adamya: Yrr meri black jacket tere room me h kya?\n",
      "Dekh lena n ek baar\n",
      "[12/02/23, 7:02:09 PM] Viren: Idhar toh nahii haii\n",
      "[13/02/23, 5:57:13 PM] Adamya: Where r u????\n",
      "[13/02/23, 6:00:52 PM] Viren: Room\n",
      "[13/02/23, 6:00:57 PM] Viren: Kya huaa??\n",
      "[13/02/23, 6:06:05 PM] Adamya: Sunset dekhne chl rha???\n",
      "[13/02/23, 6:06:28 PM] Viren: Haooo\n",
      "[13/02/23, 6:06:37 PM] Viren: Abhii kitna time hone mai\n",
      "[13/02/23, 6:06:38 PM] Viren: ?\n",
      "[13/02/23, 6:07:52 PM] Adamya: Mje nhi pta\n",
      "[13/02/23, 6:08:14 PM] Viren: Kidhar hai??\n",
      "[13/02/23, 6:11:38 PM] Adamya: Hostel circle\n",
      "[13/02/23, 6:11:51 PM] Viren: Aata hoon\n",
      "[13/02/23, 6:12:26 PM] Adamya: Doob gya sooraj🥲\n",
      "[13/02/23, 6:13:01 PM] Viren: Ohh sed 🥲🥲🗿\n",
      "[13/02/23, 6:13:32 PM] Viren: Nii jaa rahi phir???\n",
      "[13/02/23, 6:15:50 PM] Adamya: Nhi ab kl jayege\n",
      "[13/02/23, 6:17:34 PM] Viren: Theekk\n",
      "[14/02/23, 1:17:01 AM] Adamya: Sogya kya?\n",
      "[14/02/23, 1:44:45 AM] Viren: Nii\n",
      "[16/02/23, 12:19:10 AM] Adamya: Jb room me rhna to call kr dena n\n",
      "[16/02/23, 12:36:02 AM] Adamya: Mt Krna call ab m sone ja rhi\n",
      "[16/02/23, 12:36:53 AM] Viren: Itna zaldi\n",
      "[16/02/23, 12:37:25 AM] Viren: Aa raha ruk naa\n",
      "[17/02/23, 12:12:48 AM] Viren: Kidhar haiii??\n",
      "[17/02/23, 12:18:32 AM] Adamya: Main gate\n",
      "[17/02/23, 12:18:34 AM] Adamya: Tu kidhr h?\n",
      "[17/02/23, 12:19:12 AM] Viren: Room\n",
      "[17/02/23, 12:19:16 AM] Viren: Kings??\n",
      "[17/02/23, 12:20:19 AM] Adamya: Hnn, aagyi ab to wapas\n",
      "[17/02/23, 12:20:38 AM] Adamya: Aaungi aaj m...!\n",
      "[17/02/23, 12:20:54 AM] Viren: Okkk call kar dio\n",
      "[17/02/23, 10:54:52 PM] Viren: Kidhar haii??\n",
      "[17/02/23, 11:01:14 PM] Adamya: Lab se aa rhi wapas\n",
      "[17/02/23, 11:01:19 PM] Adamya: Tu kidhr h?\n",
      "[17/02/23, 11:32:58 PM] Viren: Main stage\n",
      "[17/02/23, 11:33:05 PM] Viren: Aajaa\n",
      "[17/02/23, 11:54:01 PM] Adamya: Khtm ab to sb\n",
      "[17/02/23, 11:55:31 PM] Viren: Haa\n",
      "[17/02/23, 11:55:38 PM] Viren: Kidhar haiii abhii??\n",
      "[17/02/23, 11:57:11 PM] Adamya: H block\n",
      "[17/02/23, 11:57:14 PM] Adamya: Aaja\n",
      "[17/02/23, 11:57:55 PM] Viren: Kautilya aayegi??\n",
      "[17/02/23, 11:58:22 PM] Adamya: Nhi, kl aati hu\n",
      "[17/02/23, 11:58:36 PM] Viren: Okkkkk\n",
      "[18/02/23, 7:37:11 PM] Viren: Kidharr haiii??\n",
      "[18/02/23, 7:43:50 PM] Adamya: Amphitheatre aayi abhi just\n",
      "[18/02/23, 8:09:58 PM] Viren: Kidhar baithii haiiii\n",
      "[18/02/23, 8:20:32 PM] Adamya: Idhr\n",
      "[18/02/23, 8:20:35 PM] Adamya: Tu kidhr h?\n",
      "[18/02/23, 8:32:49 PM] Viren: 🏄‍♂️\n",
      "‎[18/02/23, 8:33:01 PM] Viren: ‎image omitted\n",
      "[18/02/23, 8:34:15 PM] Adamya: Acha udhr h kya\n",
      "[18/02/23, 8:34:20 PM] Adamya: Abhi wohi se aayi m\n",
      "[18/02/23, 8:36:16 PM] Viren: Jaa rahii kyaa\n",
      "[18/02/23, 8:44:05 PM] Adamya: Nhiiii\n",
      "[18/02/23, 9:51:15 PM] Adamya: Football ground?\n",
      "[18/02/23, 10:06:40 PM] Viren: Room mai hoon\n",
      "[18/02/23, 10:06:48 PM] Viren: Baad mai aaungaa\n",
      "[18/02/23, 10:15:30 PM] Adamya: Pre Concert preparations kr rhe ho kya?\n",
      "[18/02/23, 10:24:07 PM] Viren: Niii kii mahasivratri haii naaa\n",
      "[18/02/23, 10:24:19 PM] Viren: Bas weed🍃\n",
      "[18/02/23, 10:24:43 PM] Viren: Weed chaiye???\n",
      "[18/02/23, 10:27:06 PM] Adamya: 😂okk\n",
      "[18/02/23, 10:27:08 PM] Adamya: Nhiii\n",
      "[18/02/23, 10:27:24 PM] Adamya: High on life ✌🏻\n",
      "[18/02/23, 10:27:35 PM] Viren: 🏄‍♂️🏄‍♂️us\n",
      "[18/02/23, 10:27:50 PM] Viren: Concert ke baad aayegi???\n",
      "[18/02/23, 10:35:58 PM] Adamya: Hnn\n",
      "[18/02/23, 10:40:07 PM] Viren: Okk call kar dio\n",
      "[19/02/23, 12:32:42 AM] Adamya: Sone lgna agr to msg kr dena\n",
      "[19/02/23, 12:57:36 AM] Viren: Haaaa\n",
      "[19/02/23, 2:22:12 AM] Viren: Kidhar haii??\n",
      "[19/02/23, 3:47:24 AM] Viren: Aa rahii kyaa ??\n",
      "Mai room jaa rahaa\n",
      "[19/02/23, 3:49:49 AM] Adamya: Hn bss ek min\n",
      "[19/02/23, 2:00:38 PM] Viren: Campus ke bahar ho kyaaa? Abhii\n",
      "[19/02/23, 10:43:44 PM] Viren: Adamya kidhar haiii?\n",
      "‎[19/02/23, 10:47:07 PM] Adamya: ‎video omitted\n",
      "[19/02/23, 10:47:08 PM] Adamya: Kidhr h tu?\n",
      "[19/02/23, 10:47:20 PM] Adamya: Football ground???\n",
      "[19/02/23, 10:47:52 PM] Viren: Haaa\n",
      "[19/02/23, 10:48:22 PM] Viren: What are u doing 🏄‍♂️🏄‍♂️\n",
      "[19/02/23, 10:48:59 PM] Adamya: 😂Pdh rhi\n",
      "[19/02/23, 10:49:02 PM] Adamya: Presentation h kl\n",
      "[19/02/23, 10:49:46 PM] Viren: Acchaa all the bestttttt\n",
      "[19/02/23, 10:50:49 PM] Viren: Aayegi dj mai??\n",
      "[19/02/23, 10:52:35 PM] Adamya: Nhi aaungi aaj\n",
      "[19/02/23, 10:53:13 PM] Viren: Ohkkkk\n",
      "[20/02/23, 6:32:50 PM] Adamya: Kha h???\n",
      "[20/02/23, 6:33:16 PM] Viren: Room\n",
      "[20/02/23, 6:35:28 PM] Adamya: Busy h kya\n",
      "[20/02/23, 6:36:01 PM] Viren: Abhii nahii \n",
      "Kya huaaa??\n",
      "[20/02/23, 6:36:22 PM] Adamya: Kuch nhi\n",
      "[20/02/23, 6:36:26 PM] Adamya: Aa rhi fir\n",
      "[20/02/23, 6:36:33 PM] Viren: Okkkkk\n",
      "‎[20/02/23, 9:30:06 PM] Adamya: ‎Contact card omitted\n",
      "[20/02/23, 11:32:21 PM] Adamya: Tmri floor ki kisi ne kr di h complaint isliye guard ghum rha h💁🏻‍♀️\n",
      "[20/02/23, 11:32:51 PM] Viren: Kon bola??\n",
      "[20/02/23, 11:33:35 PM] Viren: Usually 11 bje ke baad aata rehta guard\n",
      "[20/02/23, 11:34:11 PM] Adamya: Jiski complaint hui h wo🥲\n",
      "[20/02/23, 11:34:24 PM] Viren: & dustbin mai 6-7 daaru ke bottles mili toh bol raha thaa aise khule mai nahi fekte\n",
      "[20/02/23, 11:34:32 PM] Viren: Kisiki hui??\n",
      "[20/02/23, 11:34:46 PM] Adamya: Wtf😂😂😂\n",
      "[20/02/23, 11:34:55 PM] Adamya: Ye jyada hyo chill nhi h\n",
      "[20/02/23, 11:35:45 PM] Viren: Haa\n",
      "[20/02/23, 11:35:58 PM] Adamya: Aakr btati💁🏻‍♀️\n",
      "[20/02/23, 11:36:08 PM] Viren: Ohkkkk\n",
      "[20/02/23, 11:37:33 PM] Adamya: Sunnn\n",
      "[20/02/23, 11:37:42 PM] Adamya: Movie b suggest hi kr de\n",
      "[20/02/23, 11:37:49 PM] Viren: 😒😒\n",
      "[20/02/23, 11:38:08 PM] Adamya: 🙏🏻plz\n",
      "[20/02/23, 11:38:16 PM] Viren: Kis type ki??\n",
      "[20/02/23, 11:38:24 PM] Adamya: Kaisi b chlegi yrr\n",
      "[20/02/23, 11:38:30 PM] Adamya: Bss romantic n ho\n",
      "[20/02/23, 11:38:33 PM] Adamya: Horror ya comedy\n",
      "[20/02/23, 11:38:38 PM] Viren: 🗿\n",
      "[20/02/23, 11:38:42 PM] Viren: Haa ek min\n",
      "[20/02/23, 11:40:11 PM] Adamya: Horror nhi\n",
      "[20/02/23, 11:40:15 PM] Adamya: Suspense\n",
      "[20/02/23, 11:40:20 PM] Viren: 1 Escape Rooom\n",
      "2 The Swimmer\n",
      "[20/02/23, 11:40:54 PM] Viren: 3 The Martian\n",
      "[20/02/23, 11:41:07 PM] Adamya: Thkkk\n",
      "[20/02/23, 11:41:09 PM] Viren: 4 127 hours\n",
      "[20/02/23, 11:41:35 PM] Viren: 5 Fight Club\n",
      "[20/02/23, 11:41:49 PM] Viren: 6 The Shutter Island\n",
      "[20/02/23, 11:41:59 PM] Viren: Last do suspense waali\n",
      "[20/02/23, 11:42:06 PM] Viren: 1st bhi\n",
      "[20/02/23, 11:42:16 PM] Adamya: 1st it is\n",
      "[20/02/23, 11:42:29 PM] Viren: Hao\n",
      "[21/02/23, 1:43:06 AM] Adamya: Sun n, room unlock krk sona\n",
      "[21/02/23, 1:52:55 AM] Viren: Okk \n",
      "Kab aa rahi??\n",
      "[21/02/23, 3:43:05 AM] Adamya: Abhii\n",
      "[21/02/23, 11:33:16 PM] Adamya: Kidhrrr h??\n",
      "[21/02/23, 11:38:34 PM] Viren: Room\n",
      "[21/02/23, 11:39:44 PM] Adamya: Busy h ya aa jau??\n",
      "[21/02/23, 11:40:05 PM] Viren: Aaajaaa\n",
      "[21/02/23, 11:58:26 PM] Viren: Aa rahii haii???\n",
      "[22/02/23, 12:07:26 AM] Adamya: Yeppp\n",
      "[22/02/23, 12:07:30 AM] Adamya: 10 min me\n",
      "[22/02/23, 12:30:50 AM] Adamya: Guard baitha h\n",
      "[22/02/23, 12:30:58 AM] Adamya: Extra alert hokr💁🏻‍♀️\n",
      "[22/02/23, 12:31:13 AM] Adamya: Ja rhi m, kl aati hu\n",
      "[22/02/23, 12:31:42 AM] Viren: Ruk aata maii\n",
      "[22/02/23, 12:32:15 AM] Adamya: Paani lekr aana\n",
      "[22/02/23, 12:32:38 AM] Viren: Neech hai naa water cooler 🗿\n",
      "[22/02/23, 12:33:06 AM] Adamya: Abe\n",
      "[22/02/23, 12:33:20 AM] Adamya: Bottle to nhi h n\n",
      "[22/02/23, 12:34:04 AM] Adamya: Le aa paani nakhre mt kr\n",
      "[24/02/23, 8:31:31 PM] Adamya: Kb wapas aaye tm log??\n",
      "[24/02/23, 8:31:50 PM] Viren: Kaha se??\n",
      "[24/02/23, 8:36:49 PM] Viren: Kidhar haii??\n",
      "[24/02/23, 8:51:47 PM] Adamya: Gym!\n",
      "[24/02/23, 8:51:49 PM] Adamya: Room\n",
      "[24/02/23, 8:52:09 PM] Adamya: Kitne din hogye tje gym join kiye?\n",
      "[24/02/23, 8:52:11 PM] Viren: 8:15\n",
      "[24/02/23, 8:52:16 PM] Viren: 4-5\n",
      "[24/02/23, 8:52:30 PM] Viren: Lab haii??\n",
      "[24/02/23, 8:52:58 PM] Adamya: Abe yrrr, 2 ghante workout krte ho kya\n",
      "[24/02/23, 8:53:06 PM] Adamya: Aaj nhi h\n",
      "[24/02/23, 8:53:09 PM] Adamya: Noicc\n",
      "[24/02/23, 8:53:20 PM] Viren: 😎😎😎\n",
      "[24/02/23, 8:53:32 PM] Viren: Noob hoon time lagtaa\n",
      "[24/02/23, 8:53:52 PM] Viren: Farzi dekhnaa haii??\n",
      "[24/02/23, 8:53:57 PM] Adamya: Meeting h lekin kl to pdhna h\n",
      "[24/02/23, 8:54:01 PM] Adamya: Kl\n",
      "[24/02/23, 8:54:21 PM] Adamya: Kidhr h tu??\n",
      "[24/02/23, 8:54:26 PM] Viren: Messa\n",
      "[24/02/23, 8:54:32 PM] Viren: Achaaa\n",
      "[24/02/23, 8:56:40 PM] Viren: Morning mai bhii zaati haii tu?!\n",
      "[24/02/23, 8:56:11 PM] Adamya: Thk h, aaj dekh kr khtm mt kr dena🥲\n",
      "[24/02/23, 8:58:52 PM] Viren: Haa theek kal dekhte\n",
      "[24/02/23, 9:03:13 PM] Adamya: Nhi,aaj hi to gyi hu bss\n",
      "Mrng ka try krugi kl se\n",
      "[24/02/23, 9:03:30 PM] Viren: Acchaaa\n",
      "[25/02/23, 10:33:44 PM] Viren: Kidhar haii??\n",
      "[25/02/23, 10:35:58 PM] Adamya: Room\n",
      "[25/02/23, 10:36:01 PM] Adamya: Tu kha h??\n",
      "[25/02/23, 10:36:22 PM] Viren: Moon dekhna haii??\n",
      "‎[25/02/23, 10:36:33 PM] Viren: ‎image omitted\n",
      "[25/02/23, 10:36:44 PM] Viren: Telescope se??🌚\n",
      "‎[25/02/23, 10:37:28 PM] Viren: ‎image omitted\n",
      "[25/02/23, 10:40:41 PM] Adamya: Hnnn\n",
      "[25/02/23, 10:40:51 PM] Adamya: Bt ho kidhr\n",
      "[25/02/23, 10:41:18 PM] Viren: C 7th floor aajaa\n",
      "[25/02/23, 10:41:25 PM] Adamya: Okki\n",
      "[25/02/23, 10:41:32 PM] Viren: Aa rahi??\n",
      "[25/02/23, 10:41:35 PM] Adamya: Hostel n\n",
      "[25/02/23, 10:41:43 PM] Viren: 😒😒\n",
      "[25/02/23, 10:41:48 PM] Viren: Acad\n",
      "[25/02/23, 10:41:54 PM] Adamya: Srsly\n",
      "[25/02/23, 10:41:59 PM] Viren: Haoo\n",
      "[25/02/23, 10:42:05 PM] Adamya: Aa rhii\n",
      "[25/02/23, 10:42:10 PM] Adamya: 15 min\n",
      "[25/02/23, 10:42:15 PM] Viren: Cool\n",
      "‎[27/02/23, 12:30:15 PM] Viren: ADAMYA2 (1 of 1).jpg ‎document omitted\n",
      "[27/02/23, 1:18:27 PM] Adamya: Dhanyawad\n",
      "[02/03/23, 9:58:21 PM] Adamya: Oye\n",
      "[02/03/23, 9:58:24 PM] Adamya: Kidhr h\n",
      "[02/03/23, 9:58:44 PM] Viren: Acad\n",
      "[02/03/23, 9:59:02 PM] Viren: Kya huaa??\n",
      "[02/03/23, 10:03:19 PM] Adamya: Aise hi puch rhi\n",
      "[02/03/23, 10:03:27 PM] Adamya: Pdh rha kya\n",
      "[02/03/23, 10:03:56 PM] Viren: Naa presentation thaa wapas aa rahaa\n",
      "[02/03/23, 10:04:08 PM] Viren: Tu kidhar??\n",
      "[02/03/23, 10:04:24 PM] Adamya: Is smy!\n",
      "[02/03/23, 10:04:27 PM] Adamya: Lab\n",
      "[02/03/23, 10:05:02 PM] Viren: Haa project kaa haii ek abhi iss time bulaaya thaa\n",
      "[02/03/23, 10:05:39 PM] Viren: Kab tak haii??\n",
      "[02/03/23, 10:06:18 PM] Adamya: Hao\n",
      "[02/03/23, 10:06:56 PM] Adamya: Presentation bna rhi, 1 bj jayega\n",
      "[02/03/23, 10:08:07 PM] Viren: Acchaa mai idhar hii hoon jana tab call kar denaa\n",
      "\n",
      "Ppt ka content improve karne ko bola\n",
      "[02/03/23, 10:10:31 PM] Adamya: Acha hi h, krti hu call...!\n",
      "[03/03/23, 10:18:20 PM] Viren: Oi kidhar haiii??\n",
      "[03/03/23, 10:41:20 PM] Adamya: Yrr lab me hu\n",
      "[03/03/23, 10:41:22 PM] Adamya: Kaam h thoda\n",
      "[03/03/23, 10:41:31 PM] Adamya: Kl dekhte h n?\n",
      "[03/03/23, 10:47:18 PM] Viren: Haoo theek\n",
      "[03/03/23, 10:48:55 PM] Viren: Kab tak rahegaa??\n",
      "[03/03/23, 11:13:19 PM] Adamya: Pta nhi.....call krt hu jb wapas aaungi\n",
      "[04/03/23, 10:01:15 PM] Adamya: Jb room me rhna to msg kr dena\n",
      "[04/03/23, 10:03:53 PM] Viren: Haoo\n",
      "Kidhar haii??\n",
      "[04/03/23, 10:08:13 PM] Adamya: Room me\n",
      "[04/03/23, 10:08:18 PM] Adamya: Abhi aayi bahar se\n",
      "[04/03/23, 10:13:28 PM] Viren: Acchaa 5 min mai aataa \n",
      "Msg kartaa hoon\n",
      "[04/03/23, 10:39:42 PM] Viren: Kithhe haii\n",
      "Aa rahii??\n",
      "[04/03/23, 10:57:58 PM] Adamya: Hn aa rhi\n",
      "[04/03/23, 10:58:01 PM] Adamya: 15 min me\n",
      "[04/03/23, 11:06:50 PM] Viren: Haoo\n",
      "[05/03/23, 6:20:32 PM] Adamya: Shilparamam\n",
      "088866 52009\n",
      "https://maps.app.goo.gl/L4S8K3eQuyxgnL8y8\n",
      "[05/03/23, 6:26:33 PM] Adamya: Kitna time lagega tje aane me?\n",
      "[05/03/23, 6:27:03 PM] Viren: 20 min\n",
      "[05/03/23, 6:27:23 PM] Viren: Kab tak rahegi udhar??\n",
      "[05/03/23, 6:27:33 PM] Adamya: 8 bje tk hi\n",
      "[05/03/23, 6:27:40 PM] Adamya: Hogya tera kaam?\n",
      "[05/03/23, 6:27:44 PM] Viren: Haaa\n",
      "[05/03/23, 6:27:54 PM] Adamya: Akele gya tha ya kisi k saath h?\n",
      "[05/03/23, 6:28:02 PM] Viren: Rushikesh haii\n",
      "[05/03/23, 6:28:18 PM] Adamya: Bdhiya\n",
      "[05/03/23, 6:28:27 PM] Viren: Aata hoon\n",
      "[06/03/23, 10:40:28 PM] Viren: Oi\n",
      "Kidhar haii???\n",
      "[06/03/23, 10:44:37 PM] Adamya: Lab\n",
      "[06/03/23, 10:44:39 PM] Adamya: Tu room??\n",
      "[06/03/23, 10:44:51 PM] Viren: Acad A\n",
      "[06/03/23, 10:45:27 PM] Viren: Kabhi tak haii??\n",
      "[06/03/23, 10:46:30 PM] Adamya: Are kyu?\n",
      "[06/03/23, 10:46:36 PM] Adamya: Time lgega\n",
      "[06/03/23, 10:46:39 PM] Adamya: Tu kb tk h??\n",
      "[06/03/23, 10:47:04 PM] Viren: Project poora karnaa thaa\n",
      "[06/03/23, 10:47:27 PM] Viren: 1  -2 bje takk\n",
      "[06/03/23, 10:47:50 PM] Adamya: Ohhh\n",
      "[06/03/23, 10:48:07 PM] Adamya: Thk h m call krti jate tym\n",
      "[06/03/23, 10:48:15 PM] Viren: Haoooo\n",
      "[07/03/23, 1:47:38 AM] Adamya: Yrr mje jyada late ho jayega, tu chle jana agr kaam ho jaye tera, aur text kr dena jb jana\n",
      "[07/03/23, 1:52:58 AM] Viren: Okkayyy :)\n",
      "[07/03/23, 2:26:28 AM] Adamya: Kidhr h?\n",
      "[07/03/23, 2:27:01 AM] Viren: CLH1\n",
      "[07/03/23, 2:27:22 AM] Adamya: A me tha tu to\n",
      "[07/03/23, 2:27:42 AM] Adamya: Dheere dheere migrate kya kr rha\n",
      "[07/03/23, 2:28:04 AM] Viren: Discussion ke time thaa 🗿\n",
      "[07/03/23, 2:28:35 AM] Viren: 😅😅 abhii project karna thaa toh idhar peace haiiiii\n",
      "[07/03/23, 2:28:42 AM] Viren: Lan ho gya tera??\n",
      "[07/03/23, 2:28:58 AM] Adamya: Hao\n",
      "[07/03/23, 2:29:01 AM] Adamya: Nhi\n",
      "[07/03/23, 2:29:08 AM] Adamya: Vending se kuch kharidne aayi thi\n",
      "[07/03/23, 2:29:32 AM] Adamya: Tje chahiye kuch??\n",
      "[07/03/23, 2:29:34 AM] Adamya: Aa rhi udhr hi m thodi der\n",
      "[07/03/23, 2:29:50 AM] Viren: Udhar hai vendi 🙀🍃\n",
      "[07/03/23, 2:30:01 AM] Viren: Cold drink\n",
      "[07/03/23, 2:30:02 AM] Adamya: 😒\n",
      "[07/03/23, 2:30:07 AM] Adamya: A block aayi thi\n",
      "[07/03/23, 2:30:16 AM] Adamya: Coke?\n",
      "[07/03/23, 2:30:20 AM] Viren: Achaaa haa🗿\n",
      "[07/03/23, 2:30:27 AM] Viren: Haoo\n",
      "[07/03/23, 2:33:53 AM] Adamya: Bahar aa n\n",
      "[07/03/23, 2:33:58 AM] Adamya: Acad lawns trf\n",
      "[07/03/23, 2:34:28 AM] Viren: CLH1 aajaa \n",
      "Mast jagah haii really\n",
      "[07/03/23, 2:34:35 AM] Adamya: Hao\n",
      "[07/03/23, 9:22:45 PM] Adamya: Kha h?\n",
      "[07/03/23, 9:22:48 PM] Adamya: Hyd gya kya?\n",
      "[07/03/23, 9:23:21 PM] Viren: Room\n",
      "[07/03/23, 9:23:28 PM] Viren: Naaa 🥲\n",
      "[07/03/23, 9:23:46 PM] Viren: Tu kidhar??\n",
      "[07/03/23, 9:35:23 PM] Adamya: Room\n",
      "[07/03/23, 9:35:27 PM] Adamya: Shift kr rhi hostel\n",
      "[07/03/23, 9:35:44 PM] Adamya: Shift krk aati m\n",
      "[07/03/23, 9:46:26 PM] Viren: Haoo\n",
      "[07/03/23, 9:46:44 PM] Viren: Room shift karna hotaa hostel nahi 🗿\n",
      "[07/03/23, 10:00:57 PM] Adamya: 😒hn wohi\n",
      "[07/03/23, 11:00:15 PM] Viren: Help chaaiye🗿??\n",
      "[07/03/23, 11:33:18 PM] Adamya: Nhi , ho gya shift\n",
      "[07/03/23, 11:35:16 PM] Adamya: Canteen chl rha kya?\n",
      "[07/03/23, 11:35:32 PM] Viren: Haa aataa \n",
      "Kidhar haii??\n",
      "[07/03/23, 11:36:07 PM] Adamya: A hostel\n",
      "[07/03/23, 11:36:23 PM] Viren: Kautilya ke neeche aa jaa\n",
      "[07/03/23, 11:40:59 PM] Adamya: Canteen aa ja n seedhe\n",
      "[07/03/23, 11:41:35 PM] Viren: Haoo\n",
      "Udhar hi hai??\n",
      "[08/03/23, 3:32:14 AM] Adamya: Nhi\n",
      "[09/03/23, 6:16:59 PM] Adamya: Suno 7 bje tk sangareddy jaugi m chashma lene, tmko b chlna ho to text kr dena\n",
      "[09/03/23, 6:23:42 PM] Viren: 7:30 tak chalte naa\n",
      "[09/03/23, 6:40:06 PM] Adamya: Hn ok\n",
      "[09/03/23, 7:58:00 PM] Viren: Chal rahi??\n",
      "[09/03/23, 8:06:06 PM] Adamya: Hnn\n",
      "[09/03/23, 8:06:29 PM] Adamya: Bhookh lgi h, Khana kha kr chlte n\n",
      "[09/03/23, 8:06:32 PM] Adamya: Kidhr h tu??\n",
      "[09/03/23, 8:06:52 PM] Viren: Zym se aaya abhii\n",
      "[09/03/23, 8:07:10 PM] Viren: Udhar khaa lenaa kuch 🗿\n",
      "[09/03/23, 8:07:19 PM] Viren: Room\n",
      "[09/03/23, 8:10:14 PM] Adamya: Hn chl\n",
      "[09/03/23, 8:11:02 PM] Viren: Kautilya ke neeche aa jaa\n",
      "[09/03/23, 8:11:53 PM] Adamya: Nhi\n",
      "[09/03/23, 8:11:59 PM] Adamya: Tu hostel circle aaja n\n",
      "[09/03/23, 8:12:02 PM] Adamya: Udhr hi hu m\n",
      "[09/03/23, 8:12:13 PM] Adamya: 3 min h tere paas\n",
      "[09/03/23, 8:12:23 PM] Viren: 5 min mai aata\n",
      "[09/03/23, 8:12:25 PM] Viren: 🗿\n",
      "[09/03/23, 8:12:40 PM] Adamya: Jldi aa kr call kr\n",
      "[09/03/23, 8:12:48 PM] Adamya: Late mt krna\n",
      "[09/03/23, 8:19:15 PM] Viren: Haa\n",
      "[10/03/23, 10:21:36 PM] Adamya: Kha h?\n",
      "[10/03/23, 10:22:37 PM] Viren: Acad\n",
      "[10/03/23, 10:22:42 PM] Viren: Tu kidhar.  ??\n",
      "[10/03/23, 10:30:40 PM] Adamya: Lab\n",
      "[10/03/23, 10:30:45 PM] Adamya: C LH2?\n",
      "[10/03/23, 10:30:54 PM] Viren: Haoo\n",
      "[10/03/23, 10:31:00 PM] Viren: Kabhi tak haii??\n",
      "[10/03/23, 10:31:10 PM] Adamya: 12\n",
      "[10/03/23, 10:31:15 PM] Adamya: Aati fir m C block\n",
      "[10/03/23, 10:31:31 PM] Viren: Haoo theek :)\n",
      "[11/03/23, 8:47:15 PM] Adamya: Kidhr h\n",
      "[11/03/23, 8:47:27 PM] Viren: Room\n",
      "[11/03/23, 8:48:17 PM] Adamya: Acad aayega aaj\n",
      "[11/03/23, 8:48:18 PM] Adamya: ?\n",
      "[11/03/23, 8:48:27 PM] Viren: Haaa\n",
      "[11/03/23, 8:48:30 PM] Viren: Tu kidhar\n",
      "[11/03/23, 8:48:36 PM] Adamya: Room ja rhi\n",
      "[11/03/23, 8:49:08 PM] Viren: Lab ho gyaa\n",
      "[11/03/23, 8:49:14 PM] Adamya: Hn\n",
      "[11/03/23, 8:49:21 PM] Viren: Free haii??\n",
      "[11/03/23, 8:49:25 PM] Adamya: Jana tb text karna\n",
      "[11/03/23, 8:49:37 PM] Adamya: Hn Dinner baad\n",
      "[11/03/23, 8:49:42 PM] Viren: Tu bhi chalegii??\n",
      "[11/03/23, 8:49:47 PM] Adamya: Nhi😂\n",
      "[11/03/23, 8:50:04 PM] Viren: Theek text kartaa maiii\n",
      "[11/03/23, 8:50:20 PM] Viren: Kahi chalnaa hai kyaa??\n",
      "[11/03/23, 8:50:36 PM] Adamya: Kidhrr?\n",
      "[11/03/23, 8:50:37 PM] Adamya: Chl\n",
      "[11/03/23, 8:50:44 PM] Adamya: Project tera?\n",
      "[11/03/23, 8:50:53 PM] Viren: Kahi bhii\n",
      "[11/03/23, 8:51:01 PM] Viren: Ho gya haii\n",
      "[11/03/23, 8:51:10 PM] Adamya: Ayeeee noiccc\n",
      "[11/03/23, 8:51:12 PM] Adamya: Chl fir\n",
      "[11/03/23, 8:51:28 PM] Viren: Theek\n",
      "[11/03/23, 8:51:46 PM] Viren: Text karna free hoke\n",
      "[11/03/23, 8:51:56 PM] Adamya: Jgh decide krna, kuch aur nhi Mila to dlf chlte\n",
      "[11/03/23, 8:52:05 PM] Viren: Theek\n",
      "[11/03/23, 9:35:12 PM] Viren: Ho gya dinner???\n",
      "[11/03/23, 9:50:11 PM] Adamya: Hnn\n",
      "[11/03/23, 9:50:15 PM] Adamya: Nhakr call krti m\n",
      "[11/03/23, 9:58:11 PM] Viren: ‎You deleted this message.\n",
      "[11/03/23, 9:58:21 PM] Viren: Haoo\n",
      "[11/03/23, 10:55:17 PM] Adamya: Hello useless\n",
      "[11/03/23, 10:55:20 PM] Adamya: Where r u🌚\n",
      "[11/03/23, 10:57:19 PM] Viren: Room\n",
      "[11/03/23, 10:57:23 PM] Viren: Hii useful\n",
      "[11/03/23, 10:57:43 PM] Viren: Tu kithee??\n",
      "[11/03/23, 10:58:46 PM] Adamya: Tere room\n",
      "[11/03/23, 10:59:02 PM] Viren: 🗿🗿\n",
      "[11/03/23, 10:59:09 PM] Adamya: Aa rhi hu\n",
      "[11/03/23, 10:59:17 PM] Viren: Theek aa jaaa\n",
      "[12/03/23, 3:02:46 PM] Adamya: Gya?\n",
      "[12/03/23, 3:04:21 PM] Viren: Haa abhi main gate\n",
      "[12/03/23, 3:04:29 PM] Viren: Chalegi??\n",
      "[12/03/23, 3:07:00 PM] Adamya: Nhi tu ja\n",
      "[12/03/23, 3:07:12 PM] Adamya: Wapas aakr text Krna\n",
      "[12/03/23, 3:07:18 PM] Viren: Haoooo\n",
      "[12/03/23, 5:35:42 PM] Adamya: Kya hua?\n",
      "Call Kiya tha?\n",
      "[12/03/23, 6:29:25 PM] Viren: Haa specs waale ka phone aaya thaa\n",
      "[12/03/23, 7:08:18 PM] Adamya: Fir?\n",
      "Rhega wo aaj?\n",
      "[12/03/23, 7:12:21 PM] Viren: Nii raat tak nii rahegaa\n",
      "[12/03/23, 7:12:36 PM] Viren: Kal chale zanaaa\n",
      "‎[12/03/23, 7:30:08 PM] Viren: ‎image omitted\n",
      "[12/03/23, 8:13:17 PM] Adamya: Nhii\n",
      "[12/03/23, 8:13:34 PM] Adamya: Abe , thk h\n",
      "[12/03/23, 8:45:33 PM] Adamya: Kidhr ghum rha abhi?\n",
      "‎[12/03/23, 8:46:03 PM] Viren: ‎image omitted\n",
      "[12/03/23, 8:46:17 PM] Viren: Bahut crowded haii\n",
      "[12/03/23, 8:46:42 PM] Adamya: Hnn hoga hi\n",
      "[12/03/23, 8:47:32 PM] Viren: Jhaatu jagah haii\n",
      "[12/03/23, 8:54:10 PM] Adamya: Market k liye jate log udhr\n",
      "[12/03/23, 8:54:26 PM] Adamya: Nonveg Street food suna h famous h\n",
      "[12/03/23, 9:08:43 PM] Viren: Haa bass yahii haiii\n",
      "[12/03/23, 9:08:52 PM] Viren: Idharich haii??\n",
      "[12/03/23, 9:13:03 PM] Viren: Kuch chaaiye kyaa???\n",
      "[12/03/23, 9:13:26 PM] Adamya: Hnn , jha Street food dikhe kha liyo\n",
      "[12/03/23, 9:13:40 PM] Adamya: Nhi , tu aa kb tk rha?\n",
      "[12/03/23, 9:13:52 PM] Adamya: 12 bjega tereko🌚\n",
      "[12/03/23, 9:20:08 PM] Viren: Bas nikalne waale haiiii\n",
      "[12/03/23, 9:20:21 PM] Viren: Pretty expensive 🌚🌚\n",
      "[12/03/23, 9:26:25 PM] Adamya: Thk h dekhte h\n",
      "[13/03/23, 1:02:30 AM] Viren: Kidhar haii???\n",
      "[13/03/23, 8:16:53 PM] Adamya: Where?\n",
      "[13/03/23, 8:19:27 PM] Viren: Room\n",
      "[13/03/23, 8:19:42 PM] Viren: ++??\n",
      "[13/03/23, 8:24:26 PM] Adamya: Chl rha sangareddy?\n",
      "[13/03/23, 8:24:38 PM] Viren: Haoooo\n",
      "[13/03/23, 8:24:50 PM] Adamya: Busy h to let it be\n",
      "[13/03/23, 8:25:04 PM] Viren: Nahii exam thaa 7:30 tak\n",
      "[13/03/23, 8:25:19 PM] Viren: toh free\n",
      "[13/03/23, 8:32:45 PM] Adamya: Okkkkk then\n",
      "[13/03/23, 8:32:52 PM] Adamya: Aana n hostel circle\n",
      "[13/03/23, 8:33:02 PM] Viren: Abhi??? Haii udhar\n",
      "[13/03/23, 8:33:24 PM] Adamya: Hn\n",
      "[13/03/23, 8:33:37 PM] Viren: Haoo 7 min ruknaa\n",
      "[13/03/23, 8:40:07 PM] Adamya: Hogye\n",
      "[13/03/23, 8:41:04 PM] Viren: Haa aa gyaa\n",
      "[14/03/23, 10:36:18 PM] Viren: Oi kidhar????\n",
      "[14/03/23, 10:43:12 PM] Adamya: Room\n",
      "[14/03/23, 10:43:15 PM] Adamya: Tu kidhr?\n",
      "[14/03/23, 10:43:32 PM] Viren: Acad\n",
      "[14/03/23, 10:43:39 PM] Viren: Lab nahii kya??\n",
      "[14/03/23, 10:45:09 PM] Adamya: Nhi\n",
      "[14/03/23, 10:45:15 PM] Adamya: Presentation ka kaam Krna h\n",
      "[14/03/23, 10:45:35 PM] Adamya: Wapas aana tb call krna\n",
      "[14/03/23, 10:45:55 PM] Viren: Haooo theek\n",
      "Sonaa nahii 🗿\n",
      "[14/03/23, 10:46:51 PM] Viren: Idhar aajaaa\n",
      "[14/03/23, 10:47:46 PM] Adamya: Thodi der me aati\n",
      "[14/03/23, 10:47:55 PM] Adamya: Meet bhi h ek\n",
      "[14/03/23, 10:47:59 PM] Adamya: Usk baad\n",
      "[14/03/23, 10:48:09 PM] Viren: Offline??\n",
      "[14/03/23, 10:48:24 PM] Viren: Hao\n",
      "[14/03/23, 10:54:12 PM] Adamya: Hn\n",
      "‎[15/03/23, 1:09:51 AM] Viren: ‎image omitted\n",
      "‎[15/03/23, 1:09:51 AM] Viren: ‎image omitted\n",
      "‎[15/03/23, 1:09:52 AM] Viren: ‎image omitted\n",
      "‎[15/03/23, 1:09:52 AM] Viren: ‎image omitted\n",
      "‎[15/03/23, 1:09:53 AM] Viren: ‎image omitted\n",
      "‎[15/03/23, 1:09:53 AM] Viren: ‎video omitted\n",
      "‎[15/03/23, 1:09:54 AM] Viren: ‎image omitted\n",
      "‎[15/03/23, 1:09:54 AM] Viren: ‎image omitted\n",
      "‎[15/03/23, 1:09:55 AM] Viren: ‎image omitted\n",
      "‎[15/03/23, 1:09:55 AM] Viren: ‎image omitted\n",
      "‎[15/03/23, 1:09:56 AM] Viren: ‎image omitted\n",
      "‎[15/03/23, 1:09:56 AM] Viren: ‎image omitted\n",
      "‎[15/03/23, 1:09:57 AM] Viren: ‎image omitted\n",
      "‎[15/03/23, 1:09:57 AM] Viren: ‎image omitted\n",
      "‎[15/03/23, 1:09:58 AM] Viren: ‎image omitted\n",
      "‎[15/03/23, 1:09:58 AM] Viren: ‎image omitted\n",
      "‎[15/03/23, 1:09:59 AM] Viren: ‎image omitted\n",
      "‎[15/03/23, 1:09:59 AM] Viren: ‎image omitted\n",
      "‎[15/03/23, 1:10:00 AM] Viren: ‎video omitted\n",
      "‎[15/03/23, 1:10:00 AM] Viren: ‎video omitted\n",
      "‎[15/03/23, 1:10:01 AM] Viren: ‎image omitted\n",
      "‎[15/03/23, 1:10:01 AM] Viren: ‎image omitted\n",
      "‎[15/03/23, 1:10:02 AM] Viren: ‎image omitted\n",
      "‎[15/03/23, 1:10:02 AM] Viren: ‎image omitted\n",
      "‎[15/03/23, 1:10:03 AM] Viren: ‎image omitted\n",
      "‎[15/03/23, 1:10:03 AM] Viren: ‎image omitted\n",
      "‎[15/03/23, 1:10:04 AM] Viren: ‎image omitted\n",
      "‎[15/03/23, 1:10:05 AM] Viren: ‎image omitted\n",
      "‎[15/03/23, 1:10:05 AM] Viren: ‎image omitted\n",
      "‎[15/03/23, 1:10:06 AM] Viren: ‎image omitted\n",
      "‎[15/03/23, 2:20:50 AM] Viren: ‎video omitted\n",
      "[15/03/23, 6:30:47 PM] Adamya: Useless\n",
      "[15/03/23, 6:30:50 PM] Adamya: Where r u\n",
      "[15/03/23, 6:44:58 PM] Viren: Patencheru abhi on the way to campus \n",
      "\n",
      "Cousins aayi thi toh boli aaja milne 🗿\n",
      "[15/03/23, 6:45:38 PM] Viren: Mko milna nii thaa but fir bhii I’m kind to ppl 😏\n",
      "[15/03/23, 6:45:53 PM] Viren: Tu kidhar??\n",
      "[15/03/23, 8:33:55 PM] Viren: Oi kitthe haii????\n",
      "[15/03/23, 8:43:52 PM] Adamya: Waah badhiya time kaat kr aaye ho\n",
      "[15/03/23, 8:44:16 PM] Adamya: Hn chl mother teresa\n",
      "[15/03/23, 8:44:28 PM] Adamya: M tje msg krk sogyi thi🥲\n",
      "[15/03/23, 8:47:29 PM] Viren: 🗿 sahii haiii\n",
      "[15/03/23, 8:47:47 PM] Viren: Nahiii😒😒😒\n",
      "[15/03/23, 8:48:35 PM] Viren: Dinner karne kab jaayegi??\n",
      "[15/03/23, 8:50:18 PM] Adamya: 9.30\n",
      "[15/03/23, 8:50:42 PM] Adamya: Tu kha liya?\n",
      "[15/03/23, 8:50:57 PM] Viren: Niii 9:30 pe zaaongaa\n",
      "[15/03/23, 8:51:02 PM] Viren: Tera UDH hai naa??\n",
      "[15/03/23, 8:51:08 PM] Adamya: Yass\n",
      "[15/03/23, 8:51:18 PM] Viren: Dinner ke baad call karnaa\n",
      "[15/03/23, 8:51:49 PM] Adamya: Thkkk ba\n",
      "[16/03/23, 7:01:28 PM] Viren: Gym aa rahii??\n",
      "[16/03/23, 7:10:42 PM] Adamya: Nhii\n",
      "[16/03/23, 7:10:48 PM] Adamya: Lab h\n",
      "[16/03/23, 7:10:50 PM] Adamya: 🥲\n",
      "[16/03/23, 8:16:52 PM] Viren: Haooo\n",
      "[16/03/23, 9:00:55 PM] Adamya: Text Krna khana kha kr\n",
      "[16/03/23, 9:06:42 PM] Viren: Haooo\n",
      "[16/03/23, 9:06:51 PM] Viren: Tune kar liyaa dinner??\n",
      "[16/03/23, 9:10:18 PM] Adamya: Mess me hu\n",
      "[16/03/23, 9:10:38 PM] Viren: Mai bhi aa rahaaa\n",
      "[17/03/23, 1:25:37 AM] Viren: Oi\n",
      "[17/03/23, 2:13:50 AM] Viren: So gyi??🗿\n",
      "[17/03/23, 6:07:20 AM] Adamya: Yrr hn🥲\n",
      "[17/03/23, 6:07:41 AM] Adamya: Good morning 🌞🌚\n",
      "[17/03/23, 8:30:58 AM] Viren: Good morning 🌚\n",
      "[17/03/23, 1:55:33 PM] Adamya: Suno n,\n",
      "Rushikesh se bolna 420 paradise wale mere number pe transfer kr de\n",
      "\n",
      "\n",
      "Aur tm splitwise me ho?\n",
      "[17/03/23, 2:02:35 PM] Viren: Haoooo \n",
      "\n",
      "\n",
      "\n",
      "Mko kitna send karnaa hai tujhe ???\n",
      "[17/03/23, 2:07:01 PM] Adamya: Calc nhi kiya\n",
      "[17/03/23, 2:07:26 PM] Viren: Tera yahi number haii google pay\n",
      "[17/03/23, 2:07:27 PM] Adamya: Download splitwise krk ek app h wo\n",
      "[17/03/23, 2:07:45 PM] Viren: 🗿🗿\n",
      "[17/03/23, 2:07:46 PM] Adamya: M tmra usi me add kr dugi\n",
      "[17/03/23, 2:08:04 PM] Adamya: 🌚\n",
      "[17/03/23, 2:08:10 PM] Viren: ??\n",
      "[17/03/23, 2:09:33 PM] Viren: Kidhar hai tu??\n",
      "[17/03/23, 2:09:50 PM] Adamya: Mess\n",
      "[17/03/23, 2:09:53 PM] Adamya: Yess\n",
      "[17/03/23, 2:10:11 PM] Viren: Kar diyaa rushikesh ne\n",
      "[17/03/23, 2:10:22 PM] Viren: Bahar aana call karna\n",
      "[17/03/23, 2:10:27 PM] Viren: Mai idhar hii haii\n",
      "[17/03/23, 2:12:11 PM] Adamya: Hao\n",
      "[17/03/23, 2:12:14 PM] Adamya: Aagye\n",
      "[17/03/23, 10:25:45 PM] Viren: Ho gya bath ??\n",
      "[17/03/23, 11:25:40 PM] Adamya: Nhi\n",
      "[17/03/23, 11:27:13 PM] Viren: Theek haii naha le acche se\n",
      "‎[18/03/23, 1:20:55 AM] Viren: ‎video omitted\n",
      "‎[18/03/23, 1:20:56 AM] Viren: ‎video omitted\n",
      "‎[18/03/23, 1:20:56 AM] Viren: ‎video omitted\n",
      "[18/03/23, 12:46:50 PM] Adamya: Sun\n",
      "[18/03/23, 12:47:03 PM] Adamya: Lunch k baad milna n\n",
      "[18/03/23, 1:02:50 PM] Viren: Haoo call kar dio\n",
      "[18/03/23, 5:02:08 PM] Adamya: Abhi aayi m lab se\n",
      "[18/03/23, 5:02:21 PM] Adamya: Let it be\n",
      "[18/03/23, 5:20:11 PM] Viren: Haooo\n",
      "[18/03/23, 6:03:25 PM] Viren: Oi kidhar haii??\n",
      "[18/03/23, 6:13:31 PM] Adamya: Room\n",
      "[18/03/23, 6:13:40 PM] Adamya: Chilling 😴\n",
      "[18/03/23, 6:13:48 PM] Viren: So rahii???\n",
      "[18/03/23, 6:13:49 PM] Adamya: Living the damn dream life\n",
      "[18/03/23, 6:14:02 PM] Viren: Aisa kya kar rahi??\n",
      "‎[18/03/23, 6:14:12 PM] Adamya: ‎video omitted\n",
      "[18/03/23, 6:14:22 PM] Adamya: Bss Netflix 😂\n",
      "[18/03/23, 6:14:28 PM] Viren: 🗿\n",
      "[18/03/23, 6:14:33 PM] Viren: Bahar aa\n",
      "[18/03/23, 6:15:08 PM] Adamya: Baarish ho rhi n\n",
      "[18/03/23, 6:15:18 PM] Adamya: Tu kyu medhak ki trh bahar bhatak rha\n",
      "[18/03/23, 6:15:21 PM] Adamya: Tu b room ja\n",
      "[18/03/23, 6:15:24 PM] Adamya: Chill kr\n",
      "[18/03/23, 6:15:32 PM] Viren: Room hi hoon\n",
      "[18/03/23, 6:15:42 PM] Viren: Haa nice weather\n",
      "[18/03/23, 6:16:02 PM] Adamya: Gym jayega n?\n",
      "[18/03/23, 6:16:09 PM] Viren: Naa rest haii\n",
      "[18/03/23, 6:16:15 PM] Viren: Tu ja rahii??\n",
      "[18/03/23, 6:16:38 PM] Adamya: Waaah\n",
      "[18/03/23, 6:16:50 PM] Adamya: Bc aaj kisi ko gym nhi jana😐\n",
      "[18/03/23, 6:16:52 PM] Adamya: Thk h then\n",
      "[18/03/23, 6:16:57 PM] Adamya: Mera b rest h aaj😂\n",
      "[18/03/23, 6:17:11 PM] Viren: Weekend 😏😏\n",
      "[18/03/23, 6:17:47 PM] Adamya: Whatever, prakhar se milne jaugi thodi der me, fir room aati hu\n",
      "[18/03/23, 6:18:16 PM] Viren: Acchaa room mai hi hai??\n",
      "[18/03/23, 6:18:45 PM] Adamya: Hn\n",
      "[18/03/23, 6:19:04 PM] Viren: Haoo theek\n",
      "‎[18/03/23, 9:17:27 PM] Viren: ‎image omitted\n",
      "‎[18/03/23, 9:17:27 PM] Viren: ‎image omitted\n",
      "‎[18/03/23, 9:17:27 PM] Viren: ‎video omitted\n",
      "‎[18/03/23, 9:17:27 PM] Viren: ‎video omitted\n",
      "‎[18/03/23, 9:17:27 PM] Viren: ‎video omitted\n",
      "‎[18/03/23, 9:17:27 PM] Viren: ‎video omitted\n",
      "‎[18/03/23, 9:17:27 PM] Viren: ‎video omitted\n",
      "‎[18/03/23, 9:17:27 PM] Viren: ‎video omitted\n",
      "‎[18/03/23, 9:17:27 PM] Viren: ‎video omitted\n",
      "‎[18/03/23, 9:17:27 PM] Viren: ‎video omitted\n",
      "‎[18/03/23, 9:17:27 PM] Viren: ‎video omitted\n",
      "‎[18/03/23, 9:17:27 PM] Viren: ‎video omitted\n",
      "‎[18/03/23, 9:17:27 PM] Viren: ‎video omitted\n",
      "‎[18/03/23, 9:17:27 PM] Viren: ‎video omitted\n",
      "‎[18/03/23, 9:17:27 PM] Viren: ‎video omitted\n",
      "‎[18/03/23, 9:17:27 PM] Viren: ‎video omitted\n",
      "[19/03/23, 2:57:07 PM] Adamya: Room me h?\n",
      "[19/03/23, 2:59:26 PM] Viren: Mess se aa rah\n",
      "[19/03/23, 2:59:32 PM] Viren: Tu kidhar??\n",
      "[19/03/23, 2:59:46 PM] Adamya: Mess se aayi abhi\n",
      "[19/03/23, 2:59:57 PM] Viren: Mess ke bahar haii??\n",
      "[19/03/23, 3:00:03 PM] Adamya: Room aagyi\n",
      "[19/03/23, 3:00:06 PM] Adamya: Bhaskara aa n\n",
      "[19/03/23, 3:00:20 PM] Viren: Haa rahaa 3 min mai neeche aa jaa\n",
      "[19/03/23, 3:00:35 PM] Adamya: 5 min me tu upar aaja\n",
      "[19/03/23, 3:00:51 PM] Viren: Abey🗿 upar nii guard hai teraa\n",
      "[19/03/23, 3:01:04 PM] Adamya: Thkk\n",
      "[19/03/23, 3:01:14 PM] Viren: Aa rahii neeche??\n",
      "[19/03/23, 3:04:19 PM] Adamya: Hn\n",
      "[20/03/23, 8:50:35 PM] Viren: Oi kidhar haiii???\n",
      "[20/03/23, 8:52:50 PM] Adamya: Lab\n",
      "[20/03/23, 8:53:25 PM] Viren: Dinner kab aayegi??\n",
      "[20/03/23, 8:53:28 PM] Adamya: Tu kha h?\n",
      "[20/03/23, 8:53:38 PM] Viren: Zym se aaya abhii\n",
      "[20/03/23, 8:53:41 PM] Viren: Room\n",
      "[20/03/23, 8:54:20 PM] Adamya: Abhi 10 min me\n",
      "[20/03/23, 8:54:35 PM] Adamya: Jb khane Jana to text kr dena\n",
      "[20/03/23, 8:54:57 PM] Viren: Hao\n",
      "[20/03/23, 9:17:19 PM] Adamya: Neeche aa n\n",
      "[20/03/23, 9:19:48 PM] Viren: Hao\n",
      "[20/03/23, 10:53:13 PM] Adamya: ‎Missed voice call\n",
      "[21/03/23, 2:01:02 AM] Viren: Kab tak aayegi \n",
      "Mai room jaa rahaa\n",
      "[21/03/23, 2:11:30 AM] Adamya: Htt\n",
      "[21/03/23, 2:19:44 AM] Viren: Bhakk\n",
      "[21/03/23, 8:33:43 PM] Adamya: Kidhr ??\n",
      "[21/03/23, 8:37:59 PM] Viren: Kautilya ke neeche\n",
      "[21/03/23, 8:38:05 PM] Viren: Zym se aayaa abhi\n",
      "[21/03/23, 8:38:11 PM] Viren: Tu kidhar???\n",
      "[21/03/23, 9:18:54 PM] Adamya: Room\n",
      "[21/03/23, 9:19:41 PM] Viren: Dinner kar liyaa\n",
      "[21/03/23, 9:19:49 PM] Viren: ?\n",
      "[21/03/23, 9:19:56 PM] Adamya: Hnnnn bhookh lgi thi bht tej\n",
      "[21/03/23, 9:20:00 PM] Adamya: Tu mess me h?\n",
      "[21/03/23, 9:20:33 PM] Viren: Jaa rahaa\n",
      "[21/03/23, 9:20:58 PM] Viren: Aake call kartaa\n",
      "[21/03/23, 9:23:04 PM] Adamya: Hao\n",
      "[21/03/23, 9:23:11 PM] Adamya: Jldi kha\n",
      "[21/03/23, 9:23:17 PM] Adamya: Lab jana h\n",
      "[21/03/23, 9:23:19 PM] Adamya: 🥲\n",
      "[21/03/23, 9:23:32 PM] Viren: Haa ruknaa\n",
      "[22/03/23, 2:08:34 AM] Viren: Oi mai jaa rahaa\n",
      "[22/03/23, 2:08:49 AM] Viren: Kabhi tak hai tera lab??\n",
      "[22/03/23, 2:27:29 AM] Viren: Call kr denaa Kautilya aana hoga toh\n",
      "[22/03/23, 3:21:42 AM] Adamya: Yrr prakhar log aagye the lab\n",
      "[22/03/23, 3:21:49 AM] Adamya: To m unk saath thi\n",
      "[22/03/23, 3:21:55 AM] Adamya: Kl aati hu\n",
      "[25/03/23, 2:06:40 PM] Adamya: Room me hona tb text kr dena\n",
      "[25/03/23, 2:07:05 PM] Viren: Room mai hi hoon\n",
      "[25/03/23, 2:34:42 PM] Adamya: 1hr me aati\n",
      "[25/03/23, 2:49:54 PM] Viren: Hao\n",
      "[26/03/23, 12:11:17 AM] Adamya: Call krooo\n",
      "[26/03/23, 1:13:33 PM] Viren: Room pe hi hai kyaa\n",
      "[26/03/23, 2:26:16 PM] Adamya: Hnnnn\n",
      "[26/03/23, 2:28:25 PM] Adamya: ‎Missed voice call\n",
      "[26/03/23, 6:15:23 PM] Adamya: ‎Missed voice call\n",
      "[26/03/23, 6:16:18 PM] Adamya: ‎Missed voice call\n",
      "‎[26/03/23, 9:02:27 PM] Viren: ‎image omitted\n",
      "‎[26/03/23, 9:02:28 PM] Viren: ‎image omitted\n",
      "‎[26/03/23, 9:02:28 PM] Viren: ‎image omitted\n",
      "‎[26/03/23, 9:02:29 PM] Viren: ‎image omitted\n",
      "‎[26/03/23, 9:02:30 PM] Viren: ‎image omitted\n",
      "‎[26/03/23, 9:02:30 PM] Viren: ‎video omitted\n",
      "‎[26/03/23, 9:02:31 PM] Viren: ‎image omitted\n",
      "‎[26/03/23, 9:02:31 PM] Viren: ‎image omitted\n",
      "‎[26/03/23, 9:02:32 PM] Viren: ‎image omitted\n",
      "‎[26/03/23, 9:02:32 PM] Viren: ‎video omitted\n",
      "‎[26/03/23, 9:02:33 PM] Viren: ‎image omitted\n",
      "‎[26/03/23, 9:02:33 PM] Viren: ‎image omitted\n",
      "‎[26/03/23, 9:02:34 PM] Viren: ‎image omitted\n",
      "‎[26/03/23, 9:02:34 PM] Viren: ‎image omitted\n",
      "‎[26/03/23, 9:02:35 PM] Viren: ‎image omitted\n",
      "‎[26/03/23, 9:02:35 PM] Viren: ‎image omitted\n",
      "‎[26/03/23, 9:02:36 PM] Viren: ‎image omitted\n",
      "‎[26/03/23, 9:02:36 PM] Viren: ‎video omitted\n",
      "‎[26/03/23, 9:02:37 PM] Viren: ‎image omitted\n",
      "‎[26/03/23, 9:02:37 PM] Viren: ‎image omitted\n",
      "‎[26/03/23, 9:02:38 PM] Viren: ‎image omitted\n",
      "‎[26/03/23, 9:02:38 PM] Viren: ‎image omitted\n",
      "‎[26/03/23, 9:02:39 PM] Viren: ‎image omitted\n",
      "‎[26/03/23, 9:02:39 PM] Viren: ‎image omitted\n",
      "‎[26/03/23, 9:02:40 PM] Viren: ‎image omitted\n",
      "‎[26/03/23, 9:02:40 PM] Viren: ‎image omitted\n",
      "‎[26/03/23, 9:02:41 PM] Viren: ‎image omitted\n",
      "‎[26/03/23, 9:02:41 PM] Viren: ‎image omitted\n",
      "‎[26/03/23, 9:02:42 PM] Viren: ‎image omitted\n",
      "‎[26/03/23, 9:02:42 PM] Viren: ‎image omitted\n",
      "[28/03/23, 12:21:20 AM] Viren: Oi kidhar hai??\n",
      "[28/03/23, 12:47:41 AM] Adamya: Room\n",
      "[28/03/23, 1:29:00 AM] Viren: Canteen chalegi???\n",
      "[28/03/23, 1:39:39 AM] Adamya: 15 min me?\n",
      "[28/03/23, 1:42:30 AM] Viren: Haoo\n",
      "[28/03/23, 1:56:52 AM] Adamya: Balance nhi h\n",
      "[28/03/23, 1:56:58 AM] Adamya: Aakr call krna\n",
      "[28/03/23, 12:25:49 PM] Adamya: Kb tk h classes teri?\n",
      "[28/03/23, 12:26:47 PM] Viren: 1 bje tak\n",
      "[28/03/23, 12:36:30 PM] Adamya: Okk room aaungi fir lunch k baad!\n",
      "[28/03/23, 1:03:58 PM] Viren: Haooo\n",
      "[28/03/23, 1:04:44 PM] Viren: Phir lab bhi haii 2:30 to 4\n",
      "[28/03/23, 1:04:53 PM] Viren: Kidhar hai tu??\n",
      "[28/03/23, 1:10:15 PM] Adamya: Bdhiya\n",
      "[28/03/23, 1:10:19 PM] Adamya: Mess\n",
      "[28/03/23, 1:10:50 PM] Viren: Thik aanaa phir lunch karke\n",
      "[28/03/23, 5:57:30 PM] Adamya: Chaii?\n",
      "[28/03/23, 6:00:32 PM] Viren: Haoo\n",
      "[28/03/23, 6:00:37 PM] Viren: Kidhar ho??\n",
      "[28/03/23, 6:13:05 PM] Adamya: Messs\n",
      "[28/03/23, 6:13:08 PM] Adamya: UDH\n",
      "[28/03/23, 6:13:32 PM] Viren: Aataa hoon\n",
      "[28/03/23, 6:14:01 PM] Adamya: Bhaag k aa\n",
      "[28/03/23, 6:15:06 PM] Viren: Chai rakh lenaa mere liye\n",
      "[28/03/23, 6:17:04 PM] Adamya: Mne apne liye nhi rkhi abhi tk🥲\n",
      "[28/03/23, 6:17:19 PM] Adamya: Dekh rhi ruk\n",
      "[28/03/23, 6:17:49 PM] Adamya: Khtm\n",
      "[28/03/23, 6:20:52 PM] Viren: 🗿\n",
      "[28/03/23, 8:59:26 PM] Adamya: Khaaanaaa???\n",
      "[28/03/23, 9:02:22 PM] Adamya: Dost\n",
      "[28/03/23, 9:02:36 PM] Viren: Mitra\n",
      "[28/03/23, 9:02:24 PM] Adamya: Bruhh\n",
      "[28/03/23, 9:02:26 PM] Adamya: Bruhhhhhh\n",
      "[28/03/23, 9:02:30 PM] Adamya: Khana 🥲\n",
      "[28/03/23, 9:02:49 PM] Viren: Ruk 10 min bass\n",
      "[28/03/23, 9:02:56 PM] Adamya: Bruhhhhhh\n",
      "[28/03/23, 9:02:59 PM] Adamya: Bruhhhhhh\n",
      "[28/03/23, 9:03:06 PM] Viren: 🗿 stopppp\n",
      "[28/03/23, 9:03:11 PM] Adamya: Thk\n",
      "[28/03/23, 9:26:29 PM] Adamya: Yrr😒\n",
      "[28/03/23, 9:26:39 PM] Adamya: Tu 30 pe hi aayega n\n",
      "[28/03/23, 9:26:56 PM] Viren: Bas 5 min\n",
      "[28/03/23, 9:33:09 PM] Adamya: Mess aarhi\n",
      "[28/03/23, 9:33:43 PM] Viren: B block ke neeche aaa\n",
      "[28/03/23, 9:33:57 PM] Adamya: Thk 😒\n",
      "[29/03/23, 12:53:13 AM] Adamya: Hostel office tk aana\n",
      "[29/03/23, 10:16:33 AM] Viren: Chali gya kya??\n",
      "[29/03/23, 10:31:45 AM] Adamya: Hn, kaafi phle hi\n",
      "[29/03/23, 6:40:54 PM] Adamya: Kha h?\n",
      "[29/03/23, 6:40:55 PM] Adamya: Gym?\n",
      "[29/03/23, 6:41:13 PM] Viren: Haa jaa rahaa\n",
      "[29/03/23, 6:41:20 PM] Viren: Tu kidhar??\n",
      "[29/03/23, 6:41:29 PM] Adamya: Wapas aarhi lab se\n",
      "[29/03/23, 6:41:33 PM] Adamya: Hao\n",
      "[29/03/23, 6:41:52 PM] Adamya: Wapas aakr call krna\n",
      "[29/03/23, 6:42:03 PM] Viren: Acad mai hi hai??\n",
      "[29/03/23, 6:42:20 PM] Adamya: Hnn\n",
      "[29/03/23, 6:42:28 PM] Viren: Haaaa\n",
      "[30/03/23, 6:06:13 PM] Viren: Aaa rahi???\n",
      "[30/03/23, 6:11:29 PM] Adamya: Hnn\n",
      "[30/03/23, 6:11:35 PM] Adamya: Bss 10 min me\n",
      "[30/03/23, 6:35:30 PM] Adamya: ‎Missed voice call\n",
      "‎[30/03/23, 11:27:29 PM] Viren: ‎video omitted\n",
      "‎[30/03/23, 11:27:29 PM] Viren: ‎image omitted\n",
      "‎[30/03/23, 11:27:30 PM] Viren: ‎video omitted\n",
      "‎[30/03/23, 11:27:30 PM] Viren: ‎image omitted\n",
      "‎[30/03/23, 11:27:31 PM] Viren: ‎image omitted\n",
      "‎[30/03/23, 11:27:31 PM] Viren: ‎image omitted\n",
      "‎[30/03/23, 11:27:32 PM] Viren: ‎image omitted\n",
      "‎[30/03/23, 11:27:32 PM] Viren: ‎image omitted\n",
      "‎[30/03/23, 11:27:33 PM] Viren: ‎image omitted\n",
      "‎[30/03/23, 11:27:33 PM] Viren: ‎image omitted\n",
      "‎[30/03/23, 11:27:34 PM] Viren: ‎image omitted\n",
      "‎[30/03/23, 11:27:34 PM] Viren: ‎image omitted\n",
      "[31/03/23, 10:46:18 AM] Adamya: Teri key mere paas h\n",
      "[31/03/23, 10:46:23 AM] Adamya: Jane se phle call kr dena\n",
      "[31/03/23, 10:46:32 AM] Adamya: M aa jaugi\n",
      "[31/03/23, 1:17:53 PM] Adamya: 1.30 tk aa jaugi m\n",
      "[31/03/23, 1:18:14 PM] Viren: Theek calll kar denaa\n",
      "‎[31/03/23, 1:30:46 PM] Adamya: ‎image omitted\n",
      "‎[31/03/23, 1:30:46 PM] Adamya: ‎image omitted\n",
      "‎[31/03/23, 1:30:47 PM] Adamya: ‎image omitted\n",
      "[31/03/23, 1:47:42 PM] Adamya: ‎Missed voice call\n",
      "[31/03/23, 1:51:12 PM] Viren: Kaha???\n",
      "[31/03/23, 1:51:17 PM] Adamya: Why is ur number amanya?\n",
      "[31/03/23, 1:51:20 PM] Adamya: Tere room\n",
      "[31/03/23, 1:51:28 PM] Adamya: Aajaaaa yrr\n",
      "[31/03/23, 1:52:20 PM] Viren: Hein??\n",
      "[31/03/23, 1:52:34 PM] Viren: Aa raha 7 min\n",
      "[31/03/23, 1:53:31 PM] Adamya: Hao\n",
      "[31/03/23, 5:18:36 PM] Adamya: Add me to that doggo fam grp\n",
      "[31/03/23, 5:29:51 PM] Viren: Haoo\n",
      "[31/03/23, 5:52:20 PM] Adamya: Chaii\n",
      "[31/03/23, 5:52:32 PM] Viren: Haa chaii\n",
      "[31/03/23, 5:52:42 PM] Viren: Kidhar haii??\n",
      "[31/03/23, 5:53:01 PM] Adamya: Hostel\n",
      "[31/03/23, 5:53:02 PM] Adamya: Aa rhi\n",
      "[31/03/23, 5:53:16 PM] Viren: Theek aajaa mai aa rahaa\n",
      "[31/03/23, 5:55:09 PM] Adamya: Chai rkh lena\n",
      "[31/03/23, 6:00:22 PM] Viren: Abhi aa raha maii Kautilya se\n",
      "[31/03/23, 9:04:11 PM] Viren: Ho gya\n",
      "[31/03/23, 9:04:13 PM] Viren: ??\n",
      "[31/03/23, 9:04:45 PM] Adamya: Nhi\n",
      "[31/03/23, 9:04:52 PM] Adamya: Issue h n kuch portal p\n",
      "[31/03/23, 9:05:01 PM] Viren: Abhii lar\n",
      "[31/03/23, 9:05:04 PM] Viren: *kar\n",
      "[31/03/23, 9:05:06 PM] Viren: Ho raha\n",
      "[31/03/23, 9:05:48 PM] Adamya: Fill hogya😂\n",
      "[31/03/23, 9:06:04 PM] Viren: 🗿🗿\n",
      "[31/03/23, 9:06:11 PM] Viren: Nice try\n",
      "[31/03/23, 9:06:30 PM] Adamya: 😂\n",
      "[31/03/23, 9:06:34 PM] Adamya: Well well\n",
      "[31/03/23, 9:06:36 PM] Adamya: Fuck it\n",
      "[31/03/23, 9:07:23 PM] Viren: Koi naa\n",
      "[31/03/23, 9:07:27 PM] Viren: Kidhar haii???\n",
      "[31/03/23, 9:07:34 PM] Adamya: Lab\n",
      "[31/03/23, 9:07:42 PM] Viren: Aake call karnaa\n",
      "[31/03/23, 9:07:46 PM] Adamya: Hao\n",
      "[01/04/23, 12:50:06 AM] Adamya: 2 bje tk aajana lab\n",
      "[01/04/23, 1:16:31 AM] Viren: Haoo\n",
      "[01/04/23, 1:28:09 AM] Adamya: Yrr mje jyada late hoga\n",
      "[01/04/23, 1:28:12 AM] Adamya: Tu chle jana\n",
      "[01/04/23, 1:32:13 AM] Viren: Kitnaa??\n",
      "[01/04/23, 1:32:27 AM] Viren: Akele hai lab maii??\n",
      "[01/04/23, 1:35:14 AM] Adamya: Bhut\n",
      "[01/04/23, 1:35:17 AM] Adamya: Hnn\n",
      "[01/04/23, 1:35:34 AM] Viren: Haoo aake jaate phir 2 bje\n",
      "[01/04/23, 1:37:13 AM] Adamya: Ok, whatever that means\n",
      "[01/04/23, 2:02:47 PM] Adamya: Khana kha liya?\n",
      "[01/04/23, 2:03:44 PM] Viren: Nahi\n",
      "[01/04/23, 2:06:17 PM] Adamya: 2.30 tk chlte, agr tu phle ja rha ho to msg kr dena\n",
      "[01/04/23, 2:06:34 PM] Viren: Haooo\n",
      "Kaha ho???\n",
      "[01/04/23, 2:07:07 PM] Adamya: Room ja rhi\n",
      "[01/04/23, 2:07:16 PM] Viren: Theek\n",
      "[01/04/23, 2:41:12 PM] Adamya: ‎Missed voice call\n",
      "[01/04/23, 8:44:01 PM] Adamya: Kha h?\n",
      "[01/04/23, 8:46:01 PM] Viren: Zym\n",
      "10 min mai aaraha\n",
      "[01/04/23, 8:46:05 PM] Viren: Tu kidhar??\n",
      "[01/04/23, 8:57:44 PM] Adamya: M ja rhi bahar khane\n",
      "[01/04/23, 8:58:04 PM] Viren: Kyo??\n",
      "[01/04/23, 8:58:08 PM] Adamya: Wapas aakr call krti\n",
      "[01/04/23, 8:58:22 PM] Viren: Kiske saath??\n",
      "[01/04/23, 8:58:32 PM] Adamya: Are ek dost ko bola tha jane k liye\n",
      "[01/04/23, 8:58:37 PM] Adamya: Jogi\n",
      "[01/04/23, 8:58:43 PM] Viren: Theek\n",
      "[01/04/23, 8:58:46 PM] Viren: Haoo\n",
      "[02/04/23, 2:24:12 AM] Viren: Helo\n",
      "[02/04/23, 2:24:21 AM] Viren: Kab tak hai lab??\n",
      "[02/04/23, 2:54:54 AM] Adamya: Time lgega abhi\n",
      "[02/04/23, 3:08:21 AM] Viren: Hao\n",
      "[02/04/23, 9:50:50 PM] Viren: Oi kidhar???\n",
      "[02/04/23, 9:56:22 PM] Adamya: Room\n",
      "[02/04/23, 9:56:37 PM] Adamya: Lab jana h mje abhi\n",
      "[02/04/23, 9:56:45 PM] Viren: Chal audi\n",
      "[02/04/23, 10:37:25 PM] Adamya: So rhi m\n",
      "[02/04/23, 10:37:31 PM] Adamya: Kya h wha\n",
      "[02/04/23, 10:38:00 PM] Viren: Dance\n",
      "[02/04/23, 10:38:13 PM] Viren: Call pick karna pragya ko baat karni\n",
      "[02/04/23, 10:38:22 PM] Viren: Uth zaaa\n",
      "[02/04/23, 10:40:40 PM] Viren: Lab zana hai??\n",
      "[02/04/23, 10:42:20 PM] Adamya: Hn\n",
      "[02/04/23, 10:42:23 PM] Adamya: Ja tu\n",
      "[02/04/23, 10:42:37 PM] Viren: Ho gya mai aa raha\n",
      "[02/04/23, 10:45:06 PM] Adamya: Hao\n",
      "‎[03/04/23, 1:17:26 AM] Adamya: ‎video omitted\n",
      "[03/04/23, 1:17:45 AM] Adamya: Loooooook at it\n",
      "[03/04/23, 1:18:07 AM] Viren: Cat haii\n",
      "[03/04/23, 1:18:09 AM] Viren: ?\n",
      "[03/04/23, 1:20:25 AM] Adamya: Hnnn\n",
      "‎[03/04/23, 1:20:41 AM] Adamya: ‎video omitted\n",
      "[03/04/23, 1:20:57 AM] Viren: Kaha se aayi??\n",
      "[03/04/23, 1:21:13 AM] Viren: Demnn😏❤️\n",
      "[03/04/23, 1:21:57 AM] Adamya: Ikkkkkkkkkkkkkkkkk🥹🥹🥹🥹🥹🥹\n",
      "[03/04/23, 1:22:05 AM] Adamya: Pta nhi, room khula tha to aagyi\n",
      "[03/04/23, 1:22:16 AM] Viren: Le ke aaa\n",
      "[03/04/23, 1:23:47 AM] Adamya: Tu neeche aa\n",
      "[03/04/23, 1:23:50 AM] Adamya: Jldiiii\n",
      "[03/04/23, 1:23:53 AM] Adamya: Nhi bhaag jayegi\n",
      "[03/04/23, 1:24:03 AM] Viren: Haoo ataa\n",
      "[03/04/23, 1:24:12 AM] Viren: Pakar ke rakh 😏\n",
      "[03/04/23, 1:24:50 AM] Adamya: 😒panje h usk\n",
      "[03/04/23, 1:26:49 AM] Viren: Aajaa neeche\n",
      "[03/04/23, 1:28:17 AM] Adamya: Upar aaja\n",
      "[03/04/23, 1:28:33 AM] Adamya: Wo nhi ja rhi room se😂\n",
      "[03/04/23, 1:28:46 AM] Viren: Gaurd hai\n",
      "[03/04/23, 1:28:52 AM] Viren: Le ke aa naa\n",
      "[03/04/23, 1:30:42 AM] Adamya: Ruk\n",
      "[03/04/23, 1:32:39 AM] Viren: Hao\n",
      "[03/04/23, 2:12:37 PM] Adamya: Lunch?\n",
      "[03/04/23, 2:21:43 PM] Viren: Class hai abhi toh karliyaa\n",
      "[03/04/23, 2:21:48 PM] Viren: Kidhar hai??\n",
      "[03/04/23, 2:24:04 PM] Adamya: Ja rhi mess\n",
      "[03/04/23, 2:24:08 PM] Adamya: Hao\n",
      "[03/04/23, 2:24:46 PM] Viren: Lab hai iske baad??\n",
      "[03/04/23, 2:26:37 PM] Adamya: Yep, raat tk\n",
      "[03/04/23, 2:27:00 PM] Viren: Chai ke liyaa\n",
      "[03/04/23, 2:27:06 PM] Viren: Call kar denaa\n",
      "[03/04/23, 2:31:21 PM] Adamya: Hao\n",
      "[03/04/23, 5:49:08 PM] Viren: Oi ☕️??\n",
      "[03/04/23, 6:31:13 PM] Adamya: Yrr lab\n",
      "[03/04/23, 6:56:30 PM] Viren: Ohkk☕️\n",
      "[03/04/23, 6:58:46 PM] Adamya: Gym nhi gya?\n",
      "[03/04/23, 7:01:51 PM] Viren: Aayaa abhii\n",
      "[03/04/23, 7:03:43 PM] Adamya: Hao, m bahar ja rhi khana khane\n",
      "[03/04/23, 7:03:48 PM] Adamya: Wapas aakr call krti\n",
      "[03/04/23, 7:04:43 PM] Viren: Haoo theek\n",
      "[03/04/23, 7:04:59 PM] Viren: Kiske saath??\n",
      "[03/04/23, 7:05:18 PM] Adamya: Batch wale h sb\n",
      "[03/04/23, 7:05:44 PM] Viren: Haooo\n",
      "[03/04/23, 10:38:52 PM] Adamya: Kha h?\n",
      "[03/04/23, 10:46:27 PM] Viren: Kautilya\n",
      "[03/04/23, 10:58:41 PM] Adamya: B Block aaja\n",
      "[04/04/23, 1:21:22 PM] Viren: Hatt\n",
      "‎[04/04/23, 1:57:34 PM] Viren: ‎image omitted\n",
      "‎[04/04/23, 1:57:36 PM] Viren: ‎image omitted\n",
      "‎[04/04/23, 1:57:36 PM] Viren: ‎image omitted\n",
      "‎[04/04/23, 1:57:37 PM] Viren: ‎image omitted\n",
      "‎[04/04/23, 1:57:37 PM] Viren: ‎image omitted\n",
      "‎[04/04/23, 1:57:38 PM] Viren: ‎video omitted\n",
      "‎[04/04/23, 1:57:38 PM] Viren: ‎image omitted\n",
      "‎[04/04/23, 1:57:39 PM] Viren: ‎image omitted\n",
      "‎[04/04/23, 1:57:39 PM] Viren: ‎image omitted\n",
      "‎[04/04/23, 1:57:40 PM] Viren: ‎image omitted\n",
      "‎[04/04/23, 1:57:40 PM] Viren: ‎image omitted\n",
      "‎[04/04/23, 1:57:41 PM] Viren: ‎video omitted\n",
      "‎[04/04/23, 1:57:41 PM] Viren: ‎video omitted\n",
      "‎[04/04/23, 1:57:42 PM] Viren: ‎video omitted\n",
      "‎[04/04/23, 1:57:42 PM] Viren: ‎image omitted\n",
      "‎[04/04/23, 1:57:43 PM] Viren: ‎image omitted\n",
      "‎[04/04/23, 1:57:43 PM] Viren: ‎image omitted\n",
      "‎[04/04/23, 1:57:44 PM] Viren: ‎image omitted\n",
      "‎[04/04/23, 1:57:44 PM] Viren: ‎image omitted\n",
      "‎[04/04/23, 1:57:45 PM] Viren: ‎image omitted\n",
      "‎[04/04/23, 1:57:45 PM] Viren: ‎image omitted\n",
      "‎[04/04/23, 1:57:46 PM] Viren: ‎image omitted\n",
      "‎[04/04/23, 1:57:46 PM] Viren: ‎image omitted\n",
      "‎[04/04/23, 1:57:47 PM] Viren: ‎image omitted\n",
      "‎[04/04/23, 1:57:47 PM] Viren: ‎image omitted\n",
      "‎[04/04/23, 1:57:48 PM] Viren: ‎image omitted\n",
      "‎[04/04/23, 1:57:48 PM] Viren: ‎image omitted\n",
      "‎[04/04/23, 1:57:49 PM] Viren: ‎image omitted\n",
      "‎[04/04/23, 1:57:50 PM] Viren: ‎image omitted\n",
      "‎[04/04/23, 1:57:50 PM] Viren: ‎image omitted\n",
      "‎[04/04/23, 1:57:53 PM] Viren: ‎image omitted\n",
      "‎[04/04/23, 1:57:54 PM] Viren: ‎image omitted\n",
      "‎[04/04/23, 1:57:54 PM] Viren: ‎image omitted\n",
      "‎[04/04/23, 1:57:55 PM] Viren: ‎image omitted\n",
      "‎[04/04/23, 1:57:55 PM] Viren: ‎image omitted\n",
      "‎[04/04/23, 1:57:56 PM] Viren: ‎image omitted\n",
      "‎[04/04/23, 1:57:56 PM] Viren: ‎image omitted\n",
      "‎[04/04/23, 1:57:57 PM] Viren: ‎image omitted\n",
      "‎[04/04/23, 1:57:57 PM] Viren: ‎image omitted\n",
      "‎[04/04/23, 1:57:58 PM] Viren: ‎image omitted\n",
      "‎[04/04/23, 1:57:58 PM] Viren: ‎image omitted\n",
      "‎[04/04/23, 1:57:59 PM] Viren: ‎image omitted\n",
      "[04/04/23, 7:14:21 PM] Viren: Oi kidhar haiii??\n",
      "[04/04/23, 8:05:41 PM] Adamya: Room\n",
      "[04/04/23, 8:05:49 PM] Adamya: Call me when u r back from gym\n",
      "[04/04/23, 8:10:01 PM] Adamya: Bruhh🥹\n",
      "[04/04/23, 8:10:49 PM] Viren: Kaa ho gya???\n",
      "[04/04/23, 8:11:07 PM] Viren: Aaj nahii gyaa\n",
      "[04/04/23, 8:13:24 PM] Adamya: Kuch nhi\n",
      "[04/04/23, 8:13:31 PM] Adamya: Room aa rhi m nahakr\n",
      "[04/04/23, 8:13:50 PM] Viren: Abhii niii nahaaya thaa🗿🗿\n",
      "[04/04/23, 8:14:28 PM] Viren: Aajaa kings chalte phir ☕️☕️\n",
      "[04/04/23, 8:15:12 PM] Adamya: Yess\n",
      "[04/04/23, 8:15:20 PM] Adamya: Yrr sed life yrr\n",
      "[04/04/23, 8:15:35 PM] Viren: Theek hai naha le\n",
      "[05/04/23, 10:47:33 AM] Viren: Oi Sidhant ko call karna imp haiii bola haii\n",
      "[05/04/23, 10:47:43 AM] Viren: Tera phone switched off hai\n",
      "[05/04/23, 11:49:53 AM] Adamya: Hn kr rhi hu\n",
      "[05/04/23, 12:42:32 PM] Adamya: Classes kb tk h??\n",
      "[05/04/23, 12:44:20 PM] Viren: 1 bje tak (last class hai abhi)\n",
      "[05/04/23, 12:46:16 PM] Adamya: Thk ba\n",
      "[05/04/23, 12:46:35 PM] Adamya: Chai k time krugi call\n",
      "[05/04/23, 12:46:47 PM] Viren: Lab???\n",
      "[05/04/23, 12:47:26 PM] Adamya: Jldi aa jaugi , bt meeting h fir 4.30 se\n",
      "[05/04/23, 12:47:38 PM] Viren: Kab tak??\n",
      "[05/04/23, 12:47:46 PM] Adamya: No idea\n",
      "[05/04/23, 12:47:49 PM] Adamya: Kapila ko lek h\n",
      "[05/04/23, 12:48:06 PM] Adamya: Aur m your name dekh kr khtm kr rhi🌚\n",
      "[05/04/23, 12:48:15 PM] Viren: Niii🗿🗿🗿\n",
      "[05/04/23, 12:48:27 PM] Viren: Saath mai dekhenge\n",
      "[05/04/23, 12:48:53 PM] Adamya: 😑thk\n",
      "[05/04/23, 12:49:01 PM] Viren: Gud gurl\n",
      "[05/04/23, 12:49:28 PM] Viren: Lab kab jaa rahi??\n",
      "[05/04/23, 12:49:55 PM] Adamya: 1.30/2 bje tk, lunch krk\n",
      "[05/04/23, 12:50:30 PM] Viren: Ohkkkk\n",
      "[05/04/23, 12:50:30 PM] Adamya: Tu khana khane jayega class se aak?\n",
      "[05/04/23, 12:50:40 PM] Viren: Nii room jaaungaa\n",
      "[05/04/23, 12:50:53 PM] Adamya: Thk, shaam me krugi call fir😂\n",
      "[05/04/23, 12:51:09 PM] Viren: ☕️✌️🤓\n",
      "‎[05/04/23, 8:33:10 PM] Viren: ‎video omitted\n",
      "[06/04/23, 10:55:19 AM] Adamya: Call kr dena key k liye\n",
      "[06/04/23, 10:58:17 AM] Adamya: M apne hostel me hu\n",
      "[06/04/23, 11:17:55 AM] Adamya: H block aakr kr dena call\n",
      "[06/04/23, 11:18:16 AM] Viren: Kaha haii tu??\n",
      "[06/04/23, 11:21:28 AM] Adamya: H\n",
      "[06/04/23, 11:31:42 AM] Adamya: Rno 608🌚\n",
      "[06/04/23, 11:52:09 AM] Adamya: Kb tk h Teri class 🥲\n",
      "[06/04/23, 11:52:16 AM] Adamya: Mereko bahar niklne se phle call krna\n",
      "[06/04/23, 11:52:37 AM] Viren: Ek aur haii\n",
      "[06/04/23, 11:52:42 AM] Viren: 1 bje tak\n",
      "[06/04/23, 11:52:46 AM] Viren: Abhi gap tha\n",
      "[06/04/23, 11:54:54 AM] Adamya: Kitne baje se h?\n",
      "[06/04/23, 11:54:59 AM] Adamya: Abhi h kha tu?\n",
      "[06/04/23, 11:55:02 AM] Viren: 12\n",
      "[06/04/23, 11:55:06 AM] Viren: B block\n",
      "[06/04/23, 11:55:08 AM] Adamya: Haoo fir\n",
      "[06/04/23, 11:55:15 AM] Adamya: M aa rhi , key le le tu\n",
      "[06/04/23, 11:55:23 AM] Viren: Kaha aarahi??\n",
      "[06/04/23, 11:55:31 AM] Adamya: Khi nhi\n",
      "[06/04/23, 11:55:40 AM] Viren: 🗿\n",
      "[06/04/23, 11:55:48 AM] Adamya: Class k baad call krna🙃\n",
      "[06/04/23, 11:55:55 AM] Viren: Hao\n",
      "[06/04/23, 12:57:52 PM] Viren: Mera phone switch off hona wala hai aa jana B Block\n",
      "[06/04/23, 12:57:57 PM] Viren: Acad B\n",
      "[06/04/23, 3:07:36 PM] Adamya: ‎Missed voice call\n",
      "‎[06/04/23, 3:07:48 PM] Adamya: ‎audio omitted\n",
      "[06/04/23, 3:08:27 PM] Adamya: ‎Missed video call\n",
      "[06/04/23, 8:59:26 PM] Adamya: Sunnnn\n",
      "[06/04/23, 9:00:03 PM] Viren: Chepu\n",
      "[06/04/23, 9:00:40 PM] Adamya: Mne khana khakr lab me hu, wapas aakr call krugi\n",
      "[06/04/23, 9:01:03 PM] Viren: Hao kab khaaya??\n",
      "[06/04/23, 9:09:29 PM] Adamya: 8.30 bje 💁🏻‍♀️\n",
      "[06/04/23, 9:11:33 PM] Viren: Nyc\n",
      "[06/04/23, 9:13:03 PM] Viren: Kab tak hai lab?\n",
      "[06/04/23, 9:34:39 PM] Adamya: 2hr ig🤔\n",
      "[07/04/23, 12:19:46 AM] Adamya: Bruhhh\n",
      "[07/04/23, 12:19:49 AM] Adamya: Where bruhh\n",
      "[07/04/23, 12:20:28 AM] Viren: Room bruhhh\n",
      "[07/04/23, 12:20:59 AM] Adamya: Khi chlna h bruhh?\n",
      "[07/04/23, 12:21:04 AM] Adamya: Ya pdh rhe ho?\n",
      "[07/04/23, 12:21:24 AM] Viren: Haaa\n",
      "[07/04/23, 12:21:28 AM] Viren: Ho gyaaa\n",
      "[07/04/23, 12:21:43 AM] Adamya: Okk then\n",
      "[07/04/23, 12:21:51 AM] Adamya: Hostel circle aao\n",
      "[07/04/23, 12:22:08 AM] Adamya: Mere earrings lekr aana\n",
      "[07/04/23, 12:22:13 AM] Viren: Aataa\n",
      "[07/04/23, 12:30:29 AM] Viren: Kidhar??\n",
      "[07/04/23, 5:38:27 PM] Viren: Oi where??\n",
      "☕️☕️????\n",
      "[07/04/23, 5:39:46 PM] Adamya: 10 min me aarhi\n",
      "[07/04/23, 5:40:07 PM] Viren: Call karnaa aake\n",
      "[08/04/23, 12:42:52 AM] Viren: Bruhh nahii haii\n",
      "[08/04/23, 12:43:08 AM] Viren: Abhi Thoda issue chal raha unkaa\n",
      "[08/04/23, 12:53:43 AM] Adamya: Thk ba\n",
      "[08/04/23, 1:38:09 AM] Viren: Aa rahi??\n",
      "[08/04/23, 1:44:51 AM] Adamya: Nhii kaam kr lugi m tb tk, tu wapas aakr call kr dena\n",
      "[08/04/23, 7:00:19 PM] Adamya: Kha ho?\n",
      "[08/04/23, 7:01:11 PM] Viren: Room\n",
      "[08/04/23, 7:01:29 PM] Adamya: Gym?\n",
      "[08/04/23, 7:01:36 PM] Viren: Rest\n",
      "[08/04/23, 7:01:50 PM] Adamya: Aarhi m\n",
      "[08/04/23, 7:01:56 PM] Viren: Haa\n",
      "\n"
     ]
    }
   ],
   "source": [
    "print(data)"
   ],
   "metadata": {
    "collapsed": false,
    "pycharm": {
     "name": "#%%\n"
    }
   }
  },
  {
   "cell_type": "code",
   "execution_count": 6,
   "outputs": [],
   "source": [
    "pattern = '\\[\\d{2}\\/\\d{2}\\/\\d{2},\\s\\d{1,2}:\\d{2}:\\d{2}\\s[AP]M]\\s'"
   ],
   "metadata": {
    "collapsed": false,
    "pycharm": {
     "name": "#%%\n"
    }
   }
  },
  {
   "cell_type": "code",
   "execution_count": 7,
   "outputs": [],
   "source": [
    "messages = re.split(pattern, data)[1:]"
   ],
   "metadata": {
    "collapsed": false,
    "pycharm": {
     "name": "#%%\n"
    }
   }
  },
  {
   "cell_type": "code",
   "execution_count": 8,
   "outputs": [
    {
     "name": "stdout",
     "output_type": "stream",
     "text": [
      "['Adamya: \\u200eMessages and calls are end-to-end encrypted. No one outside of this chat, not even WhatsApp, can read or listen to them.\\n', 'Viren: Hiii\\nI’m Viren \\nContesting for the Cultural Sec \\nAapse baat karni thi \\nIf you are free\\n', 'Adamya: Hey, sure\\n', 'Viren: If possible we can meet?\\n', 'Adamya: Today or tomorrow?\\n', 'Viren: Anytime if you are free\\n', \"Adamya: okay let's connect tom. at acad or after dinner.....whatever works out\\n\", 'Viren: Okkk\\n', 'Viren: Thanks\\n', 'Adamya: 😇\\n', 'Viren: Can we meet at 10:15 - 10:30Pm?\\n', 'Adamya: Sure\\n', \"Adamya: Let's meet at acad na\\n\", 'Viren: Okkk\\n', 'Adamya: Wohi acad me rhugi m 10.30 k baad jb b jana text kr dena\\n', 'Viren: Acad mai kaha?\\n', 'Adamya: Welfare k liye sunshine ka member ya ex member hona jruri to nhi h n?\\n', 'Viren: Haa jaruri haiii\\n', 'Viren: Harsha Bhaiyaa se aaj mil sakte haii\\n', 'Adamya: 8.45 tk jaugi m milne, tm chl rhe ho to h block k bahar aa jana n\\n', 'Viren: Okk\\n', 'Viren: Suno Swetem di se baat karte haii\\n', 'Viren: Kal\\n', 'Viren: Kal Rahul Ghosh se milna hai mujhe\\nTumhara senior h na shyd\\nEk baar refer kr dena\\n', 'Viren: Aur Cy-21 me koi ladka hai kya jo jyada active ho ya jyada jaan pahchan wala\\n', 'Adamya: Yrr m just abhi unse baat krk aayi\\n', 'Adamya: Chem ka h?\\n', 'Adamya: Pta krk btati\\n', 'Viren: Ha\\n', 'Viren: Mtlb maine msg kiya h usko\\n', 'Viren: Bola ki kal sham ko milte hn\\n', 'Adamya: Yrr batch k andar jaan pehchan chahta h tu ya koi aisa jiski baaki courses me baat hoti ho\\n', \"Adamya: Great....btana fir I'll also accompany....kuch agenda related points mil jaye shayad\\n\", 'Viren: Baaki courses mai bhi baat hoti hoo\\n', 'Adamya: Yrr....kb tk chahiye naam tmhe?\\n', 'Viren: ASAP\\n', 'Adamya: Akash ko u can contact\\n', 'Viren: Number bhej do pliz\\n', 'Adamya: Yrr m tereko baaki course walo k number de deti hu seedhe n\\n', \"Adamya: Cy21 ka I'll let u know baad me\\n\", 'Viren: Ha wohi thik hai\\n', 'Viren: Ok\\n', 'Adamya: Cool, kis course ka chahiye?\\n', 'Viren: Jo jyada logo ke sath ghumta hai\\n', 'Viren: Neta type\\n\\u200e', 'Adamya: \\u200eContact card omitted\\n', \"Adamya: He's contesting for pg rep 1 contact him if u haven't yet\\n\", 'Viren: Thike\\n', 'Viren: Ibtesham Tarannum ko janti ho ?\\n', 'Adamya: Hnn our snr\\n\\u200e', 'Adamya: \\u200eContact card omitted\\n', 'Viren: Mujhe milna hai\\n', 'Viren: Saath mai chal sakti ho gya mai jaanta nahi hoon\\n', 'Adamya: Hn now that u said i remember mje b milna tha unse🥲\\n', \"Adamya: Let's meet her Tom.\\n\", 'Viren: Yeah finee 😇\\n', 'Viren: Milna hai kya aaaj\\n', 'Adamya: Hn after dinner\\n', 'Viren: Okk\\n\\u200e', 'Viren: \\u200eimage omitted\\n', 'Viren: Share kar denaa 😇\\n', 'Viren: Woh insta se story hta do yrr 🙂 it’s against code of conduct 🥲 cause you’re also a candidate\\n', 'Adamya: Okk\\n', 'Adamya: Yrr posters kidhr se bna rha tu.....bhut interactive hai\\n', 'Viren: Thanks \\nPhotoshop bas Aur thoda creativity 😁\\n', 'Adamya: Ohh nice job\\n', 'Viren: nd haa yrr please apne friends ko share karne ko bol denaa\\n', 'Adamya: Shared it already\\n\\u200e', 'Viren: \\u200esticker omitted\\n', 'Viren: Adamya sabko bol denaa yrr Vote karne jitne bhi friends hai Tumhare ya friends ke friend ke haii yaa podmate haiii 😇\\n\\nViren Soni for Cultural Secretary\\n', 'Adamya: Mne bol diya h\\n', 'Adamya: But u know about the list being circulated n\\n', 'Viren: There two three list\\n', 'Adamya: Send me all of those n\\n', 'Viren: Please vote for thses guys \\n\\nGen sec -1 - Anish Ambavat \\nPresident-Sreejith\\nGen sec 2- Akanksha Pansare\\nCultural - Viren Soni\\nSports - Divyanshu Raj\\nMess sec- Ritik Amrute\\nSci tech - Samyak\\nAcad- Nota\\nWelfare - Niharika\\n\\n\\nFor my opinion this is the perfect panel for upcoming election. I was there in debate and I really felt this.\\n\\u200e', 'Viren: \\u200eimage omitted\\n', 'Viren: This is from Telugu grp\\n', 'Viren: Ye curculate kar denaaa\\n', 'Adamya: Sreejith😂\\n', 'Adamya: Cool will do that\\n', 'Viren: Wait President Sidhant\\n', 'Viren: Please vote for thses guys \\n\\nGen sec -1 - Anish Ambavat \\nPresident-Sidhant Ranka\\nGen sec 2- Akanksha Pansare\\nCultural - Viren Soni\\nSports - Divyanshu Raj\\nMess sec- Ritik Amrute\\nSci tech - Samyak\\nAcad- Nota\\nWelfare - Niharika\\n\\n\\nFor my opinion this is the perfect panel for upcoming election. I was there in debate and I really felt this.\\n', 'Adamya: Cool done\\n\\u200e', 'Adamya: \\u200eimage omitted\\n', 'Adamya: This list is being circulated\\n', 'Adamya: By idk whom💁🏻\\u200d♀️\\n', 'Viren: 🙂\\n', 'Viren: Ye kar dena send sabkoo please 🙏\\n', 'Adamya: Kr diya h\\n\\u200e', 'Viren: \\u200esticker omitted\\n', \"Viren: Please do vote in today's gymkhana elections -\\nPresident - *Siddhant Ranka*\\nSports Secy - *Divyanshu Raj*\\nCultural Secy - *Viren Soni*\\n\\n\\nLink - https://vote.heliosvoting.org/helios/e/iith_gymkhana_general_elec_2022/vote\\n\\nVoter ID and password is sent via mail\\n\", 'Viren: Please ask all of your friends to vote for them. forward this in your friends, batch and community please\\n', 'Viren: Adamya Rahul ghosh waigra se circulate karwa doo\\n', 'Adamya: Cool\\n', 'Adamya: Click🔥\\n', 'Viren: 😇. :))\\n', 'Viren: Kaafi acchaa mausam thaa \\nbut bc examm😶\\u200d🌫️\\n', 'Adamya: Ugh same🥲\\n\\u200e', 'Viren: \\u200eContact card omitted\\n', 'Viren: Abhi bol dena \\nCoz camera kisi aur ke pass hoga charge karna hogaa\\n', 'Adamya: Thk h\\n', 'Adamya: I contacted her?\\n', 'Adamya: Can you make it?\\n', 'Viren: Okk\\n', 'Viren: Kidhar haii??\\n', 'Viren: Call kar denaa jab start hoo\\n', 'Adamya: C LH2\\n', 'Adamya: Okkki\\n', 'Viren: Heyy Kabhi aanaa hai?\\n', 'Adamya: Aaja yrr\\n', 'Adamya: \\u200eMissed voice call\\n', 'Viren: Okk in 5 min\\n', 'Adamya: Okkki\\n', 'Adamya: Event ended just now\\nThnx for coming\\n', 'Adamya: Pics bhej dena n\\n', 'Viren: Ohkk mail id de denaa \\nMSC chemistry (whole community)\\n', 'Adamya: Cym20\\nAur cym21\\n', 'Adamya: Staff@chy krk ek hogi\\n', 'Adamya: Aur faculty@chy krk b ek hogi id\\n', 'Viren: Ohkkk :))\\n', 'Adamya: Heyy\\n\\nInFocus club members ka koi grp h kya?\\n', 'Viren: Haa\\n', 'Viren: Kuu?\\n', 'Adamya: Mere batchmate ko club join Krna tha\\n', 'Adamya: Kya procedure h?\\n', 'Viren: Form bhar denaa\\n', 'Viren: Interview hogaa\\n', 'Viren: By previous coords and heads\\n', 'Adamya: Acha acha okk\\n', 'Viren: ;)\\n', 'Viren: 🤌🏻\\n', 'Viren: Heyy Adamya\\n15 Aug ko ek stage play RDM ka\\nUsmai ek role , karna haii kyaa\\n', \"Adamya: Heyy,\\nYrr so sry i don't think i can perform in a stage play(once did, it was a disaster).\\nSry again\\n\", 'Viren: Koi nii Tejas phuch rahe thaa isliye bola\\n', 'Adamya: Ohh alright, u tell him\\n', 'Viren: Hao\\n', 'Adamya: Tm log k saath wali pics bhej dena n\\n\\u200e', 'Viren: IMG_5186.JPG \\u200edocument omitted\\n\\u200e', 'Viren: IMG_5187.JPG \\u200edocument omitted\\n\\u200e', 'Viren: \\u200eimage omitted\\n', 'Viren: https://drive.google.com/drive/folders/15A7D6dhSxOuUB8GbqeJBH9LwEQtbyy1B?usp=sharing\\n', 'Adamya: Also the one with u\\nAnd other guys wo b bhej 🙄\\n', 'Viren: Elk minn\\n\\u200e', 'Viren: \\u200eimage omitted\\n', 'Viren: Dusri nii mil Rahi bhejta hoon agr mili🍓\\n', 'Adamya: Okkki\\n\\u200e', 'Viren: \\u200eimage omitted\\n\\u200e', 'Viren: \\u200eimage omitted\\n\\u200e', 'Viren: \\u200eimage omitted\\n\\u200e', 'Viren: \\u200eimage omitted\\n\\u200e', 'Viren: \\u200eimage omitted\\n', 'Viren: Photo Chaiye thaa naa\\n', 'Adamya: Yess, dhanyawad\\n', 'Viren: Kaise thi decoration ??\\n', 'Adamya: Bhuut achi thi yrr\\n', 'Adamya: Kbse plan kr rhe the?\\n', 'Viren: Bas 2 din Pahle 😅\\n', 'Adamya: Bdhiya tha✨\\n', 'Adamya: Are kb tk rhega decoration/mandap/mandir...?\\n', 'Viren: 9 sept takk\\n', 'Adamya: 9 ko kya h?\\n', 'Viren: Murti Visarjan\\n', 'Adamya: Kidhr visarjit kroge?\\n', 'Adamya: Also fir murti chli jayegi?\\n', 'Viren: Pass Mai lake haii waha\\n', 'Viren: Haa\\n', \"Adamya: Oooo noicc.....jane k phle btana n\\nWe'll accompany if possible\\n\", 'Viren: Haa jurur \\nAbhi toh kabhi bhi AA skate jab. Tak yaha haii\\n', 'Adamya: Okkki\\n\\u200e', 'Viren: \\u200eimage omitted\\n\\u200e', 'Viren: \\u200eimage omitted\\n\\u200e', 'Viren: \\u200eimage omitted\\n\\u200e', 'Viren: \\u200eimage omitted\\n\\u200e', 'Viren: \\u200eimage omitted\\n\\u200e', 'Viren: \\u200eimage omitted\\n\\u200e', 'Viren: \\u200eimage omitted\\n\\u200e', 'Viren: \\u200eimage omitted\\n\\u200e', 'Viren: \\u200eimage omitted\\n\\u200e', 'Viren: \\u200eimage omitted\\n\\u200e', 'Viren: \\u200eimage omitted\\n\\u200e', 'Viren: \\u200eimage omitted\\n\\u200e', 'Viren: \\u200eimage omitted\\n\\u200e', 'Viren: \\u200eimage omitted\\n\\u200e', 'Viren: \\u200eimage omitted\\n\\u200e', 'Viren: \\u200eimage omitted\\n\\u200e', 'Viren: \\u200evideo omitted\\n\\u200e', 'Viren: \\u200eimage omitted\\n\\u200e', 'Viren: \\u200eimage omitted\\n\\u200e', 'Viren: \\u200eimage omitted\\n\\u200e', 'Viren: \\u200eimage omitted\\n\\u200e', 'Viren: \\u200evideo omitted\\n\\u200e', 'Viren: \\u200eimage omitted\\n\\u200e', 'Viren: \\u200eimage omitted\\n\\u200e', 'Viren: \\u200eimage omitted\\n\\u200e', 'Viren: \\u200eimage omitted\\n', 'Adamya: Dhanyawad ✨\\n', 'Viren: Appreciated how you guys talked to authority\\n', 'Adamya: Again dhanyawad ✨\\n\\nLooking forward to more (successful) protests .🌚\\n', 'Viren: Yessssss\\nNext time something similar to JNU😅\\n', 'Adamya: OMG yes, JNU is dream 🥲\\n', 'Viren: hum baanaayenge IITH Ko JNU🚩🚩🚩🚩\\n', 'Viren: Megh Kapoor ne suicide note choda thaa kyaa??\\n', 'Viren: Woh humlogo ke saath ek class karta thaa uska aaj exam thaa🥲🥲\\n', 'Adamya: Usk baare me koi update nhi h yrr\\n', \"Adamya: Director wasn't even acknowledging his suicide till someone mentions\\n\", 'Adamya: Mentioned*\\n\\nBt do u guys know why he had these backlogs?\\n', 'Viren: no idea but prof bhut jhaatu haii🥲 PTA nahi kya pdhataa haii uski class bhut Kam.hi log zaate\\n', 'Viren: Usne previous sem Mai ek aur courses Kia thaa humaare saath\\nUsmia ek din absent ho gya thaa toh sir ne usko 1 ghante sunaaya thaaa\\n', 'Viren: Tab online thaaa\\n', 'Viren: Woh sir bhi jhaatu they\\n', 'Viren: 🥲🥲\\n', 'Viren: Basically saare prof haii aise kuch Ko chod ke\\n', 'Adamya: 😂😂😂\\n', 'Adamya: Dude😂\\nConclusion of the conversation - tmre prof jhaatu h!\\nGot it😌\\n', 'Viren: Hao🥲🥲😅\\n', 'Adamya: Suno\\n', 'Adamya: Can i use ur clicks to make poster for silent day plz\\n', 'Viren: Haa no problem\\n', 'Viren: Put this on a mail😅😅😅\\n', 'Adamya: Fir sabko pta chl jayega mere paas chaaku h🥲\\n', 'Viren: 🥲🥲\\nAllowed hai naa in hostel😊😊😊\\n', 'Adamya: Sabji kaatne wala nhi h (wo alag baat h use sabji kaatne k liye hi hua h uska abhi tk)🥲\\n', 'Viren: Try something new then😎😎\\n', 'Adamya: Mil jaye chaaku, fir something new ka inauguration tmse kr dugi 🥲\\n', 'Viren: 😊😊Yess please\\n', 'Adamya: Damn!!! Depressed af😂\\n\\u200e', 'Viren: \\u200esticker omitted\\n', 'Viren: Sed\\n', 'Viren: Hey Adamya , are you  going on prom with someone 👉👈??\\n', 'Adamya: No, m not\\n', 'Viren: Me \\nYou\\nProm? 👉👈\\n\\n\\n\\n\\n\\n\\n\\n\\n\\n\\n\\n\\n\\nwill you be my prom partner?\\n', 'Adamya: Yess sure!\\n\\n\\n\\n\\n\\n\\n\\n(Tejas calls CY21 girls pedophile anyway💁🏻\\u200d♀️)\\n', \"Viren: Sometimes it's fun to be pedo 😅\\n\", 'Viren: 🍎🍓🍓\\n', 'Adamya: I guess 😂\\n', 'Viren: Accha I have one question , who told u what Tejas said 😁\\n', 'Adamya: Yrr ye nhi yaad ab, grp me hi baat chl rhi hogi tbhi pta chla....bht purana convo hogya h ye to\\n', 'Viren: Acchaa pichli baar TM gye they prom???\\n', 'Adamya: Hnn kyu?\\n', 'Viren: Jus asking 😁,\\n', 'Viren: Adamya , u know naa how to dance ?? \\nPractice karte hai😁\\n', 'Adamya: Yes plz, what time is that shuffle dance session?\\n', 'Viren: Pooche ke bataataa\\n', 'Adamya: 😂okk\\n', 'Viren: Woh log group performance ka kuch kar rahe maybe stage\\nDeadline 13th thaa\\n\\nPhuche Mai late kar diyaa mai😅\\n', 'Viren: APN khud se kar lenge\\n', 'Adamya: Even better\\n', 'Adamya: M jana nhi chahti thi udhr\\n', 'Adamya: So what time?\\n', 'Viren: Evening maii\\n', 'Viren: Us😅\\n', 'Adamya: Kidhr?\\n', 'Viren: My room maybe\\n', 'Adamya: Itna space h tere room me?\\n', 'Viren: Same tumhare jitna hi hai😅😅\\n', 'Viren: U know any spot??\\n', 'Adamya: Idk, acads?\\n', 'Viren: Haaa 😎\\n', 'Viren: C Mai haiii space\\n', 'Adamya: Ohkk great!\\nSunset baad chlte h\\n', 'Adamya: Thk h n?\\n', 'Viren: Haaa fine\\n', 'Adamya: Okk\\n', 'Adamya: 7 bje tk milte h acad C me\\n', 'Viren: Saath Mai chalte haii naa :)\\n', 'Adamya: Acha ok, to hostel circle aakr call krti m?\\n', 'Viren: Yupppp\\n', 'Viren: Adamya , are you coming naa???\\n', 'Adamya: Yess, bt m gonna be a bit late\\n', 'Adamya: M sry\\n\\nIf u eat ur dinner early then have ur dinner, we can go after 🥲\\n', 'Viren: Ohkk call or denaa jab free ho 🌚\\n', 'Adamya: Hn okkk\\n', 'Viren: Adamya tumhare fashion show kab haiii???\\n', 'Adamya: Yrr delay hogya h fashion show to\\n', 'Adamya: FASHION SHOW SCHEDULE:\\n\\nMaitreyi (I)            6.30 to 6.40 pm\\nCharaka (C)             6.40 to 6.50 pm\\nVyasa (F)                6.50 to 7.00 pm\\nBhaskara (B)           7.00 to 7.10 pm\\nGargi (J)                 7.10 to 7.20 pm\\nVarahamihira (H)       7.20 to 7.30 pm\\nKautilya (E)             7.30 to 7.40 pm\\nBhahmagupta (G)    7.40 to 7.50 pm\\nKapila (P)                7.50 to 8.00 pm\\nRamanuja-n (R)      8.00 to 8.10 pm\\nAryabhatta (A)        8.10 to 8.20 pm\\nSusruta (D)             8.20 to 8.30 pm\\n', 'Adamya: Warna ye seq tha\\n', 'Viren: Acchaa theek\\n', 'Viren: U are ready for fashion show????\\n', 'Adamya: Nhiiiii yrrrr🥲🥲🥲🥲🥲\\n', 'Adamya: Bht chaotic hogya h poora pod is smy\\n', 'Adamya: To m B block bhaag kr aagyi thi🥲\\n', 'Viren: 🙂\\n', 'Viren: Face pe painting ho gya????\\n', 'Adamya: Nhi, ab time bhi nhi h\\n\\u200e', 'Viren: \\u200evideo omitted\\n', 'Viren: Kidhar ho abhi????\\n', 'Adamya: Thnxxx\\n', 'Adamya: Also, eye makeup remove krk aati bss 15 min me\\n', 'Viren: Mai room pe hoon bahar aataa toh call karta hoon\\n', 'Adamya: Okkki\\n\\u200e', 'Viren: \\u200eimage omitted\\n\\u200e', 'Viren: \\u200eimage omitted\\n\\u200e', 'Viren: \\u200eimage omitted\\n\\u200e', 'Viren: \\u200eimage omitted\\n\\u200e', 'Viren: \\u200eimage omitted\\n\\u200e', 'Viren: \\u200eimage omitted\\n', 'Adamya: Thnxx, send grp pics too n\\n', 'Viren: Haa taka ke phone Mai haii usse leke bhjetaaa\\n', 'Adamya: Hn cool\\n\\u200e', 'Viren: \\u200eimage omitted\\n\\u200e', 'Viren: \\u200eimage omitted\\n\\u200e', 'Viren: \\u200eimage omitted\\n', 'Adamya: Dhanyawad ✨\\n', 'Viren: No worries\\n\\nDJ night or gye they???\\n', 'Viren: *pe\\n', 'Adamya: Hn thodi der k liye gyi thi\\n', 'Adamya: 30 min apprx\\n', 'Adamya: Tm log?\\n', 'Viren: Haaa gye they\\n\\nDJ wala jhnnaatu thaa🥲🥲😁\\n', 'Adamya: 😂Tere according poori duniya jhaatu h\\n', 'Adamya: Sober the tm log ya kuch prasad liya tha?\\n', 'Viren: Sober😁😁\\nZyada der tak dance ke liye\\n', 'Viren: Gaane aache nii they 🥲🥲\\n', 'Adamya: 12.30 pe to wo chle gye the😂\\n', 'Adamya: Hnn bt thodi der baad nobody cared\\n', 'Viren: Uske baad gaane ki jarurat nahii padiii😅😅😅\\n', 'Adamya: Tm log k trip ka kya hua?\\n', 'Viren: Jaa rahe 2 or 3 oct ko\\n', 'Adamya: Noicc, so itinerary kya h?\\n', 'Viren: By train mysore and whaan 2 day stay hai ig nd then bike se ooty(rent pe lenge PTA niii kaise but lenge) then ooty Mai 1 or 2 day then back \\nYe rough saa kuch abhi haii😅\\n', 'Adamya: 😂😂\\n', 'Adamya: Acha plan hai and it hurts me to say but have fun u guys !!🥲\\n', 'Viren: U wanna join ?🌚\\n', \"Adamya: I want to, I can't\\n\\nI'll join u guys for anantagiri trek.\\nLet me know when u plan🙄\\n\", 'Viren: Yesss sureeeeeeee😊\\n', 'Viren: 😅\\n', 'Viren: LMao ded\\n', 'Adamya: 😂ikr\\n', 'Adamya: Are did u go to ground today, i thought I saw u there but then u disappeared 🙄\\n', 'Viren: Yeah I saw you\\nMujhe lga tum busy ho in running(dedicated 😎)isliye nii disturb kia\\n', 'Viren: Tum kab aati ground???\\n', 'Adamya: Yrr dedicated nhi thi, chashme me paseena aa jata bc fir koi dikhayi nhi deta isliye notice nhi kr payi😂\\n', 'Adamya: Also, tu sch me 3 din se ground ja rha??????\\n', 'Viren: Haa😎\\n', 'Viren: Lens phna krr\\n', 'Adamya: Shaam ko hi????\\n', 'Viren: Haaa\\n', 'Adamya: Bawaal hai\\n', 'Adamya: Kamaal h💁🏻\\u200d♀️\\n', 'Viren: Mai pehntaa hoon mere power -2.5 haii🥲🥲\\n', 'Adamya: 😳😳😳😳😳😳\\n', 'Adamya: Itna to mera nhi h\\n', 'Viren: *1.5\\n', 'Viren: 😅\\n', 'Adamya: Ohh😂😂\\nStill bhut jyada h yrr\\n', 'Viren: Tumhare kitna haii??\\n', 'Viren: 🥲\\n', 'Adamya: Yrr yaad nhi \\nEk eye ka - 1.5 ya -1.75 h\\nDusre ka -1.75 ya -2.0 h\\n', 'Viren: Us😅😅\\n', 'Viren: Tm kitne din se aa rahe ground???\\n', 'Adamya: Mne Monday se resume kiya h\\n', 'Adamya: Beech me Milan aur townhall etc ki wjh se break hogya tha\\n', \"Adamya: I still can't believe ki tu teen din se aa rha h aur mne aaj notice kiya\\n\", 'Adamya: Kb tk wapas chla jata tha tu?\\n', 'Viren: After 7\\n', 'Viren: Sach bol raha maii😅😅\\n', 'Adamya: 😂 alright\\n', 'Adamya: Acha acha\\n', 'Adamya: Coach se baat kiya ya khud hi workout krta?\\n', 'Viren: Khud se \\nRunning and ek app usse workout\\n', 'Adamya: Kaunsa app?\\n', 'Adamya: kuch specific workout h ya full body workout?\\n', 'Viren: Some home fitness karke haii😅\\n', 'Viren: Full body\\n', 'Viren: Option rehta konsa karnaa\\n', 'Adamya: Bdhiya h yrr\\n', 'Adamya: Gym etc jane ka b socha h kya?\\n', 'Viren: Abhi nii maybe later ye poora karna hi abhi muskil haiii cause 1 months se zayda skip kar diyaa aanaa\\n', 'Viren: Yaha ki zym 🥲🥲\\n', 'Adamya: To kuch goal set kiya h kya?\\n', 'Adamya: 😂😂bekar hai but still jo b h yhi hai\\n', 'Viren: 10 rounds and ye app kuch 1 months ka haii jo 2 months lagega😅\\n', 'Adamya: Yrr ek tredmill b nhi h🥲\\nTredmill to mtlb basic h yrr\\n', 'Adamya: Kitni speed se?\\n', 'Viren: Haaa utna equipment toh mere 6th floor pe haii\\n', 'Adamya: Abhi kitne rounds lga rha?\\n', 'Viren: Normal not running\\n', 'Adamya: 😳😳😳😳 really!!!!!!!!!!\\n', 'Viren: 4🥲🥲🥲🥲 badi muskil se\\nPhale 6 thaa\\n', 'Viren: Haa\\n', 'Adamya: Bc ldke jldi progress kr lete h lekin 😒\\n', 'Adamya: Kya kya equipment h?\\nTredmill h kya?🤣\\n', 'Viren: Tredmil nii haii😅😅\\n', 'Viren: Baaki haii jo bhi hotaa\\n', 'Viren: Dumbbell waigra and all\\n', 'Viren: 4th yr waalo kaa haii\\n', 'Viren: Tum kitna round krti???\\n', 'Adamya: Ohhh noiccc\\n', 'Adamya: Yrr warmup 4-6 fir jo b coach bol deta workout!\\n', 'Adamya: Bt meri speed nhi h🥲\\n', 'Viren: Demnn nicee\\n', 'Viren: Aaa zayaaga 😎 slowly\\n', 'Adamya: Wo to aayegi hi😎\\n', 'Adamya: Yrr apne department ki hoodie/ t-shirt liya h tune?\\n', 'Viren: Maine hi design ki thi ek minute bhejta hoon\\n\\u200e', 'Viren: \\u200eimage omitted\\n\\u200e', 'Viren: \\u200eimage omitted\\n\\u200e', 'Viren: \\u200eimage omitted\\n', 'Viren: Tm log apne dept ki design kr rahe kyaa???????\\n', 'Adamya: Hnn bt kaafi confusion hogya h\\n', 'Viren: Design bna diyaa??\\n', 'Adamya: Yrr hnn\\n', 'Adamya: Bt we got to know ki chem engineering se clash kr rha h🥲\\n', 'Adamya: Aur sch me clash kr rha h\\n', 'Adamya: Also, t-shirt h kya tere paas?\\n', 'Viren: Send oncee\\n', 'Viren: Haaa\\n', 'Viren: Design\\n\\u200e', 'Adamya: \\u200eimage omitted\\n\\u200e', 'Adamya: \\u200eimage omitted\\n\\u200e', 'Adamya: \\u200eimage omitted\\n\\u200e', 'Adamya: \\u200eimage omitted\\n\\u200e', 'Adamya: \\u200eimage omitted\\n\\u200e', 'Adamya: \\u200eimage omitted\\n', 'Viren: Ye toh cheating haii😅😅😅\\n', 'Viren: Kon design kia??\\n', 'Adamya: Hai ek batch ka\\n', 'Adamya: Ritik if u know\\n', 'Adamya: 🥲change kr dege\\n', 'Viren: Design waalaa??\\n', 'Viren: Modify kar skate thodaa saa humaare dept se bhut kam logo nee buy kiaa thaa toh\\n', 'Adamya: Nhi MSc walaa 😂\\n', 'Viren: Acchha\\n', 'Adamya: Na bhi modify kre to kya hi fark pdega tm logo ko🥲\\n', 'Adamya: Do i guys care?\\n', 'Viren: Matlab mai design ke liye bol raha accha nii lg rahaa\\n', 'Adamya: Yes then kya modify krna h???\\n', 'Viren: Chemical Science door door haii😅\\n', 'Adamya: U*\\n', 'Adamya: 1. \\nAnd?\\n', 'Viren: No we don’t 😅😅😅\\n', 'Viren: Color scheme bhi thodi odd lag rahii blue waale maii\\n', 'Adamya: 😂 bdhiya fir\\n\\nAnyhow we were thinking of editing out that text part coz it looked kind of chaotic!\\nBut maybe it looks good on person so ek baar t-shirt dikha dena yrr\\n', 'Adamya: Baakiyo me?\\n', 'Viren: Red ka sahii \\nGreen ka ptaa niii 😅 \\nWaise green mat lenaa😅😅\\n', 'Viren: Haa le lenaaa\\n', 'Adamya: 😂😂okk\\n', 'Adamya: And?\\n', 'Viren: Maybe font family change kar skate more readable and less cluster lage\\n', 'Adamya: Thk hai\\n\\u200e', 'Viren: IMG_5964.HEIC \\u200edocument omitted\\n\\u200e', 'Viren: IMG_5999.HEIC \\u200edocument omitted\\n\\u200e', 'Viren: IMG_6004.HEIC \\u200edocument omitted\\n\\u200e', 'Viren: IMG_6002.HEIC \\u200edocument omitted\\n\\u200e', 'Viren: IMG_6013.HEIC \\u200edocument omitted\\n\\u200e', 'Viren: IMG_6289.HEIC \\u200edocument omitted\\n\\u200e', 'Viren: IMG_6014.HEIC \\u200edocument omitted\\n\\u200e', 'Viren: IMG_6295.JPG \\u200edocument omitted\\n\\u200e', 'Viren: recorded-2505996010765.MP4 \\u200edocument omitted\\n\\u200e', 'Viren: IMG_6013.JPG \\u200edocument omitted\\n', 'Adamya: Yrrrr❤️\\n', 'Adamya: Kitni distance pr h jagh?\\n', 'Adamya: Aur kaise gye the\\n', 'Viren: 7 -8 km from praneeth’s home\\nAnd Praneeth’s home is 150km from here\\n', 'Viren: Bike 😅\\n', 'Viren: 🌚😁\\n', 'Adamya: Bdhiya!!!!\\n', 'Adamya: Dur h fir to mtlb bhr ka\\n', 'Viren: Hein???🙂\\n', 'Adamya: 😂😂😂\\n', \"Adamya: It's far enough then😂\\n\", 'Adamya: Bc angrej 😂😂\\n', 'Viren: Accha haaa😅🌚\\n', 'Viren: Nahii sentence smjh nii aaya😅😅\\n', 'Adamya: 😂😂thkk\\n', 'Viren: \\u200eYou deleted this message.\\n', 'Adamya: Song tha to resend kr de🥲\\n', 'Viren: https://open.spotify.com/playlist/6Mz3UZ34ijQb5eW4O8GSXk?si=gJLi9QAgR-Sc6q6ab-rK7w&pt=8bdc65cd24304c6796797772f2e5a2d2\\n', 'Viren: Galt playlist bhej di thi😅😅\\n', 'Adamya: 😂thk ba\\n\\u200e', 'Viren: \\u200esticker omitted\\n', 'Adamya: Kaagaz ki naav🥺❤️\\u200d🔥\\n', 'Viren: 🤌🏻❤️❤️❤️❤️ yupppppp\\n\\n\\nListen Co2 indie English haii but lyrics osmmm haii🌚\\n', 'Adamya: Hn suna Maine, prateek Kuhad n\\nAchaa h wo bhi!!!\\n', 'Viren: Yesssss\\n\\u200e', 'Viren: \\u200eContact card omitted\\n', 'Viren: Kya kaam thaa??\\n', 'Adamya: Thnxxxx\\n', 'Adamya: Ek post doc fellow ka pta Krna tha\\n', 'Adamya: Mohd hafez something naam h\\n', 'Adamya: Do u know?\\n', 'Viren: Suïcide se related haii kya??\\n', 'Viren: No\\n', 'Adamya: Yess\\n', 'Viren: Ohkkk\\n', 'Adamya: Oye busy h kya?\\n', 'Viren: Nahi\\n', 'Viren: Kya hua??\\n', 'Adamya: Yrr decoration k liye ideas chahiye\\n', 'Adamya: Anime props specifically\\n', 'Adamya: U watch anime ryt?\\n', 'Viren: Yess\\n', 'Viren: Kya decorate krna hai???\\n', 'Adamya: Freshers props basically\\n', \"Adamya: Wait I'll call in sometime\\n\\u200e\", 'Viren: \\u200eContact card omitted\\n\\u200e', 'Adamya: \\u200eimage omitted\\n\\u200e', 'Viren: \\u200eimage omitted\\n\\u200e', 'Viren: \\u200eimage omitted\\n\\u200e', 'Viren: \\u200eimage omitted\\n\\u200e', 'Viren: \\u200eimage omitted\\n\\u200e', 'Viren: \\u200eimage omitted\\n\\u200e', 'Viren: \\u200eimage omitted\\n\\u200e', 'Viren: \\u200eimage omitted\\n', 'Adamya: Ayeeee, achi aayi h n....!!!!\\n', \"Adamya: What's that shadow thing?\\n\", 'Viren: Laptop screen se capture kia naa isliye\\n', 'Viren: Fresher lag rahii😅😅😅\\n', 'Viren: Chotti bachhi #kiddo\\n', 'Viren: btw Happy Children’s day😅😅\\n', 'Adamya: Oh ok\\n', 'Adamya: Sounded like tejas just typed this msg 🥲\\n', 'Adamya: Same to u bache #jnr🌚\\n', 'Viren: 😅😅😅\\n', 'Adamya: Dhanyawad..!!\\n', 'Adamya: Heyy, what happened???\\n', \"Adamya: How're u?\\nPraneeth told me u got sick?\\n\", 'Viren: Haa \\nAppendicitis \\nSo surgery karaani haii isliye Mumbai aayaa 🙃\\n', 'Adamya: Akele gya h kya ya dost log h?\\n', 'Adamya: Also, kb phuchega?\\n', 'Viren: Akele\\n', 'Viren: Today 4am\\n', 'Viren: Idhar  bhaiyaa haii naaa\\n', 'Adamya: Haoo, phuch gya bhaiya k yha?\\n', 'Viren: Haooo 😎\\n', 'Viren: Delhi kab jaa rahe tum???\\n', 'Adamya: Kb h surgery?\\n', 'Adamya: Wapas hyd aayega\\n', 'Adamya: ?\\n', 'Viren: Kal doctor se appointment toh woh baataayenge\\n', 'Viren: Haaaa\\n', 'Viren: 2-3 mai hi hoga most probably\\n', 'Adamya: Acha ok\\n', 'Adamya: Kb wapas aayega?\\n', 'Adamya: Vns phle\\n', 'Adamya: 8th night\\n', 'Adamya: Then 13th ko Delhi\\n', 'Viren: After 10 days \\nIf all goes well 😅\\n', 'Adamya: Are all goes well ka kya mtlb h\\n', 'Viren: Appendicitis normal hua toh sometimes severe case Hota stomach ke around ka area infected ho jaataa toh phir zayda problem bur rare case hotaa\\n', 'Adamya: Abhi itna b diagnosis nhi hua h kya?\\n', 'Adamya: Kb pta chlega fir ki kya scene h tere appendix ka\\n', 'Viren: Tomorrow\\n', 'Viren: Normal test hua tha bas Hyderabad\\n', 'Viren: Main\\n', 'Adamya: Ohh acha\\n', 'Adamya: Thk h yrr khyal rkh!\\n\\nAur btana kl doc jo bole\\n', 'Viren: Haooo :))))))\\nThanks 😊\\n', 'Adamya: Khush rho🌚\\n', 'Viren: Haoo😊\\n', 'Adamya: So..... Updates?\\n', 'Viren: Ho gya surgery 🙃🙃\\n', 'Viren: 8 mm ka appendix tha\\n', 'Viren: Acute\\n', 'Viren: 2 days no food no water\\n', 'Adamya: Discharge kr diya?\\n', 'Viren: Kal karenge\\n', 'Adamya: 😳😳😳\\n', 'Adamya: Net to tha🌚\\n', 'Viren: Abhii phone mila😅😅\\n', 'Adamya: Thk h aaram kr....wapas bhaiya k yha jayega kl?\\n', 'Viren: Haa 🙃 doctor boli 11-12 di rest no travel and all\\n', 'Adamya: 11-12 din rest...!!!\\nKya hi kroge itne din\\n', 'Viren: Rest😅😅\\n', 'Viren: In peace\\n', 'Adamya: Taaliyan🙂\\n', 'Adamya: Sahi h yrr...Maje h tmre hi😂\\n', 'Viren: Mumbai ghum lenge 🌚🌚\\n', 'Adamya: No travel b to bole h\\n', 'Viren: Long travel\\n', 'Viren: 3 din kaafi dukh dard bhare they\\n', 'Adamya: Thk h do chaar photographs showoff k liye le lena captioning with #mumbai trip.... nobody will know anyway 🌚\\n', 'Viren: Haooo😎😎\\n', 'Adamya: Sch me ghumne ka plan h kya🙄\\n', 'Viren: Haa 11-12 din bed pe nii reh sakta🥲\\n', 'Adamya: Jinda ho, net chl rha h bhut h😌😂\\n', 'Adamya: Noicc enjoy..!\\n', 'Viren: Haooo\\nEnjoy u tooo\\nIn Banaras\\n', 'Adamya: I will 🥺\\n\\u200e', 'Adamya: \\u200evideo omitted\\n\\u200e', 'Adamya: \\u200evideo omitted\\n', 'Viren: Idhar le aanaaa\\n', 'Viren: 😾😾\\n', 'Adamya: Bhaag gyi/ gya whatever it was\\n', 'Viren: 😒😒 mai itne mai dosti kar leta\\n', 'Adamya: Tf dude\\n', 'Adamya: I offered him/her dark chocolate to eat\\n', 'Adamya: He/she bloddy rejected and took off\\n', 'Adamya: What can I do\\n', 'Adamya: Tried my best🥲\\n', 'Viren: They like chocolates??\\n', 'Adamya: Idk🥲\\nBut that was all i had\\n', 'Adamya: Also, itna jyada overconfidence 🤢\\n', 'Viren: You can win everything with love : (quote by some great dude - name starts with V)\\n', 'Viren: 😅😎😎\\n', 'Adamya: Tu koi billi paas bula kr dikha fir baat karna\\n\\u200e', 'Viren: \\u200eimage omitted\\n', 'Viren: Ye dekho\\n', 'Adamya: Paas h ye?\\n', 'Adamya: Dur se koi b photo le skta h\\n', 'Viren: Haa kafii\\n', 'Adamya: Also looks like she/ he hates u already 😂\\n', 'Viren: Pass tha really 😒😒\\n', 'Adamya: Ghanta😂😂😂\\n', 'Viren: She is chilling\\n\\u200e', 'Adamya: \\u200evideo omitted\\n', \"Adamya: More like judging u.....she's like aagya ek aur bacha photo kheechne😂\\n\", 'Viren: Next time video bhejta hoon 🗿\\n', 'Adamya: Gd luck ✨\\n', 'Viren: 🗿\\n', 'Viren: When u are coming back??\\n', 'Adamya: 23 ko phuch jayege\\n', 'Viren: Happy Birthday Doobey 🎂🎂🎂🎂🎂\\n', 'Adamya: Thank you 🥺\\n', 'Viren: Sunana\\n\\nPraneeth Ordered Cake for you\\n', 'Adamya: Ik\\n', 'Adamya: Where are you\\n', 'Viren: Free hona toh call karna okk\\n', 'Viren: Kautiy\\n', 'Viren: Kautilya\\n', 'Adamya: M aa ja rhi\\n', 'Viren: Matlab 😅\\n', 'Adamya: Bhej de photos aur vdos\\n\\u200e', 'Viren: \\u200evideo omitted\\n\\u200e', 'Viren: \\u200eimage omitted\\n\\u200e', 'Viren: \\u200eimage omitted\\n\\u200e', 'Viren: \\u200evideo omitted\\n\\u200e', 'Viren: \\u200evideo omitted\\n\\u200e', 'Viren: \\u200evideo omitted\\n\\u200e', 'Viren: \\u200eimage omitted\\n\\u200e', 'Viren: \\u200eimage omitted\\n\\u200e', 'Viren: \\u200eimage omitted\\n\\u200e', 'Viren: \\u200evideo omitted\\n\\u200e', 'Viren: \\u200eimage omitted\\n\\u200e', 'Viren: \\u200evideo omitted\\n\\u200e', 'Viren: \\u200eimage omitted\\n\\u200e', 'Viren: \\u200eimage omitted\\n\\u200e', 'Viren: \\u200eimage omitted\\n', 'Viren: Ye lo\\n', 'Viren: 🎂\\n', 'Adamya: Dhanyawad 😌\\n', 'Viren: Kidhar haii ??\\n', 'Adamya: Canteen ja rhi\\n', 'Adamya: Tu kidhr\\n', 'Viren: Amphitheater mujhe lga idhar haii\\n', 'Adamya: Nhi dj bnd hogya n????\\n', 'Adamya: Are happy new year!!!!!!✨\\n', 'Viren: Haa\\n', 'Viren: Happy eww year\\n', 'Viren: *new\\n', 'Viren: Canteen mai hai kya!??\\n', 'Adamya: 😂\\n', 'Adamya: Yepp\\n', 'Adamya: Mtlb ab ja rhi😅\\n', 'Viren: Acchha \\nWanna hangout??\\n', 'Adamya: Chlo, kidhr h tu?\\n', 'Viren: Canteen\\n', 'Viren: Tum??\\n', 'Adamya: Are\\n', 'Adamya: Aarhi udhr hi\\n', 'Viren: Hostel circle ke pass aajja\\n', 'Adamya: Haoo\\n', 'Viren: Call kar dena jab aaa jaaye\\n', 'Adamya: Aagyi\\n', 'Viren: Aa raha ek min\\n', 'Adamya: 💁🏻\\u200d♀️\\n\\u200e', 'Viren: \\u200evideo omitted\\n\\u200e', 'Viren: \\u200evideo omitted\\n\\u200e', 'Viren: \\u200eimage omitted\\n\\u200e', 'Viren: \\u200evideo omitted\\n\\u200e', 'Viren: \\u200eimage omitted\\n\\u200e', 'Viren: \\u200evideo omitted\\n', 'Viren: !:)\\n', 'Adamya: Batana nhi kisi ko🥲\\n', 'Viren: Theek haii \\nBut kyo😅\\n', 'Adamya: Kyuki pta nhi h kisi ko ki madam idhr aa rhi h🥲\\n', 'Adamya: Aur ye b mt batana kisi ko😅\\n', 'Viren: Acchha theek\\nTu jaa rahi phir???\\n', 'Adamya: Nhi.... Patancheru jaugi wha tk dekhte h bus cab jo b hoga krwa dugi\\n', 'Adamya: Rdm me hi hu tb tk🥲\\n', 'Adamya: Hogyi teri street photography?\\n', 'Viren: Secundrabad se bolna metro le le pass mai hi hota\\n', 'Viren: Chod de🗿\\n', 'Adamya: Yrr\\n', 'Adamya: Bus kr le phle wo 🥲\\n', 'Adamya: Fir metro ka dekhege\\n', 'Viren: Theek jaane se pahle call kar diyo\\nAgar mai idhar hoonga then pick up kar loonga\\n', 'Adamya: Nhi Train delay h, jyada raat ho jayegi, aa jao tm log wapas\\n', 'Viren: Acchha\\n', 'Adamya: Yrr aaj shaam tk me free ho to batana n\\n', 'Viren: Haa free hoon\\n', 'Viren: Kya hua??\\n', 'Adamya: Yrr praneeth ka bday h to mereko usi se related puchna tha\\n', 'Adamya: Chai piyega shaam me?\\nMilkr hi btati n m\\n', 'Viren: Accchh\\n', 'Viren: Theek haii call kar denaa jab aanaa\\n', 'Adamya: Okkkki\\n', 'Viren: Helo\\nAa rahi kyaa??\\n', 'Adamya: Hnn aa rhi bss\\n\\u200e', 'Viren: IMG_1430.jpg \\u200edocument omitted\\n', 'Adamya: Sun n\\n', 'Adamya: Pls console kr lena use if needed\\n', \"Adamya: And don't tell him ki tje pta tha phle se\\n\", 'Adamya: 🥲\\n', 'Viren: U told??\\n', 'Adamya: Yep\\n', 'Adamya: Ye nhi btaya\\n', 'Viren: Where are u ??\\n', 'Adamya: A block\\n', 'Adamya: Medicine le aakr\\n', 'Viren: Haa\\n', 'Viren: Thanks for medicine & woh sone chala gya\\n', 'Adamya: Thk ba\\n', 'Viren: Aa rahi kyaa??\\n', 'Adamya: Kidhr tu?\\n', 'Adamya: Hostel circle aa n\\n', 'Viren: Udhr hi hoon\\n\\u200e', 'Viren: \\u200eimage omitted\\n', 'Viren: Ye baar baar phone kar raha🗿\\n', 'Adamya: Wet kro police ka😂😂😂😂😂\\n', 'Adamya: Wtf😂😂😂😂\\n', 'Adamya: Yrrr m krti hu call\\n', 'Viren: Theek 🗿\\n', \"Adamya: Sry..... I'll handle🥲\\n\", 'Viren: Raza saheb naam aa raha\\n', 'Viren: Whatsapp pe\\n', 'Viren: No worries 😎😎\\n', 'Adamya: Wo daroga hi h\\n', 'Adamya: Bsdwala\\n', 'Adamya: Kl tk try krte h written application bhej de\\n', 'Viren: 😅😅\\nMuslim hai??\\n', 'Adamya: Hindu\\n', 'Adamya: Pandit ig\\n', 'Viren: Raza saheb naam kyo rakha chutiyaa\\n', 'Adamya: Yrr Raja hindu hote h n😂\\nNawab Muslim hote h\\n', 'Viren: Acchha 😅😅\\n', 'Adamya: Sun n\\n', 'Adamya: Tu block kr de apni trf se\\n', 'Adamya: Aur koi contact mt rkh\\n', 'Viren: Kar diyaa 3-4 number se kiaa tabhi se\\n', 'Adamya: Are 🤦🏻\\u200d♀️\\n', 'Adamya: Conference kr skta jb call aaye tb???\\n', 'Viren: Theek haiii\\n', 'Adamya: M baat kr lugi arshi bn kr🥲\\n', 'Viren: 🗿🗿james bond\\n', 'Adamya: Tfri mt kr, ldkiya bhagane wale insaan🥲\\n', 'Viren: 🌚 🤌🏻\\n\\u200e', 'Adamya: IMG_20230110_140213169_2.pdf • \\u200e1 page \\u200edocument omitted\\n', 'Adamya: Phn chahiye 🥲\\nFree hona tb btana\\n', 'Viren: 2 pm se lab haiii uske pahle free hai toh le lenaa otherwise 4:30 ke baad\\n', 'Viren: Call aaya tha uskaaa\\n', 'Adamya: Puch rha ya bta rha?\\n', 'Viren: Bta raha\\n', 'Adamya: Kya bola?\\n', 'Viren: Kuch nahiii\\n', 'Viren: Mai phone nahi uthaaya\\n', 'Adamya: Thk h , block kr dena\\n', 'Viren: Hao\\n', \"Adamya: Apne number se call krugi, they know that she's with me!\\n\", 'Viren: Ye nahi batana thaa naa ig unko\\n', 'Adamya: Apni mrji se nhi btaya h🥲\\n', 'Viren: Ohh UP Police 😎\\n', 'Adamya: Nhiii😂\\n', 'Adamya: Ghrwalo ne guess kiya\\n', 'Viren: Ohkkkk\\nApplication vhej diyaa??\\n', 'Adamya: Monday ko jaugi\\n', 'Adamya: Aaj office bnd rhege\\n', 'Adamya: Hopefully after application ye sb sort ho jayega\\n', 'Adamya: Call aaye kya daroga k?\\n', 'Viren: Naaaa\\n', 'Viren: \\u200eYou deleted this message.\\n', 'Viren: \\u200eYou deleted this message.\\n', 'Viren: \\u200eYou deleted this message.\\n', 'Viren: \\u200eYou deleted this message.\\n', 'Viren: \\u200eYou deleted this message.\\n', 'Viren: \\u200eYou deleted this message.\\n', 'Viren: \\u200eYou deleted this message.\\n', 'Viren: \\u200eYou deleted this message.\\n', 'Viren: Ganga Sent\\n', 'Viren: She is your Secret Admirer\\n', 'Adamya: Bhej chuki h mje b\\n', 'Adamya: Why secret🥲\\n', 'Viren: Acchha\\n', 'Adamya: Bc🤣\\n', 'Adamya: Del kr diya😂\\n', 'Viren: 🗿 bhej chuki hai naa\\nWhy waste ahh space naaa\\n', 'Viren: Kyoki secretly admire karti haii\\n', 'Adamya: 😂😂how considerate\\n', 'Adamya: To tje kaise pta chla😂\\n', 'Adamya: Thk h , tfri kr rhi bss, ignore!\\n', 'Viren: Photos se\\n', 'Viren: Koi naaa\\n', 'Viren: Nice DP 🐈\\n', 'Adamya: Usme to tu b hai🌚\\n', 'Adamya: Dhanyawad 😌\\n', 'Viren: But to focused subject haii\\n', 'Adamya: 🙄thk\\n', 'Adamya: Hogya tera e-summit khtm?\\n', 'Viren: Kal last dayy haii\\n', 'Viren: Kal bhi azaanaa\\n', 'Viren: With your friends\\n', 'Adamya: Kisi ko nhi aana......e-cell ka naam sunkr mna kr diye log🌚\\n', 'Viren: Msc ☕️\\n', 'Adamya: BTech walo se pucha tha mne🙄\\n', 'Viren: Acchaa 😅 koi naa\\n', 'Viren: Lab mai haii??\\n', 'Adamya: Yep🥲\\n', 'Viren: Kabhi end hoga??\\n', 'Adamya: Kabhi ka kya mtlb h🥲\\n', 'Viren: Kab??😅\\n', 'Adamya: 12-1 bje tk , hopefully 💁🏻\\u200d♀️\\n', 'Adamya: Tu kidhr?\\n', 'Viren: Audi\\n', 'Viren: Jaana toh batana mai idhar hi haii\\n', 'Adamya: Kb tk rhega?\\n', 'Adamya: Thk h\\n', 'Adamya: Kyu h udhr?\\n', 'Viren: Jab tak hai jaan\\n', 'Viren: Aise hi bakchodi\\n\\u200e', 'Viren: \\u200evideo omitted\\n', 'Adamya: Ohh sb heads 🌚\\n', 'Viren: Haaa🌚🌚\\n', 'Adamya: Hai kya abhi tk?\\n', 'Viren: Haaa\\n\\u200e', 'Viren: DSC09699.ARW \\u200edocument omitted\\n', 'Adamya: 😂😂\\n', 'Adamya: Besssst❤️😂\\n\\u200e', 'Viren: \\u200evideo omitted\\n', \"Adamya: How insensitive yrr, that's me crying 🥲\\n\", 'Viren: Haaa dikh rahaa\\nAb toh aadat si aise jeene mai\\n', 'Viren: 😅\\n', \"Adamya: 😂😂\\nHnn\\nRDM ne rape itna normalise kr diya h , everybody's making fun of it🥲\\n\", 'Adamya: Also, poora vdo record kiya h ky?\\n', 'Viren: Haa kuch log rape ke time hass rahe they 🗿😅😅\\n', 'Viren: Haaa BTL bhej degaa\\n', 'Adamya: Sch me???????😳\\n', 'Adamya: Haoo\\n', 'Viren: Hao 😅😅 nvm \\nGreat performance\\n', 'Adamya: Ofdamncourse it should be🌚\\n', 'Adamya: Dhanyawad 😅\\n', 'Viren: Toh party when 🗿\\n', 'Adamya: Jb tu plan kr le yrr, from InFocus for winning medals🏅\\n', 'Viren: De diyaa tu nahi thi 🌚\\nNow for your oscar performance 😎\\n', 'Adamya: 😒ho jayegi meri trf se b party, tu nhi rhega\\n', 'Viren: 😒😒😒\\nRdm wale they u disappeared\\n', 'Adamya: Kb disappeared?😂\\n', 'Viren: After nukkad 🗿\\n', 'Adamya: Mereko sb mile b block trf, tu hi disappear hua tha🌚\\n', 'Adamya: Aur kidhr h abhi?\\n', 'Viren: Room\\n', 'Viren: Maybe tu dusre group mai hogi 😅\\n', 'Adamya: Dusra grp kaunsa h?\\n', 'Adamya: Ok , rh\\n', 'Viren: Rh Matlab\\n', 'Viren: Tujhe pta hogaa naaa tu thii\\nPhook ke aayi thi kyaaa😒😅\\n', 'Adamya: Kaisi baatein kr rha h🥲\\nPhook rha h kya room me?\\n', 'Viren: Nahiii🗿🗿\\n', 'Adamya: Thk h mereko jacket chahiye isliye pucha!\\n', 'Adamya: Hand over my damn jacket🙂\\n', 'Viren: Room aa jaaa\\n', 'Adamya: Neeche tk aajaa yrr\\n', 'Adamya: Aur RDM ka black kurta h wo b rkh le apne paas\\n', 'Adamya: Tejas ko de diyo\\n', 'Viren: Lab haii??\\n', 'Adamya: Lab jana h\\n', 'Adamya: Abhi🥲\\n', 'Viren: Phir lab ke baad lenaa\\nAbhi I’m tired mai utha neech nahi aa pungaaaa\\n', 'Adamya: 🙄😒thk h\\n', 'Viren: Happy Republic Day \\nIn Lab 🥼 🐈🌚\\n', \"Adamya: I'm ~dead~ happy celebrating in lab 🙂\\n\\n\\nSame to you though 🌚\\n\", 'Viren: Kab khatm hoga lab?\\n', 'Adamya: Late ho jayega\\n', 'Adamya: 1-2 bje tk\\n', 'Adamya: Jyada late hua to kl le lugi\\n', 'Viren: Haoo\\n', 'Adamya: Kbhi call receive b kiya kr....!\\n', 'Adamya: Kidhr h?\\n', 'Viren: Kab kiyaaa\\n', 'Viren: ??\\n', 'Adamya: Abhiiii\\n', 'Viren: Vyasa\\n', 'Viren: Nii ayaa ji\\n', 'Viren: Tu kidhar??\\n', 'Adamya: Thk jb room jana tb btana\\n', 'Adamya: Aise hi walk kr rhe bahar\\n', 'Viren: Akele?\\n\\u200e', 'Adamya: \\u200eimage omitted\\n', 'Viren: 🫁🫀\\n', 'Viren: Good night 👍😅😅\\n', 'Adamya: Gd nyt🥱\\n', 'Viren: Police ne phone kiaa thaaaa\\n', 'Adamya: bola kch?\\n', 'Viren: Lab tha uthaaya nahii\\n', 'Adamya: acha ok then\\n', \"Adamya: ignore, anyway in a few days she's leaving\\n\", 'Viren: All sorted??\\n', 'Adamya: hnnn\\n', 'Viren: Cool :))) \\nLemme know if u need any help\\n', \"Adamya: hn obviously i'll😅\\n\\u200e\", 'Viren: \\u200eimage omitted\\n', 'Adamya: nhi\\n', 'Adamya: aur option dikhao😂\\n', 'Viren: Madam bas itna hi haii😅😅😅\\n', 'Viren: Photo bhejo uski\\n', 'Adamya: dhundkr bhejti\\n', 'Adamya: kl tk\\n', 'Adamya: Room me rhega n?\\n', 'Viren: Haa\\n', 'Viren: Hoon\\n', 'Viren: Kya huaa??\\n', 'Viren: Lab mai haii??\\n', 'Adamya: Kuch nhi, bss puch rhi\\n', 'Adamya: Hn\\n', 'Viren: Okay \\nLab ke baad aayegi??\\n', 'Adamya: Hn aaungi, considering the fact ki guard n dekh le!\\n', 'Viren: Haa theek\\n', 'Viren: Ek baar call kR denaaa\\n', 'Adamya: Ok\\n', 'Adamya: Gya kya tu?\\n', 'Viren: Nahiiii \\nNahii jaa raha maii\\n', 'Adamya: Noicc\\n', 'Adamya: Late ho jayega mje\\n', 'Viren: Ohkkk\\n', 'Viren: Raat ko kya scene huaa thaaa??????\\n', 'Adamya: Kuch nhi\\n', 'Viren: Kidhar haii abhi???\\n', 'Adamya: E block aa rhi\\n', 'Adamya: Room me h tu?\\n', 'Viren: Nahii aa raha 5 min maiii\\n', 'Viren: *10 min mai\\n', 'Adamya: Okk\\n', 'Adamya: Canteen aana fir\\n', 'Adamya: Room hi aao🥲\\n', 'Viren: Haoo\\n', 'Viren: Kidhar haiii??\\n', 'Adamya: Lab ja rhi yrr\\n', 'Adamya: Tu kidhr h?\\n', 'Adamya: Aur kya hua?\\n', 'Viren: Room\\n', 'Viren: Nii kuchh nii aisee hii phuchaa\\n', 'Viren: Lab baad aayegii\\n', 'Viren: ??\\n', 'Adamya: Hnnn\\n', 'Viren: Cool\\n', 'Viren: Call kar dio\\n', 'Adamya: Hao\\n', 'Adamya: Yrr meri black jacket tere room me h kya?\\nDekh lena n ek baar\\n', 'Viren: Idhar toh nahii haii\\n', 'Adamya: Where r u????\\n', 'Viren: Room\\n', 'Viren: Kya huaa??\\n', 'Adamya: Sunset dekhne chl rha???\\n', 'Viren: Haooo\\n', 'Viren: Abhii kitna time hone mai\\n', 'Viren: ?\\n', 'Adamya: Mje nhi pta\\n', 'Viren: Kidhar hai??\\n', 'Adamya: Hostel circle\\n', 'Viren: Aata hoon\\n', 'Adamya: Doob gya sooraj🥲\\n', 'Viren: Ohh sed 🥲🥲🗿\\n', 'Viren: Nii jaa rahi phir???\\n', 'Adamya: Nhi ab kl jayege\\n', 'Viren: Theekk\\n', 'Adamya: Sogya kya?\\n', 'Viren: Nii\\n', 'Adamya: Jb room me rhna to call kr dena n\\n', 'Adamya: Mt Krna call ab m sone ja rhi\\n', 'Viren: Itna zaldi\\n', 'Viren: Aa raha ruk naa\\n', 'Viren: Kidhar haiii??\\n', 'Adamya: Main gate\\n', 'Adamya: Tu kidhr h?\\n', 'Viren: Room\\n', 'Viren: Kings??\\n', 'Adamya: Hnn, aagyi ab to wapas\\n', 'Adamya: Aaungi aaj m...!\\n', 'Viren: Okkk call kar dio\\n', 'Viren: Kidhar haii??\\n', 'Adamya: Lab se aa rhi wapas\\n', 'Adamya: Tu kidhr h?\\n', 'Viren: Main stage\\n', 'Viren: Aajaa\\n', 'Adamya: Khtm ab to sb\\n', 'Viren: Haa\\n', 'Viren: Kidhar haiii abhii??\\n', 'Adamya: H block\\n', 'Adamya: Aaja\\n', 'Viren: Kautilya aayegi??\\n', 'Adamya: Nhi, kl aati hu\\n', 'Viren: Okkkkk\\n', 'Viren: Kidharr haiii??\\n', 'Adamya: Amphitheatre aayi abhi just\\n', 'Viren: Kidhar baithii haiiii\\n', 'Adamya: Idhr\\n', 'Adamya: Tu kidhr h?\\n', 'Viren: 🏄\\u200d♂️\\n\\u200e', 'Viren: \\u200eimage omitted\\n', 'Adamya: Acha udhr h kya\\n', 'Adamya: Abhi wohi se aayi m\\n', 'Viren: Jaa rahii kyaa\\n', 'Adamya: Nhiiii\\n', 'Adamya: Football ground?\\n', 'Viren: Room mai hoon\\n', 'Viren: Baad mai aaungaa\\n', 'Adamya: Pre Concert preparations kr rhe ho kya?\\n', 'Viren: Niii kii mahasivratri haii naaa\\n', 'Viren: Bas weed🍃\\n', 'Viren: Weed chaiye???\\n', 'Adamya: 😂okk\\n', 'Adamya: Nhiii\\n', 'Adamya: High on life ✌🏻\\n', 'Viren: 🏄\\u200d♂️🏄\\u200d♂️us\\n', 'Viren: Concert ke baad aayegi???\\n', 'Adamya: Hnn\\n', 'Viren: Okk call kar dio\\n', 'Adamya: Sone lgna agr to msg kr dena\\n', 'Viren: Haaaa\\n', 'Viren: Kidhar haii??\\n', 'Viren: Aa rahii kyaa ??\\nMai room jaa rahaa\\n', 'Adamya: Hn bss ek min\\n', 'Viren: Campus ke bahar ho kyaaa? Abhii\\n', 'Viren: Adamya kidhar haiii?\\n\\u200e', 'Adamya: \\u200evideo omitted\\n', 'Adamya: Kidhr h tu?\\n', 'Adamya: Football ground???\\n', 'Viren: Haaa\\n', 'Viren: What are u doing 🏄\\u200d♂️🏄\\u200d♂️\\n', 'Adamya: 😂Pdh rhi\\n', 'Adamya: Presentation h kl\\n', 'Viren: Acchaa all the bestttttt\\n', 'Viren: Aayegi dj mai??\\n', 'Adamya: Nhi aaungi aaj\\n', 'Viren: Ohkkkk\\n', 'Adamya: Kha h???\\n', 'Viren: Room\\n', 'Adamya: Busy h kya\\n', 'Viren: Abhii nahii \\nKya huaaa??\\n', 'Adamya: Kuch nhi\\n', 'Adamya: Aa rhi fir\\n', 'Viren: Okkkkk\\n\\u200e', 'Adamya: \\u200eContact card omitted\\n', 'Adamya: Tmri floor ki kisi ne kr di h complaint isliye guard ghum rha h💁🏻\\u200d♀️\\n', 'Viren: Kon bola??\\n', 'Viren: Usually 11 bje ke baad aata rehta guard\\n', 'Adamya: Jiski complaint hui h wo🥲\\n', 'Viren: & dustbin mai 6-7 daaru ke bottles mili toh bol raha thaa aise khule mai nahi fekte\\n', 'Viren: Kisiki hui??\\n', 'Adamya: Wtf😂😂😂\\n', 'Adamya: Ye jyada hyo chill nhi h\\n', 'Viren: Haa\\n', 'Adamya: Aakr btati💁🏻\\u200d♀️\\n', 'Viren: Ohkkkk\\n', 'Adamya: Sunnn\\n', 'Adamya: Movie b suggest hi kr de\\n', 'Viren: 😒😒\\n', 'Adamya: 🙏🏻plz\\n', 'Viren: Kis type ki??\\n', 'Adamya: Kaisi b chlegi yrr\\n', 'Adamya: Bss romantic n ho\\n', 'Adamya: Horror ya comedy\\n', 'Viren: 🗿\\n', 'Viren: Haa ek min\\n', 'Adamya: Horror nhi\\n', 'Adamya: Suspense\\n', 'Viren: 1 Escape Rooom\\n2 The Swimmer\\n', 'Viren: 3 The Martian\\n', 'Adamya: Thkkk\\n', 'Viren: 4 127 hours\\n', 'Viren: 5 Fight Club\\n', 'Viren: 6 The Shutter Island\\n', 'Viren: Last do suspense waali\\n', 'Viren: 1st bhi\\n', 'Adamya: 1st it is\\n', 'Viren: Hao\\n', 'Adamya: Sun n, room unlock krk sona\\n', 'Viren: Okk \\nKab aa rahi??\\n', 'Adamya: Abhii\\n', 'Adamya: Kidhrrr h??\\n', 'Viren: Room\\n', 'Adamya: Busy h ya aa jau??\\n', 'Viren: Aaajaaa\\n', 'Viren: Aa rahii haii???\\n', 'Adamya: Yeppp\\n', 'Adamya: 10 min me\\n', 'Adamya: Guard baitha h\\n', 'Adamya: Extra alert hokr💁🏻\\u200d♀️\\n', 'Adamya: Ja rhi m, kl aati hu\\n', 'Viren: Ruk aata maii\\n', 'Adamya: Paani lekr aana\\n', 'Viren: Neech hai naa water cooler 🗿\\n', 'Adamya: Abe\\n', 'Adamya: Bottle to nhi h n\\n', 'Adamya: Le aa paani nakhre mt kr\\n', 'Adamya: Kb wapas aaye tm log??\\n', 'Viren: Kaha se??\\n', 'Viren: Kidhar haii??\\n', 'Adamya: Gym!\\n', 'Adamya: Room\\n', 'Adamya: Kitne din hogye tje gym join kiye?\\n', 'Viren: 8:15\\n', 'Viren: 4-5\\n', 'Viren: Lab haii??\\n', 'Adamya: Abe yrrr, 2 ghante workout krte ho kya\\n', 'Adamya: Aaj nhi h\\n', 'Adamya: Noicc\\n', 'Viren: 😎😎😎\\n', 'Viren: Noob hoon time lagtaa\\n', 'Viren: Farzi dekhnaa haii??\\n', 'Adamya: Meeting h lekin kl to pdhna h\\n', 'Adamya: Kl\\n', 'Adamya: Kidhr h tu??\\n', 'Viren: Messa\\n', 'Viren: Achaaa\\n', 'Viren: Morning mai bhii zaati haii tu?!\\n', 'Adamya: Thk h, aaj dekh kr khtm mt kr dena🥲\\n', 'Viren: Haa theek kal dekhte\\n', 'Adamya: Nhi,aaj hi to gyi hu bss\\nMrng ka try krugi kl se\\n', 'Viren: Acchaaa\\n', 'Viren: Kidhar haii??\\n', 'Adamya: Room\\n', 'Adamya: Tu kha h??\\n', 'Viren: Moon dekhna haii??\\n\\u200e', 'Viren: \\u200eimage omitted\\n', 'Viren: Telescope se??🌚\\n\\u200e', 'Viren: \\u200eimage omitted\\n', 'Adamya: Hnnn\\n', 'Adamya: Bt ho kidhr\\n', 'Viren: C 7th floor aajaa\\n', 'Adamya: Okki\\n', 'Viren: Aa rahi??\\n', 'Adamya: Hostel n\\n', 'Viren: 😒😒\\n', 'Viren: Acad\\n', 'Adamya: Srsly\\n', 'Viren: Haoo\\n', 'Adamya: Aa rhii\\n', 'Adamya: 15 min\\n', 'Viren: Cool\\n\\u200e', 'Viren: ADAMYA2 (1 of 1).jpg \\u200edocument omitted\\n', 'Adamya: Dhanyawad\\n', 'Adamya: Oye\\n', 'Adamya: Kidhr h\\n', 'Viren: Acad\\n', 'Viren: Kya huaa??\\n', 'Adamya: Aise hi puch rhi\\n', 'Adamya: Pdh rha kya\\n', 'Viren: Naa presentation thaa wapas aa rahaa\\n', 'Viren: Tu kidhar??\\n', 'Adamya: Is smy!\\n', 'Adamya: Lab\\n', 'Viren: Haa project kaa haii ek abhi iss time bulaaya thaa\\n', 'Viren: Kab tak haii??\\n', 'Adamya: Hao\\n', 'Adamya: Presentation bna rhi, 1 bj jayega\\n', 'Viren: Acchaa mai idhar hii hoon jana tab call kar denaa\\n\\nPpt ka content improve karne ko bola\\n', 'Adamya: Acha hi h, krti hu call...!\\n', 'Viren: Oi kidhar haiii??\\n', 'Adamya: Yrr lab me hu\\n', 'Adamya: Kaam h thoda\\n', 'Adamya: Kl dekhte h n?\\n', 'Viren: Haoo theek\\n', 'Viren: Kab tak rahegaa??\\n', 'Adamya: Pta nhi.....call krt hu jb wapas aaungi\\n', 'Adamya: Jb room me rhna to msg kr dena\\n', 'Viren: Haoo\\nKidhar haii??\\n', 'Adamya: Room me\\n', 'Adamya: Abhi aayi bahar se\\n', 'Viren: Acchaa 5 min mai aataa \\nMsg kartaa hoon\\n', 'Viren: Kithhe haii\\nAa rahii??\\n', 'Adamya: Hn aa rhi\\n', 'Adamya: 15 min me\\n', 'Viren: Haoo\\n', 'Adamya: Shilparamam\\n088866 52009\\nhttps://maps.app.goo.gl/L4S8K3eQuyxgnL8y8\\n', 'Adamya: Kitna time lagega tje aane me?\\n', 'Viren: 20 min\\n', 'Viren: Kab tak rahegi udhar??\\n', 'Adamya: 8 bje tk hi\\n', 'Adamya: Hogya tera kaam?\\n', 'Viren: Haaa\\n', 'Adamya: Akele gya tha ya kisi k saath h?\\n', 'Viren: Rushikesh haii\\n', 'Adamya: Bdhiya\\n', 'Viren: Aata hoon\\n', 'Viren: Oi\\nKidhar haii???\\n', 'Adamya: Lab\\n', 'Adamya: Tu room??\\n', 'Viren: Acad A\\n', 'Viren: Kabhi tak haii??\\n', 'Adamya: Are kyu?\\n', 'Adamya: Time lgega\\n', 'Adamya: Tu kb tk h??\\n', 'Viren: Project poora karnaa thaa\\n', 'Viren: 1  -2 bje takk\\n', 'Adamya: Ohhh\\n', 'Adamya: Thk h m call krti jate tym\\n', 'Viren: Haoooo\\n', 'Adamya: Yrr mje jyada late ho jayega, tu chle jana agr kaam ho jaye tera, aur text kr dena jb jana\\n', 'Viren: Okkayyy :)\\n', 'Adamya: Kidhr h?\\n', 'Viren: CLH1\\n', 'Adamya: A me tha tu to\\n', 'Adamya: Dheere dheere migrate kya kr rha\\n', 'Viren: Discussion ke time thaa 🗿\\n', 'Viren: 😅😅 abhii project karna thaa toh idhar peace haiiiii\\n', 'Viren: Lan ho gya tera??\\n', 'Adamya: Hao\\n', 'Adamya: Nhi\\n', 'Adamya: Vending se kuch kharidne aayi thi\\n', 'Adamya: Tje chahiye kuch??\\n', 'Adamya: Aa rhi udhr hi m thodi der\\n', 'Viren: Udhar hai vendi 🙀🍃\\n', 'Viren: Cold drink\\n', 'Adamya: 😒\\n', 'Adamya: A block aayi thi\\n', 'Adamya: Coke?\\n', 'Viren: Achaaa haa🗿\\n', 'Viren: Haoo\\n', 'Adamya: Bahar aa n\\n', 'Adamya: Acad lawns trf\\n', 'Viren: CLH1 aajaa \\nMast jagah haii really\\n', 'Adamya: Hao\\n', 'Adamya: Kha h?\\n', 'Adamya: Hyd gya kya?\\n', 'Viren: Room\\n', 'Viren: Naaa 🥲\\n', 'Viren: Tu kidhar??\\n', 'Adamya: Room\\n', 'Adamya: Shift kr rhi hostel\\n', 'Adamya: Shift krk aati m\\n', 'Viren: Haoo\\n', 'Viren: Room shift karna hotaa hostel nahi 🗿\\n', 'Adamya: 😒hn wohi\\n', 'Viren: Help chaaiye🗿??\\n', 'Adamya: Nhi , ho gya shift\\n', 'Adamya: Canteen chl rha kya?\\n', 'Viren: Haa aataa \\nKidhar haii??\\n', 'Adamya: A hostel\\n', 'Viren: Kautilya ke neeche aa jaa\\n', 'Adamya: Canteen aa ja n seedhe\\n', 'Viren: Haoo\\nUdhar hi hai??\\n', 'Adamya: Nhi\\n', 'Adamya: Suno 7 bje tk sangareddy jaugi m chashma lene, tmko b chlna ho to text kr dena\\n', 'Viren: 7:30 tak chalte naa\\n', 'Adamya: Hn ok\\n', 'Viren: Chal rahi??\\n', 'Adamya: Hnn\\n', 'Adamya: Bhookh lgi h, Khana kha kr chlte n\\n', 'Adamya: Kidhr h tu??\\n', 'Viren: Zym se aaya abhii\\n', 'Viren: Udhar khaa lenaa kuch 🗿\\n', 'Viren: Room\\n', 'Adamya: Hn chl\\n', 'Viren: Kautilya ke neeche aa jaa\\n', 'Adamya: Nhi\\n', 'Adamya: Tu hostel circle aaja n\\n', 'Adamya: Udhr hi hu m\\n', 'Adamya: 3 min h tere paas\\n', 'Viren: 5 min mai aata\\n', 'Viren: 🗿\\n', 'Adamya: Jldi aa kr call kr\\n', 'Adamya: Late mt krna\\n', 'Viren: Haa\\n', 'Adamya: Kha h?\\n', 'Viren: Acad\\n', 'Viren: Tu kidhar.  ??\\n', 'Adamya: Lab\\n', 'Adamya: C LH2?\\n', 'Viren: Haoo\\n', 'Viren: Kabhi tak haii??\\n', 'Adamya: 12\\n', 'Adamya: Aati fir m C block\\n', 'Viren: Haoo theek :)\\n', 'Adamya: Kidhr h\\n', 'Viren: Room\\n', 'Adamya: Acad aayega aaj\\n', 'Adamya: ?\\n', 'Viren: Haaa\\n', 'Viren: Tu kidhar\\n', 'Adamya: Room ja rhi\\n', 'Viren: Lab ho gyaa\\n', 'Adamya: Hn\\n', 'Viren: Free haii??\\n', 'Adamya: Jana tb text karna\\n', 'Adamya: Hn Dinner baad\\n', 'Viren: Tu bhi chalegii??\\n', 'Adamya: Nhi😂\\n', 'Viren: Theek text kartaa maiii\\n', 'Viren: Kahi chalnaa hai kyaa??\\n', 'Adamya: Kidhrr?\\n', 'Adamya: Chl\\n', 'Adamya: Project tera?\\n', 'Viren: Kahi bhii\\n', 'Viren: Ho gya haii\\n', 'Adamya: Ayeeee noiccc\\n', 'Adamya: Chl fir\\n', 'Viren: Theek\\n', 'Viren: Text karna free hoke\\n', 'Adamya: Jgh decide krna, kuch aur nhi Mila to dlf chlte\\n', 'Viren: Theek\\n', 'Viren: Ho gya dinner???\\n', 'Adamya: Hnn\\n', 'Adamya: Nhakr call krti m\\n', 'Viren: \\u200eYou deleted this message.\\n', 'Viren: Haoo\\n', 'Adamya: Hello useless\\n', 'Adamya: Where r u🌚\\n', 'Viren: Room\\n', 'Viren: Hii useful\\n', 'Viren: Tu kithee??\\n', 'Adamya: Tere room\\n', 'Viren: 🗿🗿\\n', 'Adamya: Aa rhi hu\\n', 'Viren: Theek aa jaaa\\n', 'Adamya: Gya?\\n', 'Viren: Haa abhi main gate\\n', 'Viren: Chalegi??\\n', 'Adamya: Nhi tu ja\\n', 'Adamya: Wapas aakr text Krna\\n', 'Viren: Haoooo\\n', 'Adamya: Kya hua?\\nCall Kiya tha?\\n', 'Viren: Haa specs waale ka phone aaya thaa\\n', 'Adamya: Fir?\\nRhega wo aaj?\\n', 'Viren: Nii raat tak nii rahegaa\\n', 'Viren: Kal chale zanaaa\\n\\u200e', 'Viren: \\u200eimage omitted\\n', 'Adamya: Nhii\\n', 'Adamya: Abe , thk h\\n', 'Adamya: Kidhr ghum rha abhi?\\n\\u200e', 'Viren: \\u200eimage omitted\\n', 'Viren: Bahut crowded haii\\n', 'Adamya: Hnn hoga hi\\n', 'Viren: Jhaatu jagah haii\\n', 'Adamya: Market k liye jate log udhr\\n', 'Adamya: Nonveg Street food suna h famous h\\n', 'Viren: Haa bass yahii haiii\\n', 'Viren: Idharich haii??\\n', 'Viren: Kuch chaaiye kyaa???\\n', 'Adamya: Hnn , jha Street food dikhe kha liyo\\n', 'Adamya: Nhi , tu aa kb tk rha?\\n', 'Adamya: 12 bjega tereko🌚\\n', 'Viren: Bas nikalne waale haiiii\\n', 'Viren: Pretty expensive 🌚🌚\\n', 'Adamya: Thk h dekhte h\\n', 'Viren: Kidhar haii???\\n', 'Adamya: Where?\\n', 'Viren: Room\\n', 'Viren: ++??\\n', 'Adamya: Chl rha sangareddy?\\n', 'Viren: Haoooo\\n', 'Adamya: Busy h to let it be\\n', 'Viren: Nahii exam thaa 7:30 tak\\n', 'Viren: toh free\\n', 'Adamya: Okkkkk then\\n', 'Adamya: Aana n hostel circle\\n', 'Viren: Abhi??? Haii udhar\\n', 'Adamya: Hn\\n', 'Viren: Haoo 7 min ruknaa\\n', 'Adamya: Hogye\\n', 'Viren: Haa aa gyaa\\n', 'Viren: Oi kidhar????\\n', 'Adamya: Room\\n', 'Adamya: Tu kidhr?\\n', 'Viren: Acad\\n', 'Viren: Lab nahii kya??\\n', 'Adamya: Nhi\\n', 'Adamya: Presentation ka kaam Krna h\\n', 'Adamya: Wapas aana tb call krna\\n', 'Viren: Haooo theek\\nSonaa nahii 🗿\\n', 'Viren: Idhar aajaaa\\n', 'Adamya: Thodi der me aati\\n', 'Adamya: Meet bhi h ek\\n', 'Adamya: Usk baad\\n', 'Viren: Offline??\\n', 'Viren: Hao\\n', 'Adamya: Hn\\n\\u200e', 'Viren: \\u200eimage omitted\\n\\u200e', 'Viren: \\u200eimage omitted\\n\\u200e', 'Viren: \\u200eimage omitted\\n\\u200e', 'Viren: \\u200eimage omitted\\n\\u200e', 'Viren: \\u200eimage omitted\\n\\u200e', 'Viren: \\u200evideo omitted\\n\\u200e', 'Viren: \\u200eimage omitted\\n\\u200e', 'Viren: \\u200eimage omitted\\n\\u200e', 'Viren: \\u200eimage omitted\\n\\u200e', 'Viren: \\u200eimage omitted\\n\\u200e', 'Viren: \\u200eimage omitted\\n\\u200e', 'Viren: \\u200eimage omitted\\n\\u200e', 'Viren: \\u200eimage omitted\\n\\u200e', 'Viren: \\u200eimage omitted\\n\\u200e', 'Viren: \\u200eimage omitted\\n\\u200e', 'Viren: \\u200eimage omitted\\n\\u200e', 'Viren: \\u200eimage omitted\\n\\u200e', 'Viren: \\u200eimage omitted\\n\\u200e', 'Viren: \\u200evideo omitted\\n\\u200e', 'Viren: \\u200evideo omitted\\n\\u200e', 'Viren: \\u200eimage omitted\\n\\u200e', 'Viren: \\u200eimage omitted\\n\\u200e', 'Viren: \\u200eimage omitted\\n\\u200e', 'Viren: \\u200eimage omitted\\n\\u200e', 'Viren: \\u200eimage omitted\\n\\u200e', 'Viren: \\u200eimage omitted\\n\\u200e', 'Viren: \\u200eimage omitted\\n\\u200e', 'Viren: \\u200eimage omitted\\n\\u200e', 'Viren: \\u200eimage omitted\\n\\u200e', 'Viren: \\u200eimage omitted\\n\\u200e', 'Viren: \\u200evideo omitted\\n', 'Adamya: Useless\\n', 'Adamya: Where r u\\n', 'Viren: Patencheru abhi on the way to campus \\n\\nCousins aayi thi toh boli aaja milne 🗿\\n', 'Viren: Mko milna nii thaa but fir bhii I’m kind to ppl 😏\\n', 'Viren: Tu kidhar??\\n', 'Viren: Oi kitthe haii????\\n', 'Adamya: Waah badhiya time kaat kr aaye ho\\n', 'Adamya: Hn chl mother teresa\\n', 'Adamya: M tje msg krk sogyi thi🥲\\n', 'Viren: 🗿 sahii haiii\\n', 'Viren: Nahiii😒😒😒\\n', 'Viren: Dinner karne kab jaayegi??\\n', 'Adamya: 9.30\\n', 'Adamya: Tu kha liya?\\n', 'Viren: Niii 9:30 pe zaaongaa\\n', 'Viren: Tera UDH hai naa??\\n', 'Adamya: Yass\\n', 'Viren: Dinner ke baad call karnaa\\n', 'Adamya: Thkkk ba\\n', 'Viren: Gym aa rahii??\\n', 'Adamya: Nhii\\n', 'Adamya: Lab h\\n', 'Adamya: 🥲\\n', 'Viren: Haooo\\n', 'Adamya: Text Krna khana kha kr\\n', 'Viren: Haooo\\n', 'Viren: Tune kar liyaa dinner??\\n', 'Adamya: Mess me hu\\n', 'Viren: Mai bhi aa rahaaa\\n', 'Viren: Oi\\n', 'Viren: So gyi??🗿\\n', 'Adamya: Yrr hn🥲\\n', 'Adamya: Good morning 🌞🌚\\n', 'Viren: Good morning 🌚\\n', 'Adamya: Suno n,\\nRushikesh se bolna 420 paradise wale mere number pe transfer kr de\\n\\n\\nAur tm splitwise me ho?\\n', 'Viren: Haoooo \\n\\n\\n\\nMko kitna send karnaa hai tujhe ???\\n', 'Adamya: Calc nhi kiya\\n', 'Viren: Tera yahi number haii google pay\\n', 'Adamya: Download splitwise krk ek app h wo\\n', 'Viren: 🗿🗿\\n', 'Adamya: M tmra usi me add kr dugi\\n', 'Adamya: 🌚\\n', 'Viren: ??\\n', 'Viren: Kidhar hai tu??\\n', 'Adamya: Mess\\n', 'Adamya: Yess\\n', 'Viren: Kar diyaa rushikesh ne\\n', 'Viren: Bahar aana call karna\\n', 'Viren: Mai idhar hii haii\\n', 'Adamya: Hao\\n', 'Adamya: Aagye\\n', 'Viren: Ho gya bath ??\\n', 'Adamya: Nhi\\n', 'Viren: Theek haii naha le acche se\\n\\u200e', 'Viren: \\u200evideo omitted\\n\\u200e', 'Viren: \\u200evideo omitted\\n\\u200e', 'Viren: \\u200evideo omitted\\n', 'Adamya: Sun\\n', 'Adamya: Lunch k baad milna n\\n', 'Viren: Haoo call kar dio\\n', 'Adamya: Abhi aayi m lab se\\n', 'Adamya: Let it be\\n', 'Viren: Haooo\\n', 'Viren: Oi kidhar haii??\\n', 'Adamya: Room\\n', 'Adamya: Chilling 😴\\n', 'Viren: So rahii???\\n', 'Adamya: Living the damn dream life\\n', 'Viren: Aisa kya kar rahi??\\n\\u200e', 'Adamya: \\u200evideo omitted\\n', 'Adamya: Bss Netflix 😂\\n', 'Viren: 🗿\\n', 'Viren: Bahar aa\\n', 'Adamya: Baarish ho rhi n\\n', 'Adamya: Tu kyu medhak ki trh bahar bhatak rha\\n', 'Adamya: Tu b room ja\\n', 'Adamya: Chill kr\\n', 'Viren: Room hi hoon\\n', 'Viren: Haa nice weather\\n', 'Adamya: Gym jayega n?\\n', 'Viren: Naa rest haii\\n', 'Viren: Tu ja rahii??\\n', 'Adamya: Waaah\\n', 'Adamya: Bc aaj kisi ko gym nhi jana😐\\n', 'Adamya: Thk h then\\n', 'Adamya: Mera b rest h aaj😂\\n', 'Viren: Weekend 😏😏\\n', 'Adamya: Whatever, prakhar se milne jaugi thodi der me, fir room aati hu\\n', 'Viren: Acchaa room mai hi hai??\\n', 'Adamya: Hn\\n', 'Viren: Haoo theek\\n\\u200e', 'Viren: \\u200eimage omitted\\n\\u200e', 'Viren: \\u200eimage omitted\\n\\u200e', 'Viren: \\u200evideo omitted\\n\\u200e', 'Viren: \\u200evideo omitted\\n\\u200e', 'Viren: \\u200evideo omitted\\n\\u200e', 'Viren: \\u200evideo omitted\\n\\u200e', 'Viren: \\u200evideo omitted\\n\\u200e', 'Viren: \\u200evideo omitted\\n\\u200e', 'Viren: \\u200evideo omitted\\n\\u200e', 'Viren: \\u200evideo omitted\\n\\u200e', 'Viren: \\u200evideo omitted\\n\\u200e', 'Viren: \\u200evideo omitted\\n\\u200e', 'Viren: \\u200evideo omitted\\n\\u200e', 'Viren: \\u200evideo omitted\\n\\u200e', 'Viren: \\u200evideo omitted\\n\\u200e', 'Viren: \\u200evideo omitted\\n', 'Adamya: Room me h?\\n', 'Viren: Mess se aa rah\\n', 'Viren: Tu kidhar??\\n', 'Adamya: Mess se aayi abhi\\n', 'Viren: Mess ke bahar haii??\\n', 'Adamya: Room aagyi\\n', 'Adamya: Bhaskara aa n\\n', 'Viren: Haa rahaa 3 min mai neeche aa jaa\\n', 'Adamya: 5 min me tu upar aaja\\n', 'Viren: Abey🗿 upar nii guard hai teraa\\n', 'Adamya: Thkk\\n', 'Viren: Aa rahii neeche??\\n', 'Adamya: Hn\\n', 'Viren: Oi kidhar haiii???\\n', 'Adamya: Lab\\n', 'Viren: Dinner kab aayegi??\\n', 'Adamya: Tu kha h?\\n', 'Viren: Zym se aaya abhii\\n', 'Viren: Room\\n', 'Adamya: Abhi 10 min me\\n', 'Adamya: Jb khane Jana to text kr dena\\n', 'Viren: Hao\\n', 'Adamya: Neeche aa n\\n', 'Viren: Hao\\n', 'Adamya: \\u200eMissed voice call\\n', 'Viren: Kab tak aayegi \\nMai room jaa rahaa\\n', 'Adamya: Htt\\n', 'Viren: Bhakk\\n', 'Adamya: Kidhr ??\\n', 'Viren: Kautilya ke neeche\\n', 'Viren: Zym se aayaa abhi\\n', 'Viren: Tu kidhar???\\n', 'Adamya: Room\\n', 'Viren: Dinner kar liyaa\\n', 'Viren: ?\\n', 'Adamya: Hnnnn bhookh lgi thi bht tej\\n', 'Adamya: Tu mess me h?\\n', 'Viren: Jaa rahaa\\n', 'Viren: Aake call kartaa\\n', 'Adamya: Hao\\n', 'Adamya: Jldi kha\\n', 'Adamya: Lab jana h\\n', 'Adamya: 🥲\\n', 'Viren: Haa ruknaa\\n', 'Viren: Oi mai jaa rahaa\\n', 'Viren: Kabhi tak hai tera lab??\\n', 'Viren: Call kr denaa Kautilya aana hoga toh\\n', 'Adamya: Yrr prakhar log aagye the lab\\n', 'Adamya: To m unk saath thi\\n', 'Adamya: Kl aati hu\\n', 'Adamya: Room me hona tb text kr dena\\n', 'Viren: Room mai hi hoon\\n', 'Adamya: 1hr me aati\\n', 'Viren: Hao\\n', 'Adamya: Call krooo\\n', 'Viren: Room pe hi hai kyaa\\n', 'Adamya: Hnnnn\\n', 'Adamya: \\u200eMissed voice call\\n', 'Adamya: \\u200eMissed voice call\\n', 'Adamya: \\u200eMissed voice call\\n\\u200e', 'Viren: \\u200eimage omitted\\n\\u200e', 'Viren: \\u200eimage omitted\\n\\u200e', 'Viren: \\u200eimage omitted\\n\\u200e', 'Viren: \\u200eimage omitted\\n\\u200e', 'Viren: \\u200eimage omitted\\n\\u200e', 'Viren: \\u200evideo omitted\\n\\u200e', 'Viren: \\u200eimage omitted\\n\\u200e', 'Viren: \\u200eimage omitted\\n\\u200e', 'Viren: \\u200eimage omitted\\n\\u200e', 'Viren: \\u200evideo omitted\\n\\u200e', 'Viren: \\u200eimage omitted\\n\\u200e', 'Viren: \\u200eimage omitted\\n\\u200e', 'Viren: \\u200eimage omitted\\n\\u200e', 'Viren: \\u200eimage omitted\\n\\u200e', 'Viren: \\u200eimage omitted\\n\\u200e', 'Viren: \\u200eimage omitted\\n\\u200e', 'Viren: \\u200eimage omitted\\n\\u200e', 'Viren: \\u200evideo omitted\\n\\u200e', 'Viren: \\u200eimage omitted\\n\\u200e', 'Viren: \\u200eimage omitted\\n\\u200e', 'Viren: \\u200eimage omitted\\n\\u200e', 'Viren: \\u200eimage omitted\\n\\u200e', 'Viren: \\u200eimage omitted\\n\\u200e', 'Viren: \\u200eimage omitted\\n\\u200e', 'Viren: \\u200eimage omitted\\n\\u200e', 'Viren: \\u200eimage omitted\\n\\u200e', 'Viren: \\u200eimage omitted\\n\\u200e', 'Viren: \\u200eimage omitted\\n\\u200e', 'Viren: \\u200eimage omitted\\n\\u200e', 'Viren: \\u200eimage omitted\\n', 'Viren: Oi kidhar hai??\\n', 'Adamya: Room\\n', 'Viren: Canteen chalegi???\\n', 'Adamya: 15 min me?\\n', 'Viren: Haoo\\n', 'Adamya: Balance nhi h\\n', 'Adamya: Aakr call krna\\n', 'Adamya: Kb tk h classes teri?\\n', 'Viren: 1 bje tak\\n', 'Adamya: Okk room aaungi fir lunch k baad!\\n', 'Viren: Haooo\\n', 'Viren: Phir lab bhi haii 2:30 to 4\\n', 'Viren: Kidhar hai tu??\\n', 'Adamya: Bdhiya\\n', 'Adamya: Mess\\n', 'Viren: Thik aanaa phir lunch karke\\n', 'Adamya: Chaii?\\n', 'Viren: Haoo\\n', 'Viren: Kidhar ho??\\n', 'Adamya: Messs\\n', 'Adamya: UDH\\n', 'Viren: Aataa hoon\\n', 'Adamya: Bhaag k aa\\n', 'Viren: Chai rakh lenaa mere liye\\n', 'Adamya: Mne apne liye nhi rkhi abhi tk🥲\\n', 'Adamya: Dekh rhi ruk\\n', 'Adamya: Khtm\\n', 'Viren: 🗿\\n', 'Adamya: Khaaanaaa???\\n', 'Adamya: Dost\\n', 'Viren: Mitra\\n', 'Adamya: Bruhh\\n', 'Adamya: Bruhhhhhh\\n', 'Adamya: Khana 🥲\\n', 'Viren: Ruk 10 min bass\\n', 'Adamya: Bruhhhhhh\\n', 'Adamya: Bruhhhhhh\\n', 'Viren: 🗿 stopppp\\n', 'Adamya: Thk\\n', 'Adamya: Yrr😒\\n', 'Adamya: Tu 30 pe hi aayega n\\n', 'Viren: Bas 5 min\\n', 'Adamya: Mess aarhi\\n', 'Viren: B block ke neeche aaa\\n', 'Adamya: Thk 😒\\n', 'Adamya: Hostel office tk aana\\n', 'Viren: Chali gya kya??\\n', 'Adamya: Hn, kaafi phle hi\\n', 'Adamya: Kha h?\\n', 'Adamya: Gym?\\n', 'Viren: Haa jaa rahaa\\n', 'Viren: Tu kidhar??\\n', 'Adamya: Wapas aarhi lab se\\n', 'Adamya: Hao\\n', 'Adamya: Wapas aakr call krna\\n', 'Viren: Acad mai hi hai??\\n', 'Adamya: Hnn\\n', 'Viren: Haaaa\\n', 'Viren: Aaa rahi???\\n', 'Adamya: Hnn\\n', 'Adamya: Bss 10 min me\\n', 'Adamya: \\u200eMissed voice call\\n\\u200e', 'Viren: \\u200evideo omitted\\n\\u200e', 'Viren: \\u200eimage omitted\\n\\u200e', 'Viren: \\u200evideo omitted\\n\\u200e', 'Viren: \\u200eimage omitted\\n\\u200e', 'Viren: \\u200eimage omitted\\n\\u200e', 'Viren: \\u200eimage omitted\\n\\u200e', 'Viren: \\u200eimage omitted\\n\\u200e', 'Viren: \\u200eimage omitted\\n\\u200e', 'Viren: \\u200eimage omitted\\n\\u200e', 'Viren: \\u200eimage omitted\\n\\u200e', 'Viren: \\u200eimage omitted\\n\\u200e', 'Viren: \\u200eimage omitted\\n', 'Adamya: Teri key mere paas h\\n', 'Adamya: Jane se phle call kr dena\\n', 'Adamya: M aa jaugi\\n', 'Adamya: 1.30 tk aa jaugi m\\n', 'Viren: Theek calll kar denaa\\n\\u200e', 'Adamya: \\u200eimage omitted\\n\\u200e', 'Adamya: \\u200eimage omitted\\n\\u200e', 'Adamya: \\u200eimage omitted\\n', 'Adamya: \\u200eMissed voice call\\n', 'Viren: Kaha???\\n', 'Adamya: Why is ur number amanya?\\n', 'Adamya: Tere room\\n', 'Adamya: Aajaaaa yrr\\n', 'Viren: Hein??\\n', 'Viren: Aa raha 7 min\\n', 'Adamya: Hao\\n', 'Adamya: Add me to that doggo fam grp\\n', 'Viren: Haoo\\n', 'Adamya: Chaii\\n', 'Viren: Haa chaii\\n', 'Viren: Kidhar haii??\\n', 'Adamya: Hostel\\n', 'Adamya: Aa rhi\\n', 'Viren: Theek aajaa mai aa rahaa\\n', 'Adamya: Chai rkh lena\\n', 'Viren: Abhi aa raha maii Kautilya se\\n', 'Viren: Ho gya\\n', 'Viren: ??\\n', 'Adamya: Nhi\\n', 'Adamya: Issue h n kuch portal p\\n', 'Viren: Abhii lar\\n', 'Viren: *kar\\n', 'Viren: Ho raha\\n', 'Adamya: Fill hogya😂\\n', 'Viren: 🗿🗿\\n', 'Viren: Nice try\\n', 'Adamya: 😂\\n', 'Adamya: Well well\\n', 'Adamya: Fuck it\\n', 'Viren: Koi naa\\n', 'Viren: Kidhar haii???\\n', 'Adamya: Lab\\n', 'Viren: Aake call karnaa\\n', 'Adamya: Hao\\n', 'Adamya: 2 bje tk aajana lab\\n', 'Viren: Haoo\\n', 'Adamya: Yrr mje jyada late hoga\\n', 'Adamya: Tu chle jana\\n', 'Viren: Kitnaa??\\n', 'Viren: Akele hai lab maii??\\n', 'Adamya: Bhut\\n', 'Adamya: Hnn\\n', 'Viren: Haoo aake jaate phir 2 bje\\n', 'Adamya: Ok, whatever that means\\n', 'Adamya: Khana kha liya?\\n', 'Viren: Nahi\\n', 'Adamya: 2.30 tk chlte, agr tu phle ja rha ho to msg kr dena\\n', 'Viren: Haooo\\nKaha ho???\\n', 'Adamya: Room ja rhi\\n', 'Viren: Theek\\n', 'Adamya: \\u200eMissed voice call\\n', 'Adamya: Kha h?\\n', 'Viren: Zym\\n10 min mai aaraha\\n', 'Viren: Tu kidhar??\\n', 'Adamya: M ja rhi bahar khane\\n', 'Viren: Kyo??\\n', 'Adamya: Wapas aakr call krti\\n', 'Viren: Kiske saath??\\n', 'Adamya: Are ek dost ko bola tha jane k liye\\n', 'Adamya: Jogi\\n', 'Viren: Theek\\n', 'Viren: Haoo\\n', 'Viren: Helo\\n', 'Viren: Kab tak hai lab??\\n', 'Adamya: Time lgega abhi\\n', 'Viren: Hao\\n', 'Viren: Oi kidhar???\\n', 'Adamya: Room\\n', 'Adamya: Lab jana h mje abhi\\n', 'Viren: Chal audi\\n', 'Adamya: So rhi m\\n', 'Adamya: Kya h wha\\n', 'Viren: Dance\\n', 'Viren: Call pick karna pragya ko baat karni\\n', 'Viren: Uth zaaa\\n', 'Viren: Lab zana hai??\\n', 'Adamya: Hn\\n', 'Adamya: Ja tu\\n', 'Viren: Ho gya mai aa raha\\n', 'Adamya: Hao\\n\\u200e', 'Adamya: \\u200evideo omitted\\n', 'Adamya: Loooooook at it\\n', 'Viren: Cat haii\\n', 'Viren: ?\\n', 'Adamya: Hnnn\\n\\u200e', 'Adamya: \\u200evideo omitted\\n', 'Viren: Kaha se aayi??\\n', 'Viren: Demnn😏❤️\\n', 'Adamya: Ikkkkkkkkkkkkkkkkk\\U0001f979\\U0001f979\\U0001f979\\U0001f979\\U0001f979\\U0001f979\\n', 'Adamya: Pta nhi, room khula tha to aagyi\\n', 'Viren: Le ke aaa\\n', 'Adamya: Tu neeche aa\\n', 'Adamya: Jldiiii\\n', 'Adamya: Nhi bhaag jayegi\\n', 'Viren: Haoo ataa\\n', 'Viren: Pakar ke rakh 😏\\n', 'Adamya: 😒panje h usk\\n', 'Viren: Aajaa neeche\\n', 'Adamya: Upar aaja\\n', 'Adamya: Wo nhi ja rhi room se😂\\n', 'Viren: Gaurd hai\\n', 'Viren: Le ke aa naa\\n', 'Adamya: Ruk\\n', 'Viren: Hao\\n', 'Adamya: Lunch?\\n', 'Viren: Class hai abhi toh karliyaa\\n', 'Viren: Kidhar hai??\\n', 'Adamya: Ja rhi mess\\n', 'Adamya: Hao\\n', 'Viren: Lab hai iske baad??\\n', 'Adamya: Yep, raat tk\\n', 'Viren: Chai ke liyaa\\n', 'Viren: Call kar denaa\\n', 'Adamya: Hao\\n', 'Viren: Oi ☕️??\\n', 'Adamya: Yrr lab\\n', 'Viren: Ohkk☕️\\n', 'Adamya: Gym nhi gya?\\n', 'Viren: Aayaa abhii\\n', 'Adamya: Hao, m bahar ja rhi khana khane\\n', 'Adamya: Wapas aakr call krti\\n', 'Viren: Haoo theek\\n', 'Viren: Kiske saath??\\n', 'Adamya: Batch wale h sb\\n', 'Viren: Haooo\\n', 'Adamya: Kha h?\\n', 'Viren: Kautilya\\n', 'Adamya: B Block aaja\\n', 'Viren: Hatt\\n\\u200e', 'Viren: \\u200eimage omitted\\n\\u200e', 'Viren: \\u200eimage omitted\\n\\u200e', 'Viren: \\u200eimage omitted\\n\\u200e', 'Viren: \\u200eimage omitted\\n\\u200e', 'Viren: \\u200eimage omitted\\n\\u200e', 'Viren: \\u200evideo omitted\\n\\u200e', 'Viren: \\u200eimage omitted\\n\\u200e', 'Viren: \\u200eimage omitted\\n\\u200e', 'Viren: \\u200eimage omitted\\n\\u200e', 'Viren: \\u200eimage omitted\\n\\u200e', 'Viren: \\u200eimage omitted\\n\\u200e', 'Viren: \\u200evideo omitted\\n\\u200e', 'Viren: \\u200evideo omitted\\n\\u200e', 'Viren: \\u200evideo omitted\\n\\u200e', 'Viren: \\u200eimage omitted\\n\\u200e', 'Viren: \\u200eimage omitted\\n\\u200e', 'Viren: \\u200eimage omitted\\n\\u200e', 'Viren: \\u200eimage omitted\\n\\u200e', 'Viren: \\u200eimage omitted\\n\\u200e', 'Viren: \\u200eimage omitted\\n\\u200e', 'Viren: \\u200eimage omitted\\n\\u200e', 'Viren: \\u200eimage omitted\\n\\u200e', 'Viren: \\u200eimage omitted\\n\\u200e', 'Viren: \\u200eimage omitted\\n\\u200e', 'Viren: \\u200eimage omitted\\n\\u200e', 'Viren: \\u200eimage omitted\\n\\u200e', 'Viren: \\u200eimage omitted\\n\\u200e', 'Viren: \\u200eimage omitted\\n\\u200e', 'Viren: \\u200eimage omitted\\n\\u200e', 'Viren: \\u200eimage omitted\\n\\u200e', 'Viren: \\u200eimage omitted\\n\\u200e', 'Viren: \\u200eimage omitted\\n\\u200e', 'Viren: \\u200eimage omitted\\n\\u200e', 'Viren: \\u200eimage omitted\\n\\u200e', 'Viren: \\u200eimage omitted\\n\\u200e', 'Viren: \\u200eimage omitted\\n\\u200e', 'Viren: \\u200eimage omitted\\n\\u200e', 'Viren: \\u200eimage omitted\\n\\u200e', 'Viren: \\u200eimage omitted\\n\\u200e', 'Viren: \\u200eimage omitted\\n\\u200e', 'Viren: \\u200eimage omitted\\n\\u200e', 'Viren: \\u200eimage omitted\\n', 'Viren: Oi kidhar haiii??\\n', 'Adamya: Room\\n', 'Adamya: Call me when u r back from gym\\n', 'Adamya: Bruhh\\U0001f979\\n', 'Viren: Kaa ho gya???\\n', 'Viren: Aaj nahii gyaa\\n', 'Adamya: Kuch nhi\\n', 'Adamya: Room aa rhi m nahakr\\n', 'Viren: Abhii niii nahaaya thaa🗿🗿\\n', 'Viren: Aajaa kings chalte phir ☕️☕️\\n', 'Adamya: Yess\\n', 'Adamya: Yrr sed life yrr\\n', 'Viren: Theek hai naha le\\n', 'Viren: Oi Sidhant ko call karna imp haiii bola haii\\n', 'Viren: Tera phone switched off hai\\n', 'Adamya: Hn kr rhi hu\\n', 'Adamya: Classes kb tk h??\\n', 'Viren: 1 bje tak (last class hai abhi)\\n', 'Adamya: Thk ba\\n', 'Adamya: Chai k time krugi call\\n', 'Viren: Lab???\\n', 'Adamya: Jldi aa jaugi , bt meeting h fir 4.30 se\\n', 'Viren: Kab tak??\\n', 'Adamya: No idea\\n', 'Adamya: Kapila ko lek h\\n', 'Adamya: Aur m your name dekh kr khtm kr rhi🌚\\n', 'Viren: Niii🗿🗿🗿\\n', 'Viren: Saath mai dekhenge\\n', 'Adamya: 😑thk\\n', 'Viren: Gud gurl\\n', 'Viren: Lab kab jaa rahi??\\n', 'Adamya: 1.30/2 bje tk, lunch krk\\n', 'Viren: Ohkkkk\\n', 'Adamya: Tu khana khane jayega class se aak?\\n', 'Viren: Nii room jaaungaa\\n', 'Adamya: Thk, shaam me krugi call fir😂\\n', 'Viren: ☕️✌️🤓\\n\\u200e', 'Viren: \\u200evideo omitted\\n', 'Adamya: Call kr dena key k liye\\n', 'Adamya: M apne hostel me hu\\n', 'Adamya: H block aakr kr dena call\\n', 'Viren: Kaha haii tu??\\n', 'Adamya: H\\n', 'Adamya: Rno 608🌚\\n', 'Adamya: Kb tk h Teri class 🥲\\n', 'Adamya: Mereko bahar niklne se phle call krna\\n', 'Viren: Ek aur haii\\n', 'Viren: 1 bje tak\\n', 'Viren: Abhi gap tha\\n', 'Adamya: Kitne baje se h?\\n', 'Adamya: Abhi h kha tu?\\n', 'Viren: 12\\n', 'Viren: B block\\n', 'Adamya: Haoo fir\\n', 'Adamya: M aa rhi , key le le tu\\n', 'Viren: Kaha aarahi??\\n', 'Adamya: Khi nhi\\n', 'Viren: 🗿\\n', 'Adamya: Class k baad call krna🙃\\n', 'Viren: Hao\\n', 'Viren: Mera phone switch off hona wala hai aa jana B Block\\n', 'Viren: Acad B\\n', 'Adamya: \\u200eMissed voice call\\n\\u200e', 'Adamya: \\u200eaudio omitted\\n', 'Adamya: \\u200eMissed video call\\n', 'Adamya: Sunnnn\\n', 'Viren: Chepu\\n', 'Adamya: Mne khana khakr lab me hu, wapas aakr call krugi\\n', 'Viren: Hao kab khaaya??\\n', 'Adamya: 8.30 bje 💁🏻\\u200d♀️\\n', 'Viren: Nyc\\n', 'Viren: Kab tak hai lab?\\n', 'Adamya: 2hr ig🤔\\n', 'Adamya: Bruhhh\\n', 'Adamya: Where bruhh\\n', 'Viren: Room bruhhh\\n', 'Adamya: Khi chlna h bruhh?\\n', 'Adamya: Ya pdh rhe ho?\\n', 'Viren: Haaa\\n', 'Viren: Ho gyaaa\\n', 'Adamya: Okk then\\n', 'Adamya: Hostel circle aao\\n', 'Adamya: Mere earrings lekr aana\\n', 'Viren: Aataa\\n', 'Viren: Kidhar??\\n', 'Viren: Oi where??\\n☕️☕️????\\n', 'Adamya: 10 min me aarhi\\n', 'Viren: Call karnaa aake\\n', 'Viren: Bruhh nahii haii\\n', 'Viren: Abhi Thoda issue chal raha unkaa\\n', 'Adamya: Thk ba\\n', 'Viren: Aa rahi??\\n', 'Adamya: Nhii kaam kr lugi m tb tk, tu wapas aakr call kr dena\\n', 'Adamya: Kha ho?\\n', 'Viren: Room\\n', 'Adamya: Gym?\\n', 'Viren: Rest\\n', 'Adamya: Aarhi m\\n', 'Viren: Haa\\n']\n"
     ]
    }
   ],
   "source": [
    "print(messages)"
   ],
   "metadata": {
    "collapsed": false,
    "pycharm": {
     "name": "#%%\n"
    }
   }
  },
  {
   "cell_type": "code",
   "execution_count": 9,
   "outputs": [],
   "source": [
    "dates = re.findall(pattern, data)"
   ],
   "metadata": {
    "collapsed": false,
    "pycharm": {
     "name": "#%%\n"
    }
   }
  },
  {
   "cell_type": "code",
   "execution_count": 10,
   "outputs": [
    {
     "data": {
      "text/plain": "['[01/04/22, 9:10:07 PM] ',\n '[01/04/22, 9:10:07 PM] ',\n '[01/04/22, 9:28:24 PM] ',\n '[01/04/22, 9:29:13 PM] ',\n '[01/04/22, 9:33:48 PM] ',\n '[01/04/22, 9:34:57 PM] ',\n '[01/04/22, 9:35:46 PM] ',\n '[01/04/22, 9:36:14 PM] ',\n '[01/04/22, 9:36:19 PM] ',\n '[01/04/22, 9:37:59 PM] ',\n '[02/04/22, 9:43:26 PM] ',\n '[02/04/22, 9:45:04 PM] ',\n '[02/04/22, 9:45:09 PM] ',\n '[02/04/22, 10:14:02 PM] ',\n '[02/04/22, 10:18:56 PM] ',\n '[02/04/22, 10:19:44 PM] ',\n '[03/04/22, 12:25:56 AM] ',\n '[03/04/22, 12:56:55 AM] ',\n '[03/04/22, 5:51:38 PM] ',\n '[03/04/22, 7:54:51 PM] ',\n '[03/04/22, 8:33:10 PM] ',\n '[05/04/22, 12:02:42 AM] ',\n '[05/04/22, 12:02:44 AM] ',\n '[05/04/22, 12:14:53 AM] ',\n '[05/04/22, 12:17:26 AM] ',\n '[05/04/22, 12:19:23 AM] ',\n '[05/04/22, 12:19:37 AM] ',\n '[05/04/22, 12:19:40 AM] ',\n '[05/04/22, 12:19:45 AM] ',\n '[05/04/22, 12:20:07 AM] ',\n '[05/04/22, 12:20:17 AM] ',\n '[05/04/22, 12:20:43 AM] ',\n '[05/04/22, 12:21:17 AM] ',\n '[05/04/22, 12:21:23 AM] ',\n '[05/04/22, 12:22:27 AM] ',\n '[05/04/22, 12:22:41 AM] ',\n '[05/04/22, 12:23:46 AM] ',\n '[05/04/22, 12:24:14 AM] ',\n '[05/04/22, 12:24:29 AM] ',\n '[05/04/22, 12:24:44 AM] ',\n '[05/04/22, 12:24:48 AM] ',\n '[05/04/22, 12:24:51 AM] ',\n '[05/04/22, 12:25:02 AM] ',\n '[05/04/22, 12:25:26 AM] ',\n '[05/04/22, 12:25:30 AM] ',\n '[05/04/22, 12:31:29 AM] ',\n '[05/04/22, 12:31:42 AM] ',\n '[05/04/22, 12:32:15 AM] ',\n '[05/04/22, 12:54:01 AM] ',\n '[05/04/22, 12:54:16 AM] ',\n '[05/04/22, 12:54:34 AM] ',\n '[05/04/22, 12:54:38 AM] ',\n '[05/04/22, 12:55:23 AM] ',\n '[05/04/22, 12:55:55 AM] ',\n '[05/04/22, 12:56:02 AM] ',\n '[05/04/22, 12:56:57 AM] ',\n '[05/04/22, 8:18:49 PM] ',\n '[05/04/22, 8:20:43 PM] ',\n '[05/04/22, 8:20:51 PM] ',\n '[08/04/22, 1:29:14 PM] ',\n '[08/04/22, 1:29:47 PM] ',\n '[08/04/22, 1:50:15 PM] ',\n '[08/04/22, 2:12:45 PM] ',\n '[10/04/22, 11:15:05 PM] ',\n '[10/04/22, 11:41:47 PM] ',\n '[10/04/22, 11:49:50 PM] ',\n '[10/04/22, 11:50:37 PM] ',\n '[10/04/22, 11:50:52 PM] ',\n '[11/04/22, 12:05:28 AM] ',\n '[17/04/22, 11:40:20 AM] ',\n '[17/04/22, 11:43:29 AM] ',\n '[17/04/22, 11:44:07 AM] ',\n '[17/04/22, 11:45:00 AM] ',\n '[17/04/22, 11:45:47 AM] ',\n '[17/04/22, 11:46:39 AM] ',\n '[17/04/22, 11:47:21 AM] ',\n '[17/04/22, 11:47:36 AM] ',\n '[17/04/22, 11:48:02 AM] ',\n '[17/04/22, 11:48:39 AM] ',\n '[17/04/22, 11:48:43 AM] ',\n '[17/04/22, 11:49:08 AM] ',\n '[17/04/22, 11:49:35 AM] ',\n '[17/04/22, 11:50:33 AM] ',\n '[17/04/22, 11:52:45 AM] ',\n '[17/04/22, 11:52:52 AM] ',\n '[17/04/22, 11:53:29 AM] ',\n '[17/04/22, 11:53:44 AM] ',\n '[17/04/22, 11:54:08 AM] ',\n '[17/04/22, 11:54:22 AM] ',\n '[17/04/22, 11:54:31 AM] ',\n '[17/04/22, 2:11:54 PM] ',\n '[17/04/22, 2:11:54 PM] ',\n '[17/04/22, 2:12:31 PM] ',\n '[17/04/22, 5:08:34 PM] ',\n '[27/04/22, 8:17:50 PM] ',\n '[27/04/22, 8:20:45 PM] ',\n '[27/04/22, 8:21:31 PM] ',\n '[27/04/22, 8:56:03 PM] ',\n '[04/05/22, 12:52:39 PM] ',\n '[04/05/22, 12:53:17 PM] ',\n '[04/05/22, 1:09:34 PM] ',\n '[04/05/22, 1:20:52 PM] ',\n '[04/05/22, 1:20:59 PM] ',\n '[04/05/22, 1:31:07 PM] ',\n '[04/05/22, 1:31:13 PM] ',\n '[04/05/22, 1:31:24 PM] ',\n '[04/05/22, 1:50:15 PM] ',\n '[04/05/22, 1:50:18 PM] ',\n '[04/05/22, 3:10:52 PM] ',\n '[04/05/22, 3:17:01 PM] ',\n '[04/05/22, 3:17:09 PM] ',\n '[04/05/22, 3:17:20 PM] ',\n '[04/05/22, 3:17:25 PM] ',\n '[04/05/22, 7:36:45 PM] ',\n '[04/05/22, 7:37:19 PM] ',\n '[04/05/22, 7:50:29 PM] ',\n '[04/05/22, 7:54:16 PM] ',\n '[04/05/22, 7:54:28 PM] ',\n '[04/05/22, 7:54:37 PM] ',\n '[04/05/22, 7:54:53 PM] ',\n '[21/06/22, 4:59:08 PM] ',\n '[21/06/22, 5:00:29 PM] ',\n '[21/06/22, 5:01:28 PM] ',\n '[21/06/22, 5:06:18 PM] ',\n '[21/06/22, 5:06:23 PM] ',\n '[21/06/22, 5:06:43 PM] ',\n '[21/06/22, 5:06:54 PM] ',\n '[21/06/22, 5:07:13 PM] ',\n '[21/06/22, 5:07:36 PM] ',\n '[21/06/22, 5:07:58 PM] ',\n '[13/07/22, 9:59:50 PM] ',\n '[12/08/22, 8:19:22 PM] ',\n '[12/08/22, 8:44:44 PM] ',\n '[12/08/22, 8:45:19 PM] ',\n '[12/08/22, 8:47:45 PM] ',\n '[12/08/22, 8:48:08 PM] ',\n '[16/08/22, 11:07:38 AM] ',\n '[16/08/22, 11:31:53 AM] ',\n '[16/08/22, 11:31:53 AM] ',\n '[16/08/22, 11:32:27 AM] ',\n '[16/08/22, 11:33:45 AM] ',\n '[16/08/22, 11:47:14 AM] ',\n '[16/08/22, 1:03:54 PM] ',\n '[16/08/22, 1:10:22 PM] ',\n '[16/08/22, 1:11:15 PM] ',\n '[16/08/22, 1:14:53 PM] ',\n '[31/08/22, 9:11:08 PM] ',\n '[31/08/22, 9:11:09 PM] ',\n '[31/08/22, 9:11:09 PM] ',\n '[31/08/22, 9:11:10 PM] ',\n '[31/08/22, 9:11:10 PM] ',\n '[31/08/22, 9:11:24 PM] ',\n '[31/08/22, 11:19:34 PM] ',\n '[31/08/22, 11:20:55 PM] ',\n '[31/08/22, 11:25:39 PM] ',\n '[31/08/22, 11:25:56 PM] ',\n '[31/08/22, 11:26:21 PM] ',\n '[31/08/22, 11:32:04 PM] ',\n '[01/09/22, 12:22:58 PM] ',\n '[01/09/22, 12:43:22 PM] ',\n '[01/09/22, 1:18:38 PM] ',\n '[01/09/22, 1:18:52 PM] ',\n '[01/09/22, 1:19:06 PM] ',\n '[01/09/22, 1:19:14 PM] ',\n '[01/09/22, 1:19:25 PM] ',\n '[01/09/22, 1:19:34 PM] ',\n '[01/09/22, 1:20:10 PM] ',\n '[01/09/22, 1:21:02 PM] ',\n '[01/09/22, 1:24:33 PM] ',\n '[08/09/22, 11:44:14 PM] ',\n '[08/09/22, 11:44:15 PM] ',\n '[08/09/22, 11:44:15 PM] ',\n '[08/09/22, 11:44:16 PM] ',\n '[08/09/22, 11:44:16 PM] ',\n '[08/09/22, 11:44:17 PM] ',\n '[08/09/22, 11:44:17 PM] ',\n '[08/09/22, 11:44:18 PM] ',\n '[08/09/22, 11:44:18 PM] ',\n '[08/09/22, 11:44:19 PM] ',\n '[08/09/22, 11:44:19 PM] ',\n '[08/09/22, 11:44:20 PM] ',\n '[08/09/22, 11:44:20 PM] ',\n '[08/09/22, 11:44:21 PM] ',\n '[08/09/22, 11:44:21 PM] ',\n '[08/09/22, 11:44:22 PM] ',\n '[08/09/22, 11:44:23 PM] ',\n '[08/09/22, 11:44:23 PM] ',\n '[08/09/22, 11:44:24 PM] ',\n '[08/09/22, 11:44:24 PM] ',\n '[08/09/22, 11:44:25 PM] ',\n '[08/09/22, 11:44:25 PM] ',\n '[08/09/22, 11:44:26 PM] ',\n '[08/09/22, 11:44:26 PM] ',\n '[08/09/22, 11:44:27 PM] ',\n '[08/09/22, 11:44:27 PM] ',\n '[09/09/22, 1:19:02 AM] ',\n '[09/09/22, 1:36:18 AM] ',\n '[09/09/22, 1:40:38 AM] ',\n '[09/09/22, 1:43:46 AM] ',\n '[09/09/22, 1:50:05 AM] ',\n '[09/09/22, 1:53:19 AM] ',\n '[09/09/22, 1:53:42 AM] ',\n '[09/09/22, 1:54:18 AM] ',\n '[09/09/22, 1:55:40 AM] ',\n '[09/09/22, 1:56:14 AM] ',\n '[09/09/22, 1:57:11 AM] ',\n '[09/09/22, 1:58:24 AM] ',\n '[09/09/22, 1:59:54 AM] ',\n '[09/09/22, 2:00:01 AM] ',\n '[09/09/22, 2:00:24 AM] ',\n '[09/09/22, 2:00:26 AM] ',\n '[09/09/22, 2:00:51 AM] ',\n '[09/09/22, 2:03:15 AM] ',\n '[09/09/22, 2:04:05 AM] ',\n '[09/09/22, 2:10:33 AM] ',\n '[09/09/22, 9:32:45 AM] ',\n '[09/09/22, 9:33:02 AM] ',\n '[09/09/22, 10:02:55 AM] ',\n '[12/09/22, 4:43:16 PM] ',\n '[12/09/22, 4:44:46 PM] ',\n '[12/09/22, 4:45:49 PM] ',\n '[12/09/22, 4:47:27 PM] ',\n '[12/09/22, 4:49:23 PM] ',\n '[12/09/22, 4:50:06 PM] ',\n '[12/09/22, 4:51:06 PM] ',\n '[12/09/22, 4:52:00 PM] ',\n '[12/09/22, 4:53:40 PM] ',\n '[14/09/22, 1:25:43 AM] ',\n '[15/09/22, 4:49:45 PM] ',\n '[15/09/22, 6:05:32 PM] ',\n '[15/09/22, 7:18:46 PM] ',\n '[15/09/22, 8:14:30 PM] ',\n '[15/09/22, 8:56:29 PM] ',\n '[15/09/22, 9:01:32 PM] ',\n '[15/09/22, 11:09:52 PM] ',\n '[16/09/22, 12:05:19 AM] ',\n '[16/09/22, 12:12:53 AM] ',\n '[16/09/22, 12:16:00 AM] ',\n '[16/09/22, 12:30:51 AM] ',\n '[16/09/22, 12:48:05 AM] ',\n '[16/09/22, 12:57:09 PM] ',\n '[16/09/22, 2:01:05 PM] ',\n '[16/09/22, 2:12:24 PM] ',\n '[16/09/22, 2:21:59 PM] ',\n '[16/09/22, 2:27:55 PM] ',\n '[16/09/22, 2:28:20 PM] ',\n '[16/09/22, 2:29:58 PM] ',\n '[16/09/22, 2:30:32 PM] ',\n '[16/09/22, 2:30:50 PM] ',\n '[16/09/22, 2:31:05 PM] ',\n '[16/09/22, 2:31:27 PM] ',\n '[16/09/22, 2:31:39 PM] ',\n '[16/09/22, 2:31:58 PM] ',\n '[16/09/22, 2:32:11 PM] ',\n '[16/09/22, 2:32:28 PM] ',\n '[16/09/22, 2:32:53 PM] ',\n '[16/09/22, 2:33:10 PM] ',\n '[16/09/22, 2:33:41 PM] ',\n '[16/09/22, 2:33:52 PM] ',\n '[16/09/22, 2:34:18 PM] ',\n '[16/09/22, 2:34:25 PM] ',\n '[16/09/22, 2:34:52 PM] ',\n '[16/09/22, 2:37:42 PM] ',\n '[16/09/22, 6:25:18 PM] ',\n '[16/09/22, 6:34:25 PM] ',\n '[16/09/22, 6:41:09 PM] ',\n '[16/09/22, 6:44:53 PM] ',\n '[16/09/22, 7:24:38 PM] ',\n '[16/09/22, 7:27:01 PM] ',\n '[16/09/22, 7:27:34 PM] ',\n '[16/09/22, 7:28:10 PM] ',\n '[16/09/22, 7:28:53 PM] ',\n '[17/09/22, 6:37:59 PM] ',\n '[17/09/22, 6:40:27 PM] ',\n '[17/09/22, 6:40:40 PM] ',\n '[17/09/22, 6:40:44 PM] ',\n '[17/09/22, 6:41:22 PM] ',\n '[17/09/22, 6:41:33 PM] ',\n '[17/09/22, 6:46:26 PM] ',\n '[17/09/22, 6:46:39 PM] ',\n '[17/09/22, 6:46:46 PM] ',\n '[17/09/22, 6:47:10 PM] ',\n '[17/09/22, 6:47:25 PM] ',\n '[17/09/22, 6:57:42 PM] ',\n '[17/09/22, 9:58:54 PM] ',\n '[17/09/22, 10:11:28 PM] ',\n '[17/09/22, 10:12:02 PM] ',\n '[17/09/22, 10:12:17 PM] ',\n '[17/09/22, 10:12:55 PM] ',\n '[17/09/22, 10:14:37 PM] ',\n '[18/09/22, 6:32:41 PM] ',\n '[18/09/22, 6:32:41 PM] ',\n '[18/09/22, 6:32:42 PM] ',\n '[18/09/22, 6:32:42 PM] ',\n '[18/09/22, 6:32:43 PM] ',\n '[18/09/22, 6:32:43 PM] ',\n '[18/09/22, 6:40:02 PM] ',\n '[18/09/22, 6:40:26 PM] ',\n '[18/09/22, 6:54:34 PM] ',\n '[19/09/22, 1:38:30 AM] ',\n '[19/09/22, 1:38:31 AM] ',\n '[19/09/22, 1:38:31 AM] ',\n '[19/09/22, 2:23:46 AM] ',\n '[19/09/22, 2:28:26 AM] ',\n '[19/09/22, 2:30:26 AM] ',\n '[19/09/22, 3:11:08 AM] ',\n '[19/09/22, 3:11:23 AM] ',\n '[19/09/22, 3:11:28 AM] ',\n '[19/09/22, 3:30:33 AM] ',\n '[19/09/22, 3:32:49 AM] ',\n '[19/09/22, 3:33:34 AM] ',\n '[19/09/22, 9:32:01 AM] ',\n '[19/09/22, 9:32:19 AM] ',\n '[19/09/22, 10:29:27 AM] ',\n '[19/09/22, 10:30:05 AM] ',\n '[19/09/22, 11:02:32 AM] ',\n '[19/09/22, 11:58:27 AM] ',\n '[19/09/22, 12:00:32 PM] ',\n '[19/09/22, 12:33:44 PM] ',\n '[19/09/22, 1:43:19 PM] ',\n '[19/09/22, 2:15:48 PM] ',\n '[19/09/22, 2:16:34 PM] ',\n '[19/09/22, 2:18:48 PM] ',\n '[19/09/22, 2:29:19 PM] ',\n '[19/09/22, 3:49:26 PM] ',\n '[22/09/22, 11:56:06 AM] ',\n '[22/09/22, 11:56:40 AM] ',\n '[22/09/22, 12:05:21 PM] ',\n '[22/09/22, 7:50:57 PM] ',\n '[22/09/22, 8:50:13 PM] ',\n '[22/09/22, 8:50:28 PM] ',\n '[22/09/22, 10:17:49 PM] ',\n '[22/09/22, 10:18:02 PM] ',\n '[22/09/22, 10:18:14 PM] ',\n '[22/09/22, 10:18:26 PM] ',\n '[22/09/22, 10:18:39 PM] ',\n '[22/09/22, 10:18:46 PM] ',\n '[22/09/22, 10:19:41 PM] ',\n '[22/09/22, 10:19:48 PM] ',\n '[22/09/22, 10:20:13 PM] ',\n '[22/09/22, 10:20:34 PM] ',\n '[22/09/22, 10:20:38 PM] ',\n '[22/09/22, 10:20:52 PM] ',\n '[22/09/22, 10:20:56 PM] ',\n '[22/09/22, 10:21:16 PM] ',\n '[22/09/22, 10:21:26 PM] ',\n '[22/09/22, 10:21:37 PM] ',\n '[22/09/22, 10:22:35 PM] ',\n '[22/09/22, 10:22:46 PM] ',\n '[22/09/22, 10:23:09 PM] ',\n '[22/09/22, 10:24:08 PM] ',\n '[22/09/22, 10:24:21 PM] ',\n '[22/09/22, 10:24:40 PM] ',\n '[22/09/22, 10:24:45 PM] ',\n '[22/09/22, 10:24:58 PM] ',\n '[22/09/22, 10:26:44 PM] ',\n '[22/09/22, 10:27:14 PM] ',\n '[22/09/22, 10:27:20 PM] ',\n '[22/09/22, 10:27:38 PM] ',\n '[22/09/22, 10:28:07 PM] ',\n '[22/09/22, 10:28:14 PM] ',\n '[22/09/22, 10:28:30 PM] ',\n '[22/09/22, 10:28:39 PM] ',\n '[22/09/22, 10:28:51 PM] ',\n '[22/09/22, 10:29:08 PM] ',\n '[22/09/22, 10:30:08 PM] ',\n '[22/09/22, 10:30:16 PM] ',\n '[22/09/22, 10:31:03 PM] ',\n '[22/09/22, 10:31:25 PM] ',\n '[22/09/22, 10:32:36 PM] ',\n '[22/09/22, 10:32:48 PM] ',\n '[22/09/22, 10:33:21 PM] ',\n '[22/09/22, 10:33:23 PM] ',\n '[22/09/22, 10:33:40 PM] ',\n '[22/09/22, 10:33:51 PM] ',\n '[22/09/22, 10:33:58 PM] ',\n '[22/09/22, 10:34:06 PM] ',\n '[22/09/22, 10:34:06 PM] ',\n '[22/09/22, 10:34:28 PM] ',\n '[22/09/22, 10:34:39 PM] ',\n '[22/09/22, 10:35:43 PM] ',\n '[22/09/22, 10:36:02 PM] ',\n '[22/09/22, 10:36:53 PM] ',\n '[22/09/22, 10:37:18 PM] ',\n '[22/09/22, 10:37:36 PM] ',\n '[22/09/22, 10:37:45 PM] ',\n '[22/09/22, 10:38:30 PM] ',\n '[22/09/22, 10:43:01 PM] ',\n '[22/09/22, 10:43:18 PM] ',\n '[22/09/22, 10:43:26 PM] ',\n '[22/09/22, 10:48:38 PM] ',\n '[22/09/22, 10:49:19 PM] ',\n '[22/09/22, 10:55:55 PM] ',\n '[25/09/22, 9:38:40 PM] ',\n '[25/09/22, 10:37:05 PM] ',\n '[25/09/22, 11:10:55 PM] ',\n '[25/09/22, 11:14:34 PM] ',\n '[25/09/22, 11:14:35 PM] ',\n '[25/09/22, 11:17:24 PM] ',\n '[25/09/22, 11:28:31 PM] ',\n '[25/09/22, 11:28:55 PM] ',\n '[26/09/22, 12:10:55 AM] ',\n '[26/09/22, 12:11:15 AM] ',\n '[26/09/22, 12:11:34 AM] ',\n '[26/09/22, 12:11:45 AM] ',\n '[26/09/22, 12:17:11 AM] ',\n '[26/09/22, 12:17:24 AM] ',\n '[26/09/22, 12:17:28 AM] ',\n '[26/09/22, 12:18:49 AM] ',\n '[26/09/22, 12:18:49 AM] ',\n '[26/09/22, 12:18:50 AM] ',\n '[26/09/22, 12:18:50 AM] ',\n '[26/09/22, 12:18:51 AM] ',\n '[26/09/22, 12:18:51 AM] ',\n '[26/09/22, 12:19:19 AM] ',\n '[26/09/22, 12:19:26 AM] ',\n '[26/09/22, 12:19:50 AM] ',\n '[26/09/22, 12:20:04 AM] ',\n '[26/09/22, 12:20:11 AM] ',\n '[26/09/22, 12:20:22 AM] ',\n '[26/09/22, 12:21:02 AM] ',\n '[26/09/22, 12:21:05 AM] ',\n '[26/09/22, 12:21:13 AM] ',\n '[26/09/22, 12:21:37 AM] ',\n '[26/09/22, 12:21:44 AM] ',\n '[26/09/22, 12:22:11 AM] ',\n '[26/09/22, 12:22:41 AM] ',\n '[26/09/22, 12:22:44 AM] ',\n '[26/09/22, 12:22:52 AM] ',\n '[26/09/22, 12:23:11 AM] ',\n '[26/09/22, 12:23:12 AM] ',\n '[26/09/22, 12:23:48 AM] ',\n '[26/09/22, 12:24:24 AM] ',\n '[26/09/22, 12:24:31 AM] ',\n '[26/09/22, 12:25:14 AM] ',\n '[26/09/22, 12:25:24 AM] ',\n '[26/09/22, 12:25:27 AM] ',\n '[26/09/22, 12:25:30 AM] ',\n '[26/09/22, 12:26:15 AM] ',\n '[26/09/22, 12:29:14 AM] ',\n '[08/10/22, 8:03:22 PM] ',\n '[08/10/22, 8:03:22 PM] ',\n '[08/10/22, 8:03:22 PM] ',\n '[08/10/22, 8:03:22 PM] ',\n '[08/10/22, 8:03:22 PM] ',\n '[08/10/22, 8:03:22 PM] ',\n '[08/10/22, 8:03:22 PM] ',\n '[08/10/22, 8:03:22 PM] ',\n '[08/10/22, 8:03:22 PM] ',\n '[08/10/22, 8:03:22 PM] ',\n '[08/10/22, 9:55:37 PM] ',\n '[08/10/22, 9:55:57 PM] ',\n '[08/10/22, 9:56:04 PM] ',\n '[08/10/22, 9:59:37 PM] ',\n '[08/10/22, 9:59:49 PM] ',\n '[08/10/22, 10:00:13 PM] ',\n '[08/10/22, 10:09:31 PM] ',\n '[08/10/22, 10:09:48 PM] ',\n '[08/10/22, 10:11:51 PM] ',\n '[08/10/22, 10:12:33 PM] ',\n '[08/10/22, 10:12:45 PM] ',\n '[08/10/22, 10:12:53 PM] ',\n '[08/10/22, 10:13:07 PM] ',\n '[08/10/22, 10:13:28 PM] ',\n '[08/10/22, 10:13:41 PM] ',\n '[18/10/22, 8:38:49 PM] ',\n '[18/10/22, 8:43:37 PM] ',\n '[18/10/22, 8:47:57 PM] ',\n '[18/10/22, 8:48:17 PM] ',\n '[18/10/22, 8:50:21 PM] ',\n '[18/10/22, 8:51:52 PM] ',\n '[18/10/22, 11:47:20 PM] ',\n '[18/10/22, 11:56:36 PM] ',\n '[18/10/22, 11:57:54 PM] ',\n '[19/10/22, 12:02:34 AM] ',\n '[22/10/22, 11:29:16 PM] ',\n '[22/10/22, 11:29:28 PM] ',\n '[22/10/22, 11:29:42 PM] ',\n '[22/10/22, 11:29:52 PM] ',\n '[22/10/22, 11:30:01 PM] ',\n '[22/10/22, 11:30:05 PM] ',\n '[22/10/22, 11:30:15 PM] ',\n '[22/10/22, 11:30:20 PM] ',\n '[22/10/22, 11:30:21 PM] ',\n '[22/10/22, 11:30:32 PM] ',\n '[11/11/22, 11:35:41 PM] ',\n '[11/11/22, 11:39:34 PM] ',\n '[11/11/22, 11:39:41 PM] ',\n '[11/11/22, 11:40:41 PM] ',\n '[11/11/22, 11:40:58 PM] ',\n '[11/11/22, 11:41:02 PM] ',\n '[11/11/22, 11:41:12 PM] ',\n '[11/11/22, 11:41:27 PM] ',\n '[11/11/22, 11:47:16 PM] ',\n '[11/11/22, 11:48:19 PM] ',\n '[12/11/22, 1:26:02 AM] ',\n '[12/11/22, 2:25:20 AM] ',\n '[12/11/22, 10:37:39 PM] ',\n '[12/11/22, 10:37:40 PM] ',\n '[12/11/22, 10:37:41 PM] ',\n '[12/11/22, 10:37:41 PM] ',\n '[12/11/22, 10:37:42 PM] ',\n '[12/11/22, 10:37:42 PM] ',\n '[14/11/22, 8:20:20 PM] ',\n '[14/11/22, 9:40:12 PM] ',\n '[14/11/22, 9:40:28 PM] ',\n '[14/11/22, 10:12:35 PM] ',\n '[14/11/22, 10:12:55 PM] ',\n '[14/11/22, 10:13:08 PM] ',\n '[14/11/22, 10:13:38 PM] ',\n '[14/11/22, 10:14:24 PM] ',\n '[14/11/22, 10:14:45 PM] ',\n '[14/11/22, 10:14:57 PM] ',\n '[14/11/22, 10:15:27 PM] ',\n '[14/11/22, 11:12:25 PM] ',\n '[02/12/22, 1:35:25 AM] ',\n '[02/12/22, 1:35:36 AM] ',\n '[02/12/22, 6:29:17 AM] ',\n '[02/12/22, 8:36:05 AM] ',\n '[02/12/22, 8:37:28 AM] ',\n '[02/12/22, 10:06:18 AM] ',\n '[02/12/22, 10:06:28 AM] ',\n '[02/12/22, 11:08:39 AM] ',\n '[02/12/22, 12:21:43 PM] ',\n '[02/12/22, 12:21:59 PM] ',\n '[02/12/22, 12:22:39 PM] ',\n '[02/12/22, 12:29:39 PM] ',\n '[02/12/22, 12:29:46 PM] ',\n '[02/12/22, 12:29:51 PM] ',\n '[02/12/22, 12:30:25 PM] ',\n '[02/12/22, 12:30:30 PM] ',\n '[02/12/22, 12:30:50 PM] ',\n '[02/12/22, 12:35:01 PM] ',\n '[02/12/22, 12:36:36 PM] ',\n '[02/12/22, 12:36:42 PM] ',\n '[02/12/22, 12:36:46 PM] ',\n '[02/12/22, 12:36:56 PM] ',\n '[02/12/22, 12:37:25 PM] ',\n '[02/12/22, 12:43:00 PM] ',\n '[02/12/22, 12:47:08 PM] ',\n '[02/12/22, 12:51:05 PM] ',\n '[02/12/22, 12:51:05 PM] ',\n '[02/12/22, 1:03:52 PM] ',\n '[02/12/22, 1:04:11 PM] ',\n '[02/12/22, 1:04:54 PM] ',\n '[02/12/22, 1:43:28 PM] ',\n '[02/12/22, 1:44:52 PM] ',\n '[02/12/22, 1:48:13 PM] ',\n '[02/12/22, 1:53:53 PM] ',\n '[02/12/22, 2:03:44 PM] ',\n '[03/12/22, 8:32:28 PM] ',\n '[05/12/22, 3:08:21 PM] ',\n '[05/12/22, 3:08:40 PM] ',\n '[05/12/22, 3:08:44 PM] ',\n '[05/12/22, 3:10:46 PM] ',\n '[05/12/22, 3:19:38 PM] ',\n '[05/12/22, 3:20:00 PM] ',\n '[05/12/22, 3:20:11 PM] ',\n '[05/12/22, 3:20:16 PM] ',\n '[05/12/22, 3:20:31 PM] ',\n '[05/12/22, 3:21:05 PM] ',\n '[05/12/22, 3:21:45 PM] ',\n '[05/12/22, 3:22:30 PM] ',\n '[05/12/22, 3:22:46 PM] ',\n '[05/12/22, 3:22:53 PM] ',\n '[05/12/22, 3:23:01 PM] ',\n '[05/12/22, 3:23:28 PM] ',\n '[05/12/22, 3:23:32 PM] ',\n '[05/12/22, 3:23:43 PM] ',\n '[05/12/22, 3:23:59 PM] ',\n '[05/12/22, 3:24:38 PM] ',\n '[05/12/22, 3:24:54 PM] ',\n '[05/12/22, 3:25:16 PM] ',\n '[05/12/22, 3:25:17 PM] ',\n '[05/12/22, 3:25:39 PM] ',\n '[05/12/22, 3:25:52 PM] ',\n '[05/12/22, 3:26:42 PM] ',\n '[05/12/22, 3:27:20 PM] ',\n '[05/12/22, 3:29:20 PM] ',\n '[19/12/22, 6:45:08 PM] ',\n '[19/12/22, 6:45:39 PM] ',\n '[19/12/22, 6:54:42 PM] ',\n '[19/12/22, 6:55:05 PM] ',\n '[19/12/22, 6:55:26 PM] ',\n '[19/12/22, 6:55:56 PM] ',\n '[19/12/22, 6:56:05 PM] ',\n '[19/12/22, 6:56:17 PM] ',\n '[19/12/22, 6:56:25 PM] ',\n '[19/12/22, 6:56:28 PM] ',\n '[19/12/22, 6:56:48 PM] ',\n '[19/12/22, 6:56:57 PM] ',\n '[19/12/22, 6:57:14 PM] ',\n '[19/12/22, 6:57:31 PM] ',\n '[19/12/22, 6:57:59 PM] ',\n '[19/12/22, 6:58:12 PM] ',\n '[19/12/22, 6:59:12 PM] ',\n '[19/12/22, 6:59:36 PM] ',\n '[19/12/22, 6:59:43 PM] ',\n '[19/12/22, 7:00:22 PM] ',\n '[19/12/22, 7:00:29 PM] ',\n '[19/12/22, 7:00:31 PM] ',\n '[19/12/22, 7:00:39 PM] ',\n '[19/12/22, 7:00:40 PM] ',\n '[19/12/22, 7:00:51 PM] ',\n '[19/12/22, 7:01:12 PM] ',\n '[19/12/22, 7:01:20 PM] ',\n '[19/12/22, 7:01:57 PM] ',\n '[19/12/22, 7:01:59 PM] ',\n '[19/12/22, 7:02:31 PM] ',\n '[19/12/22, 7:02:59 PM] ',\n '[19/12/22, 7:04:01 PM] ',\n '[19/12/22, 7:15:49 PM] ',\n '[30/12/22, 12:42:56 AM] ',\n '[30/12/22, 12:44:30 AM] ',\n '[30/12/22, 12:45:40 AM] ',\n '[30/12/22, 12:47:21 AM] ',\n '[30/12/22, 12:47:24 AM] ',\n '[30/12/22, 12:49:44 AM] ',\n '[30/12/22, 12:49:48 AM] ',\n '[30/12/22, 12:49:54 AM] ',\n '[30/12/22, 12:50:37 AM] ',\n '[30/12/22, 12:51:07 AM] ',\n '[30/12/22, 5:07:18 PM] ',\n '[30/12/22, 5:12:32 PM] ',\n '[30/12/22, 5:12:32 PM] ',\n '[30/12/22, 5:12:33 PM] ',\n '[30/12/22, 5:12:33 PM] ',\n '[30/12/22, 5:12:34 PM] ',\n '[30/12/22, 5:12:34 PM] ',\n '[30/12/22, 5:12:35 PM] ',\n '[30/12/22, 5:12:35 PM] ',\n '[30/12/22, 5:12:36 PM] ',\n '[30/12/22, 5:12:36 PM] ',\n '[30/12/22, 5:12:37 PM] ',\n '[30/12/22, 5:12:37 PM] ',\n '[30/12/22, 5:12:38 PM] ',\n '[30/12/22, 5:12:39 PM] ',\n '[30/12/22, 5:12:39 PM] ',\n '[30/12/22, 5:13:01 PM] ',\n '[30/12/22, 5:13:04 PM] ',\n '[30/12/22, 5:15:02 PM] ',\n '[01/01/23, 12:32:54 AM] ',\n '[01/01/23, 12:48:54 AM] ',\n '[01/01/23, 12:48:59 AM] ',\n '[01/01/23, 1:00:34 AM] ',\n '[01/01/23, 1:08:41 AM] ',\n '[01/01/23, 1:09:12 AM] ',\n '[01/01/23, 1:17:07 AM] ',\n '[01/01/23, 1:17:20 AM] ',\n '[01/01/23, 1:17:26 AM] ',\n '[01/01/23, 1:17:44 AM] ',\n '[01/01/23, 1:20:29 AM] ',\n '[01/01/23, 1:20:31 AM] ',\n '[01/01/23, 1:21:12 AM] ',\n '[01/01/23, 1:24:21 AM] ',\n '[01/01/23, 1:27:28 AM] ',\n '[01/01/23, 1:31:35 AM] ',\n '[01/01/23, 1:31:52 AM] ',\n '[01/01/23, 1:36:37 AM] ',\n '[01/01/23, 1:36:55 AM] ',\n '[01/01/23, 1:37:24 AM] ',\n '[01/01/23, 1:37:32 AM] ',\n '[01/01/23, 1:43:03 AM] ',\n '[01/01/23, 1:46:54 AM] ',\n '[01/01/23, 1:47:11 AM] ',\n '[01/01/23, 5:49:56 PM] ',\n '[01/01/23, 6:18:25 PM] ',\n '[01/01/23, 6:18:25 PM] ',\n '[01/01/23, 6:18:26 PM] ',\n '[01/01/23, 6:18:26 PM] ',\n '[01/01/23, 6:18:27 PM] ',\n '[01/01/23, 6:18:27 PM] ',\n '[01/01/23, 6:18:38 PM] ',\n '[03/01/23, 6:59:37 PM] ',\n '[03/01/23, 7:01:39 PM] ',\n '[03/01/23, 7:04:45 PM] ',\n '[03/01/23, 7:05:04 PM] ',\n '[03/01/23, 7:05:48 PM] ',\n '[03/01/23, 7:07:00 PM] ',\n '[03/01/23, 7:07:37 PM] ',\n '[03/01/23, 7:07:51 PM] ',\n '[03/01/23, 7:08:38 PM] ',\n '[03/01/23, 7:08:59 PM] ',\n '[03/01/23, 7:12:48 PM] ',\n '[03/01/23, 7:13:12 PM] ',\n '[03/01/23, 7:13:18 PM] ',\n '[03/01/23, 7:29:20 PM] ',\n '[03/01/23, 7:33:11 PM] ',\n '[03/01/23, 8:16:13 PM] ',\n '[04/01/23, 11:59:24 AM] ',\n '[04/01/23, 12:23:01 PM] ',\n '[04/01/23, 12:23:08 PM] ',\n '[04/01/23, 12:59:45 PM] ',\n '[04/01/23, 12:59:59 PM] ',\n '[04/01/23, 1:03:14 PM] ',\n '[04/01/23, 1:03:26 PM] ',\n '[04/01/23, 1:04:39 PM] ',\n '[04/01/23, 8:48:45 PM] ',\n '[04/01/23, 8:58:00 PM] ',\n '[04/01/23, 11:42:17 PM] ',\n '[05/01/23, 4:35:11 AM] ',\n '[05/01/23, 4:35:22 AM] ',\n '[05/01/23, 4:35:35 AM] ',\n '[05/01/23, 4:35:58 AM] ',\n '[05/01/23, 4:45:21 AM] ',\n '[05/01/23, 4:45:27 AM] ',\n '[05/01/23, 4:45:33 AM] ',\n '[05/01/23, 4:45:46 AM] ',\n '[05/01/23, 4:46:14 AM] ',\n '[05/01/23, 4:46:21 AM] ',\n '[05/01/23, 4:47:15 AM] ',\n '[05/01/23, 5:09:50 AM] ',\n '[05/01/23, 6:11:52 AM] ',\n '[06/01/23, 8:28:04 PM] ',\n '[06/01/23, 8:30:37 PM] ',\n '[06/01/23, 8:30:41 PM] ',\n '[06/01/23, 8:30:53 PM] ',\n '[09/01/23, 7:32:54 PM] ',\n '[09/01/23, 7:33:07 PM] ',\n '[09/01/23, 7:42:29 PM] ',\n '[09/01/23, 7:42:40 PM] ',\n '[09/01/23, 7:42:50 PM] ',\n '[09/01/23, 7:43:07 PM] ',\n '[09/01/23, 7:43:07 PM] ',\n '[09/01/23, 7:43:21 PM] ',\n '[09/01/23, 7:43:25 PM] ',\n '[09/01/23, 7:43:33 PM] ',\n '[09/01/23, 7:44:07 PM] ',\n '[09/01/23, 7:44:08 PM] ',\n '[09/01/23, 7:44:20 PM] ',\n '[09/01/23, 7:44:24 PM] ',\n '[09/01/23, 7:44:32 PM] ',\n '[09/01/23, 7:44:38 PM] ',\n '[09/01/23, 7:44:46 PM] ',\n '[09/01/23, 7:45:04 PM] ',\n '[09/01/23, 7:45:16 PM] ',\n '[09/01/23, 7:45:43 PM] ',\n '[09/01/23, 7:45:51 PM] ',\n '[09/01/23, 7:45:57 PM] ',\n '[09/01/23, 7:46:09 PM] ',\n '[09/01/23, 7:46:24 PM] ',\n '[09/01/23, 7:46:34 PM] ',\n '[09/01/23, 7:46:43 PM] ',\n '[09/01/23, 7:46:47 PM] ',\n '[09/01/23, 7:47:02 PM] ',\n '[09/01/23, 7:49:47 PM] ',\n '[09/01/23, 7:56:23 PM] ',\n '[11/01/23, 1:39:09 PM] ',\n '[13/01/23, 11:27:26 AM] ',\n '[13/01/23, 12:26:06 PM] ',\n '[14/01/23, 1:11:10 PM] ',\n '[14/01/23, 1:14:52 PM] ',\n '[14/01/23, 1:15:02 PM] ',\n '[14/01/23, 1:15:31 PM] ',\n '[14/01/23, 1:15:43 PM] ',\n '[14/01/23, 1:16:05 PM] ',\n '[14/01/23, 1:16:28 PM] ',\n '[14/01/23, 1:16:39 PM] ',\n '[14/01/23, 1:17:01 PM] ',\n '[14/01/23, 1:17:32 PM] ',\n '[14/01/23, 1:18:41 PM] ',\n '[14/01/23, 1:19:02 PM] ',\n '[14/01/23, 1:19:59 PM] ',\n '[14/01/23, 1:20:19 PM] ',\n '[14/01/23, 1:20:40 PM] ',\n '[14/01/23, 1:23:33 PM] ',\n '[14/01/23, 1:23:45 PM] ',\n '[14/01/23, 1:24:00 PM] ',\n '[16/01/23, 3:13:31 PM] ',\n '[16/01/23, 4:40:28 PM] ',\n '[21/01/23, 10:06:41 PM] ',\n '[21/01/23, 10:06:41 PM] ',\n '[21/01/23, 10:06:41 PM] ',\n '[21/01/23, 10:06:41 PM] ',\n '[21/01/23, 10:06:41 PM] ',\n '[21/01/23, 10:06:41 PM] ',\n '[21/01/23, 10:06:41 PM] ',\n '[21/01/23, 10:06:41 PM] ',\n '[21/01/23, 10:07:02 PM] ',\n '[21/01/23, 10:07:17 PM] ',\n '[21/01/23, 10:09:29 PM] ',\n '[21/01/23, 10:09:56 PM] ',\n '[21/01/23, 10:10:08 PM] ',\n '[21/01/23, 10:10:11 PM] ',\n '[21/01/23, 10:10:16 PM] ',\n '[21/01/23, 10:10:46 PM] ',\n '[21/01/23, 10:11:36 PM] ',\n '[21/01/23, 10:11:41 PM] ',\n '[21/01/23, 10:11:53 PM] ',\n '[21/01/23, 10:12:15 PM] ',\n '[21/01/23, 10:12:19 PM] ',\n '[21/01/23, 10:12:35 PM] ',\n '[21/01/23, 10:13:01 PM] ',\n '[21/01/23, 10:13:25 PM] ',\n '[21/01/23, 10:15:30 PM] ',\n '[21/01/23, 10:15:50 PM] ',\n '[21/01/23, 10:17:33 PM] ',\n '[21/01/23, 10:17:42 PM] ',\n '[21/01/23, 10:18:46 PM] ',\n '[21/01/23, 10:18:54 PM] ',\n '[21/01/23, 10:19:26 PM] ',\n '[21/01/23, 10:21:21 PM] ',\n '[21/01/23, 10:21:42 PM] ',\n '[21/01/23, 10:23:02 PM] ',\n '[21/01/23, 10:23:26 PM] ',\n '[21/01/23, 10:23:54 PM] ',\n '[21/01/23, 10:24:47 PM] ',\n '[21/01/23, 10:25:07 PM] ',\n '[21/01/23, 10:25:46 PM] ',\n '[21/01/23, 10:25:56 PM] ',\n '[21/01/23, 10:26:36 PM] ',\n '[21/01/23, 10:26:49 PM] ',\n '[21/01/23, 10:28:18 PM] ',\n '[21/01/23, 10:28:39 PM] ',\n '[21/01/23, 10:30:42 PM] ',\n '[21/01/23, 10:30:45 PM] ',\n '[21/01/23, 10:30:52 PM] ',\n '[21/01/23, 10:30:57 PM] ',\n '[21/01/23, 10:31:06 PM] ',\n '[21/01/23, 10:31:29 PM] ',\n '[21/01/23, 10:40:08 PM] ',\n '[21/01/23, 10:44:59 PM] ',\n '[22/01/23, 1:19:34 AM] ',\n '[22/01/23, 9:43:39 AM] ',\n '[26/01/23, 3:21:27 PM] ',\n '[26/01/23, 6:24:41 PM] ',\n '[26/01/23, 6:24:45 PM] ',\n '[26/01/23, 6:25:05 PM] ',\n '[26/01/23, 6:28:43 PM] ',\n '[26/01/23, 6:29:25 PM] ',\n '[26/01/23, 6:29:35 PM] ',\n '[26/01/23, 6:33:24 PM] ',\n '[26/01/23, 6:34:21 PM] ',\n '[26/01/23, 6:35:29 PM] ',\n '[26/01/23, 6:35:39 PM] ',\n '[26/01/23, 6:40:24 PM] ',\n '[26/01/23, 6:40:52 PM] ',\n '[26/01/23, 6:43:15 PM] ',\n '[26/01/23, 6:47:32 PM] ',\n '[26/01/23, 6:47:38 PM] ',\n '[26/01/23, 6:48:05 PM] ',\n '[26/01/23, 6:49:15 PM] ',\n '[26/01/23, 6:50:23 PM] ',\n '[26/01/23, 6:51:30 PM] ',\n '[26/01/23, 6:52:14 PM] ',\n '[26/01/23, 7:00:12 PM] ',\n '[26/01/23, 7:02:42 PM] ',\n '[26/01/23, 7:04:58 PM] ',\n '[26/01/23, 7:05:11 PM] ',\n '[26/01/23, 7:05:21 PM] ',\n '[26/01/23, 7:05:42 PM] ',\n '[26/01/23, 7:06:44 PM] ',\n '[26/01/23, 7:06:47 PM] ',\n '[26/01/23, 7:06:59 PM] ',\n '[26/01/23, 7:07:36 PM] ',\n '[26/01/23, 7:08:23 PM] ',\n '[26/01/23, 7:08:56 PM] ',\n '[26/01/23, 7:09:27 PM] ',\n '[26/01/23, 7:09:52 PM] ',\n '[26/01/23, 7:10:01 PM] ',\n '[26/01/23, 7:10:18 PM] ',\n '[26/01/23, 7:10:32 PM] ',\n '[26/01/23, 7:10:36 PM] ',\n '[26/01/23, 7:10:47 PM] ',\n '[26/01/23, 7:10:59 PM] ',\n '[26/01/23, 7:11:08 PM] ',\n '[26/01/23, 7:11:34 PM] ',\n '[26/01/23, 7:12:43 PM] ',\n '[26/01/23, 7:13:08 PM] ',\n '[26/01/23, 7:15:37 PM] ',\n '[26/01/23, 7:16:39 PM] ',\n '[26/01/23, 7:21:50 PM] ',\n '[26/01/23, 7:22:07 PM] ',\n '[26/01/23, 7:22:23 PM] ',\n '[26/01/23, 7:24:34 PM] ',\n '[27/01/23, 12:00:50 AM] ',\n '[27/01/23, 12:00:54 AM] ',\n '[27/01/23, 12:01:24 AM] ',\n '[27/01/23, 12:01:25 AM] ',\n '[27/01/23, 12:02:25 AM] ',\n '[27/01/23, 12:03:33 AM] ',\n '[27/01/23, 12:03:40 AM] ',\n '[27/01/23, 12:04:25 AM] ',\n '[27/01/23, 12:04:25 AM] ',\n '[27/01/23, 12:04:46 AM] ',\n '[27/01/23, 12:04:54 AM] ',\n '[27/01/23, 12:05:06 AM] ',\n '[27/01/23, 12:05:26 AM] ',\n '[27/01/23, 2:44:39 AM] ',\n '[27/01/23, 3:03:33 AM] ',\n '[31/01/23, 12:15:54 PM] ',\n '[31/01/23, 3:43:24 PM] ',\n '[31/01/23, 3:49:39 PM] ',\n '[31/01/23, 3:57:09 PM] ',\n '[31/01/23, 3:57:40 PM] ',\n '[31/01/23, 3:58:01 PM] ',\n '[31/01/23, 3:59:01 PM] ',\n '[31/01/23, 3:59:58 PM] ',\n '[31/01/23, 4:02:18 PM] ',\n '[08/02/23, 12:22:38 AM] ',\n '[08/02/23, 12:53:29 AM] ',\n '[08/02/23, 12:54:02 AM] ',\n '[08/02/23, 1:11:07 AM] ',\n '[08/02/23, 1:11:14 AM] ',\n '[08/02/23, 1:54:44 AM] ',\n '[08/02/23, 1:54:51 AM] ',\n '[09/02/23, 11:43:17 PM] ',\n '[09/02/23, 11:43:28 PM] ',\n '[09/02/23, 11:43:31 PM] ',\n '[09/02/23, 11:43:36 PM] ',\n '[09/02/23, 11:45:09 PM] ',\n '[09/02/23, 11:48:11 PM] ',\n '[09/02/23, 11:48:18 PM] ',\n '[09/02/23, 11:48:54 PM] ',\n '[09/02/23, 11:49:41 PM] ',\n '[09/02/23, 11:50:25 PM] ',\n '[09/02/23, 11:51:51 PM] ',\n '[09/02/23, 11:52:12 PM] ',\n '[11/02/23, 12:03:39 AM] ',\n '[11/02/23, 12:06:59 AM] ',\n '[11/02/23, 12:08:38 AM] ',\n '[11/02/23, 2:03:17 AM] ',\n '[11/02/23, 2:24:45 AM] ',\n '[11/02/23, 3:25:07 PM] ',\n '[11/02/23, 3:54:22 PM] ',\n '[11/02/23, 3:57:04 PM] ',\n '[11/02/23, 4:00:17 PM] ',\n '[11/02/23, 4:00:24 PM] ',\n '[11/02/23, 4:02:35 PM] ',\n '[11/02/23, 4:02:56 PM] ',\n '[11/02/23, 4:03:24 PM] ',\n '[11/02/23, 4:03:56 PM] ',\n '[11/02/23, 4:06:04 PM] ',\n '[11/02/23, 4:14:54 PM] ',\n '[11/02/23, 10:04:47 PM] ',\n '[11/02/23, 10:37:22 PM] ',\n '[11/02/23, 10:37:23 PM] ',\n '[11/02/23, 10:37:23 PM] ',\n '[11/02/23, 11:08:43 PM] ',\n '[11/02/23, 11:08:56 PM] ',\n '[11/02/23, 11:09:02 PM] ',\n '[11/02/23, 11:09:04 PM] ',\n '[11/02/23, 11:13:53 PM] ',\n '[11/02/23, 11:22:17 PM] ',\n '[11/02/23, 11:22:33 PM] ',\n '[11/02/23, 11:40:52 PM] ',\n '[12/02/23, 6:43:06 PM] ',\n '[12/02/23, 7:02:09 PM] ',\n '[13/02/23, 5:57:13 PM] ',\n '[13/02/23, 6:00:52 PM] ',\n '[13/02/23, 6:00:57 PM] ',\n '[13/02/23, 6:06:05 PM] ',\n '[13/02/23, 6:06:28 PM] ',\n '[13/02/23, 6:06:37 PM] ',\n '[13/02/23, 6:06:38 PM] ',\n '[13/02/23, 6:07:52 PM] ',\n '[13/02/23, 6:08:14 PM] ',\n '[13/02/23, 6:11:38 PM] ',\n '[13/02/23, 6:11:51 PM] ',\n '[13/02/23, 6:12:26 PM] ',\n '[13/02/23, 6:13:01 PM] ',\n '[13/02/23, 6:13:32 PM] ',\n '[13/02/23, 6:15:50 PM] ',\n '[13/02/23, 6:17:34 PM] ',\n '[14/02/23, 1:17:01 AM] ',\n '[14/02/23, 1:44:45 AM] ',\n '[16/02/23, 12:19:10 AM] ',\n '[16/02/23, 12:36:02 AM] ',\n '[16/02/23, 12:36:53 AM] ',\n '[16/02/23, 12:37:25 AM] ',\n '[17/02/23, 12:12:48 AM] ',\n '[17/02/23, 12:18:32 AM] ',\n '[17/02/23, 12:18:34 AM] ',\n '[17/02/23, 12:19:12 AM] ',\n '[17/02/23, 12:19:16 AM] ',\n '[17/02/23, 12:20:19 AM] ',\n '[17/02/23, 12:20:38 AM] ',\n '[17/02/23, 12:20:54 AM] ',\n '[17/02/23, 10:54:52 PM] ',\n '[17/02/23, 11:01:14 PM] ',\n '[17/02/23, 11:01:19 PM] ',\n '[17/02/23, 11:32:58 PM] ',\n '[17/02/23, 11:33:05 PM] ',\n '[17/02/23, 11:54:01 PM] ',\n '[17/02/23, 11:55:31 PM] ',\n '[17/02/23, 11:55:38 PM] ',\n '[17/02/23, 11:57:11 PM] ',\n '[17/02/23, 11:57:14 PM] ',\n '[17/02/23, 11:57:55 PM] ',\n '[17/02/23, 11:58:22 PM] ',\n '[17/02/23, 11:58:36 PM] ',\n '[18/02/23, 7:37:11 PM] ',\n '[18/02/23, 7:43:50 PM] ',\n '[18/02/23, 8:09:58 PM] ',\n '[18/02/23, 8:20:32 PM] ',\n '[18/02/23, 8:20:35 PM] ',\n '[18/02/23, 8:32:49 PM] ',\n '[18/02/23, 8:33:01 PM] ',\n '[18/02/23, 8:34:15 PM] ',\n '[18/02/23, 8:34:20 PM] ',\n ...]"
     },
     "execution_count": 10,
     "metadata": {},
     "output_type": "execute_result"
    }
   ],
   "source": [
    "dates"
   ],
   "metadata": {
    "collapsed": false,
    "pycharm": {
     "name": "#%%\n"
    }
   }
  },
  {
   "cell_type": "code",
   "execution_count": 11,
   "outputs": [],
   "source": [
    "df = pd.DataFrame({'user_message':messages, 'message_date':dates})"
   ],
   "metadata": {
    "collapsed": false,
    "pycharm": {
     "name": "#%%\n"
    }
   }
  },
  {
   "cell_type": "code",
   "execution_count": 12,
   "outputs": [
    {
     "data": {
      "text/plain": "                                           user_message  \\\n0     Adamya: ‎Messages and calls are end-to-end enc...   \n1     Viren: Hiii\\nI’m Viren \\nContesting for the Cu...   \n2                                   Adamya: Hey, sure\\n   \n3                     Viren: If possible we can meet?\\n   \n4                          Adamya: Today or tomorrow?\\n   \n...                                                 ...   \n1953                                      Viren: Room\\n   \n1954                                     Adamya: Gym?\\n   \n1955                                      Viren: Rest\\n   \n1956                                  Adamya: Aarhi m\\n   \n1957                                       Viren: Haa\\n   \n\n                 message_date  \n0     [01/04/22, 9:10:07 PM]   \n1     [01/04/22, 9:10:07 PM]   \n2     [01/04/22, 9:28:24 PM]   \n3     [01/04/22, 9:29:13 PM]   \n4     [01/04/22, 9:33:48 PM]   \n...                       ...  \n1953  [08/04/23, 7:01:11 PM]   \n1954  [08/04/23, 7:01:29 PM]   \n1955  [08/04/23, 7:01:36 PM]   \n1956  [08/04/23, 7:01:50 PM]   \n1957  [08/04/23, 7:01:56 PM]   \n\n[1958 rows x 2 columns]",
      "text/html": "<div>\n<style scoped>\n    .dataframe tbody tr th:only-of-type {\n        vertical-align: middle;\n    }\n\n    .dataframe tbody tr th {\n        vertical-align: top;\n    }\n\n    .dataframe thead th {\n        text-align: right;\n    }\n</style>\n<table border=\"1\" class=\"dataframe\">\n  <thead>\n    <tr style=\"text-align: right;\">\n      <th></th>\n      <th>user_message</th>\n      <th>message_date</th>\n    </tr>\n  </thead>\n  <tbody>\n    <tr>\n      <th>0</th>\n      <td>Adamya: ‎Messages and calls are end-to-end enc...</td>\n      <td>[01/04/22, 9:10:07 PM]</td>\n    </tr>\n    <tr>\n      <th>1</th>\n      <td>Viren: Hiii\\nI’m Viren \\nContesting for the Cu...</td>\n      <td>[01/04/22, 9:10:07 PM]</td>\n    </tr>\n    <tr>\n      <th>2</th>\n      <td>Adamya: Hey, sure\\n</td>\n      <td>[01/04/22, 9:28:24 PM]</td>\n    </tr>\n    <tr>\n      <th>3</th>\n      <td>Viren: If possible we can meet?\\n</td>\n      <td>[01/04/22, 9:29:13 PM]</td>\n    </tr>\n    <tr>\n      <th>4</th>\n      <td>Adamya: Today or tomorrow?\\n</td>\n      <td>[01/04/22, 9:33:48 PM]</td>\n    </tr>\n    <tr>\n      <th>...</th>\n      <td>...</td>\n      <td>...</td>\n    </tr>\n    <tr>\n      <th>1953</th>\n      <td>Viren: Room\\n</td>\n      <td>[08/04/23, 7:01:11 PM]</td>\n    </tr>\n    <tr>\n      <th>1954</th>\n      <td>Adamya: Gym?\\n</td>\n      <td>[08/04/23, 7:01:29 PM]</td>\n    </tr>\n    <tr>\n      <th>1955</th>\n      <td>Viren: Rest\\n</td>\n      <td>[08/04/23, 7:01:36 PM]</td>\n    </tr>\n    <tr>\n      <th>1956</th>\n      <td>Adamya: Aarhi m\\n</td>\n      <td>[08/04/23, 7:01:50 PM]</td>\n    </tr>\n    <tr>\n      <th>1957</th>\n      <td>Viren: Haa\\n</td>\n      <td>[08/04/23, 7:01:56 PM]</td>\n    </tr>\n  </tbody>\n</table>\n<p>1958 rows × 2 columns</p>\n</div>"
     },
     "execution_count": 12,
     "metadata": {},
     "output_type": "execute_result"
    }
   ],
   "source": [
    "df"
   ],
   "metadata": {
    "collapsed": false,
    "pycharm": {
     "name": "#%%\n"
    }
   }
  },
  {
   "cell_type": "code",
   "execution_count": 13,
   "outputs": [],
   "source": [
    "# convert message date type\n",
    "df['message_date'] = pd.to_datetime(df['message_date'], format='[%d/%m/%y, %H:%M:%S %p] ')"
   ],
   "metadata": {
    "collapsed": false,
    "pycharm": {
     "name": "#%%\n"
    }
   }
  },
  {
   "cell_type": "code",
   "execution_count": 14,
   "outputs": [
    {
     "data": {
      "text/plain": "                                           user_message        message_date\n0     Adamya: ‎Messages and calls are end-to-end enc... 2022-04-01 09:10:07\n1     Viren: Hiii\\nI’m Viren \\nContesting for the Cu... 2022-04-01 09:10:07\n2                                   Adamya: Hey, sure\\n 2022-04-01 09:28:24\n3                     Viren: If possible we can meet?\\n 2022-04-01 09:29:13\n4                          Adamya: Today or tomorrow?\\n 2022-04-01 09:33:48\n...                                                 ...                 ...\n1953                                      Viren: Room\\n 2023-04-08 07:01:11\n1954                                     Adamya: Gym?\\n 2023-04-08 07:01:29\n1955                                      Viren: Rest\\n 2023-04-08 07:01:36\n1956                                  Adamya: Aarhi m\\n 2023-04-08 07:01:50\n1957                                       Viren: Haa\\n 2023-04-08 07:01:56\n\n[1958 rows x 2 columns]",
      "text/html": "<div>\n<style scoped>\n    .dataframe tbody tr th:only-of-type {\n        vertical-align: middle;\n    }\n\n    .dataframe tbody tr th {\n        vertical-align: top;\n    }\n\n    .dataframe thead th {\n        text-align: right;\n    }\n</style>\n<table border=\"1\" class=\"dataframe\">\n  <thead>\n    <tr style=\"text-align: right;\">\n      <th></th>\n      <th>user_message</th>\n      <th>message_date</th>\n    </tr>\n  </thead>\n  <tbody>\n    <tr>\n      <th>0</th>\n      <td>Adamya: ‎Messages and calls are end-to-end enc...</td>\n      <td>2022-04-01 09:10:07</td>\n    </tr>\n    <tr>\n      <th>1</th>\n      <td>Viren: Hiii\\nI’m Viren \\nContesting for the Cu...</td>\n      <td>2022-04-01 09:10:07</td>\n    </tr>\n    <tr>\n      <th>2</th>\n      <td>Adamya: Hey, sure\\n</td>\n      <td>2022-04-01 09:28:24</td>\n    </tr>\n    <tr>\n      <th>3</th>\n      <td>Viren: If possible we can meet?\\n</td>\n      <td>2022-04-01 09:29:13</td>\n    </tr>\n    <tr>\n      <th>4</th>\n      <td>Adamya: Today or tomorrow?\\n</td>\n      <td>2022-04-01 09:33:48</td>\n    </tr>\n    <tr>\n      <th>...</th>\n      <td>...</td>\n      <td>...</td>\n    </tr>\n    <tr>\n      <th>1953</th>\n      <td>Viren: Room\\n</td>\n      <td>2023-04-08 07:01:11</td>\n    </tr>\n    <tr>\n      <th>1954</th>\n      <td>Adamya: Gym?\\n</td>\n      <td>2023-04-08 07:01:29</td>\n    </tr>\n    <tr>\n      <th>1955</th>\n      <td>Viren: Rest\\n</td>\n      <td>2023-04-08 07:01:36</td>\n    </tr>\n    <tr>\n      <th>1956</th>\n      <td>Adamya: Aarhi m\\n</td>\n      <td>2023-04-08 07:01:50</td>\n    </tr>\n    <tr>\n      <th>1957</th>\n      <td>Viren: Haa\\n</td>\n      <td>2023-04-08 07:01:56</td>\n    </tr>\n  </tbody>\n</table>\n<p>1958 rows × 2 columns</p>\n</div>"
     },
     "execution_count": 14,
     "metadata": {},
     "output_type": "execute_result"
    }
   ],
   "source": [
    "df"
   ],
   "metadata": {
    "collapsed": false,
    "pycharm": {
     "name": "#%%\n"
    }
   }
  },
  {
   "cell_type": "code",
   "execution_count": 15,
   "outputs": [],
   "source": [
    "df.rename(columns={'message_date': 'date'}, inplace=True)"
   ],
   "metadata": {
    "collapsed": false,
    "pycharm": {
     "name": "#%%\n"
    }
   }
  },
  {
   "cell_type": "code",
   "execution_count": 16,
   "outputs": [
    {
     "data": {
      "text/plain": "(1958, 2)"
     },
     "execution_count": 16,
     "metadata": {},
     "output_type": "execute_result"
    }
   ],
   "source": [
    "df.shape"
   ],
   "metadata": {
    "collapsed": false,
    "pycharm": {
     "name": "#%%\n"
    }
   }
  },
  {
   "cell_type": "code",
   "execution_count": 17,
   "outputs": [],
   "source": [
    "#seprate user & message\n",
    "users = []\n",
    "messages = []\n",
    "for message in df['user_message']:\n",
    "    entry = re.split('([\\w\\W]+?):\\s', message)\n",
    "    if entry[1:]: #user name\n",
    "        users.append(entry[1])\n",
    "        messages.append(entry[2])\n",
    "    else:\n",
    "        users.append('Group_Notification')\n",
    "        messages.append(entry[0])\n",
    "\n",
    "df['user'] = users\n",
    "df['message'] = messages\n",
    "df.drop(columns= ['user_message'], inplace=True)"
   ],
   "metadata": {
    "collapsed": false,
    "pycharm": {
     "name": "#%%\n"
    }
   }
  },
  {
   "cell_type": "code",
   "execution_count": 18,
   "outputs": [
    {
     "data": {
      "text/plain": "                    date    user  \\\n0    2022-04-01 09:10:07  Adamya   \n1    2022-04-01 09:10:07   Viren   \n2    2022-04-01 09:28:24  Adamya   \n3    2022-04-01 09:29:13   Viren   \n4    2022-04-01 09:33:48  Adamya   \n...                  ...     ...   \n1953 2023-04-08 07:01:11   Viren   \n1954 2023-04-08 07:01:29  Adamya   \n1955 2023-04-08 07:01:36   Viren   \n1956 2023-04-08 07:01:50  Adamya   \n1957 2023-04-08 07:01:56   Viren   \n\n                                                message  \n0     ‎Messages and calls are end-to-end encrypted. ...  \n1     Hiii\\nI’m Viren \\nContesting for the Cultural ...  \n2                                           Hey, sure\\n  \n3                            If possible we can meet?\\n  \n4                                  Today or tomorrow?\\n  \n...                                                 ...  \n1953                                             Room\\n  \n1954                                             Gym?\\n  \n1955                                             Rest\\n  \n1956                                          Aarhi m\\n  \n1957                                              Haa\\n  \n\n[1958 rows x 3 columns]",
      "text/html": "<div>\n<style scoped>\n    .dataframe tbody tr th:only-of-type {\n        vertical-align: middle;\n    }\n\n    .dataframe tbody tr th {\n        vertical-align: top;\n    }\n\n    .dataframe thead th {\n        text-align: right;\n    }\n</style>\n<table border=\"1\" class=\"dataframe\">\n  <thead>\n    <tr style=\"text-align: right;\">\n      <th></th>\n      <th>date</th>\n      <th>user</th>\n      <th>message</th>\n    </tr>\n  </thead>\n  <tbody>\n    <tr>\n      <th>0</th>\n      <td>2022-04-01 09:10:07</td>\n      <td>Adamya</td>\n      <td>‎Messages and calls are end-to-end encrypted. ...</td>\n    </tr>\n    <tr>\n      <th>1</th>\n      <td>2022-04-01 09:10:07</td>\n      <td>Viren</td>\n      <td>Hiii\\nI’m Viren \\nContesting for the Cultural ...</td>\n    </tr>\n    <tr>\n      <th>2</th>\n      <td>2022-04-01 09:28:24</td>\n      <td>Adamya</td>\n      <td>Hey, sure\\n</td>\n    </tr>\n    <tr>\n      <th>3</th>\n      <td>2022-04-01 09:29:13</td>\n      <td>Viren</td>\n      <td>If possible we can meet?\\n</td>\n    </tr>\n    <tr>\n      <th>4</th>\n      <td>2022-04-01 09:33:48</td>\n      <td>Adamya</td>\n      <td>Today or tomorrow?\\n</td>\n    </tr>\n    <tr>\n      <th>...</th>\n      <td>...</td>\n      <td>...</td>\n      <td>...</td>\n    </tr>\n    <tr>\n      <th>1953</th>\n      <td>2023-04-08 07:01:11</td>\n      <td>Viren</td>\n      <td>Room\\n</td>\n    </tr>\n    <tr>\n      <th>1954</th>\n      <td>2023-04-08 07:01:29</td>\n      <td>Adamya</td>\n      <td>Gym?\\n</td>\n    </tr>\n    <tr>\n      <th>1955</th>\n      <td>2023-04-08 07:01:36</td>\n      <td>Viren</td>\n      <td>Rest\\n</td>\n    </tr>\n    <tr>\n      <th>1956</th>\n      <td>2023-04-08 07:01:50</td>\n      <td>Adamya</td>\n      <td>Aarhi m\\n</td>\n    </tr>\n    <tr>\n      <th>1957</th>\n      <td>2023-04-08 07:01:56</td>\n      <td>Viren</td>\n      <td>Haa\\n</td>\n    </tr>\n  </tbody>\n</table>\n<p>1958 rows × 3 columns</p>\n</div>"
     },
     "execution_count": 18,
     "metadata": {},
     "output_type": "execute_result"
    }
   ],
   "source": [
    "df"
   ],
   "metadata": {
    "collapsed": false,
    "pycharm": {
     "name": "#%%\n"
    }
   }
  },
  {
   "cell_type": "code",
   "execution_count": 19,
   "outputs": [],
   "source": [
    "df['year'] = df['date'].dt.year"
   ],
   "metadata": {
    "collapsed": false,
    "pycharm": {
     "name": "#%%\n"
    }
   }
  },
  {
   "cell_type": "code",
   "execution_count": 20,
   "outputs": [],
   "source": [
    "df['month'] = df['date'].dt.month_name()"
   ],
   "metadata": {
    "collapsed": false,
    "pycharm": {
     "name": "#%%\n"
    }
   }
  },
  {
   "cell_type": "code",
   "execution_count": 21,
   "outputs": [
    {
     "data": {
      "text/plain": "                    date    user  \\\n0    2022-04-01 09:10:07  Adamya   \n1    2022-04-01 09:10:07   Viren   \n2    2022-04-01 09:28:24  Adamya   \n3    2022-04-01 09:29:13   Viren   \n4    2022-04-01 09:33:48  Adamya   \n...                  ...     ...   \n1953 2023-04-08 07:01:11   Viren   \n1954 2023-04-08 07:01:29  Adamya   \n1955 2023-04-08 07:01:36   Viren   \n1956 2023-04-08 07:01:50  Adamya   \n1957 2023-04-08 07:01:56   Viren   \n\n                                                message  year  month  \n0     ‎Messages and calls are end-to-end encrypted. ...  2022  April  \n1     Hiii\\nI’m Viren \\nContesting for the Cultural ...  2022  April  \n2                                           Hey, sure\\n  2022  April  \n3                            If possible we can meet?\\n  2022  April  \n4                                  Today or tomorrow?\\n  2022  April  \n...                                                 ...   ...    ...  \n1953                                             Room\\n  2023  April  \n1954                                             Gym?\\n  2023  April  \n1955                                             Rest\\n  2023  April  \n1956                                          Aarhi m\\n  2023  April  \n1957                                              Haa\\n  2023  April  \n\n[1958 rows x 5 columns]",
      "text/html": "<div>\n<style scoped>\n    .dataframe tbody tr th:only-of-type {\n        vertical-align: middle;\n    }\n\n    .dataframe tbody tr th {\n        vertical-align: top;\n    }\n\n    .dataframe thead th {\n        text-align: right;\n    }\n</style>\n<table border=\"1\" class=\"dataframe\">\n  <thead>\n    <tr style=\"text-align: right;\">\n      <th></th>\n      <th>date</th>\n      <th>user</th>\n      <th>message</th>\n      <th>year</th>\n      <th>month</th>\n    </tr>\n  </thead>\n  <tbody>\n    <tr>\n      <th>0</th>\n      <td>2022-04-01 09:10:07</td>\n      <td>Adamya</td>\n      <td>‎Messages and calls are end-to-end encrypted. ...</td>\n      <td>2022</td>\n      <td>April</td>\n    </tr>\n    <tr>\n      <th>1</th>\n      <td>2022-04-01 09:10:07</td>\n      <td>Viren</td>\n      <td>Hiii\\nI’m Viren \\nContesting for the Cultural ...</td>\n      <td>2022</td>\n      <td>April</td>\n    </tr>\n    <tr>\n      <th>2</th>\n      <td>2022-04-01 09:28:24</td>\n      <td>Adamya</td>\n      <td>Hey, sure\\n</td>\n      <td>2022</td>\n      <td>April</td>\n    </tr>\n    <tr>\n      <th>3</th>\n      <td>2022-04-01 09:29:13</td>\n      <td>Viren</td>\n      <td>If possible we can meet?\\n</td>\n      <td>2022</td>\n      <td>April</td>\n    </tr>\n    <tr>\n      <th>4</th>\n      <td>2022-04-01 09:33:48</td>\n      <td>Adamya</td>\n      <td>Today or tomorrow?\\n</td>\n      <td>2022</td>\n      <td>April</td>\n    </tr>\n    <tr>\n      <th>...</th>\n      <td>...</td>\n      <td>...</td>\n      <td>...</td>\n      <td>...</td>\n      <td>...</td>\n    </tr>\n    <tr>\n      <th>1953</th>\n      <td>2023-04-08 07:01:11</td>\n      <td>Viren</td>\n      <td>Room\\n</td>\n      <td>2023</td>\n      <td>April</td>\n    </tr>\n    <tr>\n      <th>1954</th>\n      <td>2023-04-08 07:01:29</td>\n      <td>Adamya</td>\n      <td>Gym?\\n</td>\n      <td>2023</td>\n      <td>April</td>\n    </tr>\n    <tr>\n      <th>1955</th>\n      <td>2023-04-08 07:01:36</td>\n      <td>Viren</td>\n      <td>Rest\\n</td>\n      <td>2023</td>\n      <td>April</td>\n    </tr>\n    <tr>\n      <th>1956</th>\n      <td>2023-04-08 07:01:50</td>\n      <td>Adamya</td>\n      <td>Aarhi m\\n</td>\n      <td>2023</td>\n      <td>April</td>\n    </tr>\n    <tr>\n      <th>1957</th>\n      <td>2023-04-08 07:01:56</td>\n      <td>Viren</td>\n      <td>Haa\\n</td>\n      <td>2023</td>\n      <td>April</td>\n    </tr>\n  </tbody>\n</table>\n<p>1958 rows × 5 columns</p>\n</div>"
     },
     "execution_count": 21,
     "metadata": {},
     "output_type": "execute_result"
    }
   ],
   "source": [
    "df"
   ],
   "metadata": {
    "collapsed": false,
    "pycharm": {
     "name": "#%%\n"
    }
   }
  },
  {
   "cell_type": "code",
   "execution_count": 22,
   "outputs": [],
   "source": [
    "df['day'] = df['date'].dt.day"
   ],
   "metadata": {
    "collapsed": false,
    "pycharm": {
     "name": "#%%\n"
    }
   }
  },
  {
   "cell_type": "code",
   "execution_count": 23,
   "outputs": [],
   "source": [
    "df['hours'] = df['date'].dt.hour\n",
    "df['minute'] = df['date'].dt.minute\n",
    "df['seconds'] = df['date'].dt.second"
   ],
   "metadata": {
    "collapsed": false,
    "pycharm": {
     "name": "#%%\n"
    }
   }
  },
  {
   "cell_type": "code",
   "execution_count": 24,
   "outputs": [
    {
     "data": {
      "text/plain": "                    date    user  \\\n0    2022-04-01 09:10:07  Adamya   \n1    2022-04-01 09:10:07   Viren   \n2    2022-04-01 09:28:24  Adamya   \n3    2022-04-01 09:29:13   Viren   \n4    2022-04-01 09:33:48  Adamya   \n...                  ...     ...   \n1953 2023-04-08 07:01:11   Viren   \n1954 2023-04-08 07:01:29  Adamya   \n1955 2023-04-08 07:01:36   Viren   \n1956 2023-04-08 07:01:50  Adamya   \n1957 2023-04-08 07:01:56   Viren   \n\n                                                message  year  month  day  \\\n0     ‎Messages and calls are end-to-end encrypted. ...  2022  April    1   \n1     Hiii\\nI’m Viren \\nContesting for the Cultural ...  2022  April    1   \n2                                           Hey, sure\\n  2022  April    1   \n3                            If possible we can meet?\\n  2022  April    1   \n4                                  Today or tomorrow?\\n  2022  April    1   \n...                                                 ...   ...    ...  ...   \n1953                                             Room\\n  2023  April    8   \n1954                                             Gym?\\n  2023  April    8   \n1955                                             Rest\\n  2023  April    8   \n1956                                          Aarhi m\\n  2023  April    8   \n1957                                              Haa\\n  2023  April    8   \n\n      hours  minute  seconds  \n0         9      10        7  \n1         9      10        7  \n2         9      28       24  \n3         9      29       13  \n4         9      33       48  \n...     ...     ...      ...  \n1953      7       1       11  \n1954      7       1       29  \n1955      7       1       36  \n1956      7       1       50  \n1957      7       1       56  \n\n[1958 rows x 9 columns]",
      "text/html": "<div>\n<style scoped>\n    .dataframe tbody tr th:only-of-type {\n        vertical-align: middle;\n    }\n\n    .dataframe tbody tr th {\n        vertical-align: top;\n    }\n\n    .dataframe thead th {\n        text-align: right;\n    }\n</style>\n<table border=\"1\" class=\"dataframe\">\n  <thead>\n    <tr style=\"text-align: right;\">\n      <th></th>\n      <th>date</th>\n      <th>user</th>\n      <th>message</th>\n      <th>year</th>\n      <th>month</th>\n      <th>day</th>\n      <th>hours</th>\n      <th>minute</th>\n      <th>seconds</th>\n    </tr>\n  </thead>\n  <tbody>\n    <tr>\n      <th>0</th>\n      <td>2022-04-01 09:10:07</td>\n      <td>Adamya</td>\n      <td>‎Messages and calls are end-to-end encrypted. ...</td>\n      <td>2022</td>\n      <td>April</td>\n      <td>1</td>\n      <td>9</td>\n      <td>10</td>\n      <td>7</td>\n    </tr>\n    <tr>\n      <th>1</th>\n      <td>2022-04-01 09:10:07</td>\n      <td>Viren</td>\n      <td>Hiii\\nI’m Viren \\nContesting for the Cultural ...</td>\n      <td>2022</td>\n      <td>April</td>\n      <td>1</td>\n      <td>9</td>\n      <td>10</td>\n      <td>7</td>\n    </tr>\n    <tr>\n      <th>2</th>\n      <td>2022-04-01 09:28:24</td>\n      <td>Adamya</td>\n      <td>Hey, sure\\n</td>\n      <td>2022</td>\n      <td>April</td>\n      <td>1</td>\n      <td>9</td>\n      <td>28</td>\n      <td>24</td>\n    </tr>\n    <tr>\n      <th>3</th>\n      <td>2022-04-01 09:29:13</td>\n      <td>Viren</td>\n      <td>If possible we can meet?\\n</td>\n      <td>2022</td>\n      <td>April</td>\n      <td>1</td>\n      <td>9</td>\n      <td>29</td>\n      <td>13</td>\n    </tr>\n    <tr>\n      <th>4</th>\n      <td>2022-04-01 09:33:48</td>\n      <td>Adamya</td>\n      <td>Today or tomorrow?\\n</td>\n      <td>2022</td>\n      <td>April</td>\n      <td>1</td>\n      <td>9</td>\n      <td>33</td>\n      <td>48</td>\n    </tr>\n    <tr>\n      <th>...</th>\n      <td>...</td>\n      <td>...</td>\n      <td>...</td>\n      <td>...</td>\n      <td>...</td>\n      <td>...</td>\n      <td>...</td>\n      <td>...</td>\n      <td>...</td>\n    </tr>\n    <tr>\n      <th>1953</th>\n      <td>2023-04-08 07:01:11</td>\n      <td>Viren</td>\n      <td>Room\\n</td>\n      <td>2023</td>\n      <td>April</td>\n      <td>8</td>\n      <td>7</td>\n      <td>1</td>\n      <td>11</td>\n    </tr>\n    <tr>\n      <th>1954</th>\n      <td>2023-04-08 07:01:29</td>\n      <td>Adamya</td>\n      <td>Gym?\\n</td>\n      <td>2023</td>\n      <td>April</td>\n      <td>8</td>\n      <td>7</td>\n      <td>1</td>\n      <td>29</td>\n    </tr>\n    <tr>\n      <th>1955</th>\n      <td>2023-04-08 07:01:36</td>\n      <td>Viren</td>\n      <td>Rest\\n</td>\n      <td>2023</td>\n      <td>April</td>\n      <td>8</td>\n      <td>7</td>\n      <td>1</td>\n      <td>36</td>\n    </tr>\n    <tr>\n      <th>1956</th>\n      <td>2023-04-08 07:01:50</td>\n      <td>Adamya</td>\n      <td>Aarhi m\\n</td>\n      <td>2023</td>\n      <td>April</td>\n      <td>8</td>\n      <td>7</td>\n      <td>1</td>\n      <td>50</td>\n    </tr>\n    <tr>\n      <th>1957</th>\n      <td>2023-04-08 07:01:56</td>\n      <td>Viren</td>\n      <td>Haa\\n</td>\n      <td>2023</td>\n      <td>April</td>\n      <td>8</td>\n      <td>7</td>\n      <td>1</td>\n      <td>56</td>\n    </tr>\n  </tbody>\n</table>\n<p>1958 rows × 9 columns</p>\n</div>"
     },
     "execution_count": 24,
     "metadata": {},
     "output_type": "execute_result"
    }
   ],
   "source": [
    "df"
   ],
   "metadata": {
    "collapsed": false,
    "pycharm": {
     "name": "#%%\n"
    }
   }
  },
  {
   "cell_type": "code",
   "execution_count": 25,
   "outputs": [],
   "source": [
    "df['message'] = df['message'].str.strip().str.replace('\\u200e', '')\n"
   ],
   "metadata": {
    "collapsed": false,
    "pycharm": {
     "name": "#%%\n"
    }
   }
  },
  {
   "cell_type": "code",
   "execution_count": 26,
   "outputs": [
    {
     "data": {
      "text/plain": "                    date    user  \\\n0    2022-04-01 09:10:07  Adamya   \n1    2022-04-01 09:10:07   Viren   \n2    2022-04-01 09:28:24  Adamya   \n3    2022-04-01 09:29:13   Viren   \n4    2022-04-01 09:33:48  Adamya   \n...                  ...     ...   \n1953 2023-04-08 07:01:11   Viren   \n1954 2023-04-08 07:01:29  Adamya   \n1955 2023-04-08 07:01:36   Viren   \n1956 2023-04-08 07:01:50  Adamya   \n1957 2023-04-08 07:01:56   Viren   \n\n                                                message  year  month  day  \\\n0     Messages and calls are end-to-end encrypted. N...  2022  April    1   \n1     Hiii\\nI’m Viren \\nContesting for the Cultural ...  2022  April    1   \n2                                             Hey, sure  2022  April    1   \n3                              If possible we can meet?  2022  April    1   \n4                                    Today or tomorrow?  2022  April    1   \n...                                                 ...   ...    ...  ...   \n1953                                               Room  2023  April    8   \n1954                                               Gym?  2023  April    8   \n1955                                               Rest  2023  April    8   \n1956                                            Aarhi m  2023  April    8   \n1957                                                Haa  2023  April    8   \n\n      hours  minute  seconds  \n0         9      10        7  \n1         9      10        7  \n2         9      28       24  \n3         9      29       13  \n4         9      33       48  \n...     ...     ...      ...  \n1953      7       1       11  \n1954      7       1       29  \n1955      7       1       36  \n1956      7       1       50  \n1957      7       1       56  \n\n[1958 rows x 9 columns]",
      "text/html": "<div>\n<style scoped>\n    .dataframe tbody tr th:only-of-type {\n        vertical-align: middle;\n    }\n\n    .dataframe tbody tr th {\n        vertical-align: top;\n    }\n\n    .dataframe thead th {\n        text-align: right;\n    }\n</style>\n<table border=\"1\" class=\"dataframe\">\n  <thead>\n    <tr style=\"text-align: right;\">\n      <th></th>\n      <th>date</th>\n      <th>user</th>\n      <th>message</th>\n      <th>year</th>\n      <th>month</th>\n      <th>day</th>\n      <th>hours</th>\n      <th>minute</th>\n      <th>seconds</th>\n    </tr>\n  </thead>\n  <tbody>\n    <tr>\n      <th>0</th>\n      <td>2022-04-01 09:10:07</td>\n      <td>Adamya</td>\n      <td>Messages and calls are end-to-end encrypted. N...</td>\n      <td>2022</td>\n      <td>April</td>\n      <td>1</td>\n      <td>9</td>\n      <td>10</td>\n      <td>7</td>\n    </tr>\n    <tr>\n      <th>1</th>\n      <td>2022-04-01 09:10:07</td>\n      <td>Viren</td>\n      <td>Hiii\\nI’m Viren \\nContesting for the Cultural ...</td>\n      <td>2022</td>\n      <td>April</td>\n      <td>1</td>\n      <td>9</td>\n      <td>10</td>\n      <td>7</td>\n    </tr>\n    <tr>\n      <th>2</th>\n      <td>2022-04-01 09:28:24</td>\n      <td>Adamya</td>\n      <td>Hey, sure</td>\n      <td>2022</td>\n      <td>April</td>\n      <td>1</td>\n      <td>9</td>\n      <td>28</td>\n      <td>24</td>\n    </tr>\n    <tr>\n      <th>3</th>\n      <td>2022-04-01 09:29:13</td>\n      <td>Viren</td>\n      <td>If possible we can meet?</td>\n      <td>2022</td>\n      <td>April</td>\n      <td>1</td>\n      <td>9</td>\n      <td>29</td>\n      <td>13</td>\n    </tr>\n    <tr>\n      <th>4</th>\n      <td>2022-04-01 09:33:48</td>\n      <td>Adamya</td>\n      <td>Today or tomorrow?</td>\n      <td>2022</td>\n      <td>April</td>\n      <td>1</td>\n      <td>9</td>\n      <td>33</td>\n      <td>48</td>\n    </tr>\n    <tr>\n      <th>...</th>\n      <td>...</td>\n      <td>...</td>\n      <td>...</td>\n      <td>...</td>\n      <td>...</td>\n      <td>...</td>\n      <td>...</td>\n      <td>...</td>\n      <td>...</td>\n    </tr>\n    <tr>\n      <th>1953</th>\n      <td>2023-04-08 07:01:11</td>\n      <td>Viren</td>\n      <td>Room</td>\n      <td>2023</td>\n      <td>April</td>\n      <td>8</td>\n      <td>7</td>\n      <td>1</td>\n      <td>11</td>\n    </tr>\n    <tr>\n      <th>1954</th>\n      <td>2023-04-08 07:01:29</td>\n      <td>Adamya</td>\n      <td>Gym?</td>\n      <td>2023</td>\n      <td>April</td>\n      <td>8</td>\n      <td>7</td>\n      <td>1</td>\n      <td>29</td>\n    </tr>\n    <tr>\n      <th>1955</th>\n      <td>2023-04-08 07:01:36</td>\n      <td>Viren</td>\n      <td>Rest</td>\n      <td>2023</td>\n      <td>April</td>\n      <td>8</td>\n      <td>7</td>\n      <td>1</td>\n      <td>36</td>\n    </tr>\n    <tr>\n      <th>1956</th>\n      <td>2023-04-08 07:01:50</td>\n      <td>Adamya</td>\n      <td>Aarhi m</td>\n      <td>2023</td>\n      <td>April</td>\n      <td>8</td>\n      <td>7</td>\n      <td>1</td>\n      <td>50</td>\n    </tr>\n    <tr>\n      <th>1957</th>\n      <td>2023-04-08 07:01:56</td>\n      <td>Viren</td>\n      <td>Haa</td>\n      <td>2023</td>\n      <td>April</td>\n      <td>8</td>\n      <td>7</td>\n      <td>1</td>\n      <td>56</td>\n    </tr>\n  </tbody>\n</table>\n<p>1958 rows × 9 columns</p>\n</div>"
     },
     "execution_count": 26,
     "metadata": {},
     "output_type": "execute_result"
    }
   ],
   "source": [
    "df"
   ],
   "metadata": {
    "collapsed": false,
    "pycharm": {
     "name": "#%%\n"
    }
   }
  },
  {
   "cell_type": "code",
   "execution_count": 27,
   "outputs": [],
   "source": [
    "words = []\n",
    "for messages in df['message']:\n",
    "    words.extend(messages.split())"
   ],
   "metadata": {
    "collapsed": false,
    "pycharm": {
     "name": "#%%\n"
    }
   }
  },
  {
   "cell_type": "code",
   "execution_count": 28,
   "outputs": [
    {
     "data": {
      "text/plain": "7493"
     },
     "execution_count": 28,
     "metadata": {},
     "output_type": "execute_result"
    }
   ],
   "source": [
    "len(words)"
   ],
   "metadata": {
    "collapsed": false,
    "pycharm": {
     "name": "#%%\n"
    }
   }
  },
  {
   "cell_type": "code",
   "execution_count": 29,
   "outputs": [
    {
     "data": {
      "text/plain": "['www.fb.com', 'https://www.twitter.com']"
     },
     "execution_count": 29,
     "metadata": {},
     "output_type": "execute_result"
    }
   ],
   "source": [
    "from urlextract import URLExtract\n",
    "extract = URLExtract()\n",
    "\n",
    "urls = extract.find_urls(\"www.fb.com, hello, https://www.twitter.com\")\n",
    "urls"
   ],
   "metadata": {
    "collapsed": false,
    "pycharm": {
     "name": "#%%\n"
    }
   }
  },
  {
   "cell_type": "code",
   "execution_count": 30,
   "outputs": [
    {
     "data": {
      "text/plain": "['https://vote.heliosvoting.org/helios/e/iith_gymkhana_general_elec_2022/vote',\n 'https://drive.google.com/drive/folders/15A7D6dhSxOuUB8GbqeJBH9LwEQtbyy1B?usp=sharing',\n 'https://open.spotify.com/playlist/6Mz3UZ34ijQb5eW4O8GSXk?si=gJLi9QAgR-Sc6q6ab-rK7w&pt=8bdc65cd24304c6796797772f2e5a2d2',\n 'https://maps.app.goo.gl/L4S8K3eQuyxgnL8y8']"
     },
     "execution_count": 30,
     "metadata": {},
     "output_type": "execute_result"
    }
   ],
   "source": [
    "links = []\n",
    "for message in df['message']:\n",
    "    links.extend(extract.find_urls(message))\n",
    "len(links)\n",
    "links"
   ],
   "metadata": {
    "collapsed": false,
    "pycharm": {
     "name": "#%%\n"
    }
   }
  },
  {
   "cell_type": "code",
   "execution_count": 31,
   "outputs": [],
   "source": [
    "x = df['user'].value_counts().head()"
   ],
   "metadata": {
    "collapsed": false,
    "pycharm": {
     "name": "#%%\n"
    }
   }
  },
  {
   "cell_type": "code",
   "execution_count": 32,
   "outputs": [],
   "source": [
    "import matplotlib.pyplot as plt"
   ],
   "metadata": {
    "collapsed": false,
    "pycharm": {
     "name": "#%%\n"
    }
   }
  },
  {
   "cell_type": "code",
   "execution_count": 33,
   "outputs": [],
   "source": [
    "name = x.index\n",
    "count = x.values"
   ],
   "metadata": {
    "collapsed": false,
    "pycharm": {
     "name": "#%%\n"
    }
   }
  },
  {
   "cell_type": "code",
   "execution_count": 34,
   "outputs": [
    {
     "data": {
      "text/plain": "([0, 1], [Text(0, 0, 'Viren'), Text(1, 0, 'Adamya')])"
     },
     "execution_count": 34,
     "metadata": {},
     "output_type": "execute_result"
    },
    {
     "data": {
      "text/plain": "<Figure size 640x480 with 1 Axes>",
      "image/png": "[encoded data removed]"
     },
     "metadata": {},
     "output_type": "display_data"
    }
   ],
   "source": [
    "plt.bar(name, count)\n",
    "plt.xticks(rotation='vertical')"
   ],
   "metadata": {
    "collapsed": false,
    "pycharm": {
     "name": "#%%\n"
    }
   }
  },
  {
   "cell_type": "code",
   "execution_count": 35,
   "outputs": [
    {
     "data": {
      "text/plain": "     name  percent\n0   Viren    53.98\n1  Adamya    46.02",
      "text/html": "<div>\n<style scoped>\n    .dataframe tbody tr th:only-of-type {\n        vertical-align: middle;\n    }\n\n    .dataframe tbody tr th {\n        vertical-align: top;\n    }\n\n    .dataframe thead th {\n        text-align: right;\n    }\n</style>\n<table border=\"1\" class=\"dataframe\">\n  <thead>\n    <tr style=\"text-align: right;\">\n      <th></th>\n      <th>name</th>\n      <th>percent</th>\n    </tr>\n  </thead>\n  <tbody>\n    <tr>\n      <th>0</th>\n      <td>Viren</td>\n      <td>53.98</td>\n    </tr>\n    <tr>\n      <th>1</th>\n      <td>Adamya</td>\n      <td>46.02</td>\n    </tr>\n  </tbody>\n</table>\n</div>"
     },
     "execution_count": 35,
     "metadata": {},
     "output_type": "execute_result"
    }
   ],
   "source": [
    "round((df['user'].value_counts()/df.shape[0])*100,2).reset_index().rename(columns={'index':'name','user':'percent'})"
   ],
   "metadata": {
    "collapsed": false,
    "pycharm": {
     "name": "#%%\n"
    }
   }
  },
  {
   "cell_type": "code",
   "execution_count": 36,
   "outputs": [
    {
     "name": "stdout",
     "output_type": "stream",
     "text": [
      "Requirement already satisfied: wordcloud in c:\\users\\viren\\appdata\\local\\programs\\python\\python39\\lib\\site-packages (1.9.1.1)\n",
      "Requirement already satisfied: pillow in c:\\users\\viren\\appdata\\local\\programs\\python\\python39\\lib\\site-packages (from wordcloud) (9.3.0)\n",
      "Requirement already satisfied: matplotlib in c:\\users\\viren\\appdata\\local\\programs\\python\\python39\\lib\\site-packages (from wordcloud) (3.6.2)\n",
      "Requirement already satisfied: numpy>=1.6.1 in c:\\users\\viren\\appdata\\local\\programs\\python\\python39\\lib\\site-packages (from wordcloud) (1.23.5)\n",
      "Requirement already satisfied: python-dateutil>=2.7 in c:\\users\\viren\\appdata\\local\\programs\\python\\python39\\lib\\site-packages (from matplotlib->wordcloud) (2.8.2)\n",
      "Requirement already satisfied: kiwisolver>=1.0.1 in c:\\users\\viren\\appdata\\local\\programs\\python\\python39\\lib\\site-packages (from matplotlib->wordcloud) (1.4.4)\n",
      "Requirement already satisfied: packaging>=20.0 in c:\\users\\viren\\appdata\\local\\programs\\python\\python39\\lib\\site-packages (from matplotlib->wordcloud) (21.3)\n",
      "Requirement already satisfied: pyparsing>=2.2.1 in c:\\users\\viren\\appdata\\local\\programs\\python\\python39\\lib\\site-packages (from matplotlib->wordcloud) (3.0.9)\n",
      "Requirement already satisfied: contourpy>=1.0.1 in c:\\users\\viren\\appdata\\local\\programs\\python\\python39\\lib\\site-packages (from matplotlib->wordcloud) (1.0.6)\n",
      "Requirement already satisfied: fonttools>=4.22.0 in c:\\users\\viren\\appdata\\local\\programs\\python\\python39\\lib\\site-packages (from matplotlib->wordcloud) (4.38.0)\n",
      "Requirement already satisfied: cycler>=0.10 in c:\\users\\viren\\appdata\\local\\programs\\python\\python39\\lib\\site-packages (from matplotlib->wordcloud) (0.11.0)\n",
      "Requirement already satisfied: six>=1.5 in c:\\users\\viren\\appdata\\local\\programs\\python\\python39\\lib\\site-packages (from python-dateutil>=2.7->matplotlib->wordcloud) (1.16.0)\n"
     ]
    },
    {
     "name": "stderr",
     "output_type": "stream",
     "text": [
      "WARNING: You are using pip version 21.2.3; however, version 23.1.2 is available.\n",
      "You should consider upgrading via the 'C:\\Users\\viren\\AppData\\Local\\Programs\\Python\\Python39\\python.exe -m pip install --upgrade pip' command.\n"
     ]
    }
   ],
   "source": [
    "!pip install wordcloud"
   ],
   "metadata": {
    "collapsed": false,
    "pycharm": {
     "name": "#%%\n"
    }
   }
  },
  {
   "cell_type": "code",
   "execution_count": 37,
   "outputs": [
    {
     "name": "stdout",
     "output_type": "stream",
     "text": [
      "Requirement already satisfied: wordcloud in c:\\users\\viren\\appdata\\local\\programs\\python\\python39\\lib\\site-packages (1.9.1.1)\n",
      "Requirement already satisfied: pillow in c:\\users\\viren\\appdata\\local\\programs\\python\\python39\\lib\\site-packages (from wordcloud) (9.3.0)\n",
      "Requirement already satisfied: matplotlib in c:\\users\\viren\\appdata\\local\\programs\\python\\python39\\lib\\site-packages (from wordcloud) (3.6.2)\n",
      "Requirement already satisfied: numpy>=1.6.1 in c:\\users\\viren\\appdata\\local\\programs\\python\\python39\\lib\\site-packages (from wordcloud) (1.23.5)\n",
      "Requirement already satisfied: python-dateutil>=2.7 in c:\\users\\viren\\appdata\\local\\programs\\python\\python39\\lib\\site-packages (from matplotlib->wordcloud) (2.8.2)\n",
      "Requirement already satisfied: kiwisolver>=1.0.1 in c:\\users\\viren\\appdata\\local\\programs\\python\\python39\\lib\\site-packages (from matplotlib->wordcloud) (1.4.4)\n",
      "Requirement already satisfied: pyparsing>=2.2.1 in c:\\users\\viren\\appdata\\local\\programs\\python\\python39\\lib\\site-packages (from matplotlib->wordcloud) (3.0.9)\n",
      "Requirement already satisfied: packaging>=20.0 in c:\\users\\viren\\appdata\\local\\programs\\python\\python39\\lib\\site-packages (from matplotlib->wordcloud) (21.3)\n",
      "Requirement already satisfied: cycler>=0.10 in c:\\users\\viren\\appdata\\local\\programs\\python\\python39\\lib\\site-packages (from matplotlib->wordcloud) (0.11.0)\n",
      "Requirement already satisfied: fonttools>=4.22.0 in c:\\users\\viren\\appdata\\local\\programs\\python\\python39\\lib\\site-packages (from matplotlib->wordcloud) (4.38.0)\n",
      "Requirement already satisfied: contourpy>=1.0.1 in c:\\users\\viren\\appdata\\local\\programs\\python\\python39\\lib\\site-packages (from matplotlib->wordcloud) (1.0.6)\n",
      "Requirement already satisfied: six>=1.5 in c:\\users\\viren\\appdata\\local\\programs\\python\\python39\\lib\\site-packages (from python-dateutil>=2.7->matplotlib->wordcloud) (1.16.0)\n"
     ]
    },
    {
     "name": "stderr",
     "output_type": "stream",
     "text": [
      "WARNING: You are using pip version 21.2.3; however, version 23.1.2 is available.\n",
      "You should consider upgrading via the 'C:\\Users\\viren\\AppData\\Local\\Programs\\Python\\Python39\\python.exe -m pip install --upgrade pip' command.\n"
     ]
    }
   ],
   "source": [
    "!pip install wordcloud"
   ],
   "metadata": {
    "collapsed": false,
    "pycharm": {
     "name": "#%%\n"
    }
   }
  },
  {
   "cell_type": "code",
   "execution_count": 38,
   "outputs": [],
   "source": [
    "# Most Used Words\n",
    "\n"
   ],
   "metadata": {
    "collapsed": false,
    "pycharm": {
     "name": "#%%\n"
    }
   }
  },
  {
   "cell_type": "code",
   "execution_count": 39,
   "outputs": [],
   "source": [
    "# Remove group Notification\n"
   ],
   "metadata": {
    "collapsed": false,
    "pycharm": {
     "name": "#%%\n"
    }
   }
  },
  {
   "cell_type": "code",
   "execution_count": 40,
   "outputs": [],
   "source": [
    "temp = df[df['message'] != 'image omitted\\n' ]\n",
    "temp = temp[temp['message'] != 'video omitted\\n' ]\n",
    "temp = temp[temp['message'] != 'sticker omitted\\n' ]\n",
    "temp = temp[temp['message'] != 'image omitted' ]\n",
    "temp = temp[temp['message'] != 'sticker omitted' ]\n",
    "temp = temp[temp['message'] != 'Contact card omitted' ]\n"
   ],
   "metadata": {
    "collapsed": false,
    "pycharm": {
     "name": "#%%\n"
    }
   }
  },
  {
   "cell_type": "code",
   "execution_count": 41,
   "outputs": [
    {
     "data": {
      "text/plain": "0       Messages and calls are end-to-end encrypted. N...\n1       Hiii\\nI’m Viren \\nContesting for the Cultural ...\n2                                               Hey, sure\n3                                If possible we can meet?\n4                                      Today or tomorrow?\n                              ...                        \n1953                                                 Room\n1954                                                 Gym?\n1955                                                 Rest\n1956                                              Aarhi m\n1957                                                  Haa\nName: message, Length: 1723, dtype: object"
     },
     "execution_count": 41,
     "metadata": {},
     "output_type": "execute_result"
    }
   ],
   "source": [
    "temp['message']\n"
   ],
   "metadata": {
    "collapsed": false,
    "pycharm": {
     "name": "#%%\n"
    }
   }
  },
  {
   "cell_type": "code",
   "execution_count": 42,
   "outputs": [
    {
     "data": {
      "text/plain": "\"a\\naadi\\nimage\\nsticker\\nvideo\\ndocument\\n \\n\\naaj\\naap\\naapne\\naata\\naati\\naaya\\naaye\\nab\\nabbe\\nabbey\\nabe\\nabhi\\nable\\nabout\\nomitted\\nabove\\naccha\\naccording\\naccordingly\\nacha\\nachcha\\nacross\\nactually\\nafter\\nafterwards\\nagain\\nagainst\\nagar\\nain\\naint\\nain't\\naisa\\naise\\naisi\\nalag\\nall\\nallow\\nallows\\nalmost\\nalone\\nalong\\nalready\\nalso\\nalthough\\nalways\\nam\\namong\\namongst\\nan\\nand\\nandar\\nanother\\nany\\nanybody\\nanyhow\\nanyone\\nanything\\nanyway\\nanyways\\nanywhere\\nap\\napan\\napart\\napna\\napnaa\\napne\\napni\\nappear\\nare\\naren\\narent\\naren't\\naround\\narre\\nas\\naside\\nask\\nasking\\nat\\naur\\navum\\naya\\naye\\nbaad\\nbaar\\nbad\\nbahut\\nbana\\nbanae\\nbanai\\nbanao\\nbanaya\\nbanaye\\nbanayi\\nbanda\\nbande\\nbandi\\nbane\\nbani\\nbas\\nbata\\nbatao\\nbc\\nbe\\nbecame\\nbecause\\nbecome\\nbecomes\\nbecoming\\nbeen\\nbefore\\nbeforehand\\nbehind\\nbeing\\nbelow\\nbeside\\nbesides\\nbest\\nbetter\\nbetween\\nbeyond\\nbhai\\nbheetar\\nbhi\\nbhitar\\nbht\\nbilkul\\nbohot\\nbol\\nbola\\nbole\\nboli\\nbolo\\nbolta\\nbolte\\nbolti\\nboth\\nbrief\\nbro\\nbtw\\nbut\\nby\\ncame\\ncan\\ncannot\\ncant\\ncan't\\ncause\\ncauses\\ncertain\\ncertainly\\nchahiye\\nchaiye\\nchal\\nchalega\\nchhaiye\\nclearly\\nc'mon\\ncom\\ncome\\ncomes\\ncould\\ncouldn\\ncouldnt\\ncouldn't\\nd\\nde\\ndede\\ndega\\ndegi\\ndekh\\ndekha\\ndekhe\\ndekhi\\ndekho\\ndenge\\ndhang\\ndi\\ndid\\ndidn\\ndidnt\\ndidn't\\ndijiye\\ndiya\\ndiyaa\\ndiye\\ndiyo\\ndo\\ndoes\\ndoesn\\ndoesnt\\ndoesn't\\ndoing\\ndone\\ndono\\ndont\\ndon't\\ndoosra\\ndoosre\\ndown\\ndownwards\\ndude\\ndunga\\ndungi\\nduring\\ndusra\\ndusre\\ndusri\\ndvaara\\ndvara\\ndwaara\\ndwara\\neach\\nedu\\neg\\neight\\neither\\nek\\nelse\\nelsewhere\\nenough\\netc\\neven\\never\\nevery\\neverybody\\neveryone\\neverything\\neverywhere\\nex\\nexactly\\nexample\\nexcept\\nfar\\nfew\\nfifth\\nfir\\nfirst\\nfive\\nfollowed\\nfollowing\\nfollows\\nfor\\nforth\\nfour\\nfrom\\nfurther\\nfurthermore\\ngaya\\ngaye\\ngayi\\nget\\ngets\\ngetting\\nghar\\ngiven\\ngives\\ngo\\ngoes\\ngoing\\ngone\\ngood\\ngot\\ngotten\\ngreetings\\nhaan\\nhad\\nhadd\\nhadn\\nhadnt\\nhadn't\\nhai\\nhain\\nhamara\\nhamare\\nhamari\\nhamne\\nhan\\nhappens\\nhar\\nhardly\\nhas\\nhasn\\nhasnt\\nhasn't\\nhave\\nhaven\\nhavent\\nhaven't\\nhaving\\nhe\\nhello\\nhelp\\nhence\\nher\\nhere\\nhereafter\\nhereby\\nherein\\nhere's\\nhereupon\\nhers\\nherself\\nhe's\\nhi\\nhim\\nhimself\\nhis\\nhither\\nhm\\nhmm\\nho\\nhoga\\nhoge\\nhogi\\nhona\\nhonaa\\nhone\\nhonge\\nhongi\\nhoni\\nhopefully\\nhota\\nhotaa\\nhote\\nhoti\\nhow\\nhowbeit\\nhowever\\nhoyenge\\nhoyengi\\nhu\\nhua\\nhue\\nhuh\\nhui\\nhum\\nhumein\\nhumne\\nhun\\nhuye\\nhuyi\\ni\\ni'd\\nidk\\nie\\nif\\ni'll\\ni'm\\nimo\\nin\\ninasmuch\\ninc\\ninhe\\ninhi\\ninho\\ninka\\ninkaa\\ninke\\ninki\\ninn\\ninner\\ninse\\ninsofar\\ninto\\ninward\\nis\\nise\\nisi\\niska\\niskaa\\niske\\niski\\nisme\\nisn\\nisne\\nisnt\\nisn't\\niss\\nisse\\nissi\\nisski\\nit\\nit'd\\nit'll\\nitna\\nitne\\nitni\\nitno\\nits\\nit's\\nitself\\nityaadi\\nityadi\\ni've\\nja\\njaa\\njab\\njabh\\njaha\\njahaan\\njahan\\njaisa\\njaise\\njaisi\\njata\\njayega\\njidhar\\njin\\njinhe\\njinhi\\njinho\\njinhone\\njinka\\njinke\\njinki\\njinn\\njis\\njise\\njiska\\njiske\\njiski\\njisme\\njiss\\njisse\\njitna\\njitne\\njitni\\njo\\njust\\njyaada\\njyada\\nk\\nka\\nkaafi\\nkab\\nkabhi\\nkafi\\nkaha\\nkahaa\\nkahaan\\nkahan\\nkahi\\nkahin\\nkahte\\nkaisa\\nkaise\\nkaisi\\nkal\\nkam\\nkar\\nkara\\nkare\\nkarega\\nkaregi\\nkaren\\nkarenge\\nkari\\nkarke\\nkarna\\nkarne\\nkarni\\nkaro\\nkarta\\nkarte\\nkarti\\nkaru\\nkarun\\nkarunga\\nkarungi\\nkaun\\nkaunsa\\nkayi\\nkch\\nke\\nkeep\\nkeeps\\nkeh\\nkehte\\nkept\\nkhud\\nki\\nkin\\nkine\\nkinhe\\nkinho\\nkinka\\nkinke\\nkinki\\nkinko\\nkinn\\nkino\\nkis\\nkise\\nkisi\\nkiska\\nkiske\\nkiski\\nkisko\\nkisliye\\nkisne\\nkitna\\nkitne\\nkitni\\nkitno\\nkiya\\nkiye\\nknow\\nknown\\nknows\\nko\\nkoi\\nkon\\nkonsa\\nkoyi\\nkrna\\nkrne\\nkuch\\nkuchch\\nkuchh\\nkul\\nkull\\nkya\\nkyaa\\nkyu\\nkyuki\\nkyun\\nkyunki\\nlagta\\nlagte\\nlagti\\nlast\\nlately\\nlater\\nle\\nleast\\nlekar\\nlekin\\nless\\nlest\\nlet\\nlet's\\nli\\nlike\\nliked\\nlikely\\nlittle\\nliya\\nliye\\nll\\nlo\\nlog\\nlogon\\nlol\\nlook\\nlooking\\nlooks\\nltd\\nlunga\\nm\\nmaan\\nmaana\\nmaane\\nmaani\\nmaano\\nmagar\\nmai\\nmain\\nmaine\\nmainly\\nmana\\nmane\\nmani\\nmano\\nmany\\nmat\\nmay\\nmaybe\\nme\\nmean\\nmeanwhile\\nmein\\nmera\\nmere\\nmerely\\nmeri\\nmight\\nmightn\\nmightnt\\nmightn't\\nmil\\nmjhe\\nmore\\nmoreover\\nmost\\nmostly\\nmuch\\nmujhe\\nmust\\nmustn\\nmustnt\\nmustn't\\nmy\\nmyself\\nna\\nnaa\\nnaah\\nnahi\\nnahin\\nnai\\nname\\nnamely\\nnd\\nne\\nnear\\nnearly\\nnecessary\\nneeche\\nneed\\nneedn\\nneednt\\nneedn't\\nneeds\\nneither\\nnever\\nnevertheless\\nnew\\nnext\\nnhi\\nnine\\nno\\nnobody\\nnon\\nnone\\nnoone\\nnope\\nnor\\nnormally\\nnot\\nnothing\\nnovel\\nnow\\nnowhere\\no\\nobviously\\nof\\noff\\noften\\noh\\nok\\nokay\\nold\\non\\nonce\\none\\nones\\nonly\\nonto\\nor\\nother\\nothers\\notherwise\\nought\\nour\\nours\\nourselves\\nout\\noutside\\nover\\noverall\\nown\\npar\\npata\\npe\\npehla\\npehle\\npehli\\npeople\\nper\\nperhaps\\nphla\\nphle\\nphli\\nplaced\\nplease\\nplus\\npoora\\npoori\\nprovides\\npura\\npuri\\nq\\nque\\nquite\\nraha\\nrahaa\\nrahe\\nrahi\\nrakh\\nrakha\\nrakhe\\nrakhen\\nrakhi\\nrakho\\nrather\\nre\\nreally\\nreasonably\\nregarding\\nregardless\\nregards\\nrehte\\nrha\\nrhaa\\nrhe\\nrhi\\nri\\nright\\ns\\nsa\\nsaara\\nsaare\\nsaath\\nsab\\nsabhi\\nsabse\\nsahi\\nsaid\\nsakta\\nsaktaa\\nsakte\\nsakti\\nsame\\nsang\\nsara\\nsath\\nsaw\\nsay\\nsaying\\nsays\\nse\\nsecond\\nsecondly\\nsee\\nseeing\\nseem\\nseemed\\nseeming\\nseems\\nseen\\nself\\nselves\\nsensible\\nsent\\nserious\\nseriously\\nseven\\nseveral\\nshall\\nshan\\nshant\\nshan't\\nshe\\nshe's\\nshould\\nshouldn\\nshouldnt\\nshouldn't\\nshould've\\nsi\\nsince\\nsix\\nso\\nsoch\\nsome\\nsomebody\\nsomehow\\nsomeone\\nsomething\\nsometime\\nsometimes\\nsomewhat\\nsomewhere\\nsoon\\nstill\\nsub\\nsuch\\nsup\\nsure\\nt\\ntab\\ntabh\\ntak\\ntake\\ntaken\\ntarah\\nteen\\nteeno\\nteesra\\nteesre\\nteesri\\ntell\\ntends\\ntera\\ntere\\nteri\\nth\\ntha\\nthan\\nthank\\nthanks\\nthanx\\nthat\\nthat'll\\nthats\\nthat's\\nthe\\ntheek\\ntheir\\ntheirs\\nthem\\nthemselves\\nthen\\nthence\\nthere\\nthereafter\\nthereby\\ntherefore\\ntherein\\ntheres\\nthere's\\nthereupon\\nthese\\nthey\\nthey'd\\nthey'll\\nthey're\\nthey've\\nthi\\nthik\\nthing\\nthink\\nthinking\\nthird\\nthis\\ntho\\nthoda\\nthodi\\nthorough\\nthoroughly\\nthose\\nthough\\nthought\\nthree\\nthrough\\nthroughout\\nthru\\nthus\\ntjhe\\nto\\ntogether\\ntoh\\ntoo\\ntook\\ntoward\\ntowards\\ntried\\ntries\\ntrue\\ntruly\\ntry\\ntrying\\ntu\\ntujhe\\ntum\\ntumhara\\ntumhare\\ntumhari\\ntune\\ntwice\\ntwo\\num\\numm\\nun\\nunder\\nunhe\\nunhi\\nunho\\nunhone\\nunka\\nunkaa\\nunke\\nunki\\nunko\\nunless\\nunlikely\\nunn\\nunse\\nuntil\\nunto\\nup\\nupar\\nupon\\nus\\nuse\\nused\\nuseful\\nuses\\nusi\\nusing\\nuska\\nuske\\nusne\\nuss\\nusse\\nussi\\nusually\\nvaala\\nvaale\\nvaali\\nvahaan\\nvahan\\nvahi\\nvahin\\nvaisa\\nvaise\\nvaisi\\nvala\\nvale\\nvali\\nvarious\\nve\\nvery\\nvia\\nviz\\nvo\\nwaala\\nwaale\\nwaali\\nwagaira\\nwagairah\\nwagerah\\nwaha\\nwahaan\\nwahan\\nwahi\\nwahin\\nwaisa\\nwaise\\nwaisi\\nwala\\nwale\\nwali\\nwant\\nwants\\nwas\\nwasn\\nwasnt\\nwasn't\\nway\\nwe\\nwe'd\\nwell\\nwe'll\\nwent\\nwere\\nwe're\\nweren\\nwerent\\nweren't\\nwe've\\nwhat\\nwhatever\\nwhat's\\nwhen\\nwhence\\nwhenever\\nwhere\\nwhereafter\\nwhereas\\nwhereby\\nwherein\\nwhere's\\nwhereupon\\nwherever\\nwhether\\nwhich\\nwhile\\nwho\\nwhoever\\nwhole\\nwhom\\nwho's\\nwhose\\nwhy\\nwill\\nwilling\\nwith\\nwithin\\nwithout\\nwo\\nwoh\\nwohi\\nwon\\nwont\\nwon't\\nwould\\nwouldn\\nwouldnt\\nwouldn't\\ny\\nya\\nyadi\\nyah\\nyaha\\nyahaan\\nyahan\\nyahi\\nyahin\\nye\\nyeah\\nyeh\\nyehi\\nyes\\nyet\\nyou\\nyou'd\\nyou'll\\nyour\\nyou're\\nyours\\nyourself\\nyourselves\\nyou've\\nyup\\n\""
     },
     "execution_count": 42,
     "metadata": {},
     "output_type": "execute_result"
    }
   ],
   "source": [
    "f = open('stop_hinglish.txt', 'r')\n",
    "stop_words = f.read()\n",
    "stop_words"
   ],
   "metadata": {
    "collapsed": false,
    "pycharm": {
     "name": "#%%\n"
    }
   }
  },
  {
   "cell_type": "code",
   "execution_count": 43,
   "outputs": [],
   "source": [
    "words = []\n",
    "\n",
    "for tem in temp['message']:\n",
    "    for word in tem.lower().split():\n",
    "        if word not in stop_words:\n",
    "            words.append(word)"
   ],
   "metadata": {
    "collapsed": false,
    "pycharm": {
     "name": "#%%\n"
    }
   }
  },
  {
   "cell_type": "code",
   "execution_count": 44,
   "outputs": [
    {
     "data": {
      "text/plain": "         0   1\n0     call  62\n1     room  59\n2     haii  48\n3      yrr  42\n4      lab  36\n5   kidhar  30\n6     haoo  26\n7       tk  25\n8      hao  24\n9       h?  23\n10      hn  23\n11  haii??  22\n12    dena  21\n13     thk  21\n14   kidhr  20\n15    thaa  20\n16     gya  19\n17    hoon  19\n18     nii  19\n19       🗿  19",
      "text/html": "<div>\n<style scoped>\n    .dataframe tbody tr th:only-of-type {\n        vertical-align: middle;\n    }\n\n    .dataframe tbody tr th {\n        vertical-align: top;\n    }\n\n    .dataframe thead th {\n        text-align: right;\n    }\n</style>\n<table border=\"1\" class=\"dataframe\">\n  <thead>\n    <tr style=\"text-align: right;\">\n      <th></th>\n      <th>0</th>\n      <th>1</th>\n    </tr>\n  </thead>\n  <tbody>\n    <tr>\n      <th>0</th>\n      <td>call</td>\n      <td>62</td>\n    </tr>\n    <tr>\n      <th>1</th>\n      <td>room</td>\n      <td>59</td>\n    </tr>\n    <tr>\n      <th>2</th>\n      <td>haii</td>\n      <td>48</td>\n    </tr>\n    <tr>\n      <th>3</th>\n      <td>yrr</td>\n      <td>42</td>\n    </tr>\n    <tr>\n      <th>4</th>\n      <td>lab</td>\n      <td>36</td>\n    </tr>\n    <tr>\n      <th>5</th>\n      <td>kidhar</td>\n      <td>30</td>\n    </tr>\n    <tr>\n      <th>6</th>\n      <td>haoo</td>\n      <td>26</td>\n    </tr>\n    <tr>\n      <th>7</th>\n      <td>tk</td>\n      <td>25</td>\n    </tr>\n    <tr>\n      <th>8</th>\n      <td>hao</td>\n      <td>24</td>\n    </tr>\n    <tr>\n      <th>9</th>\n      <td>h?</td>\n      <td>23</td>\n    </tr>\n    <tr>\n      <th>10</th>\n      <td>hn</td>\n      <td>23</td>\n    </tr>\n    <tr>\n      <th>11</th>\n      <td>haii??</td>\n      <td>22</td>\n    </tr>\n    <tr>\n      <th>12</th>\n      <td>dena</td>\n      <td>21</td>\n    </tr>\n    <tr>\n      <th>13</th>\n      <td>thk</td>\n      <td>21</td>\n    </tr>\n    <tr>\n      <th>14</th>\n      <td>kidhr</td>\n      <td>20</td>\n    </tr>\n    <tr>\n      <th>15</th>\n      <td>thaa</td>\n      <td>20</td>\n    </tr>\n    <tr>\n      <th>16</th>\n      <td>gya</td>\n      <td>19</td>\n    </tr>\n    <tr>\n      <th>17</th>\n      <td>hoon</td>\n      <td>19</td>\n    </tr>\n    <tr>\n      <th>18</th>\n      <td>nii</td>\n      <td>19</td>\n    </tr>\n    <tr>\n      <th>19</th>\n      <td>🗿</td>\n      <td>19</td>\n    </tr>\n  </tbody>\n</table>\n</div>"
     },
     "execution_count": 44,
     "metadata": {},
     "output_type": "execute_result"
    }
   ],
   "source": [
    "from collections import Counter\n",
    "pd.DataFrame(Counter(words).most_common(20))"
   ],
   "metadata": {
    "collapsed": false,
    "pycharm": {
     "name": "#%%\n"
    }
   }
  },
  {
   "cell_type": "code",
   "execution_count": 45,
   "outputs": [
    {
     "name": "stdout",
     "output_type": "stream",
     "text": [
      "Requirement already satisfied: emoji==1.7.0 in c:\\users\\viren\\appdata\\local\\programs\\python\\python39\\lib\\site-packages (1.7.0)\n"
     ]
    },
    {
     "name": "stderr",
     "output_type": "stream",
     "text": [
      "WARNING: You are using pip version 21.2.3; however, version 23.1.2 is available.\n",
      "You should consider upgrading via the 'C:\\Users\\viren\\AppData\\Local\\Programs\\Python\\Python39\\python.exe -m pip install --upgrade pip' command.\n"
     ]
    }
   ],
   "source": [
    "!pip install emoji==1.7.0"
   ],
   "metadata": {
    "collapsed": false,
    "pycharm": {
     "name": "#%%\n"
    }
   }
  },
  {
   "cell_type": "code",
   "execution_count": 46,
   "outputs": [],
   "source": [
    "import emoji"
   ],
   "metadata": {
    "collapsed": false,
    "pycharm": {
     "name": "#%%\n"
    }
   }
  },
  {
   "cell_type": "code",
   "execution_count": 47,
   "outputs": [],
   "source": [
    "emojis = []\n",
    "for message in df['message']:\n",
    "    emojis.extend([c for c in message if c in emoji.UNICODE_EMOJI['en']])\n"
   ],
   "metadata": {
    "collapsed": false,
    "pycharm": {
     "name": "#%%\n"
    }
   }
  },
  {
   "cell_type": "code",
   "execution_count": 48,
   "outputs": [
    {
     "data": {
      "text/plain": "    0   1\n0   😅  81\n1   🥲  78\n2   😂  74\n3   🗿  42\n4   🌚  33\n5   😒  23\n6   😎  19\n7   🏻  15\n8   😳  14\n9   ♀  10\n10  💁   9\n11  😁   8\n12  😊   8\n13  ❤   8\n14  ☕   8\n15  🙂   7\n16  🙄   7\n17  🥹   7\n18  ✨   6\n19  🎂   6\n20  😇   5\n21  🙃   5\n22  🏄   5\n23  ♂   5\n24  😏   5\n25  🚩   4\n26  😌   4\n27  🤌   3\n28  🍓   3\n29  🥺   3\n30  🙏   2\n31  🔥   2\n32  👉   2\n33  👈   2\n34  🤣   2\n35  😾   2\n36  🐈   2\n37  🍃   2\n38  ✌   2\n39  😶   1\n40  🌫   1\n41  🍎   1\n42  🤢   1\n43  🤦   1\n44  🏅   1\n45  🥼   1\n46  🫁   1\n47  🫀   1\n48  👍   1\n49  🥱   1\n50  🙀   1\n51  🌞   1\n52  😴   1\n53  😐   1\n54  😑   1\n55  🤓   1\n56  🤔   1",
      "text/html": "<div>\n<style scoped>\n    .dataframe tbody tr th:only-of-type {\n        vertical-align: middle;\n    }\n\n    .dataframe tbody tr th {\n        vertical-align: top;\n    }\n\n    .dataframe thead th {\n        text-align: right;\n    }\n</style>\n<table border=\"1\" class=\"dataframe\">\n  <thead>\n    <tr style=\"text-align: right;\">\n      <th></th>\n      <th>0</th>\n      <th>1</th>\n    </tr>\n  </thead>\n  <tbody>\n    <tr>\n      <th>0</th>\n      <td>😅</td>\n      <td>81</td>\n    </tr>\n    <tr>\n      <th>1</th>\n      <td>🥲</td>\n      <td>78</td>\n    </tr>\n    <tr>\n      <th>2</th>\n      <td>😂</td>\n      <td>74</td>\n    </tr>\n    <tr>\n      <th>3</th>\n      <td>🗿</td>\n      <td>42</td>\n    </tr>\n    <tr>\n      <th>4</th>\n      <td>🌚</td>\n      <td>33</td>\n    </tr>\n    <tr>\n      <th>5</th>\n      <td>😒</td>\n      <td>23</td>\n    </tr>\n    <tr>\n      <th>6</th>\n      <td>😎</td>\n      <td>19</td>\n    </tr>\n    <tr>\n      <th>7</th>\n      <td>🏻</td>\n      <td>15</td>\n    </tr>\n    <tr>\n      <th>8</th>\n      <td>😳</td>\n      <td>14</td>\n    </tr>\n    <tr>\n      <th>9</th>\n      <td>♀</td>\n      <td>10</td>\n    </tr>\n    <tr>\n      <th>10</th>\n      <td>💁</td>\n      <td>9</td>\n    </tr>\n    <tr>\n      <th>11</th>\n      <td>😁</td>\n      <td>8</td>\n    </tr>\n    <tr>\n      <th>12</th>\n      <td>😊</td>\n      <td>8</td>\n    </tr>\n    <tr>\n      <th>13</th>\n      <td>❤</td>\n      <td>8</td>\n    </tr>\n    <tr>\n      <th>14</th>\n      <td>☕</td>\n      <td>8</td>\n    </tr>\n    <tr>\n      <th>15</th>\n      <td>🙂</td>\n      <td>7</td>\n    </tr>\n    <tr>\n      <th>16</th>\n      <td>🙄</td>\n      <td>7</td>\n    </tr>\n    <tr>\n      <th>17</th>\n      <td>🥹</td>\n      <td>7</td>\n    </tr>\n    <tr>\n      <th>18</th>\n      <td>✨</td>\n      <td>6</td>\n    </tr>\n    <tr>\n      <th>19</th>\n      <td>🎂</td>\n      <td>6</td>\n    </tr>\n    <tr>\n      <th>20</th>\n      <td>😇</td>\n      <td>5</td>\n    </tr>\n    <tr>\n      <th>21</th>\n      <td>🙃</td>\n      <td>5</td>\n    </tr>\n    <tr>\n      <th>22</th>\n      <td>🏄</td>\n      <td>5</td>\n    </tr>\n    <tr>\n      <th>23</th>\n      <td>♂</td>\n      <td>5</td>\n    </tr>\n    <tr>\n      <th>24</th>\n      <td>😏</td>\n      <td>5</td>\n    </tr>\n    <tr>\n      <th>25</th>\n      <td>🚩</td>\n      <td>4</td>\n    </tr>\n    <tr>\n      <th>26</th>\n      <td>😌</td>\n      <td>4</td>\n    </tr>\n    <tr>\n      <th>27</th>\n      <td>🤌</td>\n      <td>3</td>\n    </tr>\n    <tr>\n      <th>28</th>\n      <td>🍓</td>\n      <td>3</td>\n    </tr>\n    <tr>\n      <th>29</th>\n      <td>🥺</td>\n      <td>3</td>\n    </tr>\n    <tr>\n      <th>30</th>\n      <td>🙏</td>\n      <td>2</td>\n    </tr>\n    <tr>\n      <th>31</th>\n      <td>🔥</td>\n      <td>2</td>\n    </tr>\n    <tr>\n      <th>32</th>\n      <td>👉</td>\n      <td>2</td>\n    </tr>\n    <tr>\n      <th>33</th>\n      <td>👈</td>\n      <td>2</td>\n    </tr>\n    <tr>\n      <th>34</th>\n      <td>🤣</td>\n      <td>2</td>\n    </tr>\n    <tr>\n      <th>35</th>\n      <td>😾</td>\n      <td>2</td>\n    </tr>\n    <tr>\n      <th>36</th>\n      <td>🐈</td>\n      <td>2</td>\n    </tr>\n    <tr>\n      <th>37</th>\n      <td>🍃</td>\n      <td>2</td>\n    </tr>\n    <tr>\n      <th>38</th>\n      <td>✌</td>\n      <td>2</td>\n    </tr>\n    <tr>\n      <th>39</th>\n      <td>😶</td>\n      <td>1</td>\n    </tr>\n    <tr>\n      <th>40</th>\n      <td>🌫</td>\n      <td>1</td>\n    </tr>\n    <tr>\n      <th>41</th>\n      <td>🍎</td>\n      <td>1</td>\n    </tr>\n    <tr>\n      <th>42</th>\n      <td>🤢</td>\n      <td>1</td>\n    </tr>\n    <tr>\n      <th>43</th>\n      <td>🤦</td>\n      <td>1</td>\n    </tr>\n    <tr>\n      <th>44</th>\n      <td>🏅</td>\n      <td>1</td>\n    </tr>\n    <tr>\n      <th>45</th>\n      <td>🥼</td>\n      <td>1</td>\n    </tr>\n    <tr>\n      <th>46</th>\n      <td>🫁</td>\n      <td>1</td>\n    </tr>\n    <tr>\n      <th>47</th>\n      <td>🫀</td>\n      <td>1</td>\n    </tr>\n    <tr>\n      <th>48</th>\n      <td>👍</td>\n      <td>1</td>\n    </tr>\n    <tr>\n      <th>49</th>\n      <td>🥱</td>\n      <td>1</td>\n    </tr>\n    <tr>\n      <th>50</th>\n      <td>🙀</td>\n      <td>1</td>\n    </tr>\n    <tr>\n      <th>51</th>\n      <td>🌞</td>\n      <td>1</td>\n    </tr>\n    <tr>\n      <th>52</th>\n      <td>😴</td>\n      <td>1</td>\n    </tr>\n    <tr>\n      <th>53</th>\n      <td>😐</td>\n      <td>1</td>\n    </tr>\n    <tr>\n      <th>54</th>\n      <td>😑</td>\n      <td>1</td>\n    </tr>\n    <tr>\n      <th>55</th>\n      <td>🤓</td>\n      <td>1</td>\n    </tr>\n    <tr>\n      <th>56</th>\n      <td>🤔</td>\n      <td>1</td>\n    </tr>\n  </tbody>\n</table>\n</div>"
     },
     "execution_count": 48,
     "metadata": {},
     "output_type": "execute_result"
    }
   ],
   "source": [
    "pd.DataFrame(Counter(emojis).most_common(len(Counter(emojis))))"
   ],
   "metadata": {
    "collapsed": false,
    "pycharm": {
     "name": "#%%\n"
    }
   }
  },
  {
   "cell_type": "code",
   "execution_count": 49,
   "outputs": [],
   "source": [
    "# Time Related Analysis"
   ],
   "metadata": {
    "collapsed": false,
    "pycharm": {
     "name": "#%%\n"
    }
   }
  },
  {
   "cell_type": "code",
   "execution_count": 50,
   "outputs": [],
   "source": [
    "df['month_num'] = df['date'].dt.month"
   ],
   "metadata": {
    "collapsed": false,
    "pycharm": {
     "name": "#%%\n"
    }
   }
  },
  {
   "cell_type": "code",
   "execution_count": 51,
   "outputs": [],
   "source": [
    "timeline = df.groupby(['year', 'month_num', 'month']).count()['message'].reset_index()"
   ],
   "metadata": {
    "collapsed": false,
    "pycharm": {
     "name": "#%%\n"
    }
   }
  },
  {
   "cell_type": "code",
   "execution_count": 52,
   "outputs": [
    {
     "data": {
      "text/plain": "    year  month_num      month  message\n0   2022          4      April       98\n1   2022          5        May       22\n2   2022          6       June       10\n3   2022          7       July        1\n4   2022          8     August       27\n5   2022          9  September      282\n6   2022         10    October       45\n7   2022         11   November       30\n8   2022         12   December      126\n9   2023          1    January      258\n10  2023          2   February      242\n11  2023          3      March      581\n12  2023          4      April      236",
      "text/html": "<div>\n<style scoped>\n    .dataframe tbody tr th:only-of-type {\n        vertical-align: middle;\n    }\n\n    .dataframe tbody tr th {\n        vertical-align: top;\n    }\n\n    .dataframe thead th {\n        text-align: right;\n    }\n</style>\n<table border=\"1\" class=\"dataframe\">\n  <thead>\n    <tr style=\"text-align: right;\">\n      <th></th>\n      <th>year</th>\n      <th>month_num</th>\n      <th>month</th>\n      <th>message</th>\n    </tr>\n  </thead>\n  <tbody>\n    <tr>\n      <th>0</th>\n      <td>2022</td>\n      <td>4</td>\n      <td>April</td>\n      <td>98</td>\n    </tr>\n    <tr>\n      <th>1</th>\n      <td>2022</td>\n      <td>5</td>\n      <td>May</td>\n      <td>22</td>\n    </tr>\n    <tr>\n      <th>2</th>\n      <td>2022</td>\n      <td>6</td>\n      <td>June</td>\n      <td>10</td>\n    </tr>\n    <tr>\n      <th>3</th>\n      <td>2022</td>\n      <td>7</td>\n      <td>July</td>\n      <td>1</td>\n    </tr>\n    <tr>\n      <th>4</th>\n      <td>2022</td>\n      <td>8</td>\n      <td>August</td>\n      <td>27</td>\n    </tr>\n    <tr>\n      <th>5</th>\n      <td>2022</td>\n      <td>9</td>\n      <td>September</td>\n      <td>282</td>\n    </tr>\n    <tr>\n      <th>6</th>\n      <td>2022</td>\n      <td>10</td>\n      <td>October</td>\n      <td>45</td>\n    </tr>\n    <tr>\n      <th>7</th>\n      <td>2022</td>\n      <td>11</td>\n      <td>November</td>\n      <td>30</td>\n    </tr>\n    <tr>\n      <th>8</th>\n      <td>2022</td>\n      <td>12</td>\n      <td>December</td>\n      <td>126</td>\n    </tr>\n    <tr>\n      <th>9</th>\n      <td>2023</td>\n      <td>1</td>\n      <td>January</td>\n      <td>258</td>\n    </tr>\n    <tr>\n      <th>10</th>\n      <td>2023</td>\n      <td>2</td>\n      <td>February</td>\n      <td>242</td>\n    </tr>\n    <tr>\n      <th>11</th>\n      <td>2023</td>\n      <td>3</td>\n      <td>March</td>\n      <td>581</td>\n    </tr>\n    <tr>\n      <th>12</th>\n      <td>2023</td>\n      <td>4</td>\n      <td>April</td>\n      <td>236</td>\n    </tr>\n  </tbody>\n</table>\n</div>"
     },
     "execution_count": 52,
     "metadata": {},
     "output_type": "execute_result"
    }
   ],
   "source": [
    "timeline"
   ],
   "metadata": {
    "collapsed": false,
    "pycharm": {
     "name": "#%%\n"
    }
   }
  },
  {
   "cell_type": "code",
   "execution_count": 53,
   "outputs": [
    {
     "data": {
      "text/plain": "dtype('int64')"
     },
     "execution_count": 53,
     "metadata": {},
     "output_type": "execute_result"
    }
   ],
   "source": [
    "timeline['year'].dtype"
   ],
   "metadata": {
    "collapsed": false,
    "pycharm": {
     "name": "#%%\n"
    }
   }
  },
  {
   "cell_type": "code",
   "execution_count": 54,
   "outputs": [],
   "source": [
    "time = []\n",
    "for i in range(timeline.shape[0]):\n",
    "    time.append(timeline['month'][i] + '-' + str(timeline['year'][i]))"
   ],
   "metadata": {
    "collapsed": false,
    "pycharm": {
     "name": "#%%\n"
    }
   }
  },
  {
   "cell_type": "code",
   "execution_count": 55,
   "outputs": [
    {
     "data": {
      "text/plain": "['April-2022',\n 'May-2022',\n 'June-2022',\n 'July-2022',\n 'August-2022',\n 'September-2022',\n 'October-2022',\n 'November-2022',\n 'December-2022',\n 'January-2023',\n 'February-2023',\n 'March-2023',\n 'April-2023']"
     },
     "execution_count": 55,
     "metadata": {},
     "output_type": "execute_result"
    }
   ],
   "source": [
    "time"
   ],
   "metadata": {
    "collapsed": false,
    "pycharm": {
     "name": "#%%\n"
    }
   }
  },
  {
   "cell_type": "code",
   "execution_count": 56,
   "outputs": [],
   "source": [
    "timeline['time'] = time"
   ],
   "metadata": {
    "collapsed": false,
    "pycharm": {
     "name": "#%%\n"
    }
   }
  },
  {
   "cell_type": "code",
   "execution_count": 57,
   "outputs": [
    {
     "data": {
      "text/plain": "    year  month_num      month  message            time\n0   2022          4      April       98      April-2022\n1   2022          5        May       22        May-2022\n2   2022          6       June       10       June-2022\n3   2022          7       July        1       July-2022\n4   2022          8     August       27     August-2022\n5   2022          9  September      282  September-2022\n6   2022         10    October       45    October-2022\n7   2022         11   November       30   November-2022\n8   2022         12   December      126   December-2022\n9   2023          1    January      258    January-2023\n10  2023          2   February      242   February-2023\n11  2023          3      March      581      March-2023\n12  2023          4      April      236      April-2023",
      "text/html": "<div>\n<style scoped>\n    .dataframe tbody tr th:only-of-type {\n        vertical-align: middle;\n    }\n\n    .dataframe tbody tr th {\n        vertical-align: top;\n    }\n\n    .dataframe thead th {\n        text-align: right;\n    }\n</style>\n<table border=\"1\" class=\"dataframe\">\n  <thead>\n    <tr style=\"text-align: right;\">\n      <th></th>\n      <th>year</th>\n      <th>month_num</th>\n      <th>month</th>\n      <th>message</th>\n      <th>time</th>\n    </tr>\n  </thead>\n  <tbody>\n    <tr>\n      <th>0</th>\n      <td>2022</td>\n      <td>4</td>\n      <td>April</td>\n      <td>98</td>\n      <td>April-2022</td>\n    </tr>\n    <tr>\n      <th>1</th>\n      <td>2022</td>\n      <td>5</td>\n      <td>May</td>\n      <td>22</td>\n      <td>May-2022</td>\n    </tr>\n    <tr>\n      <th>2</th>\n      <td>2022</td>\n      <td>6</td>\n      <td>June</td>\n      <td>10</td>\n      <td>June-2022</td>\n    </tr>\n    <tr>\n      <th>3</th>\n      <td>2022</td>\n      <td>7</td>\n      <td>July</td>\n      <td>1</td>\n      <td>July-2022</td>\n    </tr>\n    <tr>\n      <th>4</th>\n      <td>2022</td>\n      <td>8</td>\n      <td>August</td>\n      <td>27</td>\n      <td>August-2022</td>\n    </tr>\n    <tr>\n      <th>5</th>\n      <td>2022</td>\n      <td>9</td>\n      <td>September</td>\n      <td>282</td>\n      <td>September-2022</td>\n    </tr>\n    <tr>\n      <th>6</th>\n      <td>2022</td>\n      <td>10</td>\n      <td>October</td>\n      <td>45</td>\n      <td>October-2022</td>\n    </tr>\n    <tr>\n      <th>7</th>\n      <td>2022</td>\n      <td>11</td>\n      <td>November</td>\n      <td>30</td>\n      <td>November-2022</td>\n    </tr>\n    <tr>\n      <th>8</th>\n      <td>2022</td>\n      <td>12</td>\n      <td>December</td>\n      <td>126</td>\n      <td>December-2022</td>\n    </tr>\n    <tr>\n      <th>9</th>\n      <td>2023</td>\n      <td>1</td>\n      <td>January</td>\n      <td>258</td>\n      <td>January-2023</td>\n    </tr>\n    <tr>\n      <th>10</th>\n      <td>2023</td>\n      <td>2</td>\n      <td>February</td>\n      <td>242</td>\n      <td>February-2023</td>\n    </tr>\n    <tr>\n      <th>11</th>\n      <td>2023</td>\n      <td>3</td>\n      <td>March</td>\n      <td>581</td>\n      <td>March-2023</td>\n    </tr>\n    <tr>\n      <th>12</th>\n      <td>2023</td>\n      <td>4</td>\n      <td>April</td>\n      <td>236</td>\n      <td>April-2023</td>\n    </tr>\n  </tbody>\n</table>\n</div>"
     },
     "execution_count": 57,
     "metadata": {},
     "output_type": "execute_result"
    }
   ],
   "source": [
    "timeline"
   ],
   "metadata": {
    "collapsed": false,
    "pycharm": {
     "name": "#%%\n"
    }
   }
  },
  {
   "cell_type": "code",
   "execution_count": 58,
   "outputs": [
    {
     "data": {
      "text/plain": "([0, 1, 2, 3, 4, 5, 6, 7, 8, 9, 10, 11, 12],\n [Text(0, 0, 'April-2022'),\n  Text(1, 0, 'May-2022'),\n  Text(2, 0, 'June-2022'),\n  Text(3, 0, 'July-2022'),\n  Text(4, 0, 'August-2022'),\n  Text(5, 0, 'September-2022'),\n  Text(6, 0, 'October-2022'),\n  Text(7, 0, 'November-2022'),\n  Text(8, 0, 'December-2022'),\n  Text(9, 0, 'January-2023'),\n  Text(10, 0, 'February-2023'),\n  Text(11, 0, 'March-2023'),\n  Text(12, 0, 'April-2023')])"
     },
     "execution_count": 58,
     "metadata": {},
     "output_type": "execute_result"
    },
    {
     "data": {
      "text/plain": "<Figure size 640x480 with 1 Axes>",
      "image/png": "[encoded data removed]"
     },
     "metadata": {},
     "output_type": "display_data"
    }
   ],
   "source": [
    "plt.plot(timeline['time'], timeline['message'])\n",
    "plt.xticks(rotation='vertical')"
   ],
   "metadata": {
    "collapsed": false,
    "pycharm": {
     "name": "#%%\n"
    }
   }
  },
  {
   "cell_type": "code",
   "execution_count": 59,
   "outputs": [],
   "source": [
    "# daily timeline"
   ],
   "metadata": {
    "collapsed": false,
    "pycharm": {
     "name": "#%%\n"
    }
   }
  },
  {
   "cell_type": "code",
   "execution_count": 60,
   "outputs": [],
   "source": [
    "df['only_date'] = df['date'].dt.date"
   ],
   "metadata": {
    "collapsed": false,
    "pycharm": {
     "name": "#%%\n"
    }
   }
  },
  {
   "cell_type": "code",
   "execution_count": 61,
   "outputs": [],
   "source": [
    "daily_timeline = df.groupby('only_date').count()['message'].reset_index()"
   ],
   "metadata": {
    "collapsed": false,
    "pycharm": {
     "name": "#%%\n"
    }
   }
  },
  {
   "cell_type": "code",
   "execution_count": 63,
   "outputs": [
    {
     "data": {
      "text/plain": "Saturday     357\nMonday       328\nFriday       321\nThursday     290\nTuesday      282\nSunday       214\nWednesday    166\nName: date, dtype: int64"
     },
     "execution_count": 63,
     "metadata": {},
     "output_type": "execute_result"
    }
   ],
   "source": [
    "df['date'].dt.day_name().value_counts()"
   ],
   "metadata": {
    "collapsed": false,
    "pycharm": {
     "name": "#%%\n"
    }
   }
  },
  {
   "cell_type": "code",
   "execution_count": 65,
   "outputs": [
    {
     "data": {
      "text/plain": "March        581\nApril        334\nSeptember    282\nJanuary      258\nFebruary     242\nDecember     126\nOctober       45\nNovember      30\nAugust        27\nMay           22\nJune          10\nJuly           1\nName: month, dtype: int64"
     },
     "execution_count": 65,
     "metadata": {},
     "output_type": "execute_result"
    }
   ],
   "source": [
    "df['month'].value_counts()"
   ],
   "metadata": {
    "collapsed": false,
    "pycharm": {
     "name": "#%%\n"
    }
   }
  },
  {
   "cell_type": "code",
   "execution_count": 71,
   "outputs": [
    {
     "data": {
      "text/plain": "                 date    user  \\\n0 2022-04-01 09:10:07  Adamya   \n1 2022-04-01 09:10:07   Viren   \n2 2022-04-01 09:28:24  Adamya   \n3 2022-04-01 09:29:13   Viren   \n4 2022-04-01 09:33:48  Adamya   \n\n                                             message  year  month  day  hours  \\\n0  Messages and calls are end-to-end encrypted. N...  2022  April    1      9   \n1  Hiii\\nI’m Viren \\nContesting for the Cultural ...  2022  April    1      9   \n2                                          Hey, sure  2022  April    1      9   \n3                           If possible we can meet?  2022  April    1      9   \n4                                 Today or tomorrow?  2022  April    1      9   \n\n   minute  seconds  month_num   only_date day_name  \n0      10        7          4  2022-04-01   Friday  \n1      10        7          4  2022-04-01   Friday  \n2      28       24          4  2022-04-01   Friday  \n3      29       13          4  2022-04-01   Friday  \n4      33       48          4  2022-04-01   Friday  ",
      "text/html": "<div>\n<style scoped>\n    .dataframe tbody tr th:only-of-type {\n        vertical-align: middle;\n    }\n\n    .dataframe tbody tr th {\n        vertical-align: top;\n    }\n\n    .dataframe thead th {\n        text-align: right;\n    }\n</style>\n<table border=\"1\" class=\"dataframe\">\n  <thead>\n    <tr style=\"text-align: right;\">\n      <th></th>\n      <th>date</th>\n      <th>user</th>\n      <th>message</th>\n      <th>year</th>\n      <th>month</th>\n      <th>day</th>\n      <th>hours</th>\n      <th>minute</th>\n      <th>seconds</th>\n      <th>month_num</th>\n      <th>only_date</th>\n      <th>day_name</th>\n    </tr>\n  </thead>\n  <tbody>\n    <tr>\n      <th>0</th>\n      <td>2022-04-01 09:10:07</td>\n      <td>Adamya</td>\n      <td>Messages and calls are end-to-end encrypted. N...</td>\n      <td>2022</td>\n      <td>April</td>\n      <td>1</td>\n      <td>9</td>\n      <td>10</td>\n      <td>7</td>\n      <td>4</td>\n      <td>2022-04-01</td>\n      <td>Friday</td>\n    </tr>\n    <tr>\n      <th>1</th>\n      <td>2022-04-01 09:10:07</td>\n      <td>Viren</td>\n      <td>Hiii\\nI’m Viren \\nContesting for the Cultural ...</td>\n      <td>2022</td>\n      <td>April</td>\n      <td>1</td>\n      <td>9</td>\n      <td>10</td>\n      <td>7</td>\n      <td>4</td>\n      <td>2022-04-01</td>\n      <td>Friday</td>\n    </tr>\n    <tr>\n      <th>2</th>\n      <td>2022-04-01 09:28:24</td>\n      <td>Adamya</td>\n      <td>Hey, sure</td>\n      <td>2022</td>\n      <td>April</td>\n      <td>1</td>\n      <td>9</td>\n      <td>28</td>\n      <td>24</td>\n      <td>4</td>\n      <td>2022-04-01</td>\n      <td>Friday</td>\n    </tr>\n    <tr>\n      <th>3</th>\n      <td>2022-04-01 09:29:13</td>\n      <td>Viren</td>\n      <td>If possible we can meet?</td>\n      <td>2022</td>\n      <td>April</td>\n      <td>1</td>\n      <td>9</td>\n      <td>29</td>\n      <td>13</td>\n      <td>4</td>\n      <td>2022-04-01</td>\n      <td>Friday</td>\n    </tr>\n    <tr>\n      <th>4</th>\n      <td>2022-04-01 09:33:48</td>\n      <td>Adamya</td>\n      <td>Today or tomorrow?</td>\n      <td>2022</td>\n      <td>April</td>\n      <td>1</td>\n      <td>9</td>\n      <td>33</td>\n      <td>48</td>\n      <td>4</td>\n      <td>2022-04-01</td>\n      <td>Friday</td>\n    </tr>\n  </tbody>\n</table>\n</div>"
     },
     "execution_count": 71,
     "metadata": {},
     "output_type": "execute_result"
    }
   ],
   "source": [
    "df.head()"
   ],
   "metadata": {
    "collapsed": false,
    "pycharm": {
     "name": "#%%\n"
    }
   }
  },
  {
   "cell_type": "code",
   "execution_count": null,
   "outputs": [],
   "source": [],
   "metadata": {
    "collapsed": false,
    "pycharm": {
     "name": "#%%\n"
    }
   }
  },
  {
   "cell_type": "code",
   "execution_count": 69,
   "outputs": [],
   "source": [
    " df['day_name'] = df['date'].dt.day_name()"
   ],
   "metadata": {
    "collapsed": false,
    "pycharm": {
     "name": "#%%\n"
    }
   }
  },
  {
   "cell_type": "code",
   "execution_count": 70,
   "outputs": [
    {
     "data": {
      "text/plain": "0       9\n1       9\n2       9\n3       9\n4       9\n       ..\n1953    7\n1954    7\n1955    7\n1956    7\n1957    7\nName: hours, Length: 1958, dtype: int64"
     },
     "execution_count": 70,
     "metadata": {},
     "output_type": "execute_result"
    }
   ],
   "source": [
    "df[['day_name', 'hours']]['hours']"
   ],
   "metadata": {
    "collapsed": false,
    "pycharm": {
     "name": "#%%\n"
    }
   }
  },
  {
   "cell_type": "code",
   "execution_count": 72,
   "outputs": [],
   "source": [
    "period = []\n",
    "for hour in df[['day_name', 'hours']]['hours']:\n",
    "    if hour == 23:\n",
    "        period.append(str(hour) + \"-\" + str('00'))\n",
    "    elif hour==0:\n",
    "        period.append(str('00')+ \"-\" + str(hour+1))\n",
    "    else:\n",
    "        period.append(str(hour)+\"-\"+str(hour+1))"
   ],
   "metadata": {
    "collapsed": false,
    "pycharm": {
     "name": "#%%\n"
    }
   }
  },
  {
   "cell_type": "code",
   "execution_count": 73,
   "outputs": [],
   "source": [
    "df['period'] = period"
   ],
   "metadata": {
    "collapsed": false,
    "pycharm": {
     "name": "#%%\n"
    }
   }
  },
  {
   "cell_type": "code",
   "execution_count": 74,
   "outputs": [
    {
     "data": {
      "text/plain": "                    date    user  \\\n0    2022-04-01 09:10:07  Adamya   \n1    2022-04-01 09:10:07   Viren   \n2    2022-04-01 09:28:24  Adamya   \n3    2022-04-01 09:29:13   Viren   \n4    2022-04-01 09:33:48  Adamya   \n...                  ...     ...   \n1953 2023-04-08 07:01:11   Viren   \n1954 2023-04-08 07:01:29  Adamya   \n1955 2023-04-08 07:01:36   Viren   \n1956 2023-04-08 07:01:50  Adamya   \n1957 2023-04-08 07:01:56   Viren   \n\n                                                message  year  month  day  \\\n0     Messages and calls are end-to-end encrypted. N...  2022  April    1   \n1     Hiii\\nI’m Viren \\nContesting for the Cultural ...  2022  April    1   \n2                                             Hey, sure  2022  April    1   \n3                              If possible we can meet?  2022  April    1   \n4                                    Today or tomorrow?  2022  April    1   \n...                                                 ...   ...    ...  ...   \n1953                                               Room  2023  April    8   \n1954                                               Gym?  2023  April    8   \n1955                                               Rest  2023  April    8   \n1956                                            Aarhi m  2023  April    8   \n1957                                                Haa  2023  April    8   \n\n      hours  minute  seconds  month_num   only_date  day_name period  \n0         9      10        7          4  2022-04-01    Friday   9-10  \n1         9      10        7          4  2022-04-01    Friday   9-10  \n2         9      28       24          4  2022-04-01    Friday   9-10  \n3         9      29       13          4  2022-04-01    Friday   9-10  \n4         9      33       48          4  2022-04-01    Friday   9-10  \n...     ...     ...      ...        ...         ...       ...    ...  \n1953      7       1       11          4  2023-04-08  Saturday    7-8  \n1954      7       1       29          4  2023-04-08  Saturday    7-8  \n1955      7       1       36          4  2023-04-08  Saturday    7-8  \n1956      7       1       50          4  2023-04-08  Saturday    7-8  \n1957      7       1       56          4  2023-04-08  Saturday    7-8  \n\n[1958 rows x 13 columns]",
      "text/html": "<div>\n<style scoped>\n    .dataframe tbody tr th:only-of-type {\n        vertical-align: middle;\n    }\n\n    .dataframe tbody tr th {\n        vertical-align: top;\n    }\n\n    .dataframe thead th {\n        text-align: right;\n    }\n</style>\n<table border=\"1\" class=\"dataframe\">\n  <thead>\n    <tr style=\"text-align: right;\">\n      <th></th>\n      <th>date</th>\n      <th>user</th>\n      <th>message</th>\n      <th>year</th>\n      <th>month</th>\n      <th>day</th>\n      <th>hours</th>\n      <th>minute</th>\n      <th>seconds</th>\n      <th>month_num</th>\n      <th>only_date</th>\n      <th>day_name</th>\n      <th>period</th>\n    </tr>\n  </thead>\n  <tbody>\n    <tr>\n      <th>0</th>\n      <td>2022-04-01 09:10:07</td>\n      <td>Adamya</td>\n      <td>Messages and calls are end-to-end encrypted. N...</td>\n      <td>2022</td>\n      <td>April</td>\n      <td>1</td>\n      <td>9</td>\n      <td>10</td>\n      <td>7</td>\n      <td>4</td>\n      <td>2022-04-01</td>\n      <td>Friday</td>\n      <td>9-10</td>\n    </tr>\n    <tr>\n      <th>1</th>\n      <td>2022-04-01 09:10:07</td>\n      <td>Viren</td>\n      <td>Hiii\\nI’m Viren \\nContesting for the Cultural ...</td>\n      <td>2022</td>\n      <td>April</td>\n      <td>1</td>\n      <td>9</td>\n      <td>10</td>\n      <td>7</td>\n      <td>4</td>\n      <td>2022-04-01</td>\n      <td>Friday</td>\n      <td>9-10</td>\n    </tr>\n    <tr>\n      <th>2</th>\n      <td>2022-04-01 09:28:24</td>\n      <td>Adamya</td>\n      <td>Hey, sure</td>\n      <td>2022</td>\n      <td>April</td>\n      <td>1</td>\n      <td>9</td>\n      <td>28</td>\n      <td>24</td>\n      <td>4</td>\n      <td>2022-04-01</td>\n      <td>Friday</td>\n      <td>9-10</td>\n    </tr>\n    <tr>\n      <th>3</th>\n      <td>2022-04-01 09:29:13</td>\n      <td>Viren</td>\n      <td>If possible we can meet?</td>\n      <td>2022</td>\n      <td>April</td>\n      <td>1</td>\n      <td>9</td>\n      <td>29</td>\n      <td>13</td>\n      <td>4</td>\n      <td>2022-04-01</td>\n      <td>Friday</td>\n      <td>9-10</td>\n    </tr>\n    <tr>\n      <th>4</th>\n      <td>2022-04-01 09:33:48</td>\n      <td>Adamya</td>\n      <td>Today or tomorrow?</td>\n      <td>2022</td>\n      <td>April</td>\n      <td>1</td>\n      <td>9</td>\n      <td>33</td>\n      <td>48</td>\n      <td>4</td>\n      <td>2022-04-01</td>\n      <td>Friday</td>\n      <td>9-10</td>\n    </tr>\n    <tr>\n      <th>...</th>\n      <td>...</td>\n      <td>...</td>\n      <td>...</td>\n      <td>...</td>\n      <td>...</td>\n      <td>...</td>\n      <td>...</td>\n      <td>...</td>\n      <td>...</td>\n      <td>...</td>\n      <td>...</td>\n      <td>...</td>\n      <td>...</td>\n    </tr>\n    <tr>\n      <th>1953</th>\n      <td>2023-04-08 07:01:11</td>\n      <td>Viren</td>\n      <td>Room</td>\n      <td>2023</td>\n      <td>April</td>\n      <td>8</td>\n      <td>7</td>\n      <td>1</td>\n      <td>11</td>\n      <td>4</td>\n      <td>2023-04-08</td>\n      <td>Saturday</td>\n      <td>7-8</td>\n    </tr>\n    <tr>\n      <th>1954</th>\n      <td>2023-04-08 07:01:29</td>\n      <td>Adamya</td>\n      <td>Gym?</td>\n      <td>2023</td>\n      <td>April</td>\n      <td>8</td>\n      <td>7</td>\n      <td>1</td>\n      <td>29</td>\n      <td>4</td>\n      <td>2023-04-08</td>\n      <td>Saturday</td>\n      <td>7-8</td>\n    </tr>\n    <tr>\n      <th>1955</th>\n      <td>2023-04-08 07:01:36</td>\n      <td>Viren</td>\n      <td>Rest</td>\n      <td>2023</td>\n      <td>April</td>\n      <td>8</td>\n      <td>7</td>\n      <td>1</td>\n      <td>36</td>\n      <td>4</td>\n      <td>2023-04-08</td>\n      <td>Saturday</td>\n      <td>7-8</td>\n    </tr>\n    <tr>\n      <th>1956</th>\n      <td>2023-04-08 07:01:50</td>\n      <td>Adamya</td>\n      <td>Aarhi m</td>\n      <td>2023</td>\n      <td>April</td>\n      <td>8</td>\n      <td>7</td>\n      <td>1</td>\n      <td>50</td>\n      <td>4</td>\n      <td>2023-04-08</td>\n      <td>Saturday</td>\n      <td>7-8</td>\n    </tr>\n    <tr>\n      <th>1957</th>\n      <td>2023-04-08 07:01:56</td>\n      <td>Viren</td>\n      <td>Haa</td>\n      <td>2023</td>\n      <td>April</td>\n      <td>8</td>\n      <td>7</td>\n      <td>1</td>\n      <td>56</td>\n      <td>4</td>\n      <td>2023-04-08</td>\n      <td>Saturday</td>\n      <td>7-8</td>\n    </tr>\n  </tbody>\n</table>\n<p>1958 rows × 13 columns</p>\n</div>"
     },
     "execution_count": 74,
     "metadata": {},
     "output_type": "execute_result"
    }
   ],
   "source": [
    "df"
   ],
   "metadata": {
    "collapsed": false,
    "pycharm": {
     "name": "#%%\n"
    }
   }
  },
  {
   "cell_type": "code",
   "execution_count": 76,
   "outputs": [
    {
     "data": {
      "text/plain": "<Figure size 2000x600 with 2 Axes>",
      "image/png": "[encoded data removed]"
     },
     "metadata": {},
     "output_type": "display_data"
    }
   ],
   "source": [
    "import seaborn as sns\n",
    "plt.figure(figsize=(20,6))\n",
    "sns.heatmap(df.pivot_table(index='day_name', columns=\"period\", values='message', aggfunc='count').fillna(0))\n",
    "plt.show()"
   ],
   "metadata": {
    "collapsed": false,
    "pycharm": {
     "name": "#%%\n"
    }
   }
  },
  {
   "cell_type": "code",
   "execution_count": null,
   "outputs": [],
   "source": [],
   "metadata": {
    "collapsed": false,
    "pycharm": {
     "name": "#%%\n"
    }
   }
  }
 ],
 "metadata": {
  "kernelspec": {
   "display_name": "Python 3",
   "language": "python",
   "name": "python3"
  },
  "language_info": {
   "codemirror_mode": {
    "name": "ipython",
    "version": 2
   },
   "file_extension": ".py",
   "mimetype": "text/x-python",
   "name": "python",
   "nbconvert_exporter": "python",
   "pygments_lexer": "ipython2",
   "version": "2.7.6"
  }
 },
 "nbformat": 4,
 "nbformat_minor": 0
}